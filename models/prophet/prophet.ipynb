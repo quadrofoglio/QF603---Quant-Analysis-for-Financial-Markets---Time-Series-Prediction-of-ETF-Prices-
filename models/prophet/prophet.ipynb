{
 "cells": [
  {
   "cell_type": "code",
   "execution_count": 37,
   "metadata": {},
   "outputs": [],
   "source": [
    "import numpy as np\n",
    "import pandas as pd\n",
    "\n",
    "import matplotlib.pyplot as plt\n",
    "import matplotlib as mpl\n",
    "\n",
    "from pandas_datareader import data as pdr\n",
    "\n",
    "import datetime as dt\n",
    "import yfinance as yf\n",
    "import holidays\n",
    "\n",
    "from prophet import Prophet\n",
    "from prophet.plot import plot_plotly, plot_components_plotly\n",
    "import plotly.graph_objects as go\n",
    "from sklearn.model_selection import TimeSeriesSplit\n",
    "from sklearn.metrics import mean_squared_error, mean_absolute_error, mean_absolute_percentage_error"
   ]
  },
  {
   "cell_type": "code",
   "execution_count": 38,
   "metadata": {},
   "outputs": [],
   "source": [
    "#### Functions Required\n",
    "\n",
    "### Step 1 - extract_all and multiindex_to_wide functions\n",
    "\n",
    "## For Step 1.1: downloading of stock prices. only 1 stock\n",
    "def extract_all(stocks: list, \n",
    "                start: dt.datetime, \n",
    "                end: dt.datetime):\n",
    "            \n",
    "    def extract_single_ticker(ticker):\n",
    "           \n",
    "        return(yf\n",
    "               .download(ticker, \n",
    "                               start,\n",
    "                               end)\n",
    "               )\n",
    "    interim_df = map(extract_single_ticker, stocks) # applies the extract_single_ticker function to the stocks (list of tickers)\n",
    "    \n",
    "    return(pd\n",
    "           .concat(interim_df,\n",
    "                  keys = stocks,\n",
    "                  names = [\"ticker\", \"date\"]\n",
    "                 )\n",
    "          )\n",
    "    \n",
    "## For Step 1.2: converting multiindex DF long format to singleindex wide format\n",
    "def multiindex_to_wide(stock_MI: pd.DataFrame):\n",
    "    \n",
    "    stock_wide =\\\n",
    "    (\n",
    "        stock_MI['Adj Close'].reset_index()\\\n",
    "            .pivot(index = 'date',\n",
    "                columns = 'ticker',\n",
    "                values = 'Adj Close')\n",
    "            \n",
    "    )\n",
    "    "
   ]
  },
  {
   "cell_type": "code",
   "execution_count": 39,
   "metadata": {},
   "outputs": [
    {
     "name": "stderr",
     "output_type": "stream",
     "text": [
      "[*********************100%***********************]  1 of 1 completed\n",
      "[*********************100%***********************]  1 of 1 completed\n",
      "[*********************100%***********************]  1 of 1 completed\n",
      "[*********************100%***********************]  1 of 1 completed\n",
      "[*********************100%***********************]  1 of 1 completed\n"
     ]
    },
    {
     "data": {
      "text/html": [
       "<div>\n",
       "<style scoped>\n",
       "    .dataframe tbody tr th:only-of-type {\n",
       "        vertical-align: middle;\n",
       "    }\n",
       "\n",
       "    .dataframe tbody tr th {\n",
       "        vertical-align: top;\n",
       "    }\n",
       "\n",
       "    .dataframe thead th {\n",
       "        text-align: right;\n",
       "    }\n",
       "</style>\n",
       "<table border=\"1\" class=\"dataframe\">\n",
       "  <thead>\n",
       "    <tr style=\"text-align: right;\">\n",
       "      <th></th>\n",
       "      <th></th>\n",
       "      <th>ticker</th>\n",
       "      <th>Open</th>\n",
       "      <th>High</th>\n",
       "      <th>Low</th>\n",
       "      <th>Close</th>\n",
       "      <th>Adj Close</th>\n",
       "      <th>Volume</th>\n",
       "    </tr>\n",
       "    <tr>\n",
       "      <th>ticker</th>\n",
       "      <th>date</th>\n",
       "      <th></th>\n",
       "      <th></th>\n",
       "      <th></th>\n",
       "      <th></th>\n",
       "      <th></th>\n",
       "      <th></th>\n",
       "      <th></th>\n",
       "    </tr>\n",
       "  </thead>\n",
       "  <tbody>\n",
       "    <tr>\n",
       "      <th rowspan=\"5\" valign=\"top\">IXN</th>\n",
       "      <th>2014-01-01</th>\n",
       "      <td>IXN</td>\n",
       "      <td>13.783333</td>\n",
       "      <td>13.783333</td>\n",
       "      <td>13.683333</td>\n",
       "      <td>13.711667</td>\n",
       "      <td>12.486847</td>\n",
       "      <td>1387200</td>\n",
       "    </tr>\n",
       "    <tr>\n",
       "      <th>2014-02-03</th>\n",
       "      <td>IXN</td>\n",
       "      <td>13.398333</td>\n",
       "      <td>13.425000</td>\n",
       "      <td>13.096667</td>\n",
       "      <td>13.120000</td>\n",
       "      <td>11.948030</td>\n",
       "      <td>444600</td>\n",
       "    </tr>\n",
       "    <tr>\n",
       "      <th>2014-03-03</th>\n",
       "      <td>IXN</td>\n",
       "      <td>13.851667</td>\n",
       "      <td>13.941667</td>\n",
       "      <td>13.825000</td>\n",
       "      <td>13.865000</td>\n",
       "      <td>12.626484</td>\n",
       "      <td>491400</td>\n",
       "    </tr>\n",
       "    <tr>\n",
       "      <th>2014-04-01</th>\n",
       "      <td>IXN</td>\n",
       "      <td>14.168333</td>\n",
       "      <td>14.255000</td>\n",
       "      <td>14.168333</td>\n",
       "      <td>14.248333</td>\n",
       "      <td>12.975574</td>\n",
       "      <td>615600</td>\n",
       "    </tr>\n",
       "    <tr>\n",
       "      <th>2014-05-01</th>\n",
       "      <td>IXN</td>\n",
       "      <td>14.083333</td>\n",
       "      <td>14.166667</td>\n",
       "      <td>14.041667</td>\n",
       "      <td>14.058333</td>\n",
       "      <td>12.802546</td>\n",
       "      <td>826800</td>\n",
       "    </tr>\n",
       "    <tr>\n",
       "      <th>...</th>\n",
       "      <th>...</th>\n",
       "      <td>...</td>\n",
       "      <td>...</td>\n",
       "      <td>...</td>\n",
       "      <td>...</td>\n",
       "      <td>...</td>\n",
       "      <td>...</td>\n",
       "      <td>...</td>\n",
       "    </tr>\n",
       "    <tr>\n",
       "      <th rowspan=\"5\" valign=\"top\">XLY</th>\n",
       "      <th>2024-06-03</th>\n",
       "      <td>XLY</td>\n",
       "      <td>176.089996</td>\n",
       "      <td>176.669998</td>\n",
       "      <td>174.250000</td>\n",
       "      <td>175.889999</td>\n",
       "      <td>175.151016</td>\n",
       "      <td>3964500</td>\n",
       "    </tr>\n",
       "    <tr>\n",
       "      <th>2024-07-01</th>\n",
       "      <td>XLY</td>\n",
       "      <td>183.110001</td>\n",
       "      <td>183.869995</td>\n",
       "      <td>182.070007</td>\n",
       "      <td>183.020004</td>\n",
       "      <td>182.643143</td>\n",
       "      <td>3196600</td>\n",
       "    </tr>\n",
       "    <tr>\n",
       "      <th>2024-08-01</th>\n",
       "      <td>XLY</td>\n",
       "      <td>187.570007</td>\n",
       "      <td>188.130005</td>\n",
       "      <td>181.320007</td>\n",
       "      <td>182.889999</td>\n",
       "      <td>182.513412</td>\n",
       "      <td>3647900</td>\n",
       "    </tr>\n",
       "    <tr>\n",
       "      <th>2024-09-02</th>\n",
       "      <td>XLY</td>\n",
       "      <td>186.580002</td>\n",
       "      <td>187.449997</td>\n",
       "      <td>183.699997</td>\n",
       "      <td>184.550003</td>\n",
       "      <td>184.169998</td>\n",
       "      <td>4938200</td>\n",
       "    </tr>\n",
       "    <tr>\n",
       "      <th>2024-10-01</th>\n",
       "      <td>XLY</td>\n",
       "      <td>200.250000</td>\n",
       "      <td>200.429993</td>\n",
       "      <td>196.960007</td>\n",
       "      <td>199.559998</td>\n",
       "      <td>199.559998</td>\n",
       "      <td>4114500</td>\n",
       "    </tr>\n",
       "  </tbody>\n",
       "</table>\n",
       "<p>650 rows × 7 columns</p>\n",
       "</div>"
      ],
      "text/plain": [
       "                  ticker        Open        High         Low       Close  \\\n",
       "ticker date                                                                \n",
       "IXN    2014-01-01    IXN   13.783333   13.783333   13.683333   13.711667   \n",
       "       2014-02-03    IXN   13.398333   13.425000   13.096667   13.120000   \n",
       "       2014-03-03    IXN   13.851667   13.941667   13.825000   13.865000   \n",
       "       2014-04-01    IXN   14.168333   14.255000   14.168333   14.248333   \n",
       "       2014-05-01    IXN   14.083333   14.166667   14.041667   14.058333   \n",
       "...                  ...         ...         ...         ...         ...   \n",
       "XLY    2024-06-03    XLY  176.089996  176.669998  174.250000  175.889999   \n",
       "       2024-07-01    XLY  183.110001  183.869995  182.070007  183.020004   \n",
       "       2024-08-01    XLY  187.570007  188.130005  181.320007  182.889999   \n",
       "       2024-09-02    XLY  186.580002  187.449997  183.699997  184.550003   \n",
       "       2024-10-01    XLY  200.250000  200.429993  196.960007  199.559998   \n",
       "\n",
       "                    Adj Close   Volume  \n",
       "ticker date                             \n",
       "IXN    2014-01-01   12.486847  1387200  \n",
       "       2014-02-03   11.948030   444600  \n",
       "       2014-03-03   12.626484   491400  \n",
       "       2014-04-01   12.975574   615600  \n",
       "       2014-05-01   12.802546   826800  \n",
       "...                       ...      ...  \n",
       "XLY    2024-06-03  175.151016  3964500  \n",
       "       2024-07-01  182.643143  3196600  \n",
       "       2024-08-01  182.513412  3647900  \n",
       "       2024-09-02  184.169998  4938200  \n",
       "       2024-10-01  199.559998  4114500  \n",
       "\n",
       "[650 rows x 7 columns]"
      ]
     },
     "metadata": {},
     "output_type": "display_data"
    }
   ],
   "source": [
    "### Step 1: Download Data \n",
    "tickers = ['IXN','VNQ','XLE','XLF','XLY'] \n",
    "start = dt.datetime(2014, 1, 1)  \n",
    "end = dt.datetime(2024, 10, 6)\n",
    "\n",
    "data = extract_all(stocks = tickers,\n",
    "                   start = start,\n",
    "                   end = end)\n",
    "\n",
    "data = data.reset_index(level = ['ticker'])\n",
    "\n",
    "### Group By 'Ticker', resample by 'BMS' to get first observation of each month\n",
    "data = data.groupby('ticker').resample('BMS').first()\n",
    "display(data)"
   ]
  },
  {
   "cell_type": "code",
   "execution_count": 40,
   "metadata": {},
   "outputs": [
    {
     "data": {
      "text/html": [
       "<div>\n",
       "<style scoped>\n",
       "    .dataframe tbody tr th:only-of-type {\n",
       "        vertical-align: middle;\n",
       "    }\n",
       "\n",
       "    .dataframe tbody tr th {\n",
       "        vertical-align: top;\n",
       "    }\n",
       "\n",
       "    .dataframe thead th {\n",
       "        text-align: right;\n",
       "    }\n",
       "</style>\n",
       "<table border=\"1\" class=\"dataframe\">\n",
       "  <thead>\n",
       "    <tr style=\"text-align: right;\">\n",
       "      <th></th>\n",
       "      <th></th>\n",
       "      <th>ticker</th>\n",
       "      <th>Adj Close</th>\n",
       "      <th>Volume</th>\n",
       "    </tr>\n",
       "    <tr>\n",
       "      <th>ticker</th>\n",
       "      <th>date</th>\n",
       "      <th></th>\n",
       "      <th></th>\n",
       "      <th></th>\n",
       "    </tr>\n",
       "  </thead>\n",
       "  <tbody>\n",
       "    <tr>\n",
       "      <th rowspan=\"11\" valign=\"top\">IXN</th>\n",
       "      <th>2014-01-01</th>\n",
       "      <td>IXN</td>\n",
       "      <td>12.486847</td>\n",
       "      <td>1387200</td>\n",
       "    </tr>\n",
       "    <tr>\n",
       "      <th>2014-02-03</th>\n",
       "      <td>IXN</td>\n",
       "      <td>11.948030</td>\n",
       "      <td>444600</td>\n",
       "    </tr>\n",
       "    <tr>\n",
       "      <th>2014-03-03</th>\n",
       "      <td>IXN</td>\n",
       "      <td>12.626484</td>\n",
       "      <td>491400</td>\n",
       "    </tr>\n",
       "    <tr>\n",
       "      <th>2014-04-01</th>\n",
       "      <td>IXN</td>\n",
       "      <td>12.975574</td>\n",
       "      <td>615600</td>\n",
       "    </tr>\n",
       "    <tr>\n",
       "      <th>2014-05-01</th>\n",
       "      <td>IXN</td>\n",
       "      <td>12.802546</td>\n",
       "      <td>826800</td>\n",
       "    </tr>\n",
       "    <tr>\n",
       "      <th>...</th>\n",
       "      <td>...</td>\n",
       "      <td>...</td>\n",
       "      <td>...</td>\n",
       "    </tr>\n",
       "    <tr>\n",
       "      <th>2024-06-03</th>\n",
       "      <td>IXN</td>\n",
       "      <td>76.904732</td>\n",
       "      <td>284200</td>\n",
       "    </tr>\n",
       "    <tr>\n",
       "      <th>2024-07-01</th>\n",
       "      <td>IXN</td>\n",
       "      <td>83.620003</td>\n",
       "      <td>243600</td>\n",
       "    </tr>\n",
       "    <tr>\n",
       "      <th>2024-08-01</th>\n",
       "      <td>IXN</td>\n",
       "      <td>77.680000</td>\n",
       "      <td>843000</td>\n",
       "    </tr>\n",
       "    <tr>\n",
       "      <th>2024-09-02</th>\n",
       "      <td>IXN</td>\n",
       "      <td>77.599998</td>\n",
       "      <td>725700</td>\n",
       "    </tr>\n",
       "    <tr>\n",
       "      <th>2024-10-01</th>\n",
       "      <td>IXN</td>\n",
       "      <td>80.809998</td>\n",
       "      <td>216300</td>\n",
       "    </tr>\n",
       "  </tbody>\n",
       "</table>\n",
       "<p>130 rows × 3 columns</p>\n",
       "</div>"
      ],
      "text/plain": [
       "                  ticker  Adj Close   Volume\n",
       "ticker date                                 \n",
       "IXN    2014-01-01    IXN  12.486847  1387200\n",
       "       2014-02-03    IXN  11.948030   444600\n",
       "       2014-03-03    IXN  12.626484   491400\n",
       "       2014-04-01    IXN  12.975574   615600\n",
       "       2014-05-01    IXN  12.802546   826800\n",
       "...                  ...        ...      ...\n",
       "       2024-06-03    IXN  76.904732   284200\n",
       "       2024-07-01    IXN  83.620003   243600\n",
       "       2024-08-01    IXN  77.680000   843000\n",
       "       2024-09-02    IXN  77.599998   725700\n",
       "       2024-10-01    IXN  80.809998   216300\n",
       "\n",
       "[130 rows x 3 columns]"
      ]
     },
     "execution_count": 40,
     "metadata": {},
     "output_type": "execute_result"
    }
   ],
   "source": [
    "data.loc[data['ticker'].isin(['IXN']), ['ticker','Adj Close', 'Volume']]"
   ]
  },
  {
   "cell_type": "code",
   "execution_count": 41,
   "metadata": {},
   "outputs": [
    {
     "data": {
      "text/html": [
       "<div>\n",
       "<style scoped>\n",
       "    .dataframe tbody tr th:only-of-type {\n",
       "        vertical-align: middle;\n",
       "    }\n",
       "\n",
       "    .dataframe tbody tr th {\n",
       "        vertical-align: top;\n",
       "    }\n",
       "\n",
       "    .dataframe thead th {\n",
       "        text-align: right;\n",
       "    }\n",
       "</style>\n",
       "<table border=\"1\" class=\"dataframe\">\n",
       "  <thead>\n",
       "    <tr style=\"text-align: right;\">\n",
       "      <th></th>\n",
       "      <th>ticker</th>\n",
       "      <th>Adj Close</th>\n",
       "      <th>Volume</th>\n",
       "    </tr>\n",
       "    <tr>\n",
       "      <th>date</th>\n",
       "      <th></th>\n",
       "      <th></th>\n",
       "      <th></th>\n",
       "    </tr>\n",
       "  </thead>\n",
       "  <tbody>\n",
       "    <tr>\n",
       "      <th>2014-01-01</th>\n",
       "      <td>IXN</td>\n",
       "      <td>12.486847</td>\n",
       "      <td>1387200</td>\n",
       "    </tr>\n",
       "    <tr>\n",
       "      <th>2014-02-03</th>\n",
       "      <td>IXN</td>\n",
       "      <td>11.948030</td>\n",
       "      <td>444600</td>\n",
       "    </tr>\n",
       "    <tr>\n",
       "      <th>2014-03-03</th>\n",
       "      <td>IXN</td>\n",
       "      <td>12.626484</td>\n",
       "      <td>491400</td>\n",
       "    </tr>\n",
       "    <tr>\n",
       "      <th>2014-04-01</th>\n",
       "      <td>IXN</td>\n",
       "      <td>12.975574</td>\n",
       "      <td>615600</td>\n",
       "    </tr>\n",
       "    <tr>\n",
       "      <th>2014-05-01</th>\n",
       "      <td>IXN</td>\n",
       "      <td>12.802546</td>\n",
       "      <td>826800</td>\n",
       "    </tr>\n",
       "    <tr>\n",
       "      <th>...</th>\n",
       "      <td>...</td>\n",
       "      <td>...</td>\n",
       "      <td>...</td>\n",
       "    </tr>\n",
       "    <tr>\n",
       "      <th>2024-06-03</th>\n",
       "      <td>IXN</td>\n",
       "      <td>76.904732</td>\n",
       "      <td>284200</td>\n",
       "    </tr>\n",
       "    <tr>\n",
       "      <th>2024-07-01</th>\n",
       "      <td>IXN</td>\n",
       "      <td>83.620003</td>\n",
       "      <td>243600</td>\n",
       "    </tr>\n",
       "    <tr>\n",
       "      <th>2024-08-01</th>\n",
       "      <td>IXN</td>\n",
       "      <td>77.680000</td>\n",
       "      <td>843000</td>\n",
       "    </tr>\n",
       "    <tr>\n",
       "      <th>2024-09-02</th>\n",
       "      <td>IXN</td>\n",
       "      <td>77.599998</td>\n",
       "      <td>725700</td>\n",
       "    </tr>\n",
       "    <tr>\n",
       "      <th>2024-10-01</th>\n",
       "      <td>IXN</td>\n",
       "      <td>80.809998</td>\n",
       "      <td>216300</td>\n",
       "    </tr>\n",
       "  </tbody>\n",
       "</table>\n",
       "<p>130 rows × 3 columns</p>\n",
       "</div>"
      ],
      "text/plain": [
       "           ticker  Adj Close   Volume\n",
       "date                                 \n",
       "2014-01-01    IXN  12.486847  1387200\n",
       "2014-02-03    IXN  11.948030   444600\n",
       "2014-03-03    IXN  12.626484   491400\n",
       "2014-04-01    IXN  12.975574   615600\n",
       "2014-05-01    IXN  12.802546   826800\n",
       "...           ...        ...      ...\n",
       "2024-06-03    IXN  76.904732   284200\n",
       "2024-07-01    IXN  83.620003   243600\n",
       "2024-08-01    IXN  77.680000   843000\n",
       "2024-09-02    IXN  77.599998   725700\n",
       "2024-10-01    IXN  80.809998   216300\n",
       "\n",
       "[130 rows x 3 columns]"
      ]
     },
     "execution_count": 41,
     "metadata": {},
     "output_type": "execute_result"
    }
   ],
   "source": [
    "data.loc[data['ticker'].isin(['IXN']), ['ticker','Adj Close', 'Volume']].droplevel(level = 'ticker')"
   ]
  },
  {
   "cell_type": "code",
   "execution_count": 42,
   "metadata": {},
   "outputs": [
    {
     "data": {
      "text/html": [
       "<div>\n",
       "<style scoped>\n",
       "    .dataframe tbody tr th:only-of-type {\n",
       "        vertical-align: middle;\n",
       "    }\n",
       "\n",
       "    .dataframe tbody tr th {\n",
       "        vertical-align: top;\n",
       "    }\n",
       "\n",
       "    .dataframe thead th {\n",
       "        text-align: right;\n",
       "    }\n",
       "</style>\n",
       "<table border=\"1\" class=\"dataframe\">\n",
       "  <thead>\n",
       "    <tr style=\"text-align: right;\">\n",
       "      <th></th>\n",
       "      <th>ds</th>\n",
       "      <th>y</th>\n",
       "    </tr>\n",
       "  </thead>\n",
       "  <tbody>\n",
       "    <tr>\n",
       "      <th>0</th>\n",
       "      <td>2014-01-01</td>\n",
       "      <td>12.486847</td>\n",
       "    </tr>\n",
       "    <tr>\n",
       "      <th>1</th>\n",
       "      <td>2014-02-03</td>\n",
       "      <td>11.948030</td>\n",
       "    </tr>\n",
       "    <tr>\n",
       "      <th>2</th>\n",
       "      <td>2014-03-03</td>\n",
       "      <td>12.626484</td>\n",
       "    </tr>\n",
       "    <tr>\n",
       "      <th>3</th>\n",
       "      <td>2014-04-01</td>\n",
       "      <td>12.975574</td>\n",
       "    </tr>\n",
       "    <tr>\n",
       "      <th>4</th>\n",
       "      <td>2014-05-01</td>\n",
       "      <td>12.802546</td>\n",
       "    </tr>\n",
       "    <tr>\n",
       "      <th>...</th>\n",
       "      <td>...</td>\n",
       "      <td>...</td>\n",
       "    </tr>\n",
       "    <tr>\n",
       "      <th>125</th>\n",
       "      <td>2024-06-03</td>\n",
       "      <td>76.904732</td>\n",
       "    </tr>\n",
       "    <tr>\n",
       "      <th>126</th>\n",
       "      <td>2024-07-01</td>\n",
       "      <td>83.620003</td>\n",
       "    </tr>\n",
       "    <tr>\n",
       "      <th>127</th>\n",
       "      <td>2024-08-01</td>\n",
       "      <td>77.680000</td>\n",
       "    </tr>\n",
       "    <tr>\n",
       "      <th>128</th>\n",
       "      <td>2024-09-02</td>\n",
       "      <td>77.599998</td>\n",
       "    </tr>\n",
       "    <tr>\n",
       "      <th>129</th>\n",
       "      <td>2024-10-01</td>\n",
       "      <td>80.809998</td>\n",
       "    </tr>\n",
       "  </tbody>\n",
       "</table>\n",
       "<p>130 rows × 2 columns</p>\n",
       "</div>"
      ],
      "text/plain": [
       "            ds          y\n",
       "0   2014-01-01  12.486847\n",
       "1   2014-02-03  11.948030\n",
       "2   2014-03-03  12.626484\n",
       "3   2014-04-01  12.975574\n",
       "4   2014-05-01  12.802546\n",
       "..         ...        ...\n",
       "125 2024-06-03  76.904732\n",
       "126 2024-07-01  83.620003\n",
       "127 2024-08-01  77.680000\n",
       "128 2024-09-02  77.599998\n",
       "129 2024-10-01  80.809998\n",
       "\n",
       "[130 rows x 2 columns]"
      ]
     },
     "metadata": {},
     "output_type": "display_data"
    }
   ],
   "source": [
    "### Step 2: Preprocess to be ready to be used for Prophet\n",
    "\n",
    "dict_of_ticker_dfs = {}\n",
    "\n",
    "for ticker in data['ticker'].unique():\n",
    "    ticker_df = data.loc[data['ticker'].isin([ticker]), ['ticker','Adj Close', 'Volume']].droplevel(level = 'ticker')\n",
    "    ticker_df = ticker_df.reset_index()\n",
    "    # rename date column to 'ds', forecasted variable to be 'y'\n",
    "    ticket_df = ticker_df.rename(columns ={'date':'ds', 'Adj Close':'y'})\n",
    "    ticker_df = ticket_df.loc[:,['ds','y']]\n",
    "    dict_of_ticker_dfs[ticker] = ticker_df\n",
    "\n",
    "## 1 example\n",
    "display(dict_of_ticker_dfs.get('IXN'))"
   ]
  },
  {
   "cell_type": "code",
   "execution_count": 43,
   "metadata": {},
   "outputs": [
    {
     "data": {
      "text/plain": [
       "array(['IXN', 'VNQ', 'XLE', 'XLF', 'XLY'], dtype=object)"
      ]
     },
     "execution_count": 43,
     "metadata": {},
     "output_type": "execute_result"
    }
   ],
   "source": [
    "data['ticker'].unique()"
   ]
  },
  {
   "cell_type": "code",
   "execution_count": 44,
   "metadata": {},
   "outputs": [
    {
     "data": {
      "text/html": [
       "<div>\n",
       "<style scoped>\n",
       "    .dataframe tbody tr th:only-of-type {\n",
       "        vertical-align: middle;\n",
       "    }\n",
       "\n",
       "    .dataframe tbody tr th {\n",
       "        vertical-align: top;\n",
       "    }\n",
       "\n",
       "    .dataframe thead th {\n",
       "        text-align: right;\n",
       "    }\n",
       "</style>\n",
       "<table border=\"1\" class=\"dataframe\">\n",
       "  <thead>\n",
       "    <tr style=\"text-align: right;\">\n",
       "      <th></th>\n",
       "      <th>ds</th>\n",
       "      <th>y</th>\n",
       "      <th>ticker</th>\n",
       "    </tr>\n",
       "  </thead>\n",
       "  <tbody>\n",
       "    <tr>\n",
       "      <th>120</th>\n",
       "      <td>2024-01-01</td>\n",
       "      <td>66.176392</td>\n",
       "      <td>XLY</td>\n",
       "    </tr>\n",
       "    <tr>\n",
       "      <th>121</th>\n",
       "      <td>2024-02-01</td>\n",
       "      <td>70.647369</td>\n",
       "      <td>XLY</td>\n",
       "    </tr>\n",
       "    <tr>\n",
       "      <th>122</th>\n",
       "      <td>2024-03-01</td>\n",
       "      <td>74.639305</td>\n",
       "      <td>XLY</td>\n",
       "    </tr>\n",
       "    <tr>\n",
       "      <th>123</th>\n",
       "      <td>2024-04-01</td>\n",
       "      <td>74.898788</td>\n",
       "      <td>XLY</td>\n",
       "    </tr>\n",
       "    <tr>\n",
       "      <th>124</th>\n",
       "      <td>2024-05-01</td>\n",
       "      <td>69.689301</td>\n",
       "      <td>XLY</td>\n",
       "    </tr>\n",
       "    <tr>\n",
       "      <th>125</th>\n",
       "      <td>2024-06-03</td>\n",
       "      <td>76.904732</td>\n",
       "      <td>XLY</td>\n",
       "    </tr>\n",
       "    <tr>\n",
       "      <th>126</th>\n",
       "      <td>2024-07-01</td>\n",
       "      <td>83.620003</td>\n",
       "      <td>XLY</td>\n",
       "    </tr>\n",
       "    <tr>\n",
       "      <th>127</th>\n",
       "      <td>2024-08-01</td>\n",
       "      <td>77.680000</td>\n",
       "      <td>XLY</td>\n",
       "    </tr>\n",
       "    <tr>\n",
       "      <th>128</th>\n",
       "      <td>2024-09-02</td>\n",
       "      <td>77.599998</td>\n",
       "      <td>XLY</td>\n",
       "    </tr>\n",
       "    <tr>\n",
       "      <th>129</th>\n",
       "      <td>2024-10-01</td>\n",
       "      <td>80.809998</td>\n",
       "      <td>XLY</td>\n",
       "    </tr>\n",
       "  </tbody>\n",
       "</table>\n",
       "</div>"
      ],
      "text/plain": [
       "            ds          y ticker\n",
       "120 2024-01-01  66.176392    XLY\n",
       "121 2024-02-01  70.647369    XLY\n",
       "122 2024-03-01  74.639305    XLY\n",
       "123 2024-04-01  74.898788    XLY\n",
       "124 2024-05-01  69.689301    XLY\n",
       "125 2024-06-03  76.904732    XLY\n",
       "126 2024-07-01  83.620003    XLY\n",
       "127 2024-08-01  77.680000    XLY\n",
       "128 2024-09-02  77.599998    XLY\n",
       "129 2024-10-01  80.809998    XLY"
      ]
     },
     "metadata": {},
     "output_type": "display_data"
    }
   ],
   "source": [
    "### Step 3 Splitting Data\n",
    "\n",
    "# Function to split time series data\n",
    "def split_time_series(df, ticker_name, target_col, feature_cols, n_splits=5, \n",
    "                      test_size = 10):\n",
    "    \n",
    "    df = dict_of_ticker_dfs.get(ticker_name)\n",
    "    # Prepare X and y\n",
    "    X = df[feature_cols]\n",
    "    y = df[target_col]\n",
    "    \n",
    "    # Initialize TimeSeriesSplit\n",
    "    tss = TimeSeriesSplit(n_splits=n_splits,\n",
    "                          test_size = test_size)\n",
    "    \n",
    "    # Lists to store the indices\n",
    "    train_indices_list = []\n",
    "    test_indices_list = []\n",
    "    \n",
    "    # Perform the splits\n",
    "    for train_idx, test_idx in tss.split(X):\n",
    "        train_indices_list.append(train_idx)\n",
    "        test_indices_list.append(test_idx)\n",
    "    \n",
    "    # Get the last split (usually used for final evaluation)\n",
    "    last_train_indices = train_indices_list[-1]\n",
    "    last_test_indices = test_indices_list[-1]\n",
    "    \n",
    "    # Split the data\n",
    "    X_train = X.iloc[last_train_indices]\n",
    "    X_test = X.iloc[last_test_indices]\n",
    "    y_train = y.iloc[last_train_indices]\n",
    "    y_test = y.iloc[last_test_indices]\n",
    "    \n",
    "    train = pd.concat(objs = [X_train, y_train], axis = 1)\n",
    "    test = pd.concat(objs = [X_test, y_test], axis = 1)\n",
    "    \n",
    "    train['ticker'] = ticker\n",
    "    test['ticker'] = ticker\n",
    "    \n",
    "    return train, test, tss\n",
    "\n",
    "train, test, tss = split_time_series(ticker_df, 'IXN', ['y'], ['ds'])\n",
    "\n",
    "display(test)"
   ]
  },
  {
   "cell_type": "code",
   "execution_count": 45,
   "metadata": {},
   "outputs": [
    {
     "data": {
      "text/html": [
       "<div>\n",
       "<style scoped>\n",
       "    .dataframe tbody tr th:only-of-type {\n",
       "        vertical-align: middle;\n",
       "    }\n",
       "\n",
       "    .dataframe tbody tr th {\n",
       "        vertical-align: top;\n",
       "    }\n",
       "\n",
       "    .dataframe thead th {\n",
       "        text-align: right;\n",
       "    }\n",
       "</style>\n",
       "<table border=\"1\" class=\"dataframe\">\n",
       "  <thead>\n",
       "    <tr style=\"text-align: right;\">\n",
       "      <th></th>\n",
       "      <th>holiday</th>\n",
       "      <th>ds</th>\n",
       "    </tr>\n",
       "  </thead>\n",
       "  <tbody>\n",
       "    <tr>\n",
       "      <th>0</th>\n",
       "      <td>New Year's Day</td>\n",
       "      <td>2014-01-01</td>\n",
       "    </tr>\n",
       "    <tr>\n",
       "      <th>1</th>\n",
       "      <td>Martin Luther King Jr. Day</td>\n",
       "      <td>2014-01-20</td>\n",
       "    </tr>\n",
       "    <tr>\n",
       "      <th>2</th>\n",
       "      <td>Washington's Birthday</td>\n",
       "      <td>2014-02-17</td>\n",
       "    </tr>\n",
       "    <tr>\n",
       "      <th>3</th>\n",
       "      <td>Good Friday</td>\n",
       "      <td>2014-04-18</td>\n",
       "    </tr>\n",
       "    <tr>\n",
       "      <th>4</th>\n",
       "      <td>Memorial Day</td>\n",
       "      <td>2014-05-26</td>\n",
       "    </tr>\n",
       "    <tr>\n",
       "      <th>...</th>\n",
       "      <td>...</td>\n",
       "      <td>...</td>\n",
       "    </tr>\n",
       "    <tr>\n",
       "      <th>97</th>\n",
       "      <td>Juneteenth National Independence Day</td>\n",
       "      <td>2024-06-19</td>\n",
       "    </tr>\n",
       "    <tr>\n",
       "      <th>98</th>\n",
       "      <td>Independence Day</td>\n",
       "      <td>2024-07-04</td>\n",
       "    </tr>\n",
       "    <tr>\n",
       "      <th>99</th>\n",
       "      <td>Labor Day</td>\n",
       "      <td>2024-09-02</td>\n",
       "    </tr>\n",
       "    <tr>\n",
       "      <th>100</th>\n",
       "      <td>Thanksgiving Day</td>\n",
       "      <td>2024-11-28</td>\n",
       "    </tr>\n",
       "    <tr>\n",
       "      <th>101</th>\n",
       "      <td>Christmas Day</td>\n",
       "      <td>2024-12-25</td>\n",
       "    </tr>\n",
       "  </tbody>\n",
       "</table>\n",
       "<p>102 rows × 2 columns</p>\n",
       "</div>"
      ],
      "text/plain": [
       "                                  holiday          ds\n",
       "0                          New Year's Day  2014-01-01\n",
       "1              Martin Luther King Jr. Day  2014-01-20\n",
       "2                   Washington's Birthday  2014-02-17\n",
       "3                             Good Friday  2014-04-18\n",
       "4                            Memorial Day  2014-05-26\n",
       "..                                    ...         ...\n",
       "97   Juneteenth National Independence Day  2024-06-19\n",
       "98                       Independence Day  2024-07-04\n",
       "99                              Labor Day  2024-09-02\n",
       "100                      Thanksgiving Day  2024-11-28\n",
       "101                         Christmas Day  2024-12-25\n",
       "\n",
       "[102 rows x 2 columns]"
      ]
     },
     "metadata": {},
     "output_type": "display_data"
    }
   ],
   "source": [
    "nyse_holidays = holidays.financial_holidays(market ='NYSE',\n",
    "                                            years=range(2014, 2025))\n",
    "\n",
    "# Create a dictionary with the dates and names of the holidays\n",
    "holidays_dict = {date: name for date, name in nyse_holidays.items()}\n",
    "\n",
    "# Convert to DataFrame\n",
    "holidays_df = pd.DataFrame(list(holidays_dict.items()), columns=[\"date\", \"holiday\"])\n",
    "holidays_df[\"Date\"] = pd.to_datetime(holidays_df[\"date\"], format=\"%Y-%m-%d\")\n",
    "\n",
    "# Sort the DataFrame by date\n",
    "holidays_df = holidays_df.sort_values(by=\"date\").reset_index(drop=True)\n",
    "\n",
    "#rearranging columns so prophet can use \n",
    "holidays_df = holidays_df.loc[:,[\"holiday\",\"date\"]]\n",
    "holidays_df = holidays_df.rename(columns ={'date':'ds'})\n",
    "display(holidays_df)"
   ]
  },
  {
   "cell_type": "code",
   "execution_count": 46,
   "metadata": {},
   "outputs": [
    {
     "data": {
      "text/plain": [
       "10"
      ]
     },
     "execution_count": 46,
     "metadata": {},
     "output_type": "execute_result"
    }
   ],
   "source": [
    "len(test)"
   ]
  },
  {
   "cell_type": "markdown",
   "metadata": {},
   "source": [
    "#### Fit Prophet"
   ]
  },
  {
   "cell_type": "code",
   "execution_count": 47,
   "metadata": {},
   "outputs": [
    {
     "name": "stderr",
     "output_type": "stream",
     "text": [
      "15:21:55 - cmdstanpy - INFO - Chain [1] start processing\n",
      "15:21:56 - cmdstanpy - INFO - Chain [1] done processing\n",
      "c:\\Users\\limfy\\anaconda3\\Lib\\site-packages\\prophet\\forecaster.py:1854: FutureWarning:\n",
      "\n",
      "'M' is deprecated and will be removed in a future version, please use 'ME' instead.\n",
      "\n"
     ]
    },
    {
     "name": "stdout",
     "output_type": "stream",
     "text": [
      "Confidence Intervals of Predictions\n"
     ]
    },
    {
     "data": {
      "application/vnd.plotly.v1+json": {
       "config": {
        "plotlyServerURL": "https://plot.ly"
       },
       "data": [
        {
         "marker": {
          "color": "black",
          "size": 4
         },
         "mode": "markers",
         "name": "Actual",
         "type": "scatter",
         "x": [
          "2014-01-01T00:00:00",
          "2014-02-03T00:00:00",
          "2014-03-03T00:00:00",
          "2014-04-01T00:00:00",
          "2014-05-01T00:00:00",
          "2014-06-02T00:00:00",
          "2014-07-01T00:00:00",
          "2014-08-01T00:00:00",
          "2014-09-01T00:00:00",
          "2014-10-01T00:00:00",
          "2014-11-03T00:00:00",
          "2014-12-01T00:00:00",
          "2015-01-01T00:00:00",
          "2015-02-02T00:00:00",
          "2015-03-02T00:00:00",
          "2015-04-01T00:00:00",
          "2015-05-01T00:00:00",
          "2015-06-01T00:00:00",
          "2015-07-01T00:00:00",
          "2015-08-03T00:00:00",
          "2015-09-01T00:00:00",
          "2015-10-01T00:00:00",
          "2015-11-02T00:00:00",
          "2015-12-01T00:00:00",
          "2016-01-01T00:00:00",
          "2016-02-01T00:00:00",
          "2016-03-01T00:00:00",
          "2016-04-01T00:00:00",
          "2016-05-02T00:00:00",
          "2016-06-01T00:00:00",
          "2016-07-01T00:00:00",
          "2016-08-01T00:00:00",
          "2016-09-01T00:00:00",
          "2016-10-03T00:00:00",
          "2016-11-01T00:00:00",
          "2016-12-01T00:00:00",
          "2017-01-02T00:00:00",
          "2017-02-01T00:00:00",
          "2017-03-01T00:00:00",
          "2017-04-03T00:00:00",
          "2017-05-01T00:00:00",
          "2017-06-01T00:00:00",
          "2017-07-03T00:00:00",
          "2017-08-01T00:00:00",
          "2017-09-01T00:00:00",
          "2017-10-02T00:00:00",
          "2017-11-01T00:00:00",
          "2017-12-01T00:00:00",
          "2018-01-01T00:00:00",
          "2018-02-01T00:00:00",
          "2018-03-01T00:00:00",
          "2018-04-02T00:00:00",
          "2018-05-01T00:00:00",
          "2018-06-01T00:00:00",
          "2018-07-02T00:00:00",
          "2018-08-01T00:00:00",
          "2018-09-03T00:00:00",
          "2018-10-01T00:00:00",
          "2018-11-01T00:00:00",
          "2018-12-03T00:00:00",
          "2019-01-01T00:00:00",
          "2019-02-01T00:00:00",
          "2019-03-01T00:00:00",
          "2019-04-01T00:00:00",
          "2019-05-01T00:00:00",
          "2019-06-03T00:00:00",
          "2019-07-01T00:00:00",
          "2019-08-01T00:00:00",
          "2019-09-02T00:00:00",
          "2019-10-01T00:00:00",
          "2019-11-01T00:00:00",
          "2019-12-02T00:00:00",
          "2020-01-01T00:00:00",
          "2020-02-03T00:00:00",
          "2020-03-02T00:00:00",
          "2020-04-01T00:00:00",
          "2020-05-01T00:00:00",
          "2020-06-01T00:00:00",
          "2020-07-01T00:00:00",
          "2020-08-03T00:00:00",
          "2020-09-01T00:00:00",
          "2020-10-01T00:00:00",
          "2020-11-02T00:00:00",
          "2020-12-01T00:00:00",
          "2021-01-01T00:00:00",
          "2021-02-01T00:00:00",
          "2021-03-01T00:00:00",
          "2021-04-01T00:00:00",
          "2021-05-03T00:00:00",
          "2021-06-01T00:00:00",
          "2021-07-01T00:00:00",
          "2021-08-02T00:00:00",
          "2021-09-01T00:00:00",
          "2021-10-01T00:00:00",
          "2021-11-01T00:00:00",
          "2021-12-01T00:00:00",
          "2022-01-03T00:00:00",
          "2022-02-01T00:00:00",
          "2022-03-01T00:00:00",
          "2022-04-01T00:00:00",
          "2022-05-02T00:00:00",
          "2022-06-01T00:00:00",
          "2022-07-01T00:00:00",
          "2022-08-01T00:00:00",
          "2022-09-01T00:00:00",
          "2022-10-03T00:00:00",
          "2022-11-01T00:00:00",
          "2022-12-01T00:00:00",
          "2023-01-02T00:00:00",
          "2023-02-01T00:00:00",
          "2023-03-01T00:00:00",
          "2023-04-03T00:00:00",
          "2023-05-01T00:00:00",
          "2023-06-01T00:00:00",
          "2023-07-03T00:00:00",
          "2023-08-01T00:00:00",
          "2023-09-01T00:00:00",
          "2023-10-02T00:00:00",
          "2023-11-01T00:00:00",
          "2023-12-01T00:00:00"
         ],
         "y": [
          12.486846923828125,
          11.948029518127441,
          12.626483917236328,
          12.975574493408203,
          12.802545547485352,
          13.300378799438477,
          13.738146781921387,
          13.655706405639648,
          14.199188232421875,
          13.71219539642334,
          14.20529556274414,
          14.661755561828613,
          14.523674964904785,
          14.293313980102539,
          15.346844673156738,
          14.812400817871094,
          15.329951286315918,
          15.442059516906738,
          14.889533042907715,
          14.889533042907715,
          13.632655143737793,
          13.912134170532227,
          15.587459564208984,
          15.72333812713623,
          14.879403114318848,
          14.393310546875,
          14.588988304138184,
          15.573596954345703,
          14.852999687194824,
          15.446253776550293,
          15.247871398925781,
          16.512666702270508,
          16.873807907104492,
          17.252153396606445,
          17.045785903930664,
          16.679948806762695,
          17.3914852142334,
          18.22212028503418,
          19.14225196838379,
          19.508108139038086,
          20.224119186401367,
          21.068883895874023,
          20.483030319213867,
          21.662952423095703,
          22.189817428588867,
          22.514772415161133,
          24.219980239868164,
          24.16162109375,
          24.707326889038086,
          26.07105827331543,
          25.412979125976562,
          24.471054077148438,
          25.229036331176758,
          26.943220138549805,
          26.27709197998047,
          26.808422088623047,
          27.93153953552246,
          28.052438735961914,
          25.833251953125,
          25.620084762573242,
          23.092235565185547,
          24.931941986083984,
          26.43729591369629,
          27.729887008666992,
          28.91849136352539,
          26.155742645263672,
          29.342676162719727,
          29.426380157470703,
          28.748672485351562,
          29.522968292236328,
          31.399948120117188,
          32.03901672363281,
          34.66924285888672,
          35.42519760131836,
          34.24835968017578,
          27.961050033569336,
          32.428855895996094,
          35.787811279296875,
          38.40903854370117,
          41.621437072753906,
          45.521514892578125,
          43.35445022583008,
          40.87361526489258,
          46.490440368652344,
          48.44486618041992,
          50.17532730102539,
          51.07072448730469,
          51.19957733154297,
          52.479896545410156,
          52.057472229003906,
          55.222633361816406,
          56.98424530029297,
          59.26323318481445,
          56.11981201171875,
          59.459693908691406,
          60.854583740234375,
          64.09485626220703,
          58.81599044799805,
          54.502296447753906,
          56.88566207885742,
          51.212852478027344,
          50.01131820678711,
          45.035606384277344,
          50.77747344970703,
          47.269100189208984,
          42.9898796081543,
          44.61064529418945,
          48.64280319213867,
          44.129486083984375,
          50.33024215698242,
          48.60395050048828,
          53.89194869995117,
          53.76297378540039,
          59.20970916748047,
          61.8715934753418,
          63.05550765991211,
          61.80195236206055,
          58.0114631652832,
          58.55864715576172,
          65.4233169555664
         ]
        },
        {
         "hoverinfo": "skip",
         "line": {
          "width": 0
         },
         "mode": "lines",
         "type": "scatter",
         "x": [
          "2014-01-01T00:00:00",
          "2014-02-03T00:00:00",
          "2014-03-03T00:00:00",
          "2014-04-01T00:00:00",
          "2014-05-01T00:00:00",
          "2014-06-02T00:00:00",
          "2014-07-01T00:00:00",
          "2014-08-01T00:00:00",
          "2014-09-01T00:00:00",
          "2014-10-01T00:00:00",
          "2014-11-03T00:00:00",
          "2014-12-01T00:00:00",
          "2015-01-01T00:00:00",
          "2015-02-02T00:00:00",
          "2015-03-02T00:00:00",
          "2015-04-01T00:00:00",
          "2015-05-01T00:00:00",
          "2015-06-01T00:00:00",
          "2015-07-01T00:00:00",
          "2015-08-03T00:00:00",
          "2015-09-01T00:00:00",
          "2015-10-01T00:00:00",
          "2015-11-02T00:00:00",
          "2015-12-01T00:00:00",
          "2016-01-01T00:00:00",
          "2016-02-01T00:00:00",
          "2016-03-01T00:00:00",
          "2016-04-01T00:00:00",
          "2016-05-02T00:00:00",
          "2016-06-01T00:00:00",
          "2016-07-01T00:00:00",
          "2016-08-01T00:00:00",
          "2016-09-01T00:00:00",
          "2016-10-03T00:00:00",
          "2016-11-01T00:00:00",
          "2016-12-01T00:00:00",
          "2017-01-02T00:00:00",
          "2017-02-01T00:00:00",
          "2017-03-01T00:00:00",
          "2017-04-03T00:00:00",
          "2017-05-01T00:00:00",
          "2017-06-01T00:00:00",
          "2017-07-03T00:00:00",
          "2017-08-01T00:00:00",
          "2017-09-01T00:00:00",
          "2017-10-02T00:00:00",
          "2017-11-01T00:00:00",
          "2017-12-01T00:00:00",
          "2018-01-01T00:00:00",
          "2018-02-01T00:00:00",
          "2018-03-01T00:00:00",
          "2018-04-02T00:00:00",
          "2018-05-01T00:00:00",
          "2018-06-01T00:00:00",
          "2018-07-02T00:00:00",
          "2018-08-01T00:00:00",
          "2018-09-03T00:00:00",
          "2018-10-01T00:00:00",
          "2018-11-01T00:00:00",
          "2018-12-03T00:00:00",
          "2019-01-01T00:00:00",
          "2019-02-01T00:00:00",
          "2019-03-01T00:00:00",
          "2019-04-01T00:00:00",
          "2019-05-01T00:00:00",
          "2019-06-03T00:00:00",
          "2019-07-01T00:00:00",
          "2019-08-01T00:00:00",
          "2019-09-02T00:00:00",
          "2019-10-01T00:00:00",
          "2019-11-01T00:00:00",
          "2019-12-02T00:00:00",
          "2020-01-01T00:00:00",
          "2020-02-03T00:00:00",
          "2020-03-02T00:00:00",
          "2020-04-01T00:00:00",
          "2020-05-01T00:00:00",
          "2020-06-01T00:00:00",
          "2020-07-01T00:00:00",
          "2020-08-03T00:00:00",
          "2020-09-01T00:00:00",
          "2020-10-01T00:00:00",
          "2020-11-02T00:00:00",
          "2020-12-01T00:00:00",
          "2021-01-01T00:00:00",
          "2021-02-01T00:00:00",
          "2021-03-01T00:00:00",
          "2021-04-01T00:00:00",
          "2021-05-03T00:00:00",
          "2021-06-01T00:00:00",
          "2021-07-01T00:00:00",
          "2021-08-02T00:00:00",
          "2021-09-01T00:00:00",
          "2021-10-01T00:00:00",
          "2021-11-01T00:00:00",
          "2021-12-01T00:00:00",
          "2022-01-03T00:00:00",
          "2022-02-01T00:00:00",
          "2022-03-01T00:00:00",
          "2022-04-01T00:00:00",
          "2022-05-02T00:00:00",
          "2022-06-01T00:00:00",
          "2022-07-01T00:00:00",
          "2022-08-01T00:00:00",
          "2022-09-01T00:00:00",
          "2022-10-03T00:00:00",
          "2022-11-01T00:00:00",
          "2022-12-01T00:00:00",
          "2023-01-02T00:00:00",
          "2023-02-01T00:00:00",
          "2023-03-01T00:00:00",
          "2023-04-03T00:00:00",
          "2023-05-01T00:00:00",
          "2023-06-01T00:00:00",
          "2023-07-03T00:00:00",
          "2023-08-01T00:00:00",
          "2023-09-01T00:00:00",
          "2023-10-02T00:00:00",
          "2023-11-01T00:00:00",
          "2023-12-01T00:00:00",
          "2023-12-31T00:00:00",
          "2024-01-31T00:00:00",
          "2024-02-29T00:00:00",
          "2024-03-31T00:00:00",
          "2024-04-30T00:00:00",
          "2024-05-31T00:00:00",
          "2024-06-30T00:00:00",
          "2024-07-31T00:00:00",
          "2024-08-31T00:00:00",
          "2024-09-30T00:00:00"
         ],
         "y": [
          4.446392753371284,
          4.707869863706669,
          5.290799856965402,
          6.307859467909096,
          3.8739086372433076,
          4.00608669860851,
          5.293927064593991,
          6.254953439116734,
          5.334658712464731,
          7.329961276037466,
          8.36405932612857,
          9.299582539823081,
          7.718161632889054,
          8.800529707876459,
          8.259616237697866,
          9.950498560926048,
          6.9326007449193074,
          10.189698964848866,
          8.46444109776172,
          12.400395623446295,
          11.126232751066691,
          11.502523020468718,
          9.93118898790522,
          13.298597167804461,
          9.642306624985528,
          11.985008417776795,
          11.554434872370928,
          11.8160223790757,
          13.52901491023064,
          11.94716767284244,
          13.380354554617497,
          13.821285423854494,
          15.429454573222154,
          9.06718211779822,
          13.454393372661515,
          15.253023433391736,
          9.114771747585808,
          15.722313633535451,
          15.133129780203726,
          12.265887051074552,
          15.34099888832258,
          16.626177277463725,
          18.277909400843253,
          17.58580815735871,
          18.852541129132998,
          15.499359797853794,
          17.395369450618674,
          19.5462821595392,
          19.40655280965396,
          19.617110603310557,
          19.38250225949374,
          19.136919647043975,
          18.99997111459222,
          21.22482049173907,
          21.815723911460843,
          21.531629928587407,
          23.00464428932545,
          22.987124711418453,
          21.69452794647955,
          18.67239361644284,
          24.02932680236913,
          24.806095321147602,
          24.752303232120283,
          26.82868463196439,
          24.285203454196957,
          23.665128055524164,
          26.16115382588415,
          27.396442414533592,
          27.62867259732626,
          29.869425165692324,
          27.397935334475534,
          29.51863050524719,
          29.414897193694316,
          31.92882684339308,
          31.86002584463306,
          31.978062661735205,
          32.186862307463976,
          33.417108678734884,
          33.634324219983455,
          38.457773657117066,
          36.71912890839385,
          35.247795041945544,
          37.16883353771413,
          36.82067802980664,
          39.08320119025733,
          38.62971836082458,
          38.508579728885934,
          39.54142833688229,
          42.32221962991674,
          40.71645014974885,
          40.540932954550044,
          43.44664573512463,
          43.00268476278249,
          42.18086499862114,
          42.199324042418866,
          44.39355681358861,
          58.430300742644064,
          44.82512688597499,
          45.04716541200058,
          46.49666958447794,
          46.59348913175974,
          46.94741114453271,
          46.75949147349464,
          47.37800340267852,
          49.38962940347718,
          44.976461261545,
          47.48912404601479,
          51.747675532014334,
          42.97743629907059,
          51.32602805134415,
          50.96232953832282,
          48.81188866572026,
          50.8896369849705,
          53.961309873131526,
          54.43332987824895,
          53.789293187935854,
          55.34610755565525,
          54.09966001476526,
          53.95789319448992,
          58.69012572617546,
          59.263218303369136,
          57.54595163907388,
          57.23533563886263,
          60.18646012537867,
          56.58594874409083,
          61.100486376285765,
          58.51297075797606,
          59.95540973224862,
          61.51281825157891,
          63.2348669889279
         ]
        },
        {
         "fill": "tonexty",
         "fillcolor": "rgba(0, 114, 178, 0.2)",
         "line": {
          "color": "#0072B2",
          "width": 2
         },
         "mode": "lines",
         "name": "Predicted",
         "type": "scatter",
         "x": [
          "2014-01-01T00:00:00",
          "2014-02-03T00:00:00",
          "2014-03-03T00:00:00",
          "2014-04-01T00:00:00",
          "2014-05-01T00:00:00",
          "2014-06-02T00:00:00",
          "2014-07-01T00:00:00",
          "2014-08-01T00:00:00",
          "2014-09-01T00:00:00",
          "2014-10-01T00:00:00",
          "2014-11-03T00:00:00",
          "2014-12-01T00:00:00",
          "2015-01-01T00:00:00",
          "2015-02-02T00:00:00",
          "2015-03-02T00:00:00",
          "2015-04-01T00:00:00",
          "2015-05-01T00:00:00",
          "2015-06-01T00:00:00",
          "2015-07-01T00:00:00",
          "2015-08-03T00:00:00",
          "2015-09-01T00:00:00",
          "2015-10-01T00:00:00",
          "2015-11-02T00:00:00",
          "2015-12-01T00:00:00",
          "2016-01-01T00:00:00",
          "2016-02-01T00:00:00",
          "2016-03-01T00:00:00",
          "2016-04-01T00:00:00",
          "2016-05-02T00:00:00",
          "2016-06-01T00:00:00",
          "2016-07-01T00:00:00",
          "2016-08-01T00:00:00",
          "2016-09-01T00:00:00",
          "2016-10-03T00:00:00",
          "2016-11-01T00:00:00",
          "2016-12-01T00:00:00",
          "2017-01-02T00:00:00",
          "2017-02-01T00:00:00",
          "2017-03-01T00:00:00",
          "2017-04-03T00:00:00",
          "2017-05-01T00:00:00",
          "2017-06-01T00:00:00",
          "2017-07-03T00:00:00",
          "2017-08-01T00:00:00",
          "2017-09-01T00:00:00",
          "2017-10-02T00:00:00",
          "2017-11-01T00:00:00",
          "2017-12-01T00:00:00",
          "2018-01-01T00:00:00",
          "2018-02-01T00:00:00",
          "2018-03-01T00:00:00",
          "2018-04-02T00:00:00",
          "2018-05-01T00:00:00",
          "2018-06-01T00:00:00",
          "2018-07-02T00:00:00",
          "2018-08-01T00:00:00",
          "2018-09-03T00:00:00",
          "2018-10-01T00:00:00",
          "2018-11-01T00:00:00",
          "2018-12-03T00:00:00",
          "2019-01-01T00:00:00",
          "2019-02-01T00:00:00",
          "2019-03-01T00:00:00",
          "2019-04-01T00:00:00",
          "2019-05-01T00:00:00",
          "2019-06-03T00:00:00",
          "2019-07-01T00:00:00",
          "2019-08-01T00:00:00",
          "2019-09-02T00:00:00",
          "2019-10-01T00:00:00",
          "2019-11-01T00:00:00",
          "2019-12-02T00:00:00",
          "2020-01-01T00:00:00",
          "2020-02-03T00:00:00",
          "2020-03-02T00:00:00",
          "2020-04-01T00:00:00",
          "2020-05-01T00:00:00",
          "2020-06-01T00:00:00",
          "2020-07-01T00:00:00",
          "2020-08-03T00:00:00",
          "2020-09-01T00:00:00",
          "2020-10-01T00:00:00",
          "2020-11-02T00:00:00",
          "2020-12-01T00:00:00",
          "2021-01-01T00:00:00",
          "2021-02-01T00:00:00",
          "2021-03-01T00:00:00",
          "2021-04-01T00:00:00",
          "2021-05-03T00:00:00",
          "2021-06-01T00:00:00",
          "2021-07-01T00:00:00",
          "2021-08-02T00:00:00",
          "2021-09-01T00:00:00",
          "2021-10-01T00:00:00",
          "2021-11-01T00:00:00",
          "2021-12-01T00:00:00",
          "2022-01-03T00:00:00",
          "2022-02-01T00:00:00",
          "2022-03-01T00:00:00",
          "2022-04-01T00:00:00",
          "2022-05-02T00:00:00",
          "2022-06-01T00:00:00",
          "2022-07-01T00:00:00",
          "2022-08-01T00:00:00",
          "2022-09-01T00:00:00",
          "2022-10-03T00:00:00",
          "2022-11-01T00:00:00",
          "2022-12-01T00:00:00",
          "2023-01-02T00:00:00",
          "2023-02-01T00:00:00",
          "2023-03-01T00:00:00",
          "2023-04-03T00:00:00",
          "2023-05-01T00:00:00",
          "2023-06-01T00:00:00",
          "2023-07-03T00:00:00",
          "2023-08-01T00:00:00",
          "2023-09-01T00:00:00",
          "2023-10-02T00:00:00",
          "2023-11-01T00:00:00",
          "2023-12-01T00:00:00",
          "2023-12-31T00:00:00",
          "2024-01-31T00:00:00",
          "2024-02-29T00:00:00",
          "2024-03-31T00:00:00",
          "2024-04-30T00:00:00",
          "2024-05-31T00:00:00",
          "2024-06-30T00:00:00",
          "2024-07-31T00:00:00",
          "2024-08-31T00:00:00",
          "2024-09-30T00:00:00"
         ],
         "y": [
          10.2212898969751,
          10.285541984319131,
          10.335744846792675,
          11.147650187063899,
          9.148114165150641,
          9.329212230084753,
          10.527785630209841,
          11.514237184372544,
          10.423280010778896,
          12.618941614492135,
          13.61209819974131,
          14.49992550521389,
          12.907718809442002,
          13.660336592939379,
          13.356527596193688,
          15.25653414804784,
          12.277484356599622,
          15.558256615363723,
          13.831819460002572,
          17.689813689224078,
          16.17188617138821,
          16.773123105507047,
          15.493757671357832,
          18.856683546981984,
          15.580534235286141,
          17.248321716763925,
          16.845137071036838,
          17.200972935422122,
          18.9068121972238,
          17.53794527208779,
          18.166125412155793,
          19.408010164993904,
          20.356151421533188,
          14.145786663758503,
          18.767158635805362,
          20.082737787551604,
          14.238804729657456,
          20.861028310860277,
          20.43949543131796,
          17.06981280299036,
          20.42916755724051,
          21.79014076282185,
          23.26162651948767,
          22.7998530950257,
          23.937171539610446,
          20.726613672334892,
          22.284270187694037,
          24.787129188228793,
          24.940171089736154,
          24.855967776002522,
          24.44244759624197,
          23.939779323329077,
          24.20763159959699,
          26.61639800639534,
          26.76906450207988,
          26.94215535697713,
          27.94236227852055,
          28.318757332924175,
          26.81805580926712,
          23.93451134216953,
          29.16571578455649,
          30.1020450203809,
          29.753532742913354,
          32.161270708657725,
          29.41543622512095,
          28.689305011503706,
          31.47455973777664,
          32.63187841269958,
          32.82893754402614,
          35.23969932404587,
          32.92144460420388,
          34.67605881501818,
          34.88865635361129,
          36.934030449092496,
          37.092482838567584,
          37.34149369050785,
          37.58002341675777,
          38.23494159695811,
          39.13679824580967,
          43.63131536282211,
          41.87655036589634,
          40.4099297757243,
          42.17842059261378,
          42.403551330536004,
          44.45447779426951,
          43.718255602791736,
          43.538974090585945,
          44.79357945668264,
          47.534150454170835,
          45.67556264143884,
          45.802263889373734,
          48.69059356995302,
          48.54061682700976,
          47.8331099483227,
          47.306739122373116,
          49.98999003468345,
          63.88321575432393,
          50.3811195517568,
          50.08341187235782,
          51.88296269922838,
          51.85958929884591,
          52.63788906942237,
          51.92277231959108,
          53.13394804438204,
          54.63178659959438,
          50.13992791521229,
          53.216791472235506,
          57.00403470121832,
          48.14475335109415,
          56.60952275788912,
          56.246319525689,
          54.29735780011424,
          55.876217713654576,
          59.381714138321186,
          59.68237965966575,
          58.979944869960335,
          60.66226702510621,
          59.16435550900529,
          59.10388402010899,
          64.00673856409463,
          64.32687113806456,
          63.0367616522529,
          62.41848593824244,
          65.38959275220954,
          61.65103033936516,
          66.12286357026383,
          63.81185006334068,
          64.82829528511252,
          66.70638956517674,
          68.28262052667718
         ]
        },
        {
         "fill": "tonexty",
         "fillcolor": "rgba(0, 114, 178, 0.2)",
         "hoverinfo": "skip",
         "line": {
          "width": 0
         },
         "mode": "lines",
         "type": "scatter",
         "x": [
          "2014-01-01T00:00:00",
          "2014-02-03T00:00:00",
          "2014-03-03T00:00:00",
          "2014-04-01T00:00:00",
          "2014-05-01T00:00:00",
          "2014-06-02T00:00:00",
          "2014-07-01T00:00:00",
          "2014-08-01T00:00:00",
          "2014-09-01T00:00:00",
          "2014-10-01T00:00:00",
          "2014-11-03T00:00:00",
          "2014-12-01T00:00:00",
          "2015-01-01T00:00:00",
          "2015-02-02T00:00:00",
          "2015-03-02T00:00:00",
          "2015-04-01T00:00:00",
          "2015-05-01T00:00:00",
          "2015-06-01T00:00:00",
          "2015-07-01T00:00:00",
          "2015-08-03T00:00:00",
          "2015-09-01T00:00:00",
          "2015-10-01T00:00:00",
          "2015-11-02T00:00:00",
          "2015-12-01T00:00:00",
          "2016-01-01T00:00:00",
          "2016-02-01T00:00:00",
          "2016-03-01T00:00:00",
          "2016-04-01T00:00:00",
          "2016-05-02T00:00:00",
          "2016-06-01T00:00:00",
          "2016-07-01T00:00:00",
          "2016-08-01T00:00:00",
          "2016-09-01T00:00:00",
          "2016-10-03T00:00:00",
          "2016-11-01T00:00:00",
          "2016-12-01T00:00:00",
          "2017-01-02T00:00:00",
          "2017-02-01T00:00:00",
          "2017-03-01T00:00:00",
          "2017-04-03T00:00:00",
          "2017-05-01T00:00:00",
          "2017-06-01T00:00:00",
          "2017-07-03T00:00:00",
          "2017-08-01T00:00:00",
          "2017-09-01T00:00:00",
          "2017-10-02T00:00:00",
          "2017-11-01T00:00:00",
          "2017-12-01T00:00:00",
          "2018-01-01T00:00:00",
          "2018-02-01T00:00:00",
          "2018-03-01T00:00:00",
          "2018-04-02T00:00:00",
          "2018-05-01T00:00:00",
          "2018-06-01T00:00:00",
          "2018-07-02T00:00:00",
          "2018-08-01T00:00:00",
          "2018-09-03T00:00:00",
          "2018-10-01T00:00:00",
          "2018-11-01T00:00:00",
          "2018-12-03T00:00:00",
          "2019-01-01T00:00:00",
          "2019-02-01T00:00:00",
          "2019-03-01T00:00:00",
          "2019-04-01T00:00:00",
          "2019-05-01T00:00:00",
          "2019-06-03T00:00:00",
          "2019-07-01T00:00:00",
          "2019-08-01T00:00:00",
          "2019-09-02T00:00:00",
          "2019-10-01T00:00:00",
          "2019-11-01T00:00:00",
          "2019-12-02T00:00:00",
          "2020-01-01T00:00:00",
          "2020-02-03T00:00:00",
          "2020-03-02T00:00:00",
          "2020-04-01T00:00:00",
          "2020-05-01T00:00:00",
          "2020-06-01T00:00:00",
          "2020-07-01T00:00:00",
          "2020-08-03T00:00:00",
          "2020-09-01T00:00:00",
          "2020-10-01T00:00:00",
          "2020-11-02T00:00:00",
          "2020-12-01T00:00:00",
          "2021-01-01T00:00:00",
          "2021-02-01T00:00:00",
          "2021-03-01T00:00:00",
          "2021-04-01T00:00:00",
          "2021-05-03T00:00:00",
          "2021-06-01T00:00:00",
          "2021-07-01T00:00:00",
          "2021-08-02T00:00:00",
          "2021-09-01T00:00:00",
          "2021-10-01T00:00:00",
          "2021-11-01T00:00:00",
          "2021-12-01T00:00:00",
          "2022-01-03T00:00:00",
          "2022-02-01T00:00:00",
          "2022-03-01T00:00:00",
          "2022-04-01T00:00:00",
          "2022-05-02T00:00:00",
          "2022-06-01T00:00:00",
          "2022-07-01T00:00:00",
          "2022-08-01T00:00:00",
          "2022-09-01T00:00:00",
          "2022-10-03T00:00:00",
          "2022-11-01T00:00:00",
          "2022-12-01T00:00:00",
          "2023-01-02T00:00:00",
          "2023-02-01T00:00:00",
          "2023-03-01T00:00:00",
          "2023-04-03T00:00:00",
          "2023-05-01T00:00:00",
          "2023-06-01T00:00:00",
          "2023-07-03T00:00:00",
          "2023-08-01T00:00:00",
          "2023-09-01T00:00:00",
          "2023-10-02T00:00:00",
          "2023-11-01T00:00:00",
          "2023-12-01T00:00:00",
          "2023-12-31T00:00:00",
          "2024-01-31T00:00:00",
          "2024-02-29T00:00:00",
          "2024-03-31T00:00:00",
          "2024-04-30T00:00:00",
          "2024-05-31T00:00:00",
          "2024-06-30T00:00:00",
          "2024-07-31T00:00:00",
          "2024-08-31T00:00:00",
          "2024-09-30T00:00:00"
         ],
         "y": [
          15.50449449671945,
          15.411942307821171,
          15.458202862985296,
          16.838237792170045,
          14.388066397595235,
          14.471564414758838,
          15.64921306783565,
          17.15973669723215,
          15.614733354959665,
          17.80720033527639,
          18.860202615525367,
          19.852240495880753,
          18.060093756026124,
          19.026318416771158,
          18.49492079647134,
          20.03655323585293,
          17.914231773644175,
          20.48294629732638,
          18.81228808854538,
          22.640637364822833,
          21.261111737806928,
          21.967883873896145,
          20.90853233168097,
          24.166338120632506,
          20.821217001853395,
          22.534843772560485,
          21.641651575448957,
          22.428651724277135,
          24.104975929635753,
          22.87555610617821,
          23.38531546972068,
          24.594565884053466,
          25.425813893429186,
          19.296286000193923,
          23.742304798326796,
          25.24942780248582,
          19.31666812217403,
          26.09915300636674,
          26.08460984974071,
          22.56145931500392,
          25.564134821627558,
          27.31590685057587,
          28.412016422042612,
          27.740405383908886,
          29.163510317018723,
          25.755884579924928,
          27.97882718526052,
          30.121039859564718,
          30.546783564832694,
          30.656301807265912,
          29.89270050976691,
          28.947767903537745,
          29.11640539223286,
          31.293001184744544,
          32.47778974520325,
          32.34817902350115,
          32.51376892162225,
          33.419478918870574,
          32.19749016128545,
          29.163055341708432,
          34.721723234007385,
          35.52544320016606,
          34.96461370569653,
          37.25867067240025,
          34.40346482244102,
          34.024614228361514,
          36.77739564443222,
          37.87150423886284,
          37.745253595242694,
          40.704329648031454,
          38.406680780638574,
          39.78407894788805,
          40.32371809694216,
          41.974356939343686,
          42.2982443206978,
          42.50593807347777,
          42.18193211672475,
          43.08027225549694,
          44.08534113939242,
          48.62100467114439,
          46.884297154003804,
          46.07403479653686,
          47.55908446179929,
          47.40104876935026,
          49.658849797817716,
          48.81107338544526,
          49.22837483706395,
          49.83138697238892,
          52.47457268308813,
          50.71066557603888,
          51.13008847521169,
          53.950605283125746,
          53.76553931813455,
          52.99769361936571,
          52.20506685976377,
          55.54298147230332,
          69.76552219656237,
          55.23999866069193,
          55.26316520430516,
          57.34812930498533,
          57.01376816512746,
          57.87601828253923,
          57.218290529707645,
          57.996460375687946,
          59.9810354643524,
          55.20595680323287,
          58.24631127983622,
          61.98626266814628,
          53.17088281344834,
          61.91490124206285,
          61.38865569265239,
          58.849686728602755,
          61.26807473296207,
          64.41037436205646,
          64.86200733897965,
          64.24761980054251,
          66.17710691917853,
          64.45675648208392,
          64.79805787369627,
          69.12933329649184,
          69.43274336333053,
          68.31532086839006,
          67.74977583178553,
          70.66898254187934,
          67.04570346608898,
          71.31648427478218,
          69.3753636919514,
          70.08090957266198,
          71.73348159821495,
          73.46113509499828
         ]
        },
        {
         "marker": {
          "color": "red"
         },
         "mode": "markers",
         "name": "Out-of-Sample Prices",
         "type": "scatter",
         "x": [
          "2024-01-01T00:00:00",
          "2024-02-01T00:00:00",
          "2024-03-01T00:00:00",
          "2024-04-01T00:00:00",
          "2024-05-01T00:00:00",
          "2024-06-03T00:00:00",
          "2024-07-01T00:00:00",
          "2024-08-01T00:00:00",
          "2024-09-02T00:00:00",
          "2024-10-01T00:00:00"
         ],
         "y": [
          66.1763916015625,
          70.64736938476562,
          74.6393051147461,
          74.89878845214844,
          69.68930053710938,
          76.90473175048828,
          83.62000274658203,
          77.68000030517578,
          77.5999984741211,
          80.80999755859375
         ]
        }
       ],
       "layout": {
        "height": 600,
        "showlegend": false,
        "template": {
         "data": {
          "bar": [
           {
            "error_x": {
             "color": "#2a3f5f"
            },
            "error_y": {
             "color": "#2a3f5f"
            },
            "marker": {
             "line": {
              "color": "#E5ECF6",
              "width": 0.5
             },
             "pattern": {
              "fillmode": "overlay",
              "size": 10,
              "solidity": 0.2
             }
            },
            "type": "bar"
           }
          ],
          "barpolar": [
           {
            "marker": {
             "line": {
              "color": "#E5ECF6",
              "width": 0.5
             },
             "pattern": {
              "fillmode": "overlay",
              "size": 10,
              "solidity": 0.2
             }
            },
            "type": "barpolar"
           }
          ],
          "carpet": [
           {
            "aaxis": {
             "endlinecolor": "#2a3f5f",
             "gridcolor": "white",
             "linecolor": "white",
             "minorgridcolor": "white",
             "startlinecolor": "#2a3f5f"
            },
            "baxis": {
             "endlinecolor": "#2a3f5f",
             "gridcolor": "white",
             "linecolor": "white",
             "minorgridcolor": "white",
             "startlinecolor": "#2a3f5f"
            },
            "type": "carpet"
           }
          ],
          "choropleth": [
           {
            "colorbar": {
             "outlinewidth": 0,
             "ticks": ""
            },
            "type": "choropleth"
           }
          ],
          "contour": [
           {
            "colorbar": {
             "outlinewidth": 0,
             "ticks": ""
            },
            "colorscale": [
             [
              0,
              "#0d0887"
             ],
             [
              0.1111111111111111,
              "#46039f"
             ],
             [
              0.2222222222222222,
              "#7201a8"
             ],
             [
              0.3333333333333333,
              "#9c179e"
             ],
             [
              0.4444444444444444,
              "#bd3786"
             ],
             [
              0.5555555555555556,
              "#d8576b"
             ],
             [
              0.6666666666666666,
              "#ed7953"
             ],
             [
              0.7777777777777778,
              "#fb9f3a"
             ],
             [
              0.8888888888888888,
              "#fdca26"
             ],
             [
              1,
              "#f0f921"
             ]
            ],
            "type": "contour"
           }
          ],
          "contourcarpet": [
           {
            "colorbar": {
             "outlinewidth": 0,
             "ticks": ""
            },
            "type": "contourcarpet"
           }
          ],
          "heatmap": [
           {
            "colorbar": {
             "outlinewidth": 0,
             "ticks": ""
            },
            "colorscale": [
             [
              0,
              "#0d0887"
             ],
             [
              0.1111111111111111,
              "#46039f"
             ],
             [
              0.2222222222222222,
              "#7201a8"
             ],
             [
              0.3333333333333333,
              "#9c179e"
             ],
             [
              0.4444444444444444,
              "#bd3786"
             ],
             [
              0.5555555555555556,
              "#d8576b"
             ],
             [
              0.6666666666666666,
              "#ed7953"
             ],
             [
              0.7777777777777778,
              "#fb9f3a"
             ],
             [
              0.8888888888888888,
              "#fdca26"
             ],
             [
              1,
              "#f0f921"
             ]
            ],
            "type": "heatmap"
           }
          ],
          "heatmapgl": [
           {
            "colorbar": {
             "outlinewidth": 0,
             "ticks": ""
            },
            "colorscale": [
             [
              0,
              "#0d0887"
             ],
             [
              0.1111111111111111,
              "#46039f"
             ],
             [
              0.2222222222222222,
              "#7201a8"
             ],
             [
              0.3333333333333333,
              "#9c179e"
             ],
             [
              0.4444444444444444,
              "#bd3786"
             ],
             [
              0.5555555555555556,
              "#d8576b"
             ],
             [
              0.6666666666666666,
              "#ed7953"
             ],
             [
              0.7777777777777778,
              "#fb9f3a"
             ],
             [
              0.8888888888888888,
              "#fdca26"
             ],
             [
              1,
              "#f0f921"
             ]
            ],
            "type": "heatmapgl"
           }
          ],
          "histogram": [
           {
            "marker": {
             "pattern": {
              "fillmode": "overlay",
              "size": 10,
              "solidity": 0.2
             }
            },
            "type": "histogram"
           }
          ],
          "histogram2d": [
           {
            "colorbar": {
             "outlinewidth": 0,
             "ticks": ""
            },
            "colorscale": [
             [
              0,
              "#0d0887"
             ],
             [
              0.1111111111111111,
              "#46039f"
             ],
             [
              0.2222222222222222,
              "#7201a8"
             ],
             [
              0.3333333333333333,
              "#9c179e"
             ],
             [
              0.4444444444444444,
              "#bd3786"
             ],
             [
              0.5555555555555556,
              "#d8576b"
             ],
             [
              0.6666666666666666,
              "#ed7953"
             ],
             [
              0.7777777777777778,
              "#fb9f3a"
             ],
             [
              0.8888888888888888,
              "#fdca26"
             ],
             [
              1,
              "#f0f921"
             ]
            ],
            "type": "histogram2d"
           }
          ],
          "histogram2dcontour": [
           {
            "colorbar": {
             "outlinewidth": 0,
             "ticks": ""
            },
            "colorscale": [
             [
              0,
              "#0d0887"
             ],
             [
              0.1111111111111111,
              "#46039f"
             ],
             [
              0.2222222222222222,
              "#7201a8"
             ],
             [
              0.3333333333333333,
              "#9c179e"
             ],
             [
              0.4444444444444444,
              "#bd3786"
             ],
             [
              0.5555555555555556,
              "#d8576b"
             ],
             [
              0.6666666666666666,
              "#ed7953"
             ],
             [
              0.7777777777777778,
              "#fb9f3a"
             ],
             [
              0.8888888888888888,
              "#fdca26"
             ],
             [
              1,
              "#f0f921"
             ]
            ],
            "type": "histogram2dcontour"
           }
          ],
          "mesh3d": [
           {
            "colorbar": {
             "outlinewidth": 0,
             "ticks": ""
            },
            "type": "mesh3d"
           }
          ],
          "parcoords": [
           {
            "line": {
             "colorbar": {
              "outlinewidth": 0,
              "ticks": ""
             }
            },
            "type": "parcoords"
           }
          ],
          "pie": [
           {
            "automargin": true,
            "type": "pie"
           }
          ],
          "scatter": [
           {
            "fillpattern": {
             "fillmode": "overlay",
             "size": 10,
             "solidity": 0.2
            },
            "type": "scatter"
           }
          ],
          "scatter3d": [
           {
            "line": {
             "colorbar": {
              "outlinewidth": 0,
              "ticks": ""
             }
            },
            "marker": {
             "colorbar": {
              "outlinewidth": 0,
              "ticks": ""
             }
            },
            "type": "scatter3d"
           }
          ],
          "scattercarpet": [
           {
            "marker": {
             "colorbar": {
              "outlinewidth": 0,
              "ticks": ""
             }
            },
            "type": "scattercarpet"
           }
          ],
          "scattergeo": [
           {
            "marker": {
             "colorbar": {
              "outlinewidth": 0,
              "ticks": ""
             }
            },
            "type": "scattergeo"
           }
          ],
          "scattergl": [
           {
            "marker": {
             "colorbar": {
              "outlinewidth": 0,
              "ticks": ""
             }
            },
            "type": "scattergl"
           }
          ],
          "scattermapbox": [
           {
            "marker": {
             "colorbar": {
              "outlinewidth": 0,
              "ticks": ""
             }
            },
            "type": "scattermapbox"
           }
          ],
          "scatterpolar": [
           {
            "marker": {
             "colorbar": {
              "outlinewidth": 0,
              "ticks": ""
             }
            },
            "type": "scatterpolar"
           }
          ],
          "scatterpolargl": [
           {
            "marker": {
             "colorbar": {
              "outlinewidth": 0,
              "ticks": ""
             }
            },
            "type": "scatterpolargl"
           }
          ],
          "scatterternary": [
           {
            "marker": {
             "colorbar": {
              "outlinewidth": 0,
              "ticks": ""
             }
            },
            "type": "scatterternary"
           }
          ],
          "surface": [
           {
            "colorbar": {
             "outlinewidth": 0,
             "ticks": ""
            },
            "colorscale": [
             [
              0,
              "#0d0887"
             ],
             [
              0.1111111111111111,
              "#46039f"
             ],
             [
              0.2222222222222222,
              "#7201a8"
             ],
             [
              0.3333333333333333,
              "#9c179e"
             ],
             [
              0.4444444444444444,
              "#bd3786"
             ],
             [
              0.5555555555555556,
              "#d8576b"
             ],
             [
              0.6666666666666666,
              "#ed7953"
             ],
             [
              0.7777777777777778,
              "#fb9f3a"
             ],
             [
              0.8888888888888888,
              "#fdca26"
             ],
             [
              1,
              "#f0f921"
             ]
            ],
            "type": "surface"
           }
          ],
          "table": [
           {
            "cells": {
             "fill": {
              "color": "#EBF0F8"
             },
             "line": {
              "color": "white"
             }
            },
            "header": {
             "fill": {
              "color": "#C8D4E3"
             },
             "line": {
              "color": "white"
             }
            },
            "type": "table"
           }
          ]
         },
         "layout": {
          "annotationdefaults": {
           "arrowcolor": "#2a3f5f",
           "arrowhead": 0,
           "arrowwidth": 1
          },
          "autotypenumbers": "strict",
          "coloraxis": {
           "colorbar": {
            "outlinewidth": 0,
            "ticks": ""
           }
          },
          "colorscale": {
           "diverging": [
            [
             0,
             "#8e0152"
            ],
            [
             0.1,
             "#c51b7d"
            ],
            [
             0.2,
             "#de77ae"
            ],
            [
             0.3,
             "#f1b6da"
            ],
            [
             0.4,
             "#fde0ef"
            ],
            [
             0.5,
             "#f7f7f7"
            ],
            [
             0.6,
             "#e6f5d0"
            ],
            [
             0.7,
             "#b8e186"
            ],
            [
             0.8,
             "#7fbc41"
            ],
            [
             0.9,
             "#4d9221"
            ],
            [
             1,
             "#276419"
            ]
           ],
           "sequential": [
            [
             0,
             "#0d0887"
            ],
            [
             0.1111111111111111,
             "#46039f"
            ],
            [
             0.2222222222222222,
             "#7201a8"
            ],
            [
             0.3333333333333333,
             "#9c179e"
            ],
            [
             0.4444444444444444,
             "#bd3786"
            ],
            [
             0.5555555555555556,
             "#d8576b"
            ],
            [
             0.6666666666666666,
             "#ed7953"
            ],
            [
             0.7777777777777778,
             "#fb9f3a"
            ],
            [
             0.8888888888888888,
             "#fdca26"
            ],
            [
             1,
             "#f0f921"
            ]
           ],
           "sequentialminus": [
            [
             0,
             "#0d0887"
            ],
            [
             0.1111111111111111,
             "#46039f"
            ],
            [
             0.2222222222222222,
             "#7201a8"
            ],
            [
             0.3333333333333333,
             "#9c179e"
            ],
            [
             0.4444444444444444,
             "#bd3786"
            ],
            [
             0.5555555555555556,
             "#d8576b"
            ],
            [
             0.6666666666666666,
             "#ed7953"
            ],
            [
             0.7777777777777778,
             "#fb9f3a"
            ],
            [
             0.8888888888888888,
             "#fdca26"
            ],
            [
             1,
             "#f0f921"
            ]
           ]
          },
          "colorway": [
           "#636efa",
           "#EF553B",
           "#00cc96",
           "#ab63fa",
           "#FFA15A",
           "#19d3f3",
           "#FF6692",
           "#B6E880",
           "#FF97FF",
           "#FECB52"
          ],
          "font": {
           "color": "#2a3f5f"
          },
          "geo": {
           "bgcolor": "white",
           "lakecolor": "white",
           "landcolor": "#E5ECF6",
           "showlakes": true,
           "showland": true,
           "subunitcolor": "white"
          },
          "hoverlabel": {
           "align": "left"
          },
          "hovermode": "closest",
          "mapbox": {
           "style": "light"
          },
          "paper_bgcolor": "white",
          "plot_bgcolor": "#E5ECF6",
          "polar": {
           "angularaxis": {
            "gridcolor": "white",
            "linecolor": "white",
            "ticks": ""
           },
           "bgcolor": "#E5ECF6",
           "radialaxis": {
            "gridcolor": "white",
            "linecolor": "white",
            "ticks": ""
           }
          },
          "scene": {
           "xaxis": {
            "backgroundcolor": "#E5ECF6",
            "gridcolor": "white",
            "gridwidth": 2,
            "linecolor": "white",
            "showbackground": true,
            "ticks": "",
            "zerolinecolor": "white"
           },
           "yaxis": {
            "backgroundcolor": "#E5ECF6",
            "gridcolor": "white",
            "gridwidth": 2,
            "linecolor": "white",
            "showbackground": true,
            "ticks": "",
            "zerolinecolor": "white"
           },
           "zaxis": {
            "backgroundcolor": "#E5ECF6",
            "gridcolor": "white",
            "gridwidth": 2,
            "linecolor": "white",
            "showbackground": true,
            "ticks": "",
            "zerolinecolor": "white"
           }
          },
          "shapedefaults": {
           "line": {
            "color": "#2a3f5f"
           }
          },
          "ternary": {
           "aaxis": {
            "gridcolor": "white",
            "linecolor": "white",
            "ticks": ""
           },
           "baxis": {
            "gridcolor": "white",
            "linecolor": "white",
            "ticks": ""
           },
           "bgcolor": "#E5ECF6",
           "caxis": {
            "gridcolor": "white",
            "linecolor": "white",
            "ticks": ""
           }
          },
          "title": {
           "x": 0.05
          },
          "xaxis": {
           "automargin": true,
           "gridcolor": "white",
           "linecolor": "white",
           "ticks": "",
           "title": {
            "standoff": 15
           },
           "zerolinecolor": "white",
           "zerolinewidth": 2
          },
          "yaxis": {
           "automargin": true,
           "gridcolor": "white",
           "linecolor": "white",
           "ticks": "",
           "title": {
            "standoff": 15
           },
           "zerolinecolor": "white",
           "zerolinewidth": 2
          }
         }
        },
        "width": 900,
        "xaxis": {
         "rangeselector": {
          "buttons": [
           {
            "count": 7,
            "label": "1w",
            "step": "day",
            "stepmode": "backward"
           },
           {
            "count": 1,
            "label": "1m",
            "step": "month",
            "stepmode": "backward"
           },
           {
            "count": 6,
            "label": "6m",
            "step": "month",
            "stepmode": "backward"
           },
           {
            "count": 1,
            "label": "1y",
            "step": "year",
            "stepmode": "backward"
           },
           {
            "step": "all"
           }
          ]
         },
         "rangeslider": {
          "visible": true
         },
         "title": {
          "text": "ds"
         },
         "type": "date"
        },
        "yaxis": {
         "title": {
          "text": "y"
         }
        }
       }
      }
     },
     "metadata": {},
     "output_type": "display_data"
    },
    {
     "name": "stdout",
     "output_type": "stream",
     "text": [
      "XLY\n",
      "Out Sample Mean Absolute Percentage Error (MAPE): 0.1379640763637384\n",
      "Out Sample Mean Squared Error (MSE): 11.467837173771866\n",
      "Out Sample Mean Absolute Error (MAE): 10.609112509458743\n"
     ]
    }
   ],
   "source": [
    "### Step 5 Fit Model\n",
    "\n",
    "## 5.2 fixed holidays\n",
    "def fit_model(train, test):\n",
    "    ticker = train['ticker'].unique().item() \n",
    "    model = Prophet(holidays=holidays_df)\n",
    "    model.add_country_holidays(country_name='US')\n",
    "    model.fit(train)\n",
    "\n",
    "    num_periods = len(test)\n",
    "    future = model.make_future_dataframe(periods = num_periods, freq='M')\n",
    "\n",
    "    forecast = model.predict(future) \n",
    "    print(\"Confidence Intervals of Predictions\")\n",
    "    fig = plot_plotly(model, forecast)\n",
    "\n",
    "    fig.add_trace(go.Scatter(\n",
    "        x=test['ds'],\n",
    "        y=test['y'],\n",
    "        mode='markers',\n",
    "        name='Out-of-Sample Prices',\n",
    "        marker=dict(color='red')\n",
    "    ))\n",
    "\n",
    "    display(fig)\n",
    "\n",
    "    # Performance Metric\n",
    "    test_len = len(test)\n",
    "    train_len = len(train)\n",
    "\n",
    "    rmse_out_sample = np.sqrt(mean_squared_error(y_true = test[\"y\"], y_pred = forecast['yhat'].iloc[-test_len:]))\n",
    "    mae_out_sample = mean_absolute_error(y_true = test[\"y\"], y_pred = forecast['yhat'].iloc[-test_len:])\n",
    "    \n",
    "    rmse_in_sample = np.sqrt(mean_squared_error(y_true = train[\"y\"], y_pred = forecast['yhat'].iloc[:train_len]))\n",
    "    mae_in_sample = mean_absolute_error(y_true = train[\"y\"], y_pred = forecast['yhat'].iloc[:train_len])\n",
    "    \n",
    "    mape_out_sample = mean_absolute_percentage_error(y_true = test[\"y\"], y_pred = forecast['yhat'].iloc[-test_len:])\n",
    "    \n",
    "    print(ticker)\n",
    "    # print(\"In Sample Mean Squared Error (MSE):\", rmse_in_sample)\n",
    "    # print(\"In Sample Mean Absolute Error (MAE):\", mae_in_sample)\n",
    "    print(\"Out Sample Mean Absolute Percentage Error (MAPE):\", mape_out_sample)\n",
    "    print(\"Out Sample Mean Squared Error (MSE):\", rmse_out_sample)\n",
    "    print(\"Out Sample Mean Absolute Error (MAE):\", mae_out_sample)\n",
    "    return (ticker, model, forecast, rmse_out_sample, mae_out_sample, mape_out_sample)\n",
    "    \n",
    "(ticker, model, forecast, rmse_out_sample, mae_out_sample, mape_out_sample) = fit_model(train, test)"
   ]
  },
  {
   "cell_type": "code",
   "execution_count": 48,
   "metadata": {},
   "outputs": [
    {
     "data": {
      "application/vnd.plotly.v1+json": {
       "config": {
        "plotlyServerURL": "https://plot.ly"
       },
       "data": [
        {
         "line": {
          "color": "#0072B2",
          "width": 2
         },
         "mode": "lines",
         "name": "trend",
         "type": "scatter",
         "x": [
          "2014-01-01T00:00:00",
          "2014-02-03T00:00:00",
          "2014-03-03T00:00:00",
          "2014-04-01T00:00:00",
          "2014-05-01T00:00:00",
          "2014-06-02T00:00:00",
          "2014-07-01T00:00:00",
          "2014-08-01T00:00:00",
          "2014-09-01T00:00:00",
          "2014-10-01T00:00:00",
          "2014-11-03T00:00:00",
          "2014-12-01T00:00:00",
          "2015-01-01T00:00:00",
          "2015-02-02T00:00:00",
          "2015-03-02T00:00:00",
          "2015-04-01T00:00:00",
          "2015-05-01T00:00:00",
          "2015-06-01T00:00:00",
          "2015-07-01T00:00:00",
          "2015-08-03T00:00:00",
          "2015-09-01T00:00:00",
          "2015-10-01T00:00:00",
          "2015-11-02T00:00:00",
          "2015-12-01T00:00:00",
          "2016-01-01T00:00:00",
          "2016-02-01T00:00:00",
          "2016-03-01T00:00:00",
          "2016-04-01T00:00:00",
          "2016-05-02T00:00:00",
          "2016-06-01T00:00:00",
          "2016-07-01T00:00:00",
          "2016-08-01T00:00:00",
          "2016-09-01T00:00:00",
          "2016-10-03T00:00:00",
          "2016-11-01T00:00:00",
          "2016-12-01T00:00:00",
          "2017-01-02T00:00:00",
          "2017-02-01T00:00:00",
          "2017-03-01T00:00:00",
          "2017-04-03T00:00:00",
          "2017-05-01T00:00:00",
          "2017-06-01T00:00:00",
          "2017-07-03T00:00:00",
          "2017-08-01T00:00:00",
          "2017-09-01T00:00:00",
          "2017-10-02T00:00:00",
          "2017-11-01T00:00:00",
          "2017-12-01T00:00:00",
          "2018-01-01T00:00:00",
          "2018-02-01T00:00:00",
          "2018-03-01T00:00:00",
          "2018-04-02T00:00:00",
          "2018-05-01T00:00:00",
          "2018-06-01T00:00:00",
          "2018-07-02T00:00:00",
          "2018-08-01T00:00:00",
          "2018-09-03T00:00:00",
          "2018-10-01T00:00:00",
          "2018-11-01T00:00:00",
          "2018-12-03T00:00:00",
          "2019-01-01T00:00:00",
          "2019-02-01T00:00:00",
          "2019-03-01T00:00:00",
          "2019-04-01T00:00:00",
          "2019-05-01T00:00:00",
          "2019-06-03T00:00:00",
          "2019-07-01T00:00:00",
          "2019-08-01T00:00:00",
          "2019-09-02T00:00:00",
          "2019-10-01T00:00:00",
          "2019-11-01T00:00:00",
          "2019-12-02T00:00:00",
          "2020-01-01T00:00:00",
          "2020-02-03T00:00:00",
          "2020-03-02T00:00:00",
          "2020-04-01T00:00:00",
          "2020-05-01T00:00:00",
          "2020-06-01T00:00:00",
          "2020-07-01T00:00:00",
          "2020-08-03T00:00:00",
          "2020-09-01T00:00:00",
          "2020-10-01T00:00:00",
          "2020-11-02T00:00:00",
          "2020-12-01T00:00:00",
          "2021-01-01T00:00:00",
          "2021-02-01T00:00:00",
          "2021-03-01T00:00:00",
          "2021-04-01T00:00:00",
          "2021-05-03T00:00:00",
          "2021-06-01T00:00:00",
          "2021-07-01T00:00:00",
          "2021-08-02T00:00:00",
          "2021-09-01T00:00:00",
          "2021-10-01T00:00:00",
          "2021-11-01T00:00:00",
          "2021-12-01T00:00:00",
          "2022-01-03T00:00:00",
          "2022-02-01T00:00:00",
          "2022-03-01T00:00:00",
          "2022-04-01T00:00:00",
          "2022-05-02T00:00:00",
          "2022-06-01T00:00:00",
          "2022-07-01T00:00:00",
          "2022-08-01T00:00:00",
          "2022-09-01T00:00:00",
          "2022-10-03T00:00:00",
          "2022-11-01T00:00:00",
          "2022-12-01T00:00:00",
          "2023-01-02T00:00:00",
          "2023-02-01T00:00:00",
          "2023-03-01T00:00:00",
          "2023-04-03T00:00:00",
          "2023-05-01T00:00:00",
          "2023-06-01T00:00:00",
          "2023-07-03T00:00:00",
          "2023-08-01T00:00:00",
          "2023-09-01T00:00:00",
          "2023-10-02T00:00:00",
          "2023-11-01T00:00:00",
          "2023-12-01T00:00:00",
          "2023-12-31T00:00:00",
          "2024-01-31T00:00:00",
          "2024-02-29T00:00:00",
          "2024-03-31T00:00:00",
          "2024-04-30T00:00:00",
          "2024-05-31T00:00:00",
          "2024-06-30T00:00:00",
          "2024-07-31T00:00:00",
          "2024-08-31T00:00:00",
          "2024-09-30T00:00:00"
         ],
         "xaxis": "x",
         "y": [
          9.956578337516785,
          10.279080437421063,
          10.552718582794391,
          10.836129519073909,
          11.129313246259617,
          11.44204255412693,
          11.725453489381684,
          12.028410006378145,
          12.331366523374605,
          12.624550253752927,
          12.947052357169083,
          13.220690505522185,
          13.52364702772523,
          13.836376340967083,
          14.110014490053706,
          14.403198221217943,
          14.696381951905387,
          14.99933847361575,
          15.292522204303195,
          15.615024308059384,
          15.898435248056138,
          16.191618979087263,
          16.504348292187128,
          16.78775923218388,
          17.090715767502076,
          17.39367230282027,
          17.677083255214708,
          17.980039790532906,
          18.28376163556291,
          18.57768600172098,
          18.87161036787905,
          19.183268216638407,
          19.494926065397763,
          19.81663739314935,
          20.10818828392423,
          20.41623411314759,
          20.74481633098583,
          21.052862160209195,
          21.34037160081766,
          21.682818137022682,
          21.973378834408766,
          22.295071035086217,
          22.62714040352745,
          22.945199077349585,
          23.28519283212497,
          23.625186586900355,
          23.954212801199112,
          24.30892430730047,
          24.67545953027187,
          25.041994753243273,
          25.402797067501073,
          25.815142569509987,
          26.18883068070556,
          26.588290385776705,
          27.029424346258068,
          27.456328178981973,
          27.925922394978265,
          28.324365972187238,
          28.81540530860377,
          29.32228462361438,
          29.78164400284275,
          30.27268333925928,
          30.763989108615103,
          31.307934781830483,
          31.834333820426018,
          32.413372762881096,
          32.935262482073455,
          33.51306895689356,
          34.109514350256255,
          34.658195197625,
          35.244716103432964,
          35.83123700924093,
          36.39883788582927,
          37.023198850368004,
          37.552959668764515,
          38.120560545617906,
          38.688161422471296,
          39.27468232658578,
          39.84228320153528,
          40.46664416397973,
          41.01532500976423,
          41.582925882191226,
          42.188366812780004,
          42.737047656126094,
          43.32356855763399,
          43.91008945214291,
          44.439850260086466,
          45.02637115459539,
          45.63181207740389,
          46.1804929136991,
          46.74809377883206,
          47.35353470164056,
          47.88863811952078,
          48.423741537400986,
          48.97668173587721,
          49.51178515375742,
          50.07350975670653,
          50.567146528995146,
          51.043761343618634,
          51.571442031237495,
          52.09912271885636,
          52.60978144881009,
          53.120440178763836,
          53.6481208663827,
          54.17580155400156,
          54.720504199285536,
          55.21414097157415,
          55.72479970152789,
          56.269502346811876,
          56.780161076765616,
          57.256775891389104,
          57.81850049433822,
          58.295115308961705,
          58.82279599658057,
          59.36749864186455,
          59.86113541415316,
          60.38881610177203,
          60.91649678939089,
          61.42715551934463,
          61.93781424929836,
          62.448472979252095,
          62.97615366687096,
          63.469790439159574,
          63.99747112677844,
          64.50812985673218,
          65.03581054435104,
          65.54646927430478,
          66.07414996192364,
          66.6018306495425,
          67.11248937949624
         ],
         "yaxis": "y"
        },
        {
         "line": {
          "color": "rgba(0, 114, 178, 0.2)",
          "width": 0
         },
         "mode": "lines",
         "name": "trend_upper",
         "type": "scatter",
         "x": [
          "2014-01-01T00:00:00",
          "2014-02-03T00:00:00",
          "2014-03-03T00:00:00",
          "2014-04-01T00:00:00",
          "2014-05-01T00:00:00",
          "2014-06-02T00:00:00",
          "2014-07-01T00:00:00",
          "2014-08-01T00:00:00",
          "2014-09-01T00:00:00",
          "2014-10-01T00:00:00",
          "2014-11-03T00:00:00",
          "2014-12-01T00:00:00",
          "2015-01-01T00:00:00",
          "2015-02-02T00:00:00",
          "2015-03-02T00:00:00",
          "2015-04-01T00:00:00",
          "2015-05-01T00:00:00",
          "2015-06-01T00:00:00",
          "2015-07-01T00:00:00",
          "2015-08-03T00:00:00",
          "2015-09-01T00:00:00",
          "2015-10-01T00:00:00",
          "2015-11-02T00:00:00",
          "2015-12-01T00:00:00",
          "2016-01-01T00:00:00",
          "2016-02-01T00:00:00",
          "2016-03-01T00:00:00",
          "2016-04-01T00:00:00",
          "2016-05-02T00:00:00",
          "2016-06-01T00:00:00",
          "2016-07-01T00:00:00",
          "2016-08-01T00:00:00",
          "2016-09-01T00:00:00",
          "2016-10-03T00:00:00",
          "2016-11-01T00:00:00",
          "2016-12-01T00:00:00",
          "2017-01-02T00:00:00",
          "2017-02-01T00:00:00",
          "2017-03-01T00:00:00",
          "2017-04-03T00:00:00",
          "2017-05-01T00:00:00",
          "2017-06-01T00:00:00",
          "2017-07-03T00:00:00",
          "2017-08-01T00:00:00",
          "2017-09-01T00:00:00",
          "2017-10-02T00:00:00",
          "2017-11-01T00:00:00",
          "2017-12-01T00:00:00",
          "2018-01-01T00:00:00",
          "2018-02-01T00:00:00",
          "2018-03-01T00:00:00",
          "2018-04-02T00:00:00",
          "2018-05-01T00:00:00",
          "2018-06-01T00:00:00",
          "2018-07-02T00:00:00",
          "2018-08-01T00:00:00",
          "2018-09-03T00:00:00",
          "2018-10-01T00:00:00",
          "2018-11-01T00:00:00",
          "2018-12-03T00:00:00",
          "2019-01-01T00:00:00",
          "2019-02-01T00:00:00",
          "2019-03-01T00:00:00",
          "2019-04-01T00:00:00",
          "2019-05-01T00:00:00",
          "2019-06-03T00:00:00",
          "2019-07-01T00:00:00",
          "2019-08-01T00:00:00",
          "2019-09-02T00:00:00",
          "2019-10-01T00:00:00",
          "2019-11-01T00:00:00",
          "2019-12-02T00:00:00",
          "2020-01-01T00:00:00",
          "2020-02-03T00:00:00",
          "2020-03-02T00:00:00",
          "2020-04-01T00:00:00",
          "2020-05-01T00:00:00",
          "2020-06-01T00:00:00",
          "2020-07-01T00:00:00",
          "2020-08-03T00:00:00",
          "2020-09-01T00:00:00",
          "2020-10-01T00:00:00",
          "2020-11-02T00:00:00",
          "2020-12-01T00:00:00",
          "2021-01-01T00:00:00",
          "2021-02-01T00:00:00",
          "2021-03-01T00:00:00",
          "2021-04-01T00:00:00",
          "2021-05-03T00:00:00",
          "2021-06-01T00:00:00",
          "2021-07-01T00:00:00",
          "2021-08-02T00:00:00",
          "2021-09-01T00:00:00",
          "2021-10-01T00:00:00",
          "2021-11-01T00:00:00",
          "2021-12-01T00:00:00",
          "2022-01-03T00:00:00",
          "2022-02-01T00:00:00",
          "2022-03-01T00:00:00",
          "2022-04-01T00:00:00",
          "2022-05-02T00:00:00",
          "2022-06-01T00:00:00",
          "2022-07-01T00:00:00",
          "2022-08-01T00:00:00",
          "2022-09-01T00:00:00",
          "2022-10-03T00:00:00",
          "2022-11-01T00:00:00",
          "2022-12-01T00:00:00",
          "2023-01-02T00:00:00",
          "2023-02-01T00:00:00",
          "2023-03-01T00:00:00",
          "2023-04-03T00:00:00",
          "2023-05-01T00:00:00",
          "2023-06-01T00:00:00",
          "2023-07-03T00:00:00",
          "2023-08-01T00:00:00",
          "2023-09-01T00:00:00",
          "2023-10-02T00:00:00",
          "2023-11-01T00:00:00",
          "2023-12-01T00:00:00",
          "2023-12-31T00:00:00",
          "2024-01-31T00:00:00",
          "2024-02-29T00:00:00",
          "2024-03-31T00:00:00",
          "2024-04-30T00:00:00",
          "2024-05-31T00:00:00",
          "2024-06-30T00:00:00",
          "2024-07-31T00:00:00",
          "2024-08-31T00:00:00",
          "2024-09-30T00:00:00"
         ],
         "xaxis": "x",
         "y": [
          9.956578337516785,
          10.279080437421063,
          10.552718582794391,
          10.836129519073909,
          11.129313246259617,
          11.44204255412693,
          11.725453489381684,
          12.028410006378145,
          12.331366523374605,
          12.624550253752927,
          12.947052357169083,
          13.220690505522185,
          13.52364702772523,
          13.836376340967083,
          14.110014490053706,
          14.403198221217943,
          14.696381951905387,
          14.99933847361575,
          15.292522204303195,
          15.615024308059384,
          15.898435248056138,
          16.191618979087263,
          16.504348292187128,
          16.78775923218388,
          17.090715767502076,
          17.39367230282027,
          17.677083255214708,
          17.980039790532906,
          18.28376163556291,
          18.57768600172098,
          18.87161036787905,
          19.183268216638407,
          19.494926065397763,
          19.81663739314935,
          20.10818828392423,
          20.41623411314759,
          20.74481633098583,
          21.052862160209195,
          21.34037160081766,
          21.682818137022682,
          21.973378834408766,
          22.295071035086217,
          22.62714040352745,
          22.945199077349585,
          23.28519283212497,
          23.625186586900355,
          23.954212801199112,
          24.30892430730047,
          24.67545953027187,
          25.041994753243273,
          25.402797067501073,
          25.815142569509987,
          26.18883068070556,
          26.588290385776705,
          27.029424346258068,
          27.456328178981973,
          27.925922394978265,
          28.324365972187238,
          28.81540530860377,
          29.32228462361438,
          29.78164400284275,
          30.27268333925928,
          30.763989108615103,
          31.307934781830483,
          31.834333820426018,
          32.413372762881096,
          32.935262482073455,
          33.51306895689356,
          34.109514350256255,
          34.658195197625,
          35.244716103432964,
          35.83123700924093,
          36.39883788582927,
          37.023198850368004,
          37.552959668764515,
          38.120560545617906,
          38.688161422471296,
          39.27468232658578,
          39.84228320153528,
          40.46664416397973,
          41.01532500976423,
          41.582925882191226,
          42.188366812780004,
          42.737047656126094,
          43.32356855763399,
          43.91008945214291,
          44.439850260086466,
          45.02637115459539,
          45.63181207740389,
          46.1804929136991,
          46.74809377883206,
          47.35353470164056,
          47.88863811952078,
          48.423741537400986,
          48.97668173587721,
          49.51178515375742,
          50.07350975670653,
          50.567146528995146,
          51.043761343618634,
          51.571442031237495,
          52.09912271885636,
          52.60978144881009,
          53.120440178763836,
          53.6481208663827,
          54.17580155400156,
          54.720504199285536,
          55.21414097157415,
          55.72479970152789,
          56.269502346811876,
          56.780161076765616,
          57.256775891389104,
          57.81850049433822,
          58.295115308961705,
          58.82279599658057,
          59.36749864186455,
          59.86113541415316,
          60.38881610177203,
          60.91649678939089,
          61.42715551934463,
          61.93781424929836,
          62.44907652195117,
          62.98321134264561,
          63.48678260729877,
          64.02788151348139,
          64.55567564076718,
          65.10010598037158,
          65.63797851859735,
          66.18718217103321,
          66.74334952545155,
          67.28230997045185
         ],
         "yaxis": "y"
        },
        {
         "fill": "tonexty",
         "fillcolor": "rgba(0, 114, 178, 0.2)",
         "line": {
          "color": "rgba(0, 114, 178, 0.2)",
          "width": 0
         },
         "mode": "lines",
         "name": "trend_lower",
         "type": "scatter",
         "x": [
          "2014-01-01T00:00:00",
          "2014-02-03T00:00:00",
          "2014-03-03T00:00:00",
          "2014-04-01T00:00:00",
          "2014-05-01T00:00:00",
          "2014-06-02T00:00:00",
          "2014-07-01T00:00:00",
          "2014-08-01T00:00:00",
          "2014-09-01T00:00:00",
          "2014-10-01T00:00:00",
          "2014-11-03T00:00:00",
          "2014-12-01T00:00:00",
          "2015-01-01T00:00:00",
          "2015-02-02T00:00:00",
          "2015-03-02T00:00:00",
          "2015-04-01T00:00:00",
          "2015-05-01T00:00:00",
          "2015-06-01T00:00:00",
          "2015-07-01T00:00:00",
          "2015-08-03T00:00:00",
          "2015-09-01T00:00:00",
          "2015-10-01T00:00:00",
          "2015-11-02T00:00:00",
          "2015-12-01T00:00:00",
          "2016-01-01T00:00:00",
          "2016-02-01T00:00:00",
          "2016-03-01T00:00:00",
          "2016-04-01T00:00:00",
          "2016-05-02T00:00:00",
          "2016-06-01T00:00:00",
          "2016-07-01T00:00:00",
          "2016-08-01T00:00:00",
          "2016-09-01T00:00:00",
          "2016-10-03T00:00:00",
          "2016-11-01T00:00:00",
          "2016-12-01T00:00:00",
          "2017-01-02T00:00:00",
          "2017-02-01T00:00:00",
          "2017-03-01T00:00:00",
          "2017-04-03T00:00:00",
          "2017-05-01T00:00:00",
          "2017-06-01T00:00:00",
          "2017-07-03T00:00:00",
          "2017-08-01T00:00:00",
          "2017-09-01T00:00:00",
          "2017-10-02T00:00:00",
          "2017-11-01T00:00:00",
          "2017-12-01T00:00:00",
          "2018-01-01T00:00:00",
          "2018-02-01T00:00:00",
          "2018-03-01T00:00:00",
          "2018-04-02T00:00:00",
          "2018-05-01T00:00:00",
          "2018-06-01T00:00:00",
          "2018-07-02T00:00:00",
          "2018-08-01T00:00:00",
          "2018-09-03T00:00:00",
          "2018-10-01T00:00:00",
          "2018-11-01T00:00:00",
          "2018-12-03T00:00:00",
          "2019-01-01T00:00:00",
          "2019-02-01T00:00:00",
          "2019-03-01T00:00:00",
          "2019-04-01T00:00:00",
          "2019-05-01T00:00:00",
          "2019-06-03T00:00:00",
          "2019-07-01T00:00:00",
          "2019-08-01T00:00:00",
          "2019-09-02T00:00:00",
          "2019-10-01T00:00:00",
          "2019-11-01T00:00:00",
          "2019-12-02T00:00:00",
          "2020-01-01T00:00:00",
          "2020-02-03T00:00:00",
          "2020-03-02T00:00:00",
          "2020-04-01T00:00:00",
          "2020-05-01T00:00:00",
          "2020-06-01T00:00:00",
          "2020-07-01T00:00:00",
          "2020-08-03T00:00:00",
          "2020-09-01T00:00:00",
          "2020-10-01T00:00:00",
          "2020-11-02T00:00:00",
          "2020-12-01T00:00:00",
          "2021-01-01T00:00:00",
          "2021-02-01T00:00:00",
          "2021-03-01T00:00:00",
          "2021-04-01T00:00:00",
          "2021-05-03T00:00:00",
          "2021-06-01T00:00:00",
          "2021-07-01T00:00:00",
          "2021-08-02T00:00:00",
          "2021-09-01T00:00:00",
          "2021-10-01T00:00:00",
          "2021-11-01T00:00:00",
          "2021-12-01T00:00:00",
          "2022-01-03T00:00:00",
          "2022-02-01T00:00:00",
          "2022-03-01T00:00:00",
          "2022-04-01T00:00:00",
          "2022-05-02T00:00:00",
          "2022-06-01T00:00:00",
          "2022-07-01T00:00:00",
          "2022-08-01T00:00:00",
          "2022-09-01T00:00:00",
          "2022-10-03T00:00:00",
          "2022-11-01T00:00:00",
          "2022-12-01T00:00:00",
          "2023-01-02T00:00:00",
          "2023-02-01T00:00:00",
          "2023-03-01T00:00:00",
          "2023-04-03T00:00:00",
          "2023-05-01T00:00:00",
          "2023-06-01T00:00:00",
          "2023-07-03T00:00:00",
          "2023-08-01T00:00:00",
          "2023-09-01T00:00:00",
          "2023-10-02T00:00:00",
          "2023-11-01T00:00:00",
          "2023-12-01T00:00:00",
          "2023-12-31T00:00:00",
          "2024-01-31T00:00:00",
          "2024-02-29T00:00:00",
          "2024-03-31T00:00:00",
          "2024-04-30T00:00:00",
          "2024-05-31T00:00:00",
          "2024-06-30T00:00:00",
          "2024-07-31T00:00:00",
          "2024-08-31T00:00:00",
          "2024-09-30T00:00:00"
         ],
         "xaxis": "x",
         "y": [
          9.956578337516785,
          10.279080437421063,
          10.552718582794391,
          10.836129519073909,
          11.129313246259617,
          11.44204255412693,
          11.725453489381684,
          12.028410006378145,
          12.331366523374605,
          12.624550253752927,
          12.947052357169083,
          13.220690505522185,
          13.52364702772523,
          13.836376340967083,
          14.110014490053706,
          14.403198221217943,
          14.696381951905387,
          14.99933847361575,
          15.292522204303195,
          15.615024308059384,
          15.898435248056138,
          16.191618979087263,
          16.504348292187128,
          16.78775923218388,
          17.090715767502076,
          17.39367230282027,
          17.677083255214708,
          17.980039790532906,
          18.28376163556291,
          18.57768600172098,
          18.87161036787905,
          19.183268216638407,
          19.494926065397763,
          19.81663739314935,
          20.10818828392423,
          20.41623411314759,
          20.74481633098583,
          21.052862160209195,
          21.34037160081766,
          21.682818137022682,
          21.973378834408766,
          22.295071035086217,
          22.62714040352745,
          22.945199077349585,
          23.28519283212497,
          23.625186586900355,
          23.954212801199112,
          24.30892430730047,
          24.67545953027187,
          25.041994753243273,
          25.402797067501073,
          25.815142569509987,
          26.18883068070556,
          26.588290385776705,
          27.029424346258068,
          27.456328178981973,
          27.925922394978265,
          28.324365972187238,
          28.81540530860377,
          29.32228462361438,
          29.78164400284275,
          30.27268333925928,
          30.763989108615103,
          31.307934781830483,
          31.834333820426018,
          32.413372762881096,
          32.935262482073455,
          33.51306895689356,
          34.109514350256255,
          34.658195197625,
          35.244716103432964,
          35.83123700924093,
          36.39883788582927,
          37.023198850368004,
          37.552959668764515,
          38.120560545617906,
          38.688161422471296,
          39.27468232658578,
          39.84228320153528,
          40.46664416397973,
          41.01532500976423,
          41.582925882191226,
          42.188366812780004,
          42.737047656126094,
          43.32356855763399,
          43.91008945214291,
          44.439850260086466,
          45.02637115459539,
          45.63181207740389,
          46.1804929136991,
          46.74809377883206,
          47.35353470164056,
          47.88863811952078,
          48.423741537400986,
          48.97668173587721,
          49.51178515375742,
          50.07350975670653,
          50.567146528995146,
          51.043761343618634,
          51.571442031237495,
          52.09912271885636,
          52.60978144881009,
          53.120440178763836,
          53.6481208663827,
          54.17580155400156,
          54.720504199285536,
          55.21414097157415,
          55.72479970152789,
          56.269502346811876,
          56.780161076765616,
          57.256775891389104,
          57.81850049433822,
          58.295115308961705,
          58.82279599658057,
          59.36749864186455,
          59.86113541415316,
          60.38881610177203,
          60.91649678939089,
          61.42715551934463,
          61.93781424929836,
          62.448472979252095,
          62.967364704102536,
          63.44792234757471,
          63.95914618545789,
          64.45024601081829,
          64.9591372019037,
          65.44756514418108,
          65.95332160760702,
          66.460493970493,
          66.94300277021088
         ],
         "yaxis": "y"
        },
        {
         "line": {
          "color": "#0072B2",
          "width": 2
         },
         "mode": "lines",
         "name": "holidays",
         "text": [
          "New Year's Day",
          "",
          "",
          "",
          "",
          "",
          "",
          "",
          "Labor Day",
          "",
          "",
          "",
          "New Year's Day",
          "",
          "",
          "",
          "",
          "",
          "",
          "",
          "",
          "",
          "",
          "",
          "New Year's Day",
          "",
          "",
          "",
          "",
          "",
          "",
          "",
          "",
          "",
          "",
          "",
          "New Year's Day (observed)",
          "",
          "",
          "",
          "",
          "",
          "",
          "",
          "",
          "",
          "",
          "",
          "New Year's Day",
          "",
          "",
          "",
          "",
          "",
          "",
          "",
          "Labor Day",
          "",
          "",
          "",
          "New Year's Day",
          "",
          "",
          "",
          "",
          "",
          "",
          "",
          "Labor Day",
          "",
          "",
          "",
          "New Year's Day",
          "",
          "",
          "",
          "",
          "",
          "",
          "",
          "",
          "",
          "",
          "",
          "New Year's Day",
          "",
          "",
          "",
          "",
          "",
          "",
          "",
          "",
          "",
          "",
          "",
          "",
          "",
          "",
          "",
          "",
          "",
          "",
          "",
          "",
          "",
          "",
          "",
          "New Year's Day (observed)",
          "",
          "",
          "",
          "",
          "",
          "",
          "",
          "",
          "",
          "",
          "",
          "",
          "",
          "",
          "",
          "",
          "",
          "",
          "",
          "",
          ""
         ],
         "type": "scatter",
         "x": [
          "2014-01-01T00:00:00",
          "2014-02-03T00:00:00",
          "2014-03-03T00:00:00",
          "2014-04-01T00:00:00",
          "2014-05-01T00:00:00",
          "2014-06-02T00:00:00",
          "2014-07-01T00:00:00",
          "2014-08-01T00:00:00",
          "2014-09-01T00:00:00",
          "2014-10-01T00:00:00",
          "2014-11-03T00:00:00",
          "2014-12-01T00:00:00",
          "2015-01-01T00:00:00",
          "2015-02-02T00:00:00",
          "2015-03-02T00:00:00",
          "2015-04-01T00:00:00",
          "2015-05-01T00:00:00",
          "2015-06-01T00:00:00",
          "2015-07-01T00:00:00",
          "2015-08-03T00:00:00",
          "2015-09-01T00:00:00",
          "2015-10-01T00:00:00",
          "2015-11-02T00:00:00",
          "2015-12-01T00:00:00",
          "2016-01-01T00:00:00",
          "2016-02-01T00:00:00",
          "2016-03-01T00:00:00",
          "2016-04-01T00:00:00",
          "2016-05-02T00:00:00",
          "2016-06-01T00:00:00",
          "2016-07-01T00:00:00",
          "2016-08-01T00:00:00",
          "2016-09-01T00:00:00",
          "2016-10-03T00:00:00",
          "2016-11-01T00:00:00",
          "2016-12-01T00:00:00",
          "2017-01-02T00:00:00",
          "2017-02-01T00:00:00",
          "2017-03-01T00:00:00",
          "2017-04-03T00:00:00",
          "2017-05-01T00:00:00",
          "2017-06-01T00:00:00",
          "2017-07-03T00:00:00",
          "2017-08-01T00:00:00",
          "2017-09-01T00:00:00",
          "2017-10-02T00:00:00",
          "2017-11-01T00:00:00",
          "2017-12-01T00:00:00",
          "2018-01-01T00:00:00",
          "2018-02-01T00:00:00",
          "2018-03-01T00:00:00",
          "2018-04-02T00:00:00",
          "2018-05-01T00:00:00",
          "2018-06-01T00:00:00",
          "2018-07-02T00:00:00",
          "2018-08-01T00:00:00",
          "2018-09-03T00:00:00",
          "2018-10-01T00:00:00",
          "2018-11-01T00:00:00",
          "2018-12-03T00:00:00",
          "2019-01-01T00:00:00",
          "2019-02-01T00:00:00",
          "2019-03-01T00:00:00",
          "2019-04-01T00:00:00",
          "2019-05-01T00:00:00",
          "2019-06-03T00:00:00",
          "2019-07-01T00:00:00",
          "2019-08-01T00:00:00",
          "2019-09-02T00:00:00",
          "2019-10-01T00:00:00",
          "2019-11-01T00:00:00",
          "2019-12-02T00:00:00",
          "2020-01-01T00:00:00",
          "2020-02-03T00:00:00",
          "2020-03-02T00:00:00",
          "2020-04-01T00:00:00",
          "2020-05-01T00:00:00",
          "2020-06-01T00:00:00",
          "2020-07-01T00:00:00",
          "2020-08-03T00:00:00",
          "2020-09-01T00:00:00",
          "2020-10-01T00:00:00",
          "2020-11-02T00:00:00",
          "2020-12-01T00:00:00",
          "2021-01-01T00:00:00",
          "2021-02-01T00:00:00",
          "2021-03-01T00:00:00",
          "2021-04-01T00:00:00",
          "2021-05-03T00:00:00",
          "2021-06-01T00:00:00",
          "2021-07-01T00:00:00",
          "2021-08-02T00:00:00",
          "2021-09-01T00:00:00",
          "2021-10-01T00:00:00",
          "2021-11-01T00:00:00",
          "2021-12-01T00:00:00",
          "2022-01-03T00:00:00",
          "2022-02-01T00:00:00",
          "2022-03-01T00:00:00",
          "2022-04-01T00:00:00",
          "2022-05-02T00:00:00",
          "2022-06-01T00:00:00",
          "2022-07-01T00:00:00",
          "2022-08-01T00:00:00",
          "2022-09-01T00:00:00",
          "2022-10-03T00:00:00",
          "2022-11-01T00:00:00",
          "2022-12-01T00:00:00",
          "2023-01-02T00:00:00",
          "2023-02-01T00:00:00",
          "2023-03-01T00:00:00",
          "2023-04-03T00:00:00",
          "2023-05-01T00:00:00",
          "2023-06-01T00:00:00",
          "2023-07-03T00:00:00",
          "2023-08-01T00:00:00",
          "2023-09-01T00:00:00",
          "2023-10-02T00:00:00",
          "2023-11-01T00:00:00",
          "2023-12-01T00:00:00",
          "2023-12-31T00:00:00",
          "2024-01-31T00:00:00",
          "2024-02-29T00:00:00",
          "2024-03-31T00:00:00",
          "2024-04-30T00:00:00",
          "2024-05-31T00:00:00",
          "2024-06-30T00:00:00",
          "2024-07-31T00:00:00",
          "2024-08-31T00:00:00",
          "2024-09-30T00:00:00"
         ],
         "xaxis": "x2",
         "y": [
          -7.084429299850464,
          0,
          0,
          0,
          0,
          0,
          0,
          0,
          -2.364071558189392,
          0,
          0,
          0,
          -7.084429299850464,
          0,
          0,
          0,
          0,
          0,
          0,
          0,
          0,
          0,
          0,
          0,
          -7.084429299850464,
          0,
          0,
          0,
          0,
          0,
          0,
          0,
          0,
          0,
          0,
          0,
          -18.0259556741333,
          0,
          0,
          0,
          0,
          0,
          0,
          0,
          0,
          0,
          0,
          0,
          -7.084429299850464,
          0,
          0,
          0,
          0,
          0,
          0,
          0,
          -2.364071558189392,
          0,
          0,
          0,
          -7.084429299850464,
          0,
          0,
          0,
          0,
          0,
          0,
          0,
          -2.364071558189392,
          0,
          0,
          0,
          -7.084429299850464,
          0,
          0,
          0,
          0,
          0,
          0,
          0,
          0,
          0,
          0,
          0,
          -7.084429299850464,
          0,
          0,
          0,
          0,
          0,
          0,
          0,
          0,
          0,
          0,
          0,
          0,
          0,
          0,
          0,
          0,
          0,
          0,
          0,
          0,
          0,
          0,
          0,
          -18.0259556741333,
          0,
          0,
          0,
          0,
          0,
          0,
          0,
          0,
          0,
          0,
          0,
          0,
          0,
          0,
          0,
          0,
          0,
          0,
          0,
          0,
          0
         ],
         "yaxis": "y2"
        },
        {
         "line": {
          "color": "#0072B2",
          "width": 2
         },
         "mode": "lines",
         "name": "yearly",
         "type": "scatter",
         "x": [
          "2017-01-01T00:00:00",
          "2017-01-02T00:00:59.178082",
          "2017-01-03T00:01:58.356164",
          "2017-01-04T00:02:57.534246",
          "2017-01-05T00:03:56.712328",
          "2017-01-06T00:04:55.890411",
          "2017-01-07T00:05:55.068493",
          "2017-01-08T00:06:54.246575",
          "2017-01-09T00:07:53.424657",
          "2017-01-10T00:08:52.602739",
          "2017-01-11T00:09:51.780822",
          "2017-01-12T00:10:50.958904",
          "2017-01-13T00:11:50.136986",
          "2017-01-14T00:12:49.315068",
          "2017-01-15T00:13:48.493150",
          "2017-01-16T00:14:47.671232",
          "2017-01-17T00:15:46.849315",
          "2017-01-18T00:16:46.027397",
          "2017-01-19T00:17:45.205479",
          "2017-01-20T00:18:44.383561",
          "2017-01-21T00:19:43.561643",
          "2017-01-22T00:20:42.739726",
          "2017-01-23T00:21:41.917808",
          "2017-01-24T00:22:41.095890",
          "2017-01-25T00:23:40.273972",
          "2017-01-26T00:24:39.452054",
          "2017-01-27T00:25:38.630137",
          "2017-01-28T00:26:37.808219",
          "2017-01-29T00:27:36.986301",
          "2017-01-30T00:28:36.164383",
          "2017-01-31T00:29:35.342465",
          "2017-02-01T00:30:34.520547",
          "2017-02-02T00:31:33.698630",
          "2017-02-03T00:32:32.876712",
          "2017-02-04T00:33:32.054794",
          "2017-02-05T00:34:31.232876",
          "2017-02-06T00:35:30.410958",
          "2017-02-07T00:36:29.589041",
          "2017-02-08T00:37:28.767123",
          "2017-02-09T00:38:27.945205",
          "2017-02-10T00:39:27.123287",
          "2017-02-11T00:40:26.301369",
          "2017-02-12T00:41:25.479452",
          "2017-02-13T00:42:24.657534",
          "2017-02-14T00:43:23.835616",
          "2017-02-15T00:44:23.013698",
          "2017-02-16T00:45:22.191780",
          "2017-02-17T00:46:21.369862",
          "2017-02-18T00:47:20.547945",
          "2017-02-19T00:48:19.726027",
          "2017-02-20T00:49:18.904109",
          "2017-02-21T00:50:18.082191",
          "2017-02-22T00:51:17.260273",
          "2017-02-23T00:52:16.438356",
          "2017-02-24T00:53:15.616438",
          "2017-02-25T00:54:14.794520",
          "2017-02-26T00:55:13.972602",
          "2017-02-27T00:56:13.150684",
          "2017-02-28T00:57:12.328767",
          "2017-03-01T00:58:11.506849",
          "2017-03-02T00:59:10.684931",
          "2017-03-03T01:00:09.863013",
          "2017-03-04T01:01:09.041095",
          "2017-03-05T01:02:08.219177",
          "2017-03-06T01:03:07.397260",
          "2017-03-07T01:04:06.575342",
          "2017-03-08T01:05:05.753424",
          "2017-03-09T01:06:04.931506",
          "2017-03-10T01:07:04.109588",
          "2017-03-11T01:08:03.287671",
          "2017-03-12T01:09:02.465753",
          "2017-03-13T01:10:01.643835",
          "2017-03-14T01:11:00.821917",
          "2017-03-15T01:12:00",
          "2017-03-16T01:12:59.178082",
          "2017-03-17T01:13:58.356164",
          "2017-03-18T01:14:57.534246",
          "2017-03-19T01:15:56.712328",
          "2017-03-20T01:16:55.890411",
          "2017-03-21T01:17:55.068493",
          "2017-03-22T01:18:54.246575",
          "2017-03-23T01:19:53.424657",
          "2017-03-24T01:20:52.602739",
          "2017-03-25T01:21:51.780822",
          "2017-03-26T01:22:50.958904",
          "2017-03-27T01:23:50.136986",
          "2017-03-28T01:24:49.315068",
          "2017-03-29T01:25:48.493150",
          "2017-03-30T01:26:47.671232",
          "2017-03-31T01:27:46.849315",
          "2017-04-01T01:28:46.027397",
          "2017-04-02T01:29:45.205479",
          "2017-04-03T01:30:44.383561",
          "2017-04-04T01:31:43.561643",
          "2017-04-05T01:32:42.739726",
          "2017-04-06T01:33:41.917808",
          "2017-04-07T01:34:41.095890",
          "2017-04-08T01:35:40.273972",
          "2017-04-09T01:36:39.452054",
          "2017-04-10T01:37:38.630137",
          "2017-04-11T01:38:37.808219",
          "2017-04-12T01:39:36.986301",
          "2017-04-13T01:40:36.164383",
          "2017-04-14T01:41:35.342465",
          "2017-04-15T01:42:34.520547",
          "2017-04-16T01:43:33.698630",
          "2017-04-17T01:44:32.876712",
          "2017-04-18T01:45:32.054794",
          "2017-04-19T01:46:31.232876",
          "2017-04-20T01:47:30.410958",
          "2017-04-21T01:48:29.589041",
          "2017-04-22T01:49:28.767123",
          "2017-04-23T01:50:27.945205",
          "2017-04-24T01:51:27.123287",
          "2017-04-25T01:52:26.301369",
          "2017-04-26T01:53:25.479452",
          "2017-04-27T01:54:24.657534",
          "2017-04-28T01:55:23.835616",
          "2017-04-29T01:56:23.013698",
          "2017-04-30T01:57:22.191780",
          "2017-05-01T01:58:21.369862",
          "2017-05-02T01:59:20.547945",
          "2017-05-03T02:00:19.726027",
          "2017-05-04T02:01:18.904109",
          "2017-05-05T02:02:18.082191",
          "2017-05-06T02:03:17.260273",
          "2017-05-07T02:04:16.438356",
          "2017-05-08T02:05:15.616438",
          "2017-05-09T02:06:14.794520",
          "2017-05-10T02:07:13.972602",
          "2017-05-11T02:08:13.150684",
          "2017-05-12T02:09:12.328767",
          "2017-05-13T02:10:11.506849",
          "2017-05-14T02:11:10.684931",
          "2017-05-15T02:12:09.863013",
          "2017-05-16T02:13:09.041095",
          "2017-05-17T02:14:08.219177",
          "2017-05-18T02:15:07.397260",
          "2017-05-19T02:16:06.575342",
          "2017-05-20T02:17:05.753424",
          "2017-05-21T02:18:04.931506",
          "2017-05-22T02:19:04.109588",
          "2017-05-23T02:20:03.287671",
          "2017-05-24T02:21:02.465753",
          "2017-05-25T02:22:01.643835",
          "2017-05-26T02:23:00.821917",
          "2017-05-27T02:24:00",
          "2017-05-28T02:24:59.178082",
          "2017-05-29T02:25:58.356164",
          "2017-05-30T02:26:57.534246",
          "2017-05-31T02:27:56.712328",
          "2017-06-01T02:28:55.890411",
          "2017-06-02T02:29:55.068493",
          "2017-06-03T02:30:54.246575",
          "2017-06-04T02:31:53.424657",
          "2017-06-05T02:32:52.602739",
          "2017-06-06T02:33:51.780822",
          "2017-06-07T02:34:50.958904",
          "2017-06-08T02:35:50.136986",
          "2017-06-09T02:36:49.315068",
          "2017-06-10T02:37:48.493150",
          "2017-06-11T02:38:47.671232",
          "2017-06-12T02:39:46.849315",
          "2017-06-13T02:40:46.027397",
          "2017-06-14T02:41:45.205479",
          "2017-06-15T02:42:44.383561",
          "2017-06-16T02:43:43.561643",
          "2017-06-17T02:44:42.739726",
          "2017-06-18T02:45:41.917808",
          "2017-06-19T02:46:41.095890",
          "2017-06-20T02:47:40.273972",
          "2017-06-21T02:48:39.452054",
          "2017-06-22T02:49:38.630137",
          "2017-06-23T02:50:37.808219",
          "2017-06-24T02:51:36.986301",
          "2017-06-25T02:52:36.164383",
          "2017-06-26T02:53:35.342465",
          "2017-06-27T02:54:34.520547",
          "2017-06-28T02:55:33.698630",
          "2017-06-29T02:56:32.876712",
          "2017-06-30T02:57:32.054794",
          "2017-07-01T02:58:31.232876",
          "2017-07-02T02:59:30.410958",
          "2017-07-03T03:00:29.589041",
          "2017-07-04T03:01:28.767123",
          "2017-07-05T03:02:27.945205",
          "2017-07-06T03:03:27.123287",
          "2017-07-07T03:04:26.301369",
          "2017-07-08T03:05:25.479452",
          "2017-07-09T03:06:24.657534",
          "2017-07-10T03:07:23.835616",
          "2017-07-11T03:08:23.013698",
          "2017-07-12T03:09:22.191780",
          "2017-07-13T03:10:21.369862",
          "2017-07-14T03:11:20.547945",
          "2017-07-15T03:12:19.726027",
          "2017-07-16T03:13:18.904109",
          "2017-07-17T03:14:18.082191",
          "2017-07-18T03:15:17.260273",
          "2017-07-19T03:16:16.438356",
          "2017-07-20T03:17:15.616438",
          "2017-07-21T03:18:14.794520",
          "2017-07-22T03:19:13.972602",
          "2017-07-23T03:20:13.150684",
          "2017-07-24T03:21:12.328767",
          "2017-07-25T03:22:11.506849",
          "2017-07-26T03:23:10.684931",
          "2017-07-27T03:24:09.863013",
          "2017-07-28T03:25:09.041095",
          "2017-07-29T03:26:08.219177",
          "2017-07-30T03:27:07.397260",
          "2017-07-31T03:28:06.575342",
          "2017-08-01T03:29:05.753424",
          "2017-08-02T03:30:04.931506",
          "2017-08-03T03:31:04.109588",
          "2017-08-04T03:32:03.287671",
          "2017-08-05T03:33:02.465753",
          "2017-08-06T03:34:01.643835",
          "2017-08-07T03:35:00.821917",
          "2017-08-08T03:36:00",
          "2017-08-09T03:36:59.178082",
          "2017-08-10T03:37:58.356164",
          "2017-08-11T03:38:57.534246",
          "2017-08-12T03:39:56.712328",
          "2017-08-13T03:40:55.890411",
          "2017-08-14T03:41:55.068493",
          "2017-08-15T03:42:54.246575",
          "2017-08-16T03:43:53.424657",
          "2017-08-17T03:44:52.602739",
          "2017-08-18T03:45:51.780822",
          "2017-08-19T03:46:50.958904",
          "2017-08-20T03:47:50.136986",
          "2017-08-21T03:48:49.315068",
          "2017-08-22T03:49:48.493150",
          "2017-08-23T03:50:47.671232",
          "2017-08-24T03:51:46.849315",
          "2017-08-25T03:52:46.027397",
          "2017-08-26T03:53:45.205479",
          "2017-08-27T03:54:44.383561",
          "2017-08-28T03:55:43.561643",
          "2017-08-29T03:56:42.739726",
          "2017-08-30T03:57:41.917808",
          "2017-08-31T03:58:41.095890",
          "2017-09-01T03:59:40.273972",
          "2017-09-02T04:00:39.452054",
          "2017-09-03T04:01:38.630137",
          "2017-09-04T04:02:37.808219",
          "2017-09-05T04:03:36.986301",
          "2017-09-06T04:04:36.164383",
          "2017-09-07T04:05:35.342465",
          "2017-09-08T04:06:34.520547",
          "2017-09-09T04:07:33.698630",
          "2017-09-10T04:08:32.876712",
          "2017-09-11T04:09:32.054794",
          "2017-09-12T04:10:31.232876",
          "2017-09-13T04:11:30.410958",
          "2017-09-14T04:12:29.589041",
          "2017-09-15T04:13:28.767123",
          "2017-09-16T04:14:27.945205",
          "2017-09-17T04:15:27.123287",
          "2017-09-18T04:16:26.301369",
          "2017-09-19T04:17:25.479452",
          "2017-09-20T04:18:24.657534",
          "2017-09-21T04:19:23.835616",
          "2017-09-22T04:20:23.013698",
          "2017-09-23T04:21:22.191780",
          "2017-09-24T04:22:21.369862",
          "2017-09-25T04:23:20.547945",
          "2017-09-26T04:24:19.726027",
          "2017-09-27T04:25:18.904109",
          "2017-09-28T04:26:18.082191",
          "2017-09-29T04:27:17.260273",
          "2017-09-30T04:28:16.438356",
          "2017-10-01T04:29:15.616438",
          "2017-10-02T04:30:14.794520",
          "2017-10-03T04:31:13.972602",
          "2017-10-04T04:32:13.150684",
          "2017-10-05T04:33:12.328767",
          "2017-10-06T04:34:11.506849",
          "2017-10-07T04:35:10.684931",
          "2017-10-08T04:36:09.863013",
          "2017-10-09T04:37:09.041095",
          "2017-10-10T04:38:08.219177",
          "2017-10-11T04:39:07.397260",
          "2017-10-12T04:40:06.575342",
          "2017-10-13T04:41:05.753424",
          "2017-10-14T04:42:04.931506",
          "2017-10-15T04:43:04.109588",
          "2017-10-16T04:44:03.287671",
          "2017-10-17T04:45:02.465753",
          "2017-10-18T04:46:01.643835",
          "2017-10-19T04:47:00.821917",
          "2017-10-20T04:48:00",
          "2017-10-21T04:48:59.178082",
          "2017-10-22T04:49:58.356164",
          "2017-10-23T04:50:57.534246",
          "2017-10-24T04:51:56.712328",
          "2017-10-25T04:52:55.890411",
          "2017-10-26T04:53:55.068493",
          "2017-10-27T04:54:54.246575",
          "2017-10-28T04:55:53.424657",
          "2017-10-29T04:56:52.602739",
          "2017-10-30T04:57:51.780822",
          "2017-10-31T04:58:50.958904",
          "2017-11-01T04:59:50.136986",
          "2017-11-02T05:00:49.315068",
          "2017-11-03T05:01:48.493150",
          "2017-11-04T05:02:47.671232",
          "2017-11-05T05:03:46.849315",
          "2017-11-06T05:04:46.027397",
          "2017-11-07T05:05:45.205479",
          "2017-11-08T05:06:44.383561",
          "2017-11-09T05:07:43.561643",
          "2017-11-10T05:08:42.739726",
          "2017-11-11T05:09:41.917808",
          "2017-11-12T05:10:41.095890",
          "2017-11-13T05:11:40.273972",
          "2017-11-14T05:12:39.452054",
          "2017-11-15T05:13:38.630137",
          "2017-11-16T05:14:37.808219",
          "2017-11-17T05:15:36.986301",
          "2017-11-18T05:16:36.164383",
          "2017-11-19T05:17:35.342465",
          "2017-11-20T05:18:34.520547",
          "2017-11-21T05:19:33.698630",
          "2017-11-22T05:20:32.876712",
          "2017-11-23T05:21:32.054794",
          "2017-11-24T05:22:31.232876",
          "2017-11-25T05:23:30.410958",
          "2017-11-26T05:24:29.589041",
          "2017-11-27T05:25:28.767123",
          "2017-11-28T05:26:27.945205",
          "2017-11-29T05:27:27.123287",
          "2017-11-30T05:28:26.301369",
          "2017-12-01T05:29:25.479452",
          "2017-12-02T05:30:24.657534",
          "2017-12-03T05:31:23.835616",
          "2017-12-04T05:32:23.013698",
          "2017-12-05T05:33:22.191780",
          "2017-12-06T05:34:21.369862",
          "2017-12-07T05:35:20.547945",
          "2017-12-08T05:36:19.726027",
          "2017-12-09T05:37:18.904109",
          "2017-12-10T05:38:18.082191",
          "2017-12-11T05:39:17.260273",
          "2017-12-12T05:40:16.438356",
          "2017-12-13T05:41:15.616438",
          "2017-12-14T05:42:14.794520",
          "2017-12-15T05:43:13.972602",
          "2017-12-16T05:44:13.150684",
          "2017-12-17T05:45:12.328767",
          "2017-12-18T05:46:11.506849",
          "2017-12-19T05:47:10.684931",
          "2017-12-20T05:48:09.863013",
          "2017-12-21T05:49:09.041095",
          "2017-12-22T05:50:08.219177",
          "2017-12-23T05:51:07.397260",
          "2017-12-24T05:52:06.575342",
          "2017-12-25T05:53:05.753424",
          "2017-12-26T05:54:04.931506",
          "2017-12-27T05:55:04.109588",
          "2017-12-28T05:56:03.287671",
          "2017-12-29T05:57:02.465753",
          "2017-12-30T05:58:01.643835",
          "2017-12-31T05:59:00.821917"
         ],
         "xaxis": "x3",
         "y": [
          8.215338536489137,
          11.522106270258485,
          14.537331833000644,
          17.220229653784326,
          19.537686771348135,
          21.464823783861036,
          22.985369901359107,
          24.091749384763837,
          24.785130058252406,
          25.07508583629896,
          24.979158623235424,
          24.522218725383773,
          23.73565171251266,
          22.65645663730944,
          21.326135136674065,
          19.78958413539125,
          18.093894344091943,
          16.28711251781814,
          14.417119802514044,
          12.530339879369338,
          10.670726925045079,
          8.878748225753965,
          7.190509364636069,
          5.637005141471465,
          4.243617106731439,
          3.029603545066059,
          2.0079494825806625,
          1.1853039776021135,
          0.5621130803258493,
          0.13291791004470915,
          -0.11316926283998578,
          -0.19189607607236087,
          -0.12312975374377387,
          0.06995172619975175,
          0.3617494028984298,
          0.7251584618095369,
          1.1325347773344947,
          1.5566160895431256,
          1.9714197198691064,
          2.353072852037873,
          2.6805583543181726,
          2.9363344269221403,
          3.106866634267472,
          3.1829826344139485,
          3.1601000316833767,
          3.0382966488601677,
          2.82223818576587,
          2.5209436199224537,
          2.1474255173912753,
          1.7181995433391144,
          1.2526856137899673,
          0.7725135630634572,
          0.3007885654099247,
          -0.13874435917082995,
          -0.522499946923328,
          -0.8278754151649202,
          -1.0340383817158658,
          -1.122662293421023,
          -1.0785843157970427,
          -0.890378485726836,
          -0.5508063651081023,
          -0.05715157866729491,
          0.5885887229578821,
          1.3796109458360641,
          2.3044288075576613,
          3.347061504969886,
          4.487387687069263,
          5.701613685224975,
          6.962863790355615,
          8.241787607094832,
          9.507386253963615,
          10.727743345335675,
          11.870857448384902,
          12.905477607195147,
          13.801864544330346,
          14.532632410883794,
          15.073409582192097,
          15.403483748637823,
          15.50634004905713,
          15.370088317783937,
          14.987784094930038,
          14.357605874001756,
          13.482916303251729,
          12.372191173978369,
          11.038823640799638,
          9.50079166973757,
          7.780310262453098,
          5.9032081859130585,
          3.898401380221207,
          1.7972182936103065,
          -0.3673273232847243,
          -2.5611620977934804,
          -4.750035731042369,
          -6.900139230799897,
          -8.9788157996544,
          -10.955198316223802,
          -12.800803765479714,
          -14.489947130883543,
          -16.000281508265292,
          -17.313028961651675,
          -18.41322300266801,
          -19.289829748389643,
          -19.935777587095945,
          -20.34786025207402,
          -20.526625588586597,
          -20.47610959983941,
          -20.203545788670937,
          -19.719005323414773,
          -19.03502893336793,
          -18.166174272116177,
          -17.128605750121583,
          -15.9396622632327,
          -14.617444815546387,
          -13.180414269370308,
          -11.647111744216396,
          -10.035757068956833,
          -8.364064866600136,
          -6.649035375072581,
          -4.906798755800684,
          -3.1526176074905474,
          -1.400741419474015,
          0.3354882995117242,
          2.043591289233918,
          3.711848061468185,
          5.329193658767734,
          6.885005025263869,
          8.369072026341412,
          9.771388142004351,
          11.082053591274919,
          12.291186587092923,
          13.388881795571448,
          14.36514890525939,
          15.210023279524748,
          15.91359678422071,
          16.466163224003513,
          16.858401091545762,
          17.081579365132434,
          17.12784361970866,
          16.990483055446923,
          16.6642416503972,
          16.14563110291845,
          15.43322946337057,
          14.528006615022592,
          13.433534460206321,
          12.156234109972768,
          10.70553035589573,
          9.09392838413023,
          7.337112302611956,
          5.45377412826853,
          3.4655423733119153,
          1.3967327442498418,
          -0.7259698208822659,
          -2.8739367134882756,
          -5.01697286470624,
          -7.124010379227395,
          -9.16360855669115,
          -11.104619739246768,
          -12.916856279340085,
          -14.571784356098487,
          -16.04311550371773,
          -17.307560290063957,
          -18.345341570183518,
          -19.1407424788923,
          -19.682558426839464,
          -19.964426759268942,
          -19.98510820875677,
          -19.748584581801225,
          -19.264067505129656,
          -18.545871020009074,
          -17.61314372836646,
          -16.489533547964385,
          -15.202623586665926,
          -13.783366532121194,
          -12.265374564921178,
          -10.684141462447698,
          -9.076187699182096,
          -7.478261515384278,
          -5.926337986878445,
          -4.4548131265710635,
          -3.095636515307794,
          -1.8775038128028596,
          -0.8251935054236452,
          0.04113970429218364,
          0.7064141632520479,
          1.1610150272464144,
          1.40103278605797,
          1.428352856886679,
          1.2505954787258957,
          0.880904585471919,
          0.33758419529948547,
          -0.3563985031499206,
          -1.1740477288613804,
          -2.0850343466961356,
          -3.0565785939423304,
          -4.054307780483881,
          -5.043204679971534,
          -5.988566884626761,
          -6.856969314327819,
          -7.617145510590021,
          -8.240911277077904,
          -8.703904263023476,
          -8.986272035559043,
          -9.073226932297935,
          -8.955459870546592,
          -8.629414039429752,
          -8.097384143174882,
          -7.367464669874253,
          -6.453333833245857,
          -5.373868534805452,
          -4.1526785626639695,
          -2.8173813345232195,
          -1.3988856733551998,
          0.06947804207207488,
          1.552886338487255,
          3.0160123480142955,
          4.423948936176094,
          5.7432915528966255,
          6.94301321340855,
          7.9953612328943455,
          8.876657470030507,
          9.5679397749328,
          10.055573487417874,
          10.331612380540644,
          10.394056090881083,
          10.246931139707648,
          9.900198834645735,
          9.369520538320629,
          8.675820486538038,
          7.844738085637308,
          6.905929763426576,
          5.892258876516931,
          4.838880586987966,
          3.7823202046188507,
          2.7593870534929237,
          1.8061971769412861,
          0.95714981076708,
          0.2439509226997137,
          -0.305255362292715,
          -0.6667428793252829,
          -0.8218584625292625,
          -0.757585918116771,
          -0.4669504756973611,
          0.0507456212587241,
          0.7898218721805706,
          1.7383512692324283,
          2.8784023812684514,
          4.186467963214674,
          5.634037778794436,
          7.188323122246689,
          8.813003640270722,
          10.46924757531317,
          12.11661933633061,
          13.714116156706847,
          15.221217184043036,
          16.598832553564907,
          17.81038488861598,
          18.82264688710469,
          19.606577204848026,
          20.138026221704692,
          20.398313315487133,
          20.374649913885392,
          20.06043577844593,
          19.45536201321158,
          18.565373291757197,
          17.402452970840738,
          15.984330227897038,
          14.333910792843973,
          12.478716479857654,
          10.450157435250585,
          8.2827329013022,
          6.01314506648915,
          3.6795101394299814,
          1.3202943461871444,
          -1.02647327195014,
          -3.324079714631691,
          -5.5379201933471185,
          -7.636232471315278,
          -9.590613018329433,
          -11.376661733486412,
          -12.974257662593974,
          -14.367827591012242,
          -15.546468220961884,
          -16.50387141842675,
          -17.238256032745905,
          -17.752042295772686,
          -18.051492261998874,
          -18.146244776989622,
          -18.04877557994601,
          -17.773813486323746,
          -17.337710956269184,
          -16.757813994146144,
          -16.051840919842093,
          -15.23728333922356,
          -14.330907517308415,
          -13.348228683612096,
          -12.303162213525717,
          -11.207724337297952,
          -10.071844908631261,
          -8.903274281921997,
          -7.707666856764658,
          -6.488634494926967,
          -5.248033645765667,
          -3.9862738502691584,
          -2.702714684640953,
          -1.3961064396182676,
          -0.06514744363203089,
          1.2910892068930784,
          2.6725782025853864,
          4.0778609473143765,
          5.50360803866094,
          6.944160472688244,
          8.391315485481046,
          9.834042403034237,
          11.258388017001558,
          12.647482110801834,
          13.981679991001464,
          15.238752291905184,
          16.39434975778723,
          17.4224265698741,
          18.295845628673714,
          18.987057236280872,
          19.46885356483446,
          19.715149975587266,
          19.701848361160874,
          19.40764531997294,
          18.814850697097334,
          17.9101399192795,
          16.685292121278277,
          15.13772454870806,
          13.271010569436195,
          11.095215053840619,
          8.627087083466833,
          5.890056710989695,
          2.9142245760703243,
          -0.264141528712574,
          -3.6029663938279506,
          -7.055044891313838,
          -10.568882258394526,
          -14.089466295596907,
          -17.55956376415159,
          -20.92070166789017,
          -24.114417030179332,
          -27.083502786628884,
          -29.7732888860977,
          -32.13274740910317,
          -34.11584987254885,
          -35.68252166777835,
          -36.79964230353572,
          -37.44187148362354,
          -37.59231007824232,
          -37.24297837439435,
          -36.39510926881881,
          -35.05921189467545,
          -33.254942408851676,
          -31.010732759222947,
          -28.36335439492484,
          -25.357025862912746,
          -22.042601989418507,
          -18.476487671948178,
          -14.719447605588032,
          -10.835271586384335,
          -6.889598617339583,
          -2.9482539942106394,
          0.9239650378824247,
          4.6646944570235345
         ],
         "yaxis": "y3"
        }
       ],
       "layout": {
        "height": 600,
        "showlegend": false,
        "template": {
         "data": {
          "bar": [
           {
            "error_x": {
             "color": "#2a3f5f"
            },
            "error_y": {
             "color": "#2a3f5f"
            },
            "marker": {
             "line": {
              "color": "#E5ECF6",
              "width": 0.5
             },
             "pattern": {
              "fillmode": "overlay",
              "size": 10,
              "solidity": 0.2
             }
            },
            "type": "bar"
           }
          ],
          "barpolar": [
           {
            "marker": {
             "line": {
              "color": "#E5ECF6",
              "width": 0.5
             },
             "pattern": {
              "fillmode": "overlay",
              "size": 10,
              "solidity": 0.2
             }
            },
            "type": "barpolar"
           }
          ],
          "carpet": [
           {
            "aaxis": {
             "endlinecolor": "#2a3f5f",
             "gridcolor": "white",
             "linecolor": "white",
             "minorgridcolor": "white",
             "startlinecolor": "#2a3f5f"
            },
            "baxis": {
             "endlinecolor": "#2a3f5f",
             "gridcolor": "white",
             "linecolor": "white",
             "minorgridcolor": "white",
             "startlinecolor": "#2a3f5f"
            },
            "type": "carpet"
           }
          ],
          "choropleth": [
           {
            "colorbar": {
             "outlinewidth": 0,
             "ticks": ""
            },
            "type": "choropleth"
           }
          ],
          "contour": [
           {
            "colorbar": {
             "outlinewidth": 0,
             "ticks": ""
            },
            "colorscale": [
             [
              0,
              "#0d0887"
             ],
             [
              0.1111111111111111,
              "#46039f"
             ],
             [
              0.2222222222222222,
              "#7201a8"
             ],
             [
              0.3333333333333333,
              "#9c179e"
             ],
             [
              0.4444444444444444,
              "#bd3786"
             ],
             [
              0.5555555555555556,
              "#d8576b"
             ],
             [
              0.6666666666666666,
              "#ed7953"
             ],
             [
              0.7777777777777778,
              "#fb9f3a"
             ],
             [
              0.8888888888888888,
              "#fdca26"
             ],
             [
              1,
              "#f0f921"
             ]
            ],
            "type": "contour"
           }
          ],
          "contourcarpet": [
           {
            "colorbar": {
             "outlinewidth": 0,
             "ticks": ""
            },
            "type": "contourcarpet"
           }
          ],
          "heatmap": [
           {
            "colorbar": {
             "outlinewidth": 0,
             "ticks": ""
            },
            "colorscale": [
             [
              0,
              "#0d0887"
             ],
             [
              0.1111111111111111,
              "#46039f"
             ],
             [
              0.2222222222222222,
              "#7201a8"
             ],
             [
              0.3333333333333333,
              "#9c179e"
             ],
             [
              0.4444444444444444,
              "#bd3786"
             ],
             [
              0.5555555555555556,
              "#d8576b"
             ],
             [
              0.6666666666666666,
              "#ed7953"
             ],
             [
              0.7777777777777778,
              "#fb9f3a"
             ],
             [
              0.8888888888888888,
              "#fdca26"
             ],
             [
              1,
              "#f0f921"
             ]
            ],
            "type": "heatmap"
           }
          ],
          "heatmapgl": [
           {
            "colorbar": {
             "outlinewidth": 0,
             "ticks": ""
            },
            "colorscale": [
             [
              0,
              "#0d0887"
             ],
             [
              0.1111111111111111,
              "#46039f"
             ],
             [
              0.2222222222222222,
              "#7201a8"
             ],
             [
              0.3333333333333333,
              "#9c179e"
             ],
             [
              0.4444444444444444,
              "#bd3786"
             ],
             [
              0.5555555555555556,
              "#d8576b"
             ],
             [
              0.6666666666666666,
              "#ed7953"
             ],
             [
              0.7777777777777778,
              "#fb9f3a"
             ],
             [
              0.8888888888888888,
              "#fdca26"
             ],
             [
              1,
              "#f0f921"
             ]
            ],
            "type": "heatmapgl"
           }
          ],
          "histogram": [
           {
            "marker": {
             "pattern": {
              "fillmode": "overlay",
              "size": 10,
              "solidity": 0.2
             }
            },
            "type": "histogram"
           }
          ],
          "histogram2d": [
           {
            "colorbar": {
             "outlinewidth": 0,
             "ticks": ""
            },
            "colorscale": [
             [
              0,
              "#0d0887"
             ],
             [
              0.1111111111111111,
              "#46039f"
             ],
             [
              0.2222222222222222,
              "#7201a8"
             ],
             [
              0.3333333333333333,
              "#9c179e"
             ],
             [
              0.4444444444444444,
              "#bd3786"
             ],
             [
              0.5555555555555556,
              "#d8576b"
             ],
             [
              0.6666666666666666,
              "#ed7953"
             ],
             [
              0.7777777777777778,
              "#fb9f3a"
             ],
             [
              0.8888888888888888,
              "#fdca26"
             ],
             [
              1,
              "#f0f921"
             ]
            ],
            "type": "histogram2d"
           }
          ],
          "histogram2dcontour": [
           {
            "colorbar": {
             "outlinewidth": 0,
             "ticks": ""
            },
            "colorscale": [
             [
              0,
              "#0d0887"
             ],
             [
              0.1111111111111111,
              "#46039f"
             ],
             [
              0.2222222222222222,
              "#7201a8"
             ],
             [
              0.3333333333333333,
              "#9c179e"
             ],
             [
              0.4444444444444444,
              "#bd3786"
             ],
             [
              0.5555555555555556,
              "#d8576b"
             ],
             [
              0.6666666666666666,
              "#ed7953"
             ],
             [
              0.7777777777777778,
              "#fb9f3a"
             ],
             [
              0.8888888888888888,
              "#fdca26"
             ],
             [
              1,
              "#f0f921"
             ]
            ],
            "type": "histogram2dcontour"
           }
          ],
          "mesh3d": [
           {
            "colorbar": {
             "outlinewidth": 0,
             "ticks": ""
            },
            "type": "mesh3d"
           }
          ],
          "parcoords": [
           {
            "line": {
             "colorbar": {
              "outlinewidth": 0,
              "ticks": ""
             }
            },
            "type": "parcoords"
           }
          ],
          "pie": [
           {
            "automargin": true,
            "type": "pie"
           }
          ],
          "scatter": [
           {
            "fillpattern": {
             "fillmode": "overlay",
             "size": 10,
             "solidity": 0.2
            },
            "type": "scatter"
           }
          ],
          "scatter3d": [
           {
            "line": {
             "colorbar": {
              "outlinewidth": 0,
              "ticks": ""
             }
            },
            "marker": {
             "colorbar": {
              "outlinewidth": 0,
              "ticks": ""
             }
            },
            "type": "scatter3d"
           }
          ],
          "scattercarpet": [
           {
            "marker": {
             "colorbar": {
              "outlinewidth": 0,
              "ticks": ""
             }
            },
            "type": "scattercarpet"
           }
          ],
          "scattergeo": [
           {
            "marker": {
             "colorbar": {
              "outlinewidth": 0,
              "ticks": ""
             }
            },
            "type": "scattergeo"
           }
          ],
          "scattergl": [
           {
            "marker": {
             "colorbar": {
              "outlinewidth": 0,
              "ticks": ""
             }
            },
            "type": "scattergl"
           }
          ],
          "scattermapbox": [
           {
            "marker": {
             "colorbar": {
              "outlinewidth": 0,
              "ticks": ""
             }
            },
            "type": "scattermapbox"
           }
          ],
          "scatterpolar": [
           {
            "marker": {
             "colorbar": {
              "outlinewidth": 0,
              "ticks": ""
             }
            },
            "type": "scatterpolar"
           }
          ],
          "scatterpolargl": [
           {
            "marker": {
             "colorbar": {
              "outlinewidth": 0,
              "ticks": ""
             }
            },
            "type": "scatterpolargl"
           }
          ],
          "scatterternary": [
           {
            "marker": {
             "colorbar": {
              "outlinewidth": 0,
              "ticks": ""
             }
            },
            "type": "scatterternary"
           }
          ],
          "surface": [
           {
            "colorbar": {
             "outlinewidth": 0,
             "ticks": ""
            },
            "colorscale": [
             [
              0,
              "#0d0887"
             ],
             [
              0.1111111111111111,
              "#46039f"
             ],
             [
              0.2222222222222222,
              "#7201a8"
             ],
             [
              0.3333333333333333,
              "#9c179e"
             ],
             [
              0.4444444444444444,
              "#bd3786"
             ],
             [
              0.5555555555555556,
              "#d8576b"
             ],
             [
              0.6666666666666666,
              "#ed7953"
             ],
             [
              0.7777777777777778,
              "#fb9f3a"
             ],
             [
              0.8888888888888888,
              "#fdca26"
             ],
             [
              1,
              "#f0f921"
             ]
            ],
            "type": "surface"
           }
          ],
          "table": [
           {
            "cells": {
             "fill": {
              "color": "#EBF0F8"
             },
             "line": {
              "color": "white"
             }
            },
            "header": {
             "fill": {
              "color": "#C8D4E3"
             },
             "line": {
              "color": "white"
             }
            },
            "type": "table"
           }
          ]
         },
         "layout": {
          "annotationdefaults": {
           "arrowcolor": "#2a3f5f",
           "arrowhead": 0,
           "arrowwidth": 1
          },
          "autotypenumbers": "strict",
          "coloraxis": {
           "colorbar": {
            "outlinewidth": 0,
            "ticks": ""
           }
          },
          "colorscale": {
           "diverging": [
            [
             0,
             "#8e0152"
            ],
            [
             0.1,
             "#c51b7d"
            ],
            [
             0.2,
             "#de77ae"
            ],
            [
             0.3,
             "#f1b6da"
            ],
            [
             0.4,
             "#fde0ef"
            ],
            [
             0.5,
             "#f7f7f7"
            ],
            [
             0.6,
             "#e6f5d0"
            ],
            [
             0.7,
             "#b8e186"
            ],
            [
             0.8,
             "#7fbc41"
            ],
            [
             0.9,
             "#4d9221"
            ],
            [
             1,
             "#276419"
            ]
           ],
           "sequential": [
            [
             0,
             "#0d0887"
            ],
            [
             0.1111111111111111,
             "#46039f"
            ],
            [
             0.2222222222222222,
             "#7201a8"
            ],
            [
             0.3333333333333333,
             "#9c179e"
            ],
            [
             0.4444444444444444,
             "#bd3786"
            ],
            [
             0.5555555555555556,
             "#d8576b"
            ],
            [
             0.6666666666666666,
             "#ed7953"
            ],
            [
             0.7777777777777778,
             "#fb9f3a"
            ],
            [
             0.8888888888888888,
             "#fdca26"
            ],
            [
             1,
             "#f0f921"
            ]
           ],
           "sequentialminus": [
            [
             0,
             "#0d0887"
            ],
            [
             0.1111111111111111,
             "#46039f"
            ],
            [
             0.2222222222222222,
             "#7201a8"
            ],
            [
             0.3333333333333333,
             "#9c179e"
            ],
            [
             0.4444444444444444,
             "#bd3786"
            ],
            [
             0.5555555555555556,
             "#d8576b"
            ],
            [
             0.6666666666666666,
             "#ed7953"
            ],
            [
             0.7777777777777778,
             "#fb9f3a"
            ],
            [
             0.8888888888888888,
             "#fdca26"
            ],
            [
             1,
             "#f0f921"
            ]
           ]
          },
          "colorway": [
           "#636efa",
           "#EF553B",
           "#00cc96",
           "#ab63fa",
           "#FFA15A",
           "#19d3f3",
           "#FF6692",
           "#B6E880",
           "#FF97FF",
           "#FECB52"
          ],
          "font": {
           "color": "#2a3f5f"
          },
          "geo": {
           "bgcolor": "white",
           "lakecolor": "white",
           "landcolor": "#E5ECF6",
           "showlakes": true,
           "showland": true,
           "subunitcolor": "white"
          },
          "hoverlabel": {
           "align": "left"
          },
          "hovermode": "closest",
          "mapbox": {
           "style": "light"
          },
          "paper_bgcolor": "white",
          "plot_bgcolor": "#E5ECF6",
          "polar": {
           "angularaxis": {
            "gridcolor": "white",
            "linecolor": "white",
            "ticks": ""
           },
           "bgcolor": "#E5ECF6",
           "radialaxis": {
            "gridcolor": "white",
            "linecolor": "white",
            "ticks": ""
           }
          },
          "scene": {
           "xaxis": {
            "backgroundcolor": "#E5ECF6",
            "gridcolor": "white",
            "gridwidth": 2,
            "linecolor": "white",
            "showbackground": true,
            "ticks": "",
            "zerolinecolor": "white"
           },
           "yaxis": {
            "backgroundcolor": "#E5ECF6",
            "gridcolor": "white",
            "gridwidth": 2,
            "linecolor": "white",
            "showbackground": true,
            "ticks": "",
            "zerolinecolor": "white"
           },
           "zaxis": {
            "backgroundcolor": "#E5ECF6",
            "gridcolor": "white",
            "gridwidth": 2,
            "linecolor": "white",
            "showbackground": true,
            "ticks": "",
            "zerolinecolor": "white"
           }
          },
          "shapedefaults": {
           "line": {
            "color": "#2a3f5f"
           }
          },
          "ternary": {
           "aaxis": {
            "gridcolor": "white",
            "linecolor": "white",
            "ticks": ""
           },
           "baxis": {
            "gridcolor": "white",
            "linecolor": "white",
            "ticks": ""
           },
           "bgcolor": "#E5ECF6",
           "caxis": {
            "gridcolor": "white",
            "linecolor": "white",
            "ticks": ""
           }
          },
          "title": {
           "x": 0.05
          },
          "xaxis": {
           "automargin": true,
           "gridcolor": "white",
           "linecolor": "white",
           "ticks": "",
           "title": {
            "standoff": 15
           },
           "zerolinecolor": "white",
           "zerolinewidth": 2
          },
          "yaxis": {
           "automargin": true,
           "gridcolor": "white",
           "linecolor": "white",
           "ticks": "",
           "title": {
            "standoff": 15
           },
           "zerolinecolor": "white",
           "zerolinewidth": 2
          }
         }
        },
        "width": 900,
        "xaxis": {
         "anchor": "y",
         "domain": [
          0,
          1
         ],
         "range": [
          "2013-06-18T18:00:00",
          "2025-04-14T06:00:00"
         ],
         "type": "date"
        },
        "xaxis2": {
         "anchor": "y2",
         "domain": [
          0,
          1
         ],
         "range": [
          "2013-06-18T18:00:00",
          "2025-04-14T06:00:00"
         ],
         "type": "date"
        },
        "xaxis3": {
         "anchor": "y3",
         "domain": [
          0,
          1
         ],
         "range": [
          "2016-12-13T18:54:02.958904115",
          "2018-01-18T11:04:57.863013581"
         ],
         "tickformat": "%B %e",
         "type": "date"
        },
        "yaxis": {
         "anchor": "x",
         "domain": [
          0.7333333333333333,
          1
         ],
         "rangemode": "normal",
         "title": {
          "text": "trend"
         },
         "zerolinecolor": "#AAA"
        },
        "yaxis2": {
         "anchor": "x2",
         "domain": [
          0.36666666666666664,
          0.6333333333333333
         ],
         "rangemode": "tozero",
         "title": {
          "text": "holidays"
         },
         "zerolinecolor": "#AAA"
        },
        "yaxis3": {
         "anchor": "x3",
         "domain": [
          0,
          0.26666666666666666
         ],
         "title": {
          "text": "yearly"
         },
         "zerolinecolor": "#AAA"
        }
       }
      }
     },
     "metadata": {},
     "output_type": "display_data"
    }
   ],
   "source": [
    "plot_components_plotly(model, forecast)"
   ]
  },
  {
   "cell_type": "code",
   "execution_count": 49,
   "metadata": {},
   "outputs": [
    {
     "data": {
      "text/html": [
       "<div>\n",
       "<style scoped>\n",
       "    .dataframe tbody tr th:only-of-type {\n",
       "        vertical-align: middle;\n",
       "    }\n",
       "\n",
       "    .dataframe tbody tr th {\n",
       "        vertical-align: top;\n",
       "    }\n",
       "\n",
       "    .dataframe thead th {\n",
       "        text-align: right;\n",
       "    }\n",
       "</style>\n",
       "<table border=\"1\" class=\"dataframe\">\n",
       "  <thead>\n",
       "    <tr style=\"text-align: right;\">\n",
       "      <th></th>\n",
       "      <th>ds</th>\n",
       "      <th>trend</th>\n",
       "      <th>yhat_lower</th>\n",
       "      <th>yhat_upper</th>\n",
       "      <th>trend_lower</th>\n",
       "      <th>trend_upper</th>\n",
       "      <th>Christmas Day</th>\n",
       "      <th>Christmas Day_lower</th>\n",
       "      <th>Christmas Day_upper</th>\n",
       "      <th>Christmas Day (observed)</th>\n",
       "      <th>...</th>\n",
       "      <th>holidays</th>\n",
       "      <th>holidays_lower</th>\n",
       "      <th>holidays_upper</th>\n",
       "      <th>yearly</th>\n",
       "      <th>yearly_lower</th>\n",
       "      <th>yearly_upper</th>\n",
       "      <th>multiplicative_terms</th>\n",
       "      <th>multiplicative_terms_lower</th>\n",
       "      <th>multiplicative_terms_upper</th>\n",
       "      <th>yhat</th>\n",
       "    </tr>\n",
       "  </thead>\n",
       "  <tbody>\n",
       "    <tr>\n",
       "      <th>0</th>\n",
       "      <td>2014-01-01</td>\n",
       "      <td>9.956578</td>\n",
       "      <td>4.446393</td>\n",
       "      <td>15.504494</td>\n",
       "      <td>9.956578</td>\n",
       "      <td>9.956578</td>\n",
       "      <td>0.0</td>\n",
       "      <td>0.0</td>\n",
       "      <td>0.0</td>\n",
       "      <td>0.0</td>\n",
       "      <td>...</td>\n",
       "      <td>-7.084429</td>\n",
       "      <td>-7.084429</td>\n",
       "      <td>-7.084429</td>\n",
       "      <td>7.349141</td>\n",
       "      <td>7.349141</td>\n",
       "      <td>7.349141</td>\n",
       "      <td>0.0</td>\n",
       "      <td>0.0</td>\n",
       "      <td>0.0</td>\n",
       "      <td>10.221290</td>\n",
       "    </tr>\n",
       "    <tr>\n",
       "      <th>1</th>\n",
       "      <td>2014-02-03</td>\n",
       "      <td>10.279080</td>\n",
       "      <td>4.707870</td>\n",
       "      <td>15.411942</td>\n",
       "      <td>10.279080</td>\n",
       "      <td>10.279080</td>\n",
       "      <td>0.0</td>\n",
       "      <td>0.0</td>\n",
       "      <td>0.0</td>\n",
       "      <td>0.0</td>\n",
       "      <td>...</td>\n",
       "      <td>0.000000</td>\n",
       "      <td>0.000000</td>\n",
       "      <td>0.000000</td>\n",
       "      <td>0.006462</td>\n",
       "      <td>0.006462</td>\n",
       "      <td>0.006462</td>\n",
       "      <td>0.0</td>\n",
       "      <td>0.0</td>\n",
       "      <td>0.0</td>\n",
       "      <td>10.285542</td>\n",
       "    </tr>\n",
       "    <tr>\n",
       "      <th>2</th>\n",
       "      <td>2014-03-03</td>\n",
       "      <td>10.552719</td>\n",
       "      <td>5.290800</td>\n",
       "      <td>15.458203</td>\n",
       "      <td>10.552719</td>\n",
       "      <td>10.552719</td>\n",
       "      <td>0.0</td>\n",
       "      <td>0.0</td>\n",
       "      <td>0.0</td>\n",
       "      <td>0.0</td>\n",
       "      <td>...</td>\n",
       "      <td>0.000000</td>\n",
       "      <td>0.000000</td>\n",
       "      <td>0.000000</td>\n",
       "      <td>-0.216974</td>\n",
       "      <td>-0.216974</td>\n",
       "      <td>-0.216974</td>\n",
       "      <td>0.0</td>\n",
       "      <td>0.0</td>\n",
       "      <td>0.0</td>\n",
       "      <td>10.335745</td>\n",
       "    </tr>\n",
       "    <tr>\n",
       "      <th>3</th>\n",
       "      <td>2014-04-01</td>\n",
       "      <td>10.836130</td>\n",
       "      <td>6.307859</td>\n",
       "      <td>16.838238</td>\n",
       "      <td>10.836130</td>\n",
       "      <td>10.836130</td>\n",
       "      <td>0.0</td>\n",
       "      <td>0.0</td>\n",
       "      <td>0.0</td>\n",
       "      <td>0.0</td>\n",
       "      <td>...</td>\n",
       "      <td>0.000000</td>\n",
       "      <td>0.000000</td>\n",
       "      <td>0.000000</td>\n",
       "      <td>0.311521</td>\n",
       "      <td>0.311521</td>\n",
       "      <td>0.311521</td>\n",
       "      <td>0.0</td>\n",
       "      <td>0.0</td>\n",
       "      <td>0.0</td>\n",
       "      <td>11.147650</td>\n",
       "    </tr>\n",
       "    <tr>\n",
       "      <th>4</th>\n",
       "      <td>2014-05-01</td>\n",
       "      <td>11.129313</td>\n",
       "      <td>3.873909</td>\n",
       "      <td>14.388066</td>\n",
       "      <td>11.129313</td>\n",
       "      <td>11.129313</td>\n",
       "      <td>0.0</td>\n",
       "      <td>0.0</td>\n",
       "      <td>0.0</td>\n",
       "      <td>0.0</td>\n",
       "      <td>...</td>\n",
       "      <td>0.000000</td>\n",
       "      <td>0.000000</td>\n",
       "      <td>0.000000</td>\n",
       "      <td>-1.981199</td>\n",
       "      <td>-1.981199</td>\n",
       "      <td>-1.981199</td>\n",
       "      <td>0.0</td>\n",
       "      <td>0.0</td>\n",
       "      <td>0.0</td>\n",
       "      <td>9.148114</td>\n",
       "    </tr>\n",
       "    <tr>\n",
       "      <th>...</th>\n",
       "      <td>...</td>\n",
       "      <td>...</td>\n",
       "      <td>...</td>\n",
       "      <td>...</td>\n",
       "      <td>...</td>\n",
       "      <td>...</td>\n",
       "      <td>...</td>\n",
       "      <td>...</td>\n",
       "      <td>...</td>\n",
       "      <td>...</td>\n",
       "      <td>...</td>\n",
       "      <td>...</td>\n",
       "      <td>...</td>\n",
       "      <td>...</td>\n",
       "      <td>...</td>\n",
       "      <td>...</td>\n",
       "      <td>...</td>\n",
       "      <td>...</td>\n",
       "      <td>...</td>\n",
       "      <td>...</td>\n",
       "      <td>...</td>\n",
       "    </tr>\n",
       "    <tr>\n",
       "      <th>125</th>\n",
       "      <td>2024-05-31</td>\n",
       "      <td>65.035811</td>\n",
       "      <td>61.100486</td>\n",
       "      <td>71.316484</td>\n",
       "      <td>64.959137</td>\n",
       "      <td>65.100106</td>\n",
       "      <td>0.0</td>\n",
       "      <td>0.0</td>\n",
       "      <td>0.0</td>\n",
       "      <td>0.0</td>\n",
       "      <td>...</td>\n",
       "      <td>0.000000</td>\n",
       "      <td>0.000000</td>\n",
       "      <td>0.000000</td>\n",
       "      <td>1.087053</td>\n",
       "      <td>1.087053</td>\n",
       "      <td>1.087053</td>\n",
       "      <td>0.0</td>\n",
       "      <td>0.0</td>\n",
       "      <td>0.0</td>\n",
       "      <td>66.122864</td>\n",
       "    </tr>\n",
       "    <tr>\n",
       "      <th>126</th>\n",
       "      <td>2024-06-30</td>\n",
       "      <td>65.546469</td>\n",
       "      <td>58.512971</td>\n",
       "      <td>69.375364</td>\n",
       "      <td>65.447565</td>\n",
       "      <td>65.637979</td>\n",
       "      <td>0.0</td>\n",
       "      <td>0.0</td>\n",
       "      <td>0.0</td>\n",
       "      <td>0.0</td>\n",
       "      <td>...</td>\n",
       "      <td>0.000000</td>\n",
       "      <td>0.000000</td>\n",
       "      <td>0.000000</td>\n",
       "      <td>-1.734619</td>\n",
       "      <td>-1.734619</td>\n",
       "      <td>-1.734619</td>\n",
       "      <td>0.0</td>\n",
       "      <td>0.0</td>\n",
       "      <td>0.0</td>\n",
       "      <td>63.811850</td>\n",
       "    </tr>\n",
       "    <tr>\n",
       "      <th>127</th>\n",
       "      <td>2024-07-31</td>\n",
       "      <td>66.074150</td>\n",
       "      <td>59.955410</td>\n",
       "      <td>70.080910</td>\n",
       "      <td>65.953322</td>\n",
       "      <td>66.187182</td>\n",
       "      <td>0.0</td>\n",
       "      <td>0.0</td>\n",
       "      <td>0.0</td>\n",
       "      <td>0.0</td>\n",
       "      <td>...</td>\n",
       "      <td>0.000000</td>\n",
       "      <td>0.000000</td>\n",
       "      <td>0.000000</td>\n",
       "      <td>-1.245855</td>\n",
       "      <td>-1.245855</td>\n",
       "      <td>-1.245855</td>\n",
       "      <td>0.0</td>\n",
       "      <td>0.0</td>\n",
       "      <td>0.0</td>\n",
       "      <td>64.828295</td>\n",
       "    </tr>\n",
       "    <tr>\n",
       "      <th>128</th>\n",
       "      <td>2024-08-31</td>\n",
       "      <td>66.601831</td>\n",
       "      <td>61.512818</td>\n",
       "      <td>71.733482</td>\n",
       "      <td>66.460494</td>\n",
       "      <td>66.743350</td>\n",
       "      <td>0.0</td>\n",
       "      <td>0.0</td>\n",
       "      <td>0.0</td>\n",
       "      <td>0.0</td>\n",
       "      <td>...</td>\n",
       "      <td>0.000000</td>\n",
       "      <td>0.000000</td>\n",
       "      <td>0.000000</td>\n",
       "      <td>0.104559</td>\n",
       "      <td>0.104559</td>\n",
       "      <td>0.104559</td>\n",
       "      <td>0.0</td>\n",
       "      <td>0.0</td>\n",
       "      <td>0.0</td>\n",
       "      <td>66.706390</td>\n",
       "    </tr>\n",
       "    <tr>\n",
       "      <th>129</th>\n",
       "      <td>2024-09-30</td>\n",
       "      <td>67.112489</td>\n",
       "      <td>63.234867</td>\n",
       "      <td>73.461135</td>\n",
       "      <td>66.943003</td>\n",
       "      <td>67.282310</td>\n",
       "      <td>0.0</td>\n",
       "      <td>0.0</td>\n",
       "      <td>0.0</td>\n",
       "      <td>0.0</td>\n",
       "      <td>...</td>\n",
       "      <td>0.000000</td>\n",
       "      <td>0.000000</td>\n",
       "      <td>0.000000</td>\n",
       "      <td>1.170131</td>\n",
       "      <td>1.170131</td>\n",
       "      <td>1.170131</td>\n",
       "      <td>0.0</td>\n",
       "      <td>0.0</td>\n",
       "      <td>0.0</td>\n",
       "      <td>68.282621</td>\n",
       "    </tr>\n",
       "  </tbody>\n",
       "</table>\n",
       "<p>130 rows × 76 columns</p>\n",
       "</div>"
      ],
      "text/plain": [
       "            ds      trend  yhat_lower  yhat_upper  trend_lower  trend_upper  \\\n",
       "0   2014-01-01   9.956578    4.446393   15.504494     9.956578     9.956578   \n",
       "1   2014-02-03  10.279080    4.707870   15.411942    10.279080    10.279080   \n",
       "2   2014-03-03  10.552719    5.290800   15.458203    10.552719    10.552719   \n",
       "3   2014-04-01  10.836130    6.307859   16.838238    10.836130    10.836130   \n",
       "4   2014-05-01  11.129313    3.873909   14.388066    11.129313    11.129313   \n",
       "..         ...        ...         ...         ...          ...          ...   \n",
       "125 2024-05-31  65.035811   61.100486   71.316484    64.959137    65.100106   \n",
       "126 2024-06-30  65.546469   58.512971   69.375364    65.447565    65.637979   \n",
       "127 2024-07-31  66.074150   59.955410   70.080910    65.953322    66.187182   \n",
       "128 2024-08-31  66.601831   61.512818   71.733482    66.460494    66.743350   \n",
       "129 2024-09-30  67.112489   63.234867   73.461135    66.943003    67.282310   \n",
       "\n",
       "     Christmas Day  Christmas Day_lower  Christmas Day_upper  \\\n",
       "0              0.0                  0.0                  0.0   \n",
       "1              0.0                  0.0                  0.0   \n",
       "2              0.0                  0.0                  0.0   \n",
       "3              0.0                  0.0                  0.0   \n",
       "4              0.0                  0.0                  0.0   \n",
       "..             ...                  ...                  ...   \n",
       "125            0.0                  0.0                  0.0   \n",
       "126            0.0                  0.0                  0.0   \n",
       "127            0.0                  0.0                  0.0   \n",
       "128            0.0                  0.0                  0.0   \n",
       "129            0.0                  0.0                  0.0   \n",
       "\n",
       "     Christmas Day (observed)  ...  holidays  holidays_lower  holidays_upper  \\\n",
       "0                         0.0  ... -7.084429       -7.084429       -7.084429   \n",
       "1                         0.0  ...  0.000000        0.000000        0.000000   \n",
       "2                         0.0  ...  0.000000        0.000000        0.000000   \n",
       "3                         0.0  ...  0.000000        0.000000        0.000000   \n",
       "4                         0.0  ...  0.000000        0.000000        0.000000   \n",
       "..                        ...  ...       ...             ...             ...   \n",
       "125                       0.0  ...  0.000000        0.000000        0.000000   \n",
       "126                       0.0  ...  0.000000        0.000000        0.000000   \n",
       "127                       0.0  ...  0.000000        0.000000        0.000000   \n",
       "128                       0.0  ...  0.000000        0.000000        0.000000   \n",
       "129                       0.0  ...  0.000000        0.000000        0.000000   \n",
       "\n",
       "       yearly  yearly_lower  yearly_upper  multiplicative_terms  \\\n",
       "0    7.349141      7.349141      7.349141                   0.0   \n",
       "1    0.006462      0.006462      0.006462                   0.0   \n",
       "2   -0.216974     -0.216974     -0.216974                   0.0   \n",
       "3    0.311521      0.311521      0.311521                   0.0   \n",
       "4   -1.981199     -1.981199     -1.981199                   0.0   \n",
       "..        ...           ...           ...                   ...   \n",
       "125  1.087053      1.087053      1.087053                   0.0   \n",
       "126 -1.734619     -1.734619     -1.734619                   0.0   \n",
       "127 -1.245855     -1.245855     -1.245855                   0.0   \n",
       "128  0.104559      0.104559      0.104559                   0.0   \n",
       "129  1.170131      1.170131      1.170131                   0.0   \n",
       "\n",
       "     multiplicative_terms_lower  multiplicative_terms_upper       yhat  \n",
       "0                           0.0                         0.0  10.221290  \n",
       "1                           0.0                         0.0  10.285542  \n",
       "2                           0.0                         0.0  10.335745  \n",
       "3                           0.0                         0.0  11.147650  \n",
       "4                           0.0                         0.0   9.148114  \n",
       "..                          ...                         ...        ...  \n",
       "125                         0.0                         0.0  66.122864  \n",
       "126                         0.0                         0.0  63.811850  \n",
       "127                         0.0                         0.0  64.828295  \n",
       "128                         0.0                         0.0  66.706390  \n",
       "129                         0.0                         0.0  68.282621  \n",
       "\n",
       "[130 rows x 76 columns]"
      ]
     },
     "execution_count": 49,
     "metadata": {},
     "output_type": "execute_result"
    }
   ],
   "source": [
    "forecast"
   ]
  },
  {
   "cell_type": "markdown",
   "metadata": {},
   "source": [
    "\n"
   ]
  },
  {
   "cell_type": "markdown",
   "metadata": {},
   "source": [
    "# 5. Repeat for other tickers"
   ]
  },
  {
   "cell_type": "code",
   "execution_count": 50,
   "metadata": {},
   "outputs": [
    {
     "data": {
      "text/plain": [
       "['IXN', 'VNQ', 'XLE', 'XLF', 'XLY']"
      ]
     },
     "execution_count": 50,
     "metadata": {},
     "output_type": "execute_result"
    }
   ],
   "source": [
    "list(dict_of_ticker_dfs.keys()\n",
    ")"
   ]
  },
  {
   "cell_type": "code",
   "execution_count": 51,
   "metadata": {},
   "outputs": [
    {
     "name": "stderr",
     "output_type": "stream",
     "text": [
      "15:21:56 - cmdstanpy - INFO - Chain [1] start processing\n",
      "15:21:56 - cmdstanpy - INFO - Chain [1] done processing\n",
      "c:\\Users\\limfy\\anaconda3\\Lib\\site-packages\\prophet\\forecaster.py:1854: FutureWarning:\n",
      "\n",
      "'M' is deprecated and will be removed in a future version, please use 'ME' instead.\n",
      "\n"
     ]
    },
    {
     "name": "stdout",
     "output_type": "stream",
     "text": [
      "Confidence Intervals of Predictions\n"
     ]
    },
    {
     "data": {
      "application/vnd.plotly.v1+json": {
       "config": {
        "plotlyServerURL": "https://plot.ly"
       },
       "data": [
        {
         "marker": {
          "color": "black",
          "size": 4
         },
         "mode": "markers",
         "name": "Actual",
         "type": "scatter",
         "x": [
          "2014-01-01T00:00:00",
          "2014-02-03T00:00:00",
          "2014-03-03T00:00:00",
          "2014-04-01T00:00:00",
          "2014-05-01T00:00:00",
          "2014-06-02T00:00:00",
          "2014-07-01T00:00:00",
          "2014-08-01T00:00:00",
          "2014-09-01T00:00:00",
          "2014-10-01T00:00:00",
          "2014-11-03T00:00:00",
          "2014-12-01T00:00:00",
          "2015-01-01T00:00:00",
          "2015-02-02T00:00:00",
          "2015-03-02T00:00:00",
          "2015-04-01T00:00:00",
          "2015-05-01T00:00:00",
          "2015-06-01T00:00:00",
          "2015-07-01T00:00:00",
          "2015-08-03T00:00:00",
          "2015-09-01T00:00:00",
          "2015-10-01T00:00:00",
          "2015-11-02T00:00:00",
          "2015-12-01T00:00:00",
          "2016-01-01T00:00:00",
          "2016-02-01T00:00:00",
          "2016-03-01T00:00:00",
          "2016-04-01T00:00:00",
          "2016-05-02T00:00:00",
          "2016-06-01T00:00:00",
          "2016-07-01T00:00:00",
          "2016-08-01T00:00:00",
          "2016-09-01T00:00:00",
          "2016-10-03T00:00:00",
          "2016-11-01T00:00:00",
          "2016-12-01T00:00:00",
          "2017-01-02T00:00:00",
          "2017-02-01T00:00:00",
          "2017-03-01T00:00:00",
          "2017-04-03T00:00:00",
          "2017-05-01T00:00:00",
          "2017-06-01T00:00:00",
          "2017-07-03T00:00:00",
          "2017-08-01T00:00:00",
          "2017-09-01T00:00:00",
          "2017-10-02T00:00:00",
          "2017-11-01T00:00:00",
          "2017-12-01T00:00:00",
          "2018-01-01T00:00:00",
          "2018-02-01T00:00:00",
          "2018-03-01T00:00:00",
          "2018-04-02T00:00:00",
          "2018-05-01T00:00:00",
          "2018-06-01T00:00:00",
          "2018-07-02T00:00:00",
          "2018-08-01T00:00:00",
          "2018-09-03T00:00:00",
          "2018-10-01T00:00:00",
          "2018-11-01T00:00:00",
          "2018-12-03T00:00:00",
          "2019-01-01T00:00:00",
          "2019-02-01T00:00:00",
          "2019-03-01T00:00:00",
          "2019-04-01T00:00:00",
          "2019-05-01T00:00:00",
          "2019-06-03T00:00:00",
          "2019-07-01T00:00:00",
          "2019-08-01T00:00:00",
          "2019-09-02T00:00:00",
          "2019-10-01T00:00:00",
          "2019-11-01T00:00:00",
          "2019-12-02T00:00:00",
          "2020-01-01T00:00:00",
          "2020-02-03T00:00:00",
          "2020-03-02T00:00:00",
          "2020-04-01T00:00:00",
          "2020-05-01T00:00:00",
          "2020-06-01T00:00:00",
          "2020-07-01T00:00:00",
          "2020-08-03T00:00:00",
          "2020-09-01T00:00:00",
          "2020-10-01T00:00:00",
          "2020-11-02T00:00:00",
          "2020-12-01T00:00:00",
          "2021-01-01T00:00:00",
          "2021-02-01T00:00:00",
          "2021-03-01T00:00:00",
          "2021-04-01T00:00:00",
          "2021-05-03T00:00:00",
          "2021-06-01T00:00:00",
          "2021-07-01T00:00:00",
          "2021-08-02T00:00:00",
          "2021-09-01T00:00:00",
          "2021-10-01T00:00:00",
          "2021-11-01T00:00:00",
          "2021-12-01T00:00:00",
          "2022-01-03T00:00:00",
          "2022-02-01T00:00:00",
          "2022-03-01T00:00:00",
          "2022-04-01T00:00:00",
          "2022-05-02T00:00:00",
          "2022-06-01T00:00:00",
          "2022-07-01T00:00:00",
          "2022-08-01T00:00:00",
          "2022-09-01T00:00:00",
          "2022-10-03T00:00:00",
          "2022-11-01T00:00:00",
          "2022-12-01T00:00:00",
          "2023-01-02T00:00:00",
          "2023-02-01T00:00:00",
          "2023-03-01T00:00:00",
          "2023-04-03T00:00:00",
          "2023-05-01T00:00:00",
          "2023-06-01T00:00:00",
          "2023-07-03T00:00:00",
          "2023-08-01T00:00:00",
          "2023-09-01T00:00:00",
          "2023-10-02T00:00:00",
          "2023-11-01T00:00:00",
          "2023-12-01T00:00:00"
         ],
         "y": [
          12.486846923828125,
          11.948029518127441,
          12.626483917236328,
          12.975574493408203,
          12.802545547485352,
          13.300378799438477,
          13.738146781921387,
          13.655706405639648,
          14.199188232421875,
          13.71219539642334,
          14.20529556274414,
          14.661755561828613,
          14.523674964904785,
          14.293313980102539,
          15.346844673156738,
          14.812400817871094,
          15.329951286315918,
          15.442059516906738,
          14.889533042907715,
          14.889533042907715,
          13.632655143737793,
          13.912134170532227,
          15.587459564208984,
          15.72333812713623,
          14.879403114318848,
          14.393310546875,
          14.588988304138184,
          15.573596954345703,
          14.852999687194824,
          15.446253776550293,
          15.247871398925781,
          16.512666702270508,
          16.873807907104492,
          17.252153396606445,
          17.045785903930664,
          16.679948806762695,
          17.3914852142334,
          18.22212028503418,
          19.14225196838379,
          19.508108139038086,
          20.224119186401367,
          21.068883895874023,
          20.483030319213867,
          21.662952423095703,
          22.189817428588867,
          22.514772415161133,
          24.219980239868164,
          24.16162109375,
          24.707326889038086,
          26.07105827331543,
          25.412979125976562,
          24.471054077148438,
          25.229036331176758,
          26.943220138549805,
          26.27709197998047,
          26.808422088623047,
          27.93153953552246,
          28.052438735961914,
          25.833251953125,
          25.620084762573242,
          23.092235565185547,
          24.931941986083984,
          26.43729591369629,
          27.729887008666992,
          28.91849136352539,
          26.155742645263672,
          29.342676162719727,
          29.426380157470703,
          28.748672485351562,
          29.522968292236328,
          31.399948120117188,
          32.03901672363281,
          34.66924285888672,
          35.42519760131836,
          34.24835968017578,
          27.961050033569336,
          32.428855895996094,
          35.787811279296875,
          38.40903854370117,
          41.621437072753906,
          45.521514892578125,
          43.35445022583008,
          40.87361526489258,
          46.490440368652344,
          48.44486618041992,
          50.17532730102539,
          51.07072448730469,
          51.19957733154297,
          52.479896545410156,
          52.057472229003906,
          55.222633361816406,
          56.98424530029297,
          59.26323318481445,
          56.11981201171875,
          59.459693908691406,
          60.854583740234375,
          64.09485626220703,
          58.81599044799805,
          54.502296447753906,
          56.88566207885742,
          51.212852478027344,
          50.01131820678711,
          45.035606384277344,
          50.77747344970703,
          47.269100189208984,
          42.9898796081543,
          44.61064529418945,
          48.64280319213867,
          44.129486083984375,
          50.33024215698242,
          48.60395050048828,
          53.89194869995117,
          53.76297378540039,
          59.20970916748047,
          61.8715934753418,
          63.05550765991211,
          61.80195236206055,
          58.0114631652832,
          58.55864715576172,
          65.4233169555664
         ]
        },
        {
         "hoverinfo": "skip",
         "line": {
          "width": 0
         },
         "mode": "lines",
         "type": "scatter",
         "x": [
          "2014-01-01T00:00:00",
          "2014-02-03T00:00:00",
          "2014-03-03T00:00:00",
          "2014-04-01T00:00:00",
          "2014-05-01T00:00:00",
          "2014-06-02T00:00:00",
          "2014-07-01T00:00:00",
          "2014-08-01T00:00:00",
          "2014-09-01T00:00:00",
          "2014-10-01T00:00:00",
          "2014-11-03T00:00:00",
          "2014-12-01T00:00:00",
          "2015-01-01T00:00:00",
          "2015-02-02T00:00:00",
          "2015-03-02T00:00:00",
          "2015-04-01T00:00:00",
          "2015-05-01T00:00:00",
          "2015-06-01T00:00:00",
          "2015-07-01T00:00:00",
          "2015-08-03T00:00:00",
          "2015-09-01T00:00:00",
          "2015-10-01T00:00:00",
          "2015-11-02T00:00:00",
          "2015-12-01T00:00:00",
          "2016-01-01T00:00:00",
          "2016-02-01T00:00:00",
          "2016-03-01T00:00:00",
          "2016-04-01T00:00:00",
          "2016-05-02T00:00:00",
          "2016-06-01T00:00:00",
          "2016-07-01T00:00:00",
          "2016-08-01T00:00:00",
          "2016-09-01T00:00:00",
          "2016-10-03T00:00:00",
          "2016-11-01T00:00:00",
          "2016-12-01T00:00:00",
          "2017-01-02T00:00:00",
          "2017-02-01T00:00:00",
          "2017-03-01T00:00:00",
          "2017-04-03T00:00:00",
          "2017-05-01T00:00:00",
          "2017-06-01T00:00:00",
          "2017-07-03T00:00:00",
          "2017-08-01T00:00:00",
          "2017-09-01T00:00:00",
          "2017-10-02T00:00:00",
          "2017-11-01T00:00:00",
          "2017-12-01T00:00:00",
          "2018-01-01T00:00:00",
          "2018-02-01T00:00:00",
          "2018-03-01T00:00:00",
          "2018-04-02T00:00:00",
          "2018-05-01T00:00:00",
          "2018-06-01T00:00:00",
          "2018-07-02T00:00:00",
          "2018-08-01T00:00:00",
          "2018-09-03T00:00:00",
          "2018-10-01T00:00:00",
          "2018-11-01T00:00:00",
          "2018-12-03T00:00:00",
          "2019-01-01T00:00:00",
          "2019-02-01T00:00:00",
          "2019-03-01T00:00:00",
          "2019-04-01T00:00:00",
          "2019-05-01T00:00:00",
          "2019-06-03T00:00:00",
          "2019-07-01T00:00:00",
          "2019-08-01T00:00:00",
          "2019-09-02T00:00:00",
          "2019-10-01T00:00:00",
          "2019-11-01T00:00:00",
          "2019-12-02T00:00:00",
          "2020-01-01T00:00:00",
          "2020-02-03T00:00:00",
          "2020-03-02T00:00:00",
          "2020-04-01T00:00:00",
          "2020-05-01T00:00:00",
          "2020-06-01T00:00:00",
          "2020-07-01T00:00:00",
          "2020-08-03T00:00:00",
          "2020-09-01T00:00:00",
          "2020-10-01T00:00:00",
          "2020-11-02T00:00:00",
          "2020-12-01T00:00:00",
          "2021-01-01T00:00:00",
          "2021-02-01T00:00:00",
          "2021-03-01T00:00:00",
          "2021-04-01T00:00:00",
          "2021-05-03T00:00:00",
          "2021-06-01T00:00:00",
          "2021-07-01T00:00:00",
          "2021-08-02T00:00:00",
          "2021-09-01T00:00:00",
          "2021-10-01T00:00:00",
          "2021-11-01T00:00:00",
          "2021-12-01T00:00:00",
          "2022-01-03T00:00:00",
          "2022-02-01T00:00:00",
          "2022-03-01T00:00:00",
          "2022-04-01T00:00:00",
          "2022-05-02T00:00:00",
          "2022-06-01T00:00:00",
          "2022-07-01T00:00:00",
          "2022-08-01T00:00:00",
          "2022-09-01T00:00:00",
          "2022-10-03T00:00:00",
          "2022-11-01T00:00:00",
          "2022-12-01T00:00:00",
          "2023-01-02T00:00:00",
          "2023-02-01T00:00:00",
          "2023-03-01T00:00:00",
          "2023-04-03T00:00:00",
          "2023-05-01T00:00:00",
          "2023-06-01T00:00:00",
          "2023-07-03T00:00:00",
          "2023-08-01T00:00:00",
          "2023-09-01T00:00:00",
          "2023-10-02T00:00:00",
          "2023-11-01T00:00:00",
          "2023-12-01T00:00:00",
          "2023-12-31T00:00:00",
          "2024-01-31T00:00:00",
          "2024-02-29T00:00:00",
          "2024-03-31T00:00:00",
          "2024-04-30T00:00:00",
          "2024-05-31T00:00:00",
          "2024-06-30T00:00:00",
          "2024-07-31T00:00:00",
          "2024-08-31T00:00:00",
          "2024-09-30T00:00:00"
         ],
         "y": [
          5.320018845436973,
          5.243385941391266,
          4.699127264093495,
          5.656869512773146,
          3.464871808379994,
          4.018570287279693,
          5.2434753037431845,
          6.1861176480899855,
          5.2231356393823,
          7.636275052974919,
          8.536570894032488,
          9.231889376664569,
          8.078499799974992,
          8.129251400785499,
          7.858089938062081,
          10.12549208832596,
          7.12567189222347,
          10.552011366760702,
          8.332872713836966,
          12.386198040295026,
          10.700297003783966,
          11.612899889738797,
          9.834889196167872,
          13.624241905471827,
          10.34443493200571,
          12.299765997298946,
          11.84669386271347,
          11.728868203706158,
          13.546206677039908,
          12.516918325217414,
          12.9841697177041,
          14.157960059521738,
          15.057862977084566,
          8.894129392103931,
          13.790477116415955,
          15.036164949989827,
          9.157207536679126,
          15.898028359504847,
          15.299304662207554,
          12.09328091170188,
          15.258136924797459,
          16.588646036199705,
          18.059158286347873,
          17.81201334647915,
          18.4119587337413,
          15.586666414633022,
          16.98772074468763,
          19.226802392899888,
          19.873430519791896,
          19.60878061900253,
          19.035964496867223,
          18.450267464370206,
          19.191030141239786,
          21.52571573037941,
          21.83850807380974,
          22.30035670285824,
          22.50240293858297,
          23.369600390868914,
          21.684791615417424,
          18.669063585055085,
          24.268169865948455,
          24.74326519809418,
          24.36140327400272,
          26.91312841308493,
          23.983893388557163,
          23.41291037702938,
          26.469557553368983,
          27.418075434355174,
          28.060840014429537,
          29.69933160413468,
          27.45749410843987,
          29.489290782394146,
          29.53966617177092,
          31.571521246729787,
          31.589973133229083,
          32.01665773230025,
          32.10031857853045,
          33.260429282757634,
          33.5620693564054,
          38.03016637603963,
          36.83144185967289,
          34.838638819129194,
          37.22567920654869,
          37.169294997290045,
          39.41550256223795,
          38.51145319799335,
          38.22750835860042,
          39.58387255476779,
          42.107041314582396,
          40.16973026896179,
          40.71241394512603,
          43.74927965015673,
          43.3795970291565,
          43.075506874143926,
          42.10284875996377,
          44.669288372882576,
          58.634644515802215,
          45.407411294016974,
          44.86356743841131,
          46.73917634384113,
          46.57198949235449,
          47.20862157742119,
          46.557655048207955,
          47.98809053208443,
          49.46226041681591,
          44.825156622380575,
          48.23805718335072,
          51.69196348464718,
          43.01443769265554,
          51.3730050075536,
          51.091282176620965,
          48.82809433768795,
          50.78408782237097,
          54.10616536852925,
          54.80802012619047,
          53.66926203794001,
          55.56909276334393,
          53.8745538387485,
          53.804180730093826,
          58.65877865142213,
          59.30779136560768,
          58.041250191909846,
          57.252053683385974,
          60.602361761626625,
          56.14192560978274,
          60.255021327480506,
          58.81453806107494,
          59.69391350336957,
          61.517158735506484,
          63.05845925813988
         ]
        },
        {
         "fill": "tonexty",
         "fillcolor": "rgba(0, 114, 178, 0.2)",
         "line": {
          "color": "#0072B2",
          "width": 2
         },
         "mode": "lines",
         "name": "Predicted",
         "type": "scatter",
         "x": [
          "2014-01-01T00:00:00",
          "2014-02-03T00:00:00",
          "2014-03-03T00:00:00",
          "2014-04-01T00:00:00",
          "2014-05-01T00:00:00",
          "2014-06-02T00:00:00",
          "2014-07-01T00:00:00",
          "2014-08-01T00:00:00",
          "2014-09-01T00:00:00",
          "2014-10-01T00:00:00",
          "2014-11-03T00:00:00",
          "2014-12-01T00:00:00",
          "2015-01-01T00:00:00",
          "2015-02-02T00:00:00",
          "2015-03-02T00:00:00",
          "2015-04-01T00:00:00",
          "2015-05-01T00:00:00",
          "2015-06-01T00:00:00",
          "2015-07-01T00:00:00",
          "2015-08-03T00:00:00",
          "2015-09-01T00:00:00",
          "2015-10-01T00:00:00",
          "2015-11-02T00:00:00",
          "2015-12-01T00:00:00",
          "2016-01-01T00:00:00",
          "2016-02-01T00:00:00",
          "2016-03-01T00:00:00",
          "2016-04-01T00:00:00",
          "2016-05-02T00:00:00",
          "2016-06-01T00:00:00",
          "2016-07-01T00:00:00",
          "2016-08-01T00:00:00",
          "2016-09-01T00:00:00",
          "2016-10-03T00:00:00",
          "2016-11-01T00:00:00",
          "2016-12-01T00:00:00",
          "2017-01-02T00:00:00",
          "2017-02-01T00:00:00",
          "2017-03-01T00:00:00",
          "2017-04-03T00:00:00",
          "2017-05-01T00:00:00",
          "2017-06-01T00:00:00",
          "2017-07-03T00:00:00",
          "2017-08-01T00:00:00",
          "2017-09-01T00:00:00",
          "2017-10-02T00:00:00",
          "2017-11-01T00:00:00",
          "2017-12-01T00:00:00",
          "2018-01-01T00:00:00",
          "2018-02-01T00:00:00",
          "2018-03-01T00:00:00",
          "2018-04-02T00:00:00",
          "2018-05-01T00:00:00",
          "2018-06-01T00:00:00",
          "2018-07-02T00:00:00",
          "2018-08-01T00:00:00",
          "2018-09-03T00:00:00",
          "2018-10-01T00:00:00",
          "2018-11-01T00:00:00",
          "2018-12-03T00:00:00",
          "2019-01-01T00:00:00",
          "2019-02-01T00:00:00",
          "2019-03-01T00:00:00",
          "2019-04-01T00:00:00",
          "2019-05-01T00:00:00",
          "2019-06-03T00:00:00",
          "2019-07-01T00:00:00",
          "2019-08-01T00:00:00",
          "2019-09-02T00:00:00",
          "2019-10-01T00:00:00",
          "2019-11-01T00:00:00",
          "2019-12-02T00:00:00",
          "2020-01-01T00:00:00",
          "2020-02-03T00:00:00",
          "2020-03-02T00:00:00",
          "2020-04-01T00:00:00",
          "2020-05-01T00:00:00",
          "2020-06-01T00:00:00",
          "2020-07-01T00:00:00",
          "2020-08-03T00:00:00",
          "2020-09-01T00:00:00",
          "2020-10-01T00:00:00",
          "2020-11-02T00:00:00",
          "2020-12-01T00:00:00",
          "2021-01-01T00:00:00",
          "2021-02-01T00:00:00",
          "2021-03-01T00:00:00",
          "2021-04-01T00:00:00",
          "2021-05-03T00:00:00",
          "2021-06-01T00:00:00",
          "2021-07-01T00:00:00",
          "2021-08-02T00:00:00",
          "2021-09-01T00:00:00",
          "2021-10-01T00:00:00",
          "2021-11-01T00:00:00",
          "2021-12-01T00:00:00",
          "2022-01-03T00:00:00",
          "2022-02-01T00:00:00",
          "2022-03-01T00:00:00",
          "2022-04-01T00:00:00",
          "2022-05-02T00:00:00",
          "2022-06-01T00:00:00",
          "2022-07-01T00:00:00",
          "2022-08-01T00:00:00",
          "2022-09-01T00:00:00",
          "2022-10-03T00:00:00",
          "2022-11-01T00:00:00",
          "2022-12-01T00:00:00",
          "2023-01-02T00:00:00",
          "2023-02-01T00:00:00",
          "2023-03-01T00:00:00",
          "2023-04-03T00:00:00",
          "2023-05-01T00:00:00",
          "2023-06-01T00:00:00",
          "2023-07-03T00:00:00",
          "2023-08-01T00:00:00",
          "2023-09-01T00:00:00",
          "2023-10-02T00:00:00",
          "2023-11-01T00:00:00",
          "2023-12-01T00:00:00",
          "2023-12-31T00:00:00",
          "2024-01-31T00:00:00",
          "2024-02-29T00:00:00",
          "2024-03-31T00:00:00",
          "2024-04-30T00:00:00",
          "2024-05-31T00:00:00",
          "2024-06-30T00:00:00",
          "2024-07-31T00:00:00",
          "2024-08-31T00:00:00",
          "2024-09-30T00:00:00"
         ],
         "y": [
          10.2212898969751,
          10.285541984319131,
          10.335744846792675,
          11.147650187063899,
          9.148114165150641,
          9.329212230084753,
          10.527785630209841,
          11.514237184372544,
          10.423280010778896,
          12.618941614492135,
          13.61209819974131,
          14.49992550521389,
          12.907718809442002,
          13.660336592939379,
          13.356527596193688,
          15.25653414804784,
          12.277484356599622,
          15.558256615363723,
          13.831819460002572,
          17.689813689224078,
          16.17188617138821,
          16.773123105507047,
          15.493757671357832,
          18.856683546981984,
          15.580534235286141,
          17.248321716763925,
          16.845137071036838,
          17.200972935422122,
          18.9068121972238,
          17.53794527208779,
          18.166125412155793,
          19.408010164993904,
          20.356151421533188,
          14.145786663758503,
          18.767158635805362,
          20.082737787551604,
          14.238804729657456,
          20.861028310860277,
          20.43949543131796,
          17.06981280299036,
          20.42916755724051,
          21.79014076282185,
          23.26162651948767,
          22.7998530950257,
          23.937171539610446,
          20.726613672334892,
          22.284270187694037,
          24.787129188228793,
          24.940171089736154,
          24.855967776002522,
          24.44244759624197,
          23.939779323329077,
          24.20763159959699,
          26.61639800639534,
          26.76906450207988,
          26.94215535697713,
          27.94236227852055,
          28.318757332924175,
          26.81805580926712,
          23.93451134216953,
          29.16571578455649,
          30.1020450203809,
          29.753532742913354,
          32.161270708657725,
          29.41543622512095,
          28.689305011503706,
          31.47455973777664,
          32.63187841269958,
          32.82893754402614,
          35.23969932404587,
          32.92144460420388,
          34.67605881501818,
          34.88865635361129,
          36.934030449092496,
          37.092482838567584,
          37.34149369050785,
          37.58002341675777,
          38.23494159695811,
          39.13679824580967,
          43.63131536282211,
          41.87655036589634,
          40.4099297757243,
          42.17842059261378,
          42.403551330536004,
          44.45447779426951,
          43.718255602791736,
          43.538974090585945,
          44.79357945668264,
          47.534150454170835,
          45.67556264143884,
          45.802263889373734,
          48.69059356995302,
          48.54061682700976,
          47.8331099483227,
          47.306739122373116,
          49.98999003468345,
          63.88321575432393,
          50.3811195517568,
          50.08341187235782,
          51.88296269922838,
          51.85958929884591,
          52.63788906942237,
          51.92277231959108,
          53.13394804438204,
          54.63178659959438,
          50.13992791521229,
          53.216791472235506,
          57.00403470121832,
          48.14475335109415,
          56.60952275788912,
          56.246319525689,
          54.29735780011424,
          55.876217713654576,
          59.381714138321186,
          59.68237965966575,
          58.979944869960335,
          60.66226702510621,
          59.16435550900529,
          59.10388402010899,
          64.00673856409463,
          64.32687113806456,
          63.0367616522529,
          62.41848593824244,
          65.38959275220954,
          61.65103033936516,
          66.12286357026383,
          63.81185006334068,
          64.82829528511252,
          66.70638956517674,
          68.28262052667718
         ]
        },
        {
         "fill": "tonexty",
         "fillcolor": "rgba(0, 114, 178, 0.2)",
         "hoverinfo": "skip",
         "line": {
          "width": 0
         },
         "mode": "lines",
         "type": "scatter",
         "x": [
          "2014-01-01T00:00:00",
          "2014-02-03T00:00:00",
          "2014-03-03T00:00:00",
          "2014-04-01T00:00:00",
          "2014-05-01T00:00:00",
          "2014-06-02T00:00:00",
          "2014-07-01T00:00:00",
          "2014-08-01T00:00:00",
          "2014-09-01T00:00:00",
          "2014-10-01T00:00:00",
          "2014-11-03T00:00:00",
          "2014-12-01T00:00:00",
          "2015-01-01T00:00:00",
          "2015-02-02T00:00:00",
          "2015-03-02T00:00:00",
          "2015-04-01T00:00:00",
          "2015-05-01T00:00:00",
          "2015-06-01T00:00:00",
          "2015-07-01T00:00:00",
          "2015-08-03T00:00:00",
          "2015-09-01T00:00:00",
          "2015-10-01T00:00:00",
          "2015-11-02T00:00:00",
          "2015-12-01T00:00:00",
          "2016-01-01T00:00:00",
          "2016-02-01T00:00:00",
          "2016-03-01T00:00:00",
          "2016-04-01T00:00:00",
          "2016-05-02T00:00:00",
          "2016-06-01T00:00:00",
          "2016-07-01T00:00:00",
          "2016-08-01T00:00:00",
          "2016-09-01T00:00:00",
          "2016-10-03T00:00:00",
          "2016-11-01T00:00:00",
          "2016-12-01T00:00:00",
          "2017-01-02T00:00:00",
          "2017-02-01T00:00:00",
          "2017-03-01T00:00:00",
          "2017-04-03T00:00:00",
          "2017-05-01T00:00:00",
          "2017-06-01T00:00:00",
          "2017-07-03T00:00:00",
          "2017-08-01T00:00:00",
          "2017-09-01T00:00:00",
          "2017-10-02T00:00:00",
          "2017-11-01T00:00:00",
          "2017-12-01T00:00:00",
          "2018-01-01T00:00:00",
          "2018-02-01T00:00:00",
          "2018-03-01T00:00:00",
          "2018-04-02T00:00:00",
          "2018-05-01T00:00:00",
          "2018-06-01T00:00:00",
          "2018-07-02T00:00:00",
          "2018-08-01T00:00:00",
          "2018-09-03T00:00:00",
          "2018-10-01T00:00:00",
          "2018-11-01T00:00:00",
          "2018-12-03T00:00:00",
          "2019-01-01T00:00:00",
          "2019-02-01T00:00:00",
          "2019-03-01T00:00:00",
          "2019-04-01T00:00:00",
          "2019-05-01T00:00:00",
          "2019-06-03T00:00:00",
          "2019-07-01T00:00:00",
          "2019-08-01T00:00:00",
          "2019-09-02T00:00:00",
          "2019-10-01T00:00:00",
          "2019-11-01T00:00:00",
          "2019-12-02T00:00:00",
          "2020-01-01T00:00:00",
          "2020-02-03T00:00:00",
          "2020-03-02T00:00:00",
          "2020-04-01T00:00:00",
          "2020-05-01T00:00:00",
          "2020-06-01T00:00:00",
          "2020-07-01T00:00:00",
          "2020-08-03T00:00:00",
          "2020-09-01T00:00:00",
          "2020-10-01T00:00:00",
          "2020-11-02T00:00:00",
          "2020-12-01T00:00:00",
          "2021-01-01T00:00:00",
          "2021-02-01T00:00:00",
          "2021-03-01T00:00:00",
          "2021-04-01T00:00:00",
          "2021-05-03T00:00:00",
          "2021-06-01T00:00:00",
          "2021-07-01T00:00:00",
          "2021-08-02T00:00:00",
          "2021-09-01T00:00:00",
          "2021-10-01T00:00:00",
          "2021-11-01T00:00:00",
          "2021-12-01T00:00:00",
          "2022-01-03T00:00:00",
          "2022-02-01T00:00:00",
          "2022-03-01T00:00:00",
          "2022-04-01T00:00:00",
          "2022-05-02T00:00:00",
          "2022-06-01T00:00:00",
          "2022-07-01T00:00:00",
          "2022-08-01T00:00:00",
          "2022-09-01T00:00:00",
          "2022-10-03T00:00:00",
          "2022-11-01T00:00:00",
          "2022-12-01T00:00:00",
          "2023-01-02T00:00:00",
          "2023-02-01T00:00:00",
          "2023-03-01T00:00:00",
          "2023-04-03T00:00:00",
          "2023-05-01T00:00:00",
          "2023-06-01T00:00:00",
          "2023-07-03T00:00:00",
          "2023-08-01T00:00:00",
          "2023-09-01T00:00:00",
          "2023-10-02T00:00:00",
          "2023-11-01T00:00:00",
          "2023-12-01T00:00:00",
          "2023-12-31T00:00:00",
          "2024-01-31T00:00:00",
          "2024-02-29T00:00:00",
          "2024-03-31T00:00:00",
          "2024-04-30T00:00:00",
          "2024-05-31T00:00:00",
          "2024-06-30T00:00:00",
          "2024-07-31T00:00:00",
          "2024-08-31T00:00:00",
          "2024-09-30T00:00:00"
         ],
         "y": [
          15.876395024118308,
          15.784267012818576,
          15.634065638116502,
          16.394301430861756,
          14.563063409735749,
          14.67785799124761,
          15.830786853183413,
          16.569778998841947,
          15.82594859492935,
          18.139385940807593,
          19.09612400794764,
          19.916551999972565,
          18.166818179362853,
          18.5458646199816,
          18.51232359810078,
          20.496487419910885,
          17.75602909862526,
          20.8657236377773,
          19.400699883210855,
          23.175637467968798,
          21.179308393590997,
          22.03628042230685,
          20.333376654724326,
          24.455529039570774,
          20.90049681890872,
          22.745125665538612,
          22.50665296872824,
          22.003430349215957,
          24.167634397495657,
          22.742762722834158,
          23.6220722337958,
          24.89943376012023,
          25.280073781539418,
          19.720332430932245,
          23.890859416314758,
          25.367982749815305,
          19.760696970018508,
          26.04017859072453,
          25.72655125766914,
          21.88410536888988,
          25.589452179121636,
          26.82364740806771,
          28.528156235103054,
          27.83837710762382,
          29.06774494988969,
          26.185845590096285,
          27.449671686199245,
          29.73015344229247,
          30.333806538091807,
          29.907216310710897,
          29.964034583767187,
          29.266655086869132,
          29.44256283935166,
          31.83463222854257,
          31.777919683091167,
          32.107437379874305,
          32.92899851670205,
          34.01943945913487,
          32.063328050291965,
          29.138948538764645,
          33.86989993293645,
          35.05736101085034,
          35.12348978799311,
          37.36348736553215,
          34.72813138190251,
          34.1121173979827,
          36.79695983669396,
          37.83448550644582,
          38.08449034612667,
          40.46318791943663,
          38.16053147305484,
          39.71929851721838,
          40.044252580417236,
          42.044438413513674,
          42.41604661338052,
          42.55660069479001,
          42.80827137163008,
          43.92714944482698,
          44.47800137585266,
          48.90285588695425,
          47.1499853338617,
          45.662548527357345,
          47.641579704754776,
          47.58081395496747,
          49.77124041004212,
          49.09142337842659,
          48.78069806630331,
          50.15447611302955,
          52.77271341375636,
          50.97754692451109,
          51.18802494811847,
          53.78520771901208,
          54.202794703371154,
          53.33347029995582,
          52.42215811308853,
          55.413587593399534,
          69.29853557442473,
          55.579639010523785,
          55.442319890341246,
          56.90365610887595,
          57.03506549527102,
          57.63378307300703,
          57.13851517739817,
          58.821934289850425,
          60.12332916961572,
          55.26145553942313,
          58.87871525192094,
          62.27406550664873,
          53.52454897709881,
          61.745484055091836,
          61.49785742470238,
          59.45268928433002,
          61.26421574853431,
          64.47619199875957,
          64.91487240461844,
          64.43249967530248,
          66.0541262033257,
          64.29619325452455,
          64.56422854925954,
          68.95798754044135,
          69.68967063597391,
          67.8403920595845,
          67.91096444924791,
          70.41465978513277,
          67.24036314942866,
          71.19335595201008,
          69.28048553876883,
          70.3796517187125,
          71.88553263172399,
          73.12126166562379
         ]
        },
        {
         "marker": {
          "color": "red"
         },
         "mode": "markers",
         "name": "Out-of-Sample Prices",
         "type": "scatter",
         "x": [
          "2024-01-01T00:00:00",
          "2024-02-01T00:00:00",
          "2024-03-01T00:00:00",
          "2024-04-01T00:00:00",
          "2024-05-01T00:00:00",
          "2024-06-03T00:00:00",
          "2024-07-01T00:00:00",
          "2024-08-01T00:00:00",
          "2024-09-02T00:00:00",
          "2024-10-01T00:00:00"
         ],
         "y": [
          66.1763916015625,
          70.64736938476562,
          74.6393051147461,
          74.89878845214844,
          69.68930053710938,
          76.90473175048828,
          83.62000274658203,
          77.68000030517578,
          77.5999984741211,
          80.80999755859375
         ]
        }
       ],
       "layout": {
        "height": 600,
        "showlegend": false,
        "template": {
         "data": {
          "bar": [
           {
            "error_x": {
             "color": "#2a3f5f"
            },
            "error_y": {
             "color": "#2a3f5f"
            },
            "marker": {
             "line": {
              "color": "#E5ECF6",
              "width": 0.5
             },
             "pattern": {
              "fillmode": "overlay",
              "size": 10,
              "solidity": 0.2
             }
            },
            "type": "bar"
           }
          ],
          "barpolar": [
           {
            "marker": {
             "line": {
              "color": "#E5ECF6",
              "width": 0.5
             },
             "pattern": {
              "fillmode": "overlay",
              "size": 10,
              "solidity": 0.2
             }
            },
            "type": "barpolar"
           }
          ],
          "carpet": [
           {
            "aaxis": {
             "endlinecolor": "#2a3f5f",
             "gridcolor": "white",
             "linecolor": "white",
             "minorgridcolor": "white",
             "startlinecolor": "#2a3f5f"
            },
            "baxis": {
             "endlinecolor": "#2a3f5f",
             "gridcolor": "white",
             "linecolor": "white",
             "minorgridcolor": "white",
             "startlinecolor": "#2a3f5f"
            },
            "type": "carpet"
           }
          ],
          "choropleth": [
           {
            "colorbar": {
             "outlinewidth": 0,
             "ticks": ""
            },
            "type": "choropleth"
           }
          ],
          "contour": [
           {
            "colorbar": {
             "outlinewidth": 0,
             "ticks": ""
            },
            "colorscale": [
             [
              0,
              "#0d0887"
             ],
             [
              0.1111111111111111,
              "#46039f"
             ],
             [
              0.2222222222222222,
              "#7201a8"
             ],
             [
              0.3333333333333333,
              "#9c179e"
             ],
             [
              0.4444444444444444,
              "#bd3786"
             ],
             [
              0.5555555555555556,
              "#d8576b"
             ],
             [
              0.6666666666666666,
              "#ed7953"
             ],
             [
              0.7777777777777778,
              "#fb9f3a"
             ],
             [
              0.8888888888888888,
              "#fdca26"
             ],
             [
              1,
              "#f0f921"
             ]
            ],
            "type": "contour"
           }
          ],
          "contourcarpet": [
           {
            "colorbar": {
             "outlinewidth": 0,
             "ticks": ""
            },
            "type": "contourcarpet"
           }
          ],
          "heatmap": [
           {
            "colorbar": {
             "outlinewidth": 0,
             "ticks": ""
            },
            "colorscale": [
             [
              0,
              "#0d0887"
             ],
             [
              0.1111111111111111,
              "#46039f"
             ],
             [
              0.2222222222222222,
              "#7201a8"
             ],
             [
              0.3333333333333333,
              "#9c179e"
             ],
             [
              0.4444444444444444,
              "#bd3786"
             ],
             [
              0.5555555555555556,
              "#d8576b"
             ],
             [
              0.6666666666666666,
              "#ed7953"
             ],
             [
              0.7777777777777778,
              "#fb9f3a"
             ],
             [
              0.8888888888888888,
              "#fdca26"
             ],
             [
              1,
              "#f0f921"
             ]
            ],
            "type": "heatmap"
           }
          ],
          "heatmapgl": [
           {
            "colorbar": {
             "outlinewidth": 0,
             "ticks": ""
            },
            "colorscale": [
             [
              0,
              "#0d0887"
             ],
             [
              0.1111111111111111,
              "#46039f"
             ],
             [
              0.2222222222222222,
              "#7201a8"
             ],
             [
              0.3333333333333333,
              "#9c179e"
             ],
             [
              0.4444444444444444,
              "#bd3786"
             ],
             [
              0.5555555555555556,
              "#d8576b"
             ],
             [
              0.6666666666666666,
              "#ed7953"
             ],
             [
              0.7777777777777778,
              "#fb9f3a"
             ],
             [
              0.8888888888888888,
              "#fdca26"
             ],
             [
              1,
              "#f0f921"
             ]
            ],
            "type": "heatmapgl"
           }
          ],
          "histogram": [
           {
            "marker": {
             "pattern": {
              "fillmode": "overlay",
              "size": 10,
              "solidity": 0.2
             }
            },
            "type": "histogram"
           }
          ],
          "histogram2d": [
           {
            "colorbar": {
             "outlinewidth": 0,
             "ticks": ""
            },
            "colorscale": [
             [
              0,
              "#0d0887"
             ],
             [
              0.1111111111111111,
              "#46039f"
             ],
             [
              0.2222222222222222,
              "#7201a8"
             ],
             [
              0.3333333333333333,
              "#9c179e"
             ],
             [
              0.4444444444444444,
              "#bd3786"
             ],
             [
              0.5555555555555556,
              "#d8576b"
             ],
             [
              0.6666666666666666,
              "#ed7953"
             ],
             [
              0.7777777777777778,
              "#fb9f3a"
             ],
             [
              0.8888888888888888,
              "#fdca26"
             ],
             [
              1,
              "#f0f921"
             ]
            ],
            "type": "histogram2d"
           }
          ],
          "histogram2dcontour": [
           {
            "colorbar": {
             "outlinewidth": 0,
             "ticks": ""
            },
            "colorscale": [
             [
              0,
              "#0d0887"
             ],
             [
              0.1111111111111111,
              "#46039f"
             ],
             [
              0.2222222222222222,
              "#7201a8"
             ],
             [
              0.3333333333333333,
              "#9c179e"
             ],
             [
              0.4444444444444444,
              "#bd3786"
             ],
             [
              0.5555555555555556,
              "#d8576b"
             ],
             [
              0.6666666666666666,
              "#ed7953"
             ],
             [
              0.7777777777777778,
              "#fb9f3a"
             ],
             [
              0.8888888888888888,
              "#fdca26"
             ],
             [
              1,
              "#f0f921"
             ]
            ],
            "type": "histogram2dcontour"
           }
          ],
          "mesh3d": [
           {
            "colorbar": {
             "outlinewidth": 0,
             "ticks": ""
            },
            "type": "mesh3d"
           }
          ],
          "parcoords": [
           {
            "line": {
             "colorbar": {
              "outlinewidth": 0,
              "ticks": ""
             }
            },
            "type": "parcoords"
           }
          ],
          "pie": [
           {
            "automargin": true,
            "type": "pie"
           }
          ],
          "scatter": [
           {
            "fillpattern": {
             "fillmode": "overlay",
             "size": 10,
             "solidity": 0.2
            },
            "type": "scatter"
           }
          ],
          "scatter3d": [
           {
            "line": {
             "colorbar": {
              "outlinewidth": 0,
              "ticks": ""
             }
            },
            "marker": {
             "colorbar": {
              "outlinewidth": 0,
              "ticks": ""
             }
            },
            "type": "scatter3d"
           }
          ],
          "scattercarpet": [
           {
            "marker": {
             "colorbar": {
              "outlinewidth": 0,
              "ticks": ""
             }
            },
            "type": "scattercarpet"
           }
          ],
          "scattergeo": [
           {
            "marker": {
             "colorbar": {
              "outlinewidth": 0,
              "ticks": ""
             }
            },
            "type": "scattergeo"
           }
          ],
          "scattergl": [
           {
            "marker": {
             "colorbar": {
              "outlinewidth": 0,
              "ticks": ""
             }
            },
            "type": "scattergl"
           }
          ],
          "scattermapbox": [
           {
            "marker": {
             "colorbar": {
              "outlinewidth": 0,
              "ticks": ""
             }
            },
            "type": "scattermapbox"
           }
          ],
          "scatterpolar": [
           {
            "marker": {
             "colorbar": {
              "outlinewidth": 0,
              "ticks": ""
             }
            },
            "type": "scatterpolar"
           }
          ],
          "scatterpolargl": [
           {
            "marker": {
             "colorbar": {
              "outlinewidth": 0,
              "ticks": ""
             }
            },
            "type": "scatterpolargl"
           }
          ],
          "scatterternary": [
           {
            "marker": {
             "colorbar": {
              "outlinewidth": 0,
              "ticks": ""
             }
            },
            "type": "scatterternary"
           }
          ],
          "surface": [
           {
            "colorbar": {
             "outlinewidth": 0,
             "ticks": ""
            },
            "colorscale": [
             [
              0,
              "#0d0887"
             ],
             [
              0.1111111111111111,
              "#46039f"
             ],
             [
              0.2222222222222222,
              "#7201a8"
             ],
             [
              0.3333333333333333,
              "#9c179e"
             ],
             [
              0.4444444444444444,
              "#bd3786"
             ],
             [
              0.5555555555555556,
              "#d8576b"
             ],
             [
              0.6666666666666666,
              "#ed7953"
             ],
             [
              0.7777777777777778,
              "#fb9f3a"
             ],
             [
              0.8888888888888888,
              "#fdca26"
             ],
             [
              1,
              "#f0f921"
             ]
            ],
            "type": "surface"
           }
          ],
          "table": [
           {
            "cells": {
             "fill": {
              "color": "#EBF0F8"
             },
             "line": {
              "color": "white"
             }
            },
            "header": {
             "fill": {
              "color": "#C8D4E3"
             },
             "line": {
              "color": "white"
             }
            },
            "type": "table"
           }
          ]
         },
         "layout": {
          "annotationdefaults": {
           "arrowcolor": "#2a3f5f",
           "arrowhead": 0,
           "arrowwidth": 1
          },
          "autotypenumbers": "strict",
          "coloraxis": {
           "colorbar": {
            "outlinewidth": 0,
            "ticks": ""
           }
          },
          "colorscale": {
           "diverging": [
            [
             0,
             "#8e0152"
            ],
            [
             0.1,
             "#c51b7d"
            ],
            [
             0.2,
             "#de77ae"
            ],
            [
             0.3,
             "#f1b6da"
            ],
            [
             0.4,
             "#fde0ef"
            ],
            [
             0.5,
             "#f7f7f7"
            ],
            [
             0.6,
             "#e6f5d0"
            ],
            [
             0.7,
             "#b8e186"
            ],
            [
             0.8,
             "#7fbc41"
            ],
            [
             0.9,
             "#4d9221"
            ],
            [
             1,
             "#276419"
            ]
           ],
           "sequential": [
            [
             0,
             "#0d0887"
            ],
            [
             0.1111111111111111,
             "#46039f"
            ],
            [
             0.2222222222222222,
             "#7201a8"
            ],
            [
             0.3333333333333333,
             "#9c179e"
            ],
            [
             0.4444444444444444,
             "#bd3786"
            ],
            [
             0.5555555555555556,
             "#d8576b"
            ],
            [
             0.6666666666666666,
             "#ed7953"
            ],
            [
             0.7777777777777778,
             "#fb9f3a"
            ],
            [
             0.8888888888888888,
             "#fdca26"
            ],
            [
             1,
             "#f0f921"
            ]
           ],
           "sequentialminus": [
            [
             0,
             "#0d0887"
            ],
            [
             0.1111111111111111,
             "#46039f"
            ],
            [
             0.2222222222222222,
             "#7201a8"
            ],
            [
             0.3333333333333333,
             "#9c179e"
            ],
            [
             0.4444444444444444,
             "#bd3786"
            ],
            [
             0.5555555555555556,
             "#d8576b"
            ],
            [
             0.6666666666666666,
             "#ed7953"
            ],
            [
             0.7777777777777778,
             "#fb9f3a"
            ],
            [
             0.8888888888888888,
             "#fdca26"
            ],
            [
             1,
             "#f0f921"
            ]
           ]
          },
          "colorway": [
           "#636efa",
           "#EF553B",
           "#00cc96",
           "#ab63fa",
           "#FFA15A",
           "#19d3f3",
           "#FF6692",
           "#B6E880",
           "#FF97FF",
           "#FECB52"
          ],
          "font": {
           "color": "#2a3f5f"
          },
          "geo": {
           "bgcolor": "white",
           "lakecolor": "white",
           "landcolor": "#E5ECF6",
           "showlakes": true,
           "showland": true,
           "subunitcolor": "white"
          },
          "hoverlabel": {
           "align": "left"
          },
          "hovermode": "closest",
          "mapbox": {
           "style": "light"
          },
          "paper_bgcolor": "white",
          "plot_bgcolor": "#E5ECF6",
          "polar": {
           "angularaxis": {
            "gridcolor": "white",
            "linecolor": "white",
            "ticks": ""
           },
           "bgcolor": "#E5ECF6",
           "radialaxis": {
            "gridcolor": "white",
            "linecolor": "white",
            "ticks": ""
           }
          },
          "scene": {
           "xaxis": {
            "backgroundcolor": "#E5ECF6",
            "gridcolor": "white",
            "gridwidth": 2,
            "linecolor": "white",
            "showbackground": true,
            "ticks": "",
            "zerolinecolor": "white"
           },
           "yaxis": {
            "backgroundcolor": "#E5ECF6",
            "gridcolor": "white",
            "gridwidth": 2,
            "linecolor": "white",
            "showbackground": true,
            "ticks": "",
            "zerolinecolor": "white"
           },
           "zaxis": {
            "backgroundcolor": "#E5ECF6",
            "gridcolor": "white",
            "gridwidth": 2,
            "linecolor": "white",
            "showbackground": true,
            "ticks": "",
            "zerolinecolor": "white"
           }
          },
          "shapedefaults": {
           "line": {
            "color": "#2a3f5f"
           }
          },
          "ternary": {
           "aaxis": {
            "gridcolor": "white",
            "linecolor": "white",
            "ticks": ""
           },
           "baxis": {
            "gridcolor": "white",
            "linecolor": "white",
            "ticks": ""
           },
           "bgcolor": "#E5ECF6",
           "caxis": {
            "gridcolor": "white",
            "linecolor": "white",
            "ticks": ""
           }
          },
          "title": {
           "x": 0.05
          },
          "xaxis": {
           "automargin": true,
           "gridcolor": "white",
           "linecolor": "white",
           "ticks": "",
           "title": {
            "standoff": 15
           },
           "zerolinecolor": "white",
           "zerolinewidth": 2
          },
          "yaxis": {
           "automargin": true,
           "gridcolor": "white",
           "linecolor": "white",
           "ticks": "",
           "title": {
            "standoff": 15
           },
           "zerolinecolor": "white",
           "zerolinewidth": 2
          }
         }
        },
        "width": 900,
        "xaxis": {
         "rangeselector": {
          "buttons": [
           {
            "count": 7,
            "label": "1w",
            "step": "day",
            "stepmode": "backward"
           },
           {
            "count": 1,
            "label": "1m",
            "step": "month",
            "stepmode": "backward"
           },
           {
            "count": 6,
            "label": "6m",
            "step": "month",
            "stepmode": "backward"
           },
           {
            "count": 1,
            "label": "1y",
            "step": "year",
            "stepmode": "backward"
           },
           {
            "step": "all"
           }
          ]
         },
         "rangeslider": {
          "visible": true
         },
         "title": {
          "text": "ds"
         },
         "type": "date"
        },
        "yaxis": {
         "title": {
          "text": "y"
         }
        }
       }
      }
     },
     "metadata": {},
     "output_type": "display_data"
    },
    {
     "name": "stderr",
     "output_type": "stream",
     "text": [
      "15:21:57 - cmdstanpy - INFO - Chain [1] start processing\n"
     ]
    },
    {
     "name": "stdout",
     "output_type": "stream",
     "text": [
      "IXN\n",
      "Out Sample Mean Absolute Percentage Error (MAPE): 0.1379640763637384\n",
      "Out Sample Mean Squared Error (MSE): 11.467837173771866\n",
      "Out Sample Mean Absolute Error (MAE): 10.609112509458743\n"
     ]
    },
    {
     "name": "stderr",
     "output_type": "stream",
     "text": [
      "15:21:57 - cmdstanpy - INFO - Chain [1] done processing\n",
      "c:\\Users\\limfy\\anaconda3\\Lib\\site-packages\\prophet\\forecaster.py:1854: FutureWarning:\n",
      "\n",
      "'M' is deprecated and will be removed in a future version, please use 'ME' instead.\n",
      "\n"
     ]
    },
    {
     "name": "stdout",
     "output_type": "stream",
     "text": [
      "Confidence Intervals of Predictions\n"
     ]
    },
    {
     "data": {
      "application/vnd.plotly.v1+json": {
       "config": {
        "plotlyServerURL": "https://plot.ly"
       },
       "data": [
        {
         "marker": {
          "color": "black",
          "size": 4
         },
         "mode": "markers",
         "name": "Actual",
         "type": "scatter",
         "x": [
          "2014-01-01T00:00:00",
          "2014-02-03T00:00:00",
          "2014-03-03T00:00:00",
          "2014-04-01T00:00:00",
          "2014-05-01T00:00:00",
          "2014-06-02T00:00:00",
          "2014-07-01T00:00:00",
          "2014-08-01T00:00:00",
          "2014-09-01T00:00:00",
          "2014-10-01T00:00:00",
          "2014-11-03T00:00:00",
          "2014-12-01T00:00:00",
          "2015-01-01T00:00:00",
          "2015-02-02T00:00:00",
          "2015-03-02T00:00:00",
          "2015-04-01T00:00:00",
          "2015-05-01T00:00:00",
          "2015-06-01T00:00:00",
          "2015-07-01T00:00:00",
          "2015-08-03T00:00:00",
          "2015-09-01T00:00:00",
          "2015-10-01T00:00:00",
          "2015-11-02T00:00:00",
          "2015-12-01T00:00:00",
          "2016-01-01T00:00:00",
          "2016-02-01T00:00:00",
          "2016-03-01T00:00:00",
          "2016-04-01T00:00:00",
          "2016-05-02T00:00:00",
          "2016-06-01T00:00:00",
          "2016-07-01T00:00:00",
          "2016-08-01T00:00:00",
          "2016-09-01T00:00:00",
          "2016-10-03T00:00:00",
          "2016-11-01T00:00:00",
          "2016-12-01T00:00:00",
          "2017-01-02T00:00:00",
          "2017-02-01T00:00:00",
          "2017-03-01T00:00:00",
          "2017-04-03T00:00:00",
          "2017-05-01T00:00:00",
          "2017-06-01T00:00:00",
          "2017-07-03T00:00:00",
          "2017-08-01T00:00:00",
          "2017-09-01T00:00:00",
          "2017-10-02T00:00:00",
          "2017-11-01T00:00:00",
          "2017-12-01T00:00:00",
          "2018-01-01T00:00:00",
          "2018-02-01T00:00:00",
          "2018-03-01T00:00:00",
          "2018-04-02T00:00:00",
          "2018-05-01T00:00:00",
          "2018-06-01T00:00:00",
          "2018-07-02T00:00:00",
          "2018-08-01T00:00:00",
          "2018-09-03T00:00:00",
          "2018-10-01T00:00:00",
          "2018-11-01T00:00:00",
          "2018-12-03T00:00:00",
          "2019-01-01T00:00:00",
          "2019-02-01T00:00:00",
          "2019-03-01T00:00:00",
          "2019-04-01T00:00:00",
          "2019-05-01T00:00:00",
          "2019-06-03T00:00:00",
          "2019-07-01T00:00:00",
          "2019-08-01T00:00:00",
          "2019-09-02T00:00:00",
          "2019-10-01T00:00:00",
          "2019-11-01T00:00:00",
          "2019-12-02T00:00:00",
          "2020-01-01T00:00:00",
          "2020-02-03T00:00:00",
          "2020-03-02T00:00:00",
          "2020-04-01T00:00:00",
          "2020-05-01T00:00:00",
          "2020-06-01T00:00:00",
          "2020-07-01T00:00:00",
          "2020-08-03T00:00:00",
          "2020-09-01T00:00:00",
          "2020-10-01T00:00:00",
          "2020-11-02T00:00:00",
          "2020-12-01T00:00:00",
          "2021-01-01T00:00:00",
          "2021-02-01T00:00:00",
          "2021-03-01T00:00:00",
          "2021-04-01T00:00:00",
          "2021-05-03T00:00:00",
          "2021-06-01T00:00:00",
          "2021-07-01T00:00:00",
          "2021-08-02T00:00:00",
          "2021-09-01T00:00:00",
          "2021-10-01T00:00:00",
          "2021-11-01T00:00:00",
          "2021-12-01T00:00:00",
          "2022-01-03T00:00:00",
          "2022-02-01T00:00:00",
          "2022-03-01T00:00:00",
          "2022-04-01T00:00:00",
          "2022-05-02T00:00:00",
          "2022-06-01T00:00:00",
          "2022-07-01T00:00:00",
          "2022-08-01T00:00:00",
          "2022-09-01T00:00:00",
          "2022-10-03T00:00:00",
          "2022-11-01T00:00:00",
          "2022-12-01T00:00:00",
          "2023-01-02T00:00:00",
          "2023-02-01T00:00:00",
          "2023-03-01T00:00:00",
          "2023-04-03T00:00:00",
          "2023-05-01T00:00:00",
          "2023-06-01T00:00:00",
          "2023-07-03T00:00:00",
          "2023-08-01T00:00:00",
          "2023-09-01T00:00:00",
          "2023-10-02T00:00:00",
          "2023-11-01T00:00:00",
          "2023-12-01T00:00:00"
         ],
         "y": [
          42.114261627197266,
          43.209999084472656,
          46.15806198120117,
          46.57128143310547,
          48.08776092529297,
          49.1840934753418,
          49.85424041748047,
          49.50968933105469,
          51.146331787109375,
          48.09070587158203,
          53.28697967529297,
          53.748443603515625,
          55.735084533691406,
          58.51437759399414,
          56.84000015258789,
          57.41157531738281,
          54.540672302246094,
          54.629310607910156,
          52.2955207824707,
          54.75461959838867,
          50.02241516113281,
          52.81134033203125,
          56.76295852661133,
          55.9976806640625,
          55.566497802734375,
          54.40254211425781,
          55.63702392578125,
          59.69801330566406,
          59.277164459228516,
          59.73368453979492,
          63.84049606323242,
          66.6834487915039,
          63.87649154663086,
          61.68733596801758,
          57.962310791015625,
          57.40428924560547,
          61.265663146972656,
          60.214942932128906,
          62.89347457885742,
          61.73575210571289,
          62.07113265991211,
          61.579219818115234,
          63.424015045166016,
          63.687374114990234,
          63.454105377197266,
          63.072540283203125,
          62.79127502441406,
          64.30404663085938,
          63.81813430786133,
          60.01234436035156,
          56.67746353149414,
          58.03145217895508,
          59.84761428833008,
          61.765113830566406,
          63.722328186035156,
          64.91808319091797,
          65.33502197265625,
          63.76172637939453,
          62.772560119628906,
          65.748046875,
          58.888973236083984,
          66.90498352050781,
          67.5911636352539,
          70.61920166015625,
          70.60291290283203,
          70.81431579589844,
          71.7087631225586,
          72.96465301513672,
          76.45323944091797,
          76.42870330810547,
          78.00907135009766,
          75.84122467041016,
          76.68850708007812,
          78.81271362304688,
          76.15328979492188,
          55.00273132324219,
          61.98130798339844,
          66.76856231689453,
          68.38302612304688,
          68.35747528076172,
          69.63422393798828,
          69.08452606201172,
          67.26606750488281,
          72.9787826538086,
          71.61682891845703,
          75.73934936523438,
          76.92469024658203,
          81.99447631835938,
          86.69338989257812,
          89.13928985595703,
          90.25923156738281,
          93.6407470703125,
          97.40191650390625,
          91.69835662841797,
          97.34843444824219,
          93.26190948486328,
          103.2127914428711,
          94.92707824707031,
          91.46573638916016,
          99.6120834350586,
          91.45231628417969,
          88.58513641357422,
          84.15889739990234,
          89.06777954101562,
          84.54905700683594,
          74.84369659423828,
          76.0819091796875,
          80.61289978027344,
          76.79446411132812,
          85.22178649902344,
          78.72921752929688,
          77.39510345458984,
          77.67696380615234,
          75.16852569580078,
          80.16925048828125,
          80.87232208251953,
          78.40206909179688,
          71.25028991699219,
          70.38688659667969,
          80.33525848388672
         ]
        },
        {
         "hoverinfo": "skip",
         "line": {
          "width": 0
         },
         "mode": "lines",
         "type": "scatter",
         "x": [
          "2014-01-01T00:00:00",
          "2014-02-03T00:00:00",
          "2014-03-03T00:00:00",
          "2014-04-01T00:00:00",
          "2014-05-01T00:00:00",
          "2014-06-02T00:00:00",
          "2014-07-01T00:00:00",
          "2014-08-01T00:00:00",
          "2014-09-01T00:00:00",
          "2014-10-01T00:00:00",
          "2014-11-03T00:00:00",
          "2014-12-01T00:00:00",
          "2015-01-01T00:00:00",
          "2015-02-02T00:00:00",
          "2015-03-02T00:00:00",
          "2015-04-01T00:00:00",
          "2015-05-01T00:00:00",
          "2015-06-01T00:00:00",
          "2015-07-01T00:00:00",
          "2015-08-03T00:00:00",
          "2015-09-01T00:00:00",
          "2015-10-01T00:00:00",
          "2015-11-02T00:00:00",
          "2015-12-01T00:00:00",
          "2016-01-01T00:00:00",
          "2016-02-01T00:00:00",
          "2016-03-01T00:00:00",
          "2016-04-01T00:00:00",
          "2016-05-02T00:00:00",
          "2016-06-01T00:00:00",
          "2016-07-01T00:00:00",
          "2016-08-01T00:00:00",
          "2016-09-01T00:00:00",
          "2016-10-03T00:00:00",
          "2016-11-01T00:00:00",
          "2016-12-01T00:00:00",
          "2017-01-02T00:00:00",
          "2017-02-01T00:00:00",
          "2017-03-01T00:00:00",
          "2017-04-03T00:00:00",
          "2017-05-01T00:00:00",
          "2017-06-01T00:00:00",
          "2017-07-03T00:00:00",
          "2017-08-01T00:00:00",
          "2017-09-01T00:00:00",
          "2017-10-02T00:00:00",
          "2017-11-01T00:00:00",
          "2017-12-01T00:00:00",
          "2018-01-01T00:00:00",
          "2018-02-01T00:00:00",
          "2018-03-01T00:00:00",
          "2018-04-02T00:00:00",
          "2018-05-01T00:00:00",
          "2018-06-01T00:00:00",
          "2018-07-02T00:00:00",
          "2018-08-01T00:00:00",
          "2018-09-03T00:00:00",
          "2018-10-01T00:00:00",
          "2018-11-01T00:00:00",
          "2018-12-03T00:00:00",
          "2019-01-01T00:00:00",
          "2019-02-01T00:00:00",
          "2019-03-01T00:00:00",
          "2019-04-01T00:00:00",
          "2019-05-01T00:00:00",
          "2019-06-03T00:00:00",
          "2019-07-01T00:00:00",
          "2019-08-01T00:00:00",
          "2019-09-02T00:00:00",
          "2019-10-01T00:00:00",
          "2019-11-01T00:00:00",
          "2019-12-02T00:00:00",
          "2020-01-01T00:00:00",
          "2020-02-03T00:00:00",
          "2020-03-02T00:00:00",
          "2020-04-01T00:00:00",
          "2020-05-01T00:00:00",
          "2020-06-01T00:00:00",
          "2020-07-01T00:00:00",
          "2020-08-03T00:00:00",
          "2020-09-01T00:00:00",
          "2020-10-01T00:00:00",
          "2020-11-02T00:00:00",
          "2020-12-01T00:00:00",
          "2021-01-01T00:00:00",
          "2021-02-01T00:00:00",
          "2021-03-01T00:00:00",
          "2021-04-01T00:00:00",
          "2021-05-03T00:00:00",
          "2021-06-01T00:00:00",
          "2021-07-01T00:00:00",
          "2021-08-02T00:00:00",
          "2021-09-01T00:00:00",
          "2021-10-01T00:00:00",
          "2021-11-01T00:00:00",
          "2021-12-01T00:00:00",
          "2022-01-03T00:00:00",
          "2022-02-01T00:00:00",
          "2022-03-01T00:00:00",
          "2022-04-01T00:00:00",
          "2022-05-02T00:00:00",
          "2022-06-01T00:00:00",
          "2022-07-01T00:00:00",
          "2022-08-01T00:00:00",
          "2022-09-01T00:00:00",
          "2022-10-03T00:00:00",
          "2022-11-01T00:00:00",
          "2022-12-01T00:00:00",
          "2023-01-02T00:00:00",
          "2023-02-01T00:00:00",
          "2023-03-01T00:00:00",
          "2023-04-03T00:00:00",
          "2023-05-01T00:00:00",
          "2023-06-01T00:00:00",
          "2023-07-03T00:00:00",
          "2023-08-01T00:00:00",
          "2023-09-01T00:00:00",
          "2023-10-02T00:00:00",
          "2023-11-01T00:00:00",
          "2023-12-01T00:00:00",
          "2023-12-31T00:00:00",
          "2024-01-31T00:00:00",
          "2024-02-29T00:00:00",
          "2024-03-31T00:00:00",
          "2024-04-30T00:00:00",
          "2024-05-31T00:00:00",
          "2024-06-30T00:00:00",
          "2024-07-31T00:00:00",
          "2024-08-31T00:00:00",
          "2024-09-30T00:00:00"
         ],
         "y": [
          37.738250334175305,
          39.911493261632174,
          40.752899235318424,
          42.2591364009781,
          38.35067464906186,
          40.80040246924185,
          43.275613640129805,
          44.59576572664957,
          42.5586722067517,
          41.23993006893183,
          42.55324505336267,
          44.254127335844714,
          41.82282538757809,
          45.283573227913784,
          44.37694451446688,
          47.60108832529585,
          42.543602432754916,
          45.46958619338233,
          47.37121402426376,
          47.05793674169556,
          48.14516679127806,
          45.63107589127536,
          46.40863607209791,
          49.65294387172912,
          45.12808896694754,
          50.454745318587165,
          48.51577347847037,
          49.40711568178719,
          52.88778104756092,
          50.31154207941166,
          49.918242262015355,
          52.78801168459823,
          53.058114820968406,
          47.90956770468365,
          50.09560245330591,
          51.914391456786696,
          50.39189603593779,
          54.057568712774724,
          53.11797883658796,
          46.734039781810004,
          53.52470353452436,
          54.01555840999237,
          52.997167054768695,
          57.05915747456864,
          56.68643310947699,
          53.619220706517154,
          55.19636190952046,
          56.83978944383852,
          54.92384118754057,
          59.01226630515714,
          57.693479846358755,
          55.661790442642584,
          56.739221521973384,
          58.55862120994541,
          59.57732369860679,
          61.69346298642843,
          62.01392239427208,
          58.69890048740463,
          59.69953334244067,
          58.77058749156069,
          58.91252586663818,
          62.730544271724575,
          61.96462757747253,
          65.00795507450795,
          59.36129642736839,
          63.8076847468769,
          65.02881433465117,
          66.30237571687574,
          64.7283449979226,
          62.926403249236316,
          63.88541495422829,
          64.67369894663507,
          62.26467444443393,
          66.26061562117867,
          66.25408783244139,
          66.1917017290455,
          66.87438123049921,
          67.10839487138342,
          68.75471796285294,
          67.86814652024442,
          69.94455838445442,
          67.00736856980078,
          68.18328949444751,
          69.47929110410631,
          69.12679065392915,
          71.69823098235732,
          69.99541096110319,
          70.93312427869111,
          76.61240226272457,
          71.6267815416514,
          72.65665560382422,
          73.40926279477392,
          73.97566690954326,
          71.1270628730049,
          71.18326305351157,
          73.09446721002253,
          94.07603829176873,
          75.64418324154632,
          73.59768630882132,
          75.39066145275736,
          75.43428784844339,
          73.95811677058353,
          75.12771331850472,
          76.47812030453895,
          75.59308828028817,
          71.86571026204496,
          73.84837923631967,
          75.87080247305278,
          71.41632532852695,
          76.67008597518715,
          75.15289084415016,
          70.18697329301492,
          72.51463123431236,
          75.7164410159328,
          74.5881541085428,
          78.51606580202107,
          76.1794696381625,
          74.10547234048778,
          74.83738976879161,
          77.1894925366039,
          87.16844637339408,
          79.63677173408439,
          76.05546988519824,
          80.08009171916895,
          73.15277924618066,
          76.50719309903762,
          79.02026113451629,
          79.99753099181623,
          76.87388782996705,
          76.46907736930581
         ]
        },
        {
         "fill": "tonexty",
         "fillcolor": "rgba(0, 114, 178, 0.2)",
         "line": {
          "color": "#0072B2",
          "width": 2
         },
         "mode": "lines",
         "name": "Predicted",
         "type": "scatter",
         "x": [
          "2014-01-01T00:00:00",
          "2014-02-03T00:00:00",
          "2014-03-03T00:00:00",
          "2014-04-01T00:00:00",
          "2014-05-01T00:00:00",
          "2014-06-02T00:00:00",
          "2014-07-01T00:00:00",
          "2014-08-01T00:00:00",
          "2014-09-01T00:00:00",
          "2014-10-01T00:00:00",
          "2014-11-03T00:00:00",
          "2014-12-01T00:00:00",
          "2015-01-01T00:00:00",
          "2015-02-02T00:00:00",
          "2015-03-02T00:00:00",
          "2015-04-01T00:00:00",
          "2015-05-01T00:00:00",
          "2015-06-01T00:00:00",
          "2015-07-01T00:00:00",
          "2015-08-03T00:00:00",
          "2015-09-01T00:00:00",
          "2015-10-01T00:00:00",
          "2015-11-02T00:00:00",
          "2015-12-01T00:00:00",
          "2016-01-01T00:00:00",
          "2016-02-01T00:00:00",
          "2016-03-01T00:00:00",
          "2016-04-01T00:00:00",
          "2016-05-02T00:00:00",
          "2016-06-01T00:00:00",
          "2016-07-01T00:00:00",
          "2016-08-01T00:00:00",
          "2016-09-01T00:00:00",
          "2016-10-03T00:00:00",
          "2016-11-01T00:00:00",
          "2016-12-01T00:00:00",
          "2017-01-02T00:00:00",
          "2017-02-01T00:00:00",
          "2017-03-01T00:00:00",
          "2017-04-03T00:00:00",
          "2017-05-01T00:00:00",
          "2017-06-01T00:00:00",
          "2017-07-03T00:00:00",
          "2017-08-01T00:00:00",
          "2017-09-01T00:00:00",
          "2017-10-02T00:00:00",
          "2017-11-01T00:00:00",
          "2017-12-01T00:00:00",
          "2018-01-01T00:00:00",
          "2018-02-01T00:00:00",
          "2018-03-01T00:00:00",
          "2018-04-02T00:00:00",
          "2018-05-01T00:00:00",
          "2018-06-01T00:00:00",
          "2018-07-02T00:00:00",
          "2018-08-01T00:00:00",
          "2018-09-03T00:00:00",
          "2018-10-01T00:00:00",
          "2018-11-01T00:00:00",
          "2018-12-03T00:00:00",
          "2019-01-01T00:00:00",
          "2019-02-01T00:00:00",
          "2019-03-01T00:00:00",
          "2019-04-01T00:00:00",
          "2019-05-01T00:00:00",
          "2019-06-03T00:00:00",
          "2019-07-01T00:00:00",
          "2019-08-01T00:00:00",
          "2019-09-02T00:00:00",
          "2019-10-01T00:00:00",
          "2019-11-01T00:00:00",
          "2019-12-02T00:00:00",
          "2020-01-01T00:00:00",
          "2020-02-03T00:00:00",
          "2020-03-02T00:00:00",
          "2020-04-01T00:00:00",
          "2020-05-01T00:00:00",
          "2020-06-01T00:00:00",
          "2020-07-01T00:00:00",
          "2020-08-03T00:00:00",
          "2020-09-01T00:00:00",
          "2020-10-01T00:00:00",
          "2020-11-02T00:00:00",
          "2020-12-01T00:00:00",
          "2021-01-01T00:00:00",
          "2021-02-01T00:00:00",
          "2021-03-01T00:00:00",
          "2021-04-01T00:00:00",
          "2021-05-03T00:00:00",
          "2021-06-01T00:00:00",
          "2021-07-01T00:00:00",
          "2021-08-02T00:00:00",
          "2021-09-01T00:00:00",
          "2021-10-01T00:00:00",
          "2021-11-01T00:00:00",
          "2021-12-01T00:00:00",
          "2022-01-03T00:00:00",
          "2022-02-01T00:00:00",
          "2022-03-01T00:00:00",
          "2022-04-01T00:00:00",
          "2022-05-02T00:00:00",
          "2022-06-01T00:00:00",
          "2022-07-01T00:00:00",
          "2022-08-01T00:00:00",
          "2022-09-01T00:00:00",
          "2022-10-03T00:00:00",
          "2022-11-01T00:00:00",
          "2022-12-01T00:00:00",
          "2023-01-02T00:00:00",
          "2023-02-01T00:00:00",
          "2023-03-01T00:00:00",
          "2023-04-03T00:00:00",
          "2023-05-01T00:00:00",
          "2023-06-01T00:00:00",
          "2023-07-03T00:00:00",
          "2023-08-01T00:00:00",
          "2023-09-01T00:00:00",
          "2023-10-02T00:00:00",
          "2023-11-01T00:00:00",
          "2023-12-01T00:00:00",
          "2023-12-31T00:00:00",
          "2024-01-31T00:00:00",
          "2024-02-29T00:00:00",
          "2024-03-31T00:00:00",
          "2024-04-30T00:00:00",
          "2024-05-31T00:00:00",
          "2024-06-30T00:00:00",
          "2024-07-31T00:00:00",
          "2024-08-31T00:00:00",
          "2024-09-30T00:00:00"
         ],
         "y": [
          45.828504951660996,
          47.61906212850901,
          48.562612380813896,
          50.01549223619626,
          46.722017364937294,
          49.18620344049899,
          50.73285241090904,
          52.2685173791209,
          50.11714398185312,
          49.13718462802663,
          50.151741954811264,
          52.12874532704847,
          49.402311894461484,
          52.79044452281186,
          52.3586504068251,
          55.17948751214517,
          50.08744318696975,
          53.10545819640612,
          55.34067639262014,
          55.201827389979236,
          55.28018838527358,
          53.60910243459597,
          54.15362682083009,
          56.77708805770646,
          52.969714744484996,
          58.2487509780271,
          56.587634181259084,
          56.874541790800805,
          60.748185442114924,
          57.603420259372214,
          58.75599623066292,
          60.523303327823456,
          60.585836013601735,
          56.340361510575065,
          58.40571087058168,
          60.0351426359465,
          58.75344810917064,
          61.82881594124455,
          60.82440482853981,
          54.72939909838612,
          60.57213421609447,
          61.83203281992261,
          61.18156101034617,
          65.01213952720151,
          64.56082794196612,
          61.2934111767463,
          62.659832986943016,
          64.69806356904141,
          63.05360507080374,
          66.36545199485359,
          65.06873796819431,
          63.6881047834799,
          63.947116408080646,
          66.07433230820985,
          66.79992002156524,
          69.49361559065707,
          69.93678207947028,
          66.36228228550469,
          66.91590560695336,
          66.3760329017908,
          66.62740898032213,
          70.91378720602162,
          69.32039813283879,
          72.40458455377475,
          67.31254021487707,
          71.10612994171785,
          72.56577339328156,
          73.96752381365737,
          72.64205788925467,
          70.83419940406921,
          71.1738387569684,
          72.59048471703939,
          70.19481170308495,
          73.7691326042162,
          74.17067638290361,
          74.0996387468756,
          74.4117929542897,
          74.82851722421965,
          75.98109319889981,
          76.05127501094594,
          77.81093299016999,
          74.65641648283278,
          75.86063321478623,
          77.26023964304778,
          76.69780810312645,
          79.05391296201438,
          78.0495018489612,
          79.28874955832333,
          84.7998174927794,
          79.05712911789762,
          80.57965908627548,
          81.46506489920516,
          81.68663022050406,
          78.92113442858785,
          79.58373892319507,
          81.52267622226161,
          102.02469496393418,
          82.70937512377813,
          81.1955755041116,
          83.12708432019514,
          83.25219819285041,
          81.48788860997563,
          83.13891549513366,
          84.4342354181787,
          83.23414993806384,
          79.64945768542667,
          81.14324419121596,
          83.34858930544081,
          79.72230084338311,
          84.42784454030254,
          82.61736986243758,
          78.26625805804505,
          80.136575448553,
          82.91424566718807,
          82.63409851656355,
          86.07827777340232,
          84.37569454258409,
          81.82760981767429,
          82.57131142877395,
          85.16706596175577,
          94.9755080961995,
          87.29805950331979,
          84.04624494397471,
          87.78164008218319,
          80.66348935250198,
          84.35474052272919,
          86.69886831172174,
          87.71455533459076,
          85.51591385447729,
          84.11823068860306
         ]
        },
        {
         "fill": "tonexty",
         "fillcolor": "rgba(0, 114, 178, 0.2)",
         "hoverinfo": "skip",
         "line": {
          "width": 0
         },
         "mode": "lines",
         "type": "scatter",
         "x": [
          "2014-01-01T00:00:00",
          "2014-02-03T00:00:00",
          "2014-03-03T00:00:00",
          "2014-04-01T00:00:00",
          "2014-05-01T00:00:00",
          "2014-06-02T00:00:00",
          "2014-07-01T00:00:00",
          "2014-08-01T00:00:00",
          "2014-09-01T00:00:00",
          "2014-10-01T00:00:00",
          "2014-11-03T00:00:00",
          "2014-12-01T00:00:00",
          "2015-01-01T00:00:00",
          "2015-02-02T00:00:00",
          "2015-03-02T00:00:00",
          "2015-04-01T00:00:00",
          "2015-05-01T00:00:00",
          "2015-06-01T00:00:00",
          "2015-07-01T00:00:00",
          "2015-08-03T00:00:00",
          "2015-09-01T00:00:00",
          "2015-10-01T00:00:00",
          "2015-11-02T00:00:00",
          "2015-12-01T00:00:00",
          "2016-01-01T00:00:00",
          "2016-02-01T00:00:00",
          "2016-03-01T00:00:00",
          "2016-04-01T00:00:00",
          "2016-05-02T00:00:00",
          "2016-06-01T00:00:00",
          "2016-07-01T00:00:00",
          "2016-08-01T00:00:00",
          "2016-09-01T00:00:00",
          "2016-10-03T00:00:00",
          "2016-11-01T00:00:00",
          "2016-12-01T00:00:00",
          "2017-01-02T00:00:00",
          "2017-02-01T00:00:00",
          "2017-03-01T00:00:00",
          "2017-04-03T00:00:00",
          "2017-05-01T00:00:00",
          "2017-06-01T00:00:00",
          "2017-07-03T00:00:00",
          "2017-08-01T00:00:00",
          "2017-09-01T00:00:00",
          "2017-10-02T00:00:00",
          "2017-11-01T00:00:00",
          "2017-12-01T00:00:00",
          "2018-01-01T00:00:00",
          "2018-02-01T00:00:00",
          "2018-03-01T00:00:00",
          "2018-04-02T00:00:00",
          "2018-05-01T00:00:00",
          "2018-06-01T00:00:00",
          "2018-07-02T00:00:00",
          "2018-08-01T00:00:00",
          "2018-09-03T00:00:00",
          "2018-10-01T00:00:00",
          "2018-11-01T00:00:00",
          "2018-12-03T00:00:00",
          "2019-01-01T00:00:00",
          "2019-02-01T00:00:00",
          "2019-03-01T00:00:00",
          "2019-04-01T00:00:00",
          "2019-05-01T00:00:00",
          "2019-06-03T00:00:00",
          "2019-07-01T00:00:00",
          "2019-08-01T00:00:00",
          "2019-09-02T00:00:00",
          "2019-10-01T00:00:00",
          "2019-11-01T00:00:00",
          "2019-12-02T00:00:00",
          "2020-01-01T00:00:00",
          "2020-02-03T00:00:00",
          "2020-03-02T00:00:00",
          "2020-04-01T00:00:00",
          "2020-05-01T00:00:00",
          "2020-06-01T00:00:00",
          "2020-07-01T00:00:00",
          "2020-08-03T00:00:00",
          "2020-09-01T00:00:00",
          "2020-10-01T00:00:00",
          "2020-11-02T00:00:00",
          "2020-12-01T00:00:00",
          "2021-01-01T00:00:00",
          "2021-02-01T00:00:00",
          "2021-03-01T00:00:00",
          "2021-04-01T00:00:00",
          "2021-05-03T00:00:00",
          "2021-06-01T00:00:00",
          "2021-07-01T00:00:00",
          "2021-08-02T00:00:00",
          "2021-09-01T00:00:00",
          "2021-10-01T00:00:00",
          "2021-11-01T00:00:00",
          "2021-12-01T00:00:00",
          "2022-01-03T00:00:00",
          "2022-02-01T00:00:00",
          "2022-03-01T00:00:00",
          "2022-04-01T00:00:00",
          "2022-05-02T00:00:00",
          "2022-06-01T00:00:00",
          "2022-07-01T00:00:00",
          "2022-08-01T00:00:00",
          "2022-09-01T00:00:00",
          "2022-10-03T00:00:00",
          "2022-11-01T00:00:00",
          "2022-12-01T00:00:00",
          "2023-01-02T00:00:00",
          "2023-02-01T00:00:00",
          "2023-03-01T00:00:00",
          "2023-04-03T00:00:00",
          "2023-05-01T00:00:00",
          "2023-06-01T00:00:00",
          "2023-07-03T00:00:00",
          "2023-08-01T00:00:00",
          "2023-09-01T00:00:00",
          "2023-10-02T00:00:00",
          "2023-11-01T00:00:00",
          "2023-12-01T00:00:00",
          "2023-12-31T00:00:00",
          "2024-01-31T00:00:00",
          "2024-02-29T00:00:00",
          "2024-03-31T00:00:00",
          "2024-04-30T00:00:00",
          "2024-05-31T00:00:00",
          "2024-06-30T00:00:00",
          "2024-07-31T00:00:00",
          "2024-08-31T00:00:00",
          "2024-09-30T00:00:00"
         ],
         "y": [
          53.76364819976469,
          55.891466097589884,
          55.9345584972001,
          57.602635189840385,
          54.28346449458071,
          56.798178414385625,
          59.13122374883853,
          59.910588134284964,
          58.34703550650934,
          56.81595919496498,
          58.1309359508904,
          59.64230689520692,
          56.96198685567061,
          60.61565302778516,
          60.14065346626835,
          63.2233373062085,
          57.71015352035438,
          60.887605924211876,
          63.490247420523076,
          63.00612905216917,
          63.649897846763594,
          60.86260902728507,
          62.194746966840384,
          64.46802824275555,
          60.23927971389424,
          66.24862117424595,
          64.00011941460632,
          64.71661432607146,
          68.52646697558795,
          65.09104377529115,
          66.41670824382956,
          67.74978998799244,
          69.31996364550989,
          64.21965892865205,
          65.82508452499131,
          68.1209375474085,
          66.7383717446369,
          70.0765051537791,
          68.70755875433113,
          61.681874139319405,
          68.75273282172043,
          69.90085129922954,
          68.86485197127787,
          72.58050575263695,
          71.54843249522276,
          68.70578026639198,
          69.97612989473328,
          72.52300579930247,
          70.9477688825697,
          74.21399984212789,
          72.54049659215525,
          71.81424841611438,
          71.63384182491286,
          73.71758598074224,
          74.25426678598485,
          77.86511385410267,
          77.76216595658708,
          74.06637192838473,
          75.03380801306261,
          73.75289883027743,
          74.31946473888439,
          78.6719708316137,
          77.0216675273193,
          79.82525618397965,
          75.49328235095729,
          78.66863606391613,
          80.2537610553249,
          81.66367356501594,
          80.29792624967884,
          78.30236860538132,
          78.95594339967752,
          80.452020946259,
          77.39128852545065,
          81.13988106366826,
          82.28523958370536,
          82.13287520484549,
          82.278756044012,
          81.86871511909547,
          83.21684443599366,
          83.5605229038988,
          85.6405249376816,
          82.38840140409629,
          83.54024466583509,
          85.0523884792137,
          84.76276733420242,
          86.47094549094254,
          85.82554873205,
          86.9724539178536,
          92.57305924433709,
          87.24432485991143,
          88.49717711995939,
          89.25944424023731,
          89.32331637817398,
          87.6735584638588,
          87.78939854870491,
          89.75338772113719,
          110.11536009789324,
          90.47362535739876,
          89.28318521523305,
          91.39826506705629,
          91.29275880428018,
          89.2018850369594,
          91.35403531345288,
          91.96147913598905,
          90.43052710835077,
          87.67895647007913,
          89.67207334102771,
          91.43592518613711,
          87.42923107933059,
          92.71575575738454,
          90.48114580944218,
          85.7924800982455,
          87.56574613793677,
          90.70952050347269,
          90.28203840234201,
          93.43463662903417,
          92.92294518723945,
          89.76498371930195,
          90.01199117543429,
          92.80138994884629,
          102.18268184948454,
          95.23977426294176,
          92.06738724686844,
          95.84022038219025,
          88.64167003397495,
          92.15449489844029,
          94.143581265924,
          95.72041874298034,
          93.24660459721393,
          92.02868035821115
         ]
        },
        {
         "marker": {
          "color": "red"
         },
         "mode": "markers",
         "name": "Out-of-Sample Prices",
         "type": "scatter",
         "x": [
          "2024-01-01T00:00:00",
          "2024-02-01T00:00:00",
          "2024-03-01T00:00:00",
          "2024-04-01T00:00:00",
          "2024-05-01T00:00:00",
          "2024-06-03T00:00:00",
          "2024-07-01T00:00:00",
          "2024-08-01T00:00:00",
          "2024-09-02T00:00:00",
          "2024-10-01T00:00:00"
         ],
         "y": [
          86.55088806152344,
          82.94783782958984,
          84.07438659667969,
          83.28455352783203,
          78.00519561767578,
          81.34519958496094,
          82.27709197998047,
          90.55735778808594,
          94.28595733642578,
          96.79000091552734
         ]
        }
       ],
       "layout": {
        "height": 600,
        "showlegend": false,
        "template": {
         "data": {
          "bar": [
           {
            "error_x": {
             "color": "#2a3f5f"
            },
            "error_y": {
             "color": "#2a3f5f"
            },
            "marker": {
             "line": {
              "color": "#E5ECF6",
              "width": 0.5
             },
             "pattern": {
              "fillmode": "overlay",
              "size": 10,
              "solidity": 0.2
             }
            },
            "type": "bar"
           }
          ],
          "barpolar": [
           {
            "marker": {
             "line": {
              "color": "#E5ECF6",
              "width": 0.5
             },
             "pattern": {
              "fillmode": "overlay",
              "size": 10,
              "solidity": 0.2
             }
            },
            "type": "barpolar"
           }
          ],
          "carpet": [
           {
            "aaxis": {
             "endlinecolor": "#2a3f5f",
             "gridcolor": "white",
             "linecolor": "white",
             "minorgridcolor": "white",
             "startlinecolor": "#2a3f5f"
            },
            "baxis": {
             "endlinecolor": "#2a3f5f",
             "gridcolor": "white",
             "linecolor": "white",
             "minorgridcolor": "white",
             "startlinecolor": "#2a3f5f"
            },
            "type": "carpet"
           }
          ],
          "choropleth": [
           {
            "colorbar": {
             "outlinewidth": 0,
             "ticks": ""
            },
            "type": "choropleth"
           }
          ],
          "contour": [
           {
            "colorbar": {
             "outlinewidth": 0,
             "ticks": ""
            },
            "colorscale": [
             [
              0,
              "#0d0887"
             ],
             [
              0.1111111111111111,
              "#46039f"
             ],
             [
              0.2222222222222222,
              "#7201a8"
             ],
             [
              0.3333333333333333,
              "#9c179e"
             ],
             [
              0.4444444444444444,
              "#bd3786"
             ],
             [
              0.5555555555555556,
              "#d8576b"
             ],
             [
              0.6666666666666666,
              "#ed7953"
             ],
             [
              0.7777777777777778,
              "#fb9f3a"
             ],
             [
              0.8888888888888888,
              "#fdca26"
             ],
             [
              1,
              "#f0f921"
             ]
            ],
            "type": "contour"
           }
          ],
          "contourcarpet": [
           {
            "colorbar": {
             "outlinewidth": 0,
             "ticks": ""
            },
            "type": "contourcarpet"
           }
          ],
          "heatmap": [
           {
            "colorbar": {
             "outlinewidth": 0,
             "ticks": ""
            },
            "colorscale": [
             [
              0,
              "#0d0887"
             ],
             [
              0.1111111111111111,
              "#46039f"
             ],
             [
              0.2222222222222222,
              "#7201a8"
             ],
             [
              0.3333333333333333,
              "#9c179e"
             ],
             [
              0.4444444444444444,
              "#bd3786"
             ],
             [
              0.5555555555555556,
              "#d8576b"
             ],
             [
              0.6666666666666666,
              "#ed7953"
             ],
             [
              0.7777777777777778,
              "#fb9f3a"
             ],
             [
              0.8888888888888888,
              "#fdca26"
             ],
             [
              1,
              "#f0f921"
             ]
            ],
            "type": "heatmap"
           }
          ],
          "heatmapgl": [
           {
            "colorbar": {
             "outlinewidth": 0,
             "ticks": ""
            },
            "colorscale": [
             [
              0,
              "#0d0887"
             ],
             [
              0.1111111111111111,
              "#46039f"
             ],
             [
              0.2222222222222222,
              "#7201a8"
             ],
             [
              0.3333333333333333,
              "#9c179e"
             ],
             [
              0.4444444444444444,
              "#bd3786"
             ],
             [
              0.5555555555555556,
              "#d8576b"
             ],
             [
              0.6666666666666666,
              "#ed7953"
             ],
             [
              0.7777777777777778,
              "#fb9f3a"
             ],
             [
              0.8888888888888888,
              "#fdca26"
             ],
             [
              1,
              "#f0f921"
             ]
            ],
            "type": "heatmapgl"
           }
          ],
          "histogram": [
           {
            "marker": {
             "pattern": {
              "fillmode": "overlay",
              "size": 10,
              "solidity": 0.2
             }
            },
            "type": "histogram"
           }
          ],
          "histogram2d": [
           {
            "colorbar": {
             "outlinewidth": 0,
             "ticks": ""
            },
            "colorscale": [
             [
              0,
              "#0d0887"
             ],
             [
              0.1111111111111111,
              "#46039f"
             ],
             [
              0.2222222222222222,
              "#7201a8"
             ],
             [
              0.3333333333333333,
              "#9c179e"
             ],
             [
              0.4444444444444444,
              "#bd3786"
             ],
             [
              0.5555555555555556,
              "#d8576b"
             ],
             [
              0.6666666666666666,
              "#ed7953"
             ],
             [
              0.7777777777777778,
              "#fb9f3a"
             ],
             [
              0.8888888888888888,
              "#fdca26"
             ],
             [
              1,
              "#f0f921"
             ]
            ],
            "type": "histogram2d"
           }
          ],
          "histogram2dcontour": [
           {
            "colorbar": {
             "outlinewidth": 0,
             "ticks": ""
            },
            "colorscale": [
             [
              0,
              "#0d0887"
             ],
             [
              0.1111111111111111,
              "#46039f"
             ],
             [
              0.2222222222222222,
              "#7201a8"
             ],
             [
              0.3333333333333333,
              "#9c179e"
             ],
             [
              0.4444444444444444,
              "#bd3786"
             ],
             [
              0.5555555555555556,
              "#d8576b"
             ],
             [
              0.6666666666666666,
              "#ed7953"
             ],
             [
              0.7777777777777778,
              "#fb9f3a"
             ],
             [
              0.8888888888888888,
              "#fdca26"
             ],
             [
              1,
              "#f0f921"
             ]
            ],
            "type": "histogram2dcontour"
           }
          ],
          "mesh3d": [
           {
            "colorbar": {
             "outlinewidth": 0,
             "ticks": ""
            },
            "type": "mesh3d"
           }
          ],
          "parcoords": [
           {
            "line": {
             "colorbar": {
              "outlinewidth": 0,
              "ticks": ""
             }
            },
            "type": "parcoords"
           }
          ],
          "pie": [
           {
            "automargin": true,
            "type": "pie"
           }
          ],
          "scatter": [
           {
            "fillpattern": {
             "fillmode": "overlay",
             "size": 10,
             "solidity": 0.2
            },
            "type": "scatter"
           }
          ],
          "scatter3d": [
           {
            "line": {
             "colorbar": {
              "outlinewidth": 0,
              "ticks": ""
             }
            },
            "marker": {
             "colorbar": {
              "outlinewidth": 0,
              "ticks": ""
             }
            },
            "type": "scatter3d"
           }
          ],
          "scattercarpet": [
           {
            "marker": {
             "colorbar": {
              "outlinewidth": 0,
              "ticks": ""
             }
            },
            "type": "scattercarpet"
           }
          ],
          "scattergeo": [
           {
            "marker": {
             "colorbar": {
              "outlinewidth": 0,
              "ticks": ""
             }
            },
            "type": "scattergeo"
           }
          ],
          "scattergl": [
           {
            "marker": {
             "colorbar": {
              "outlinewidth": 0,
              "ticks": ""
             }
            },
            "type": "scattergl"
           }
          ],
          "scattermapbox": [
           {
            "marker": {
             "colorbar": {
              "outlinewidth": 0,
              "ticks": ""
             }
            },
            "type": "scattermapbox"
           }
          ],
          "scatterpolar": [
           {
            "marker": {
             "colorbar": {
              "outlinewidth": 0,
              "ticks": ""
             }
            },
            "type": "scatterpolar"
           }
          ],
          "scatterpolargl": [
           {
            "marker": {
             "colorbar": {
              "outlinewidth": 0,
              "ticks": ""
             }
            },
            "type": "scatterpolargl"
           }
          ],
          "scatterternary": [
           {
            "marker": {
             "colorbar": {
              "outlinewidth": 0,
              "ticks": ""
             }
            },
            "type": "scatterternary"
           }
          ],
          "surface": [
           {
            "colorbar": {
             "outlinewidth": 0,
             "ticks": ""
            },
            "colorscale": [
             [
              0,
              "#0d0887"
             ],
             [
              0.1111111111111111,
              "#46039f"
             ],
             [
              0.2222222222222222,
              "#7201a8"
             ],
             [
              0.3333333333333333,
              "#9c179e"
             ],
             [
              0.4444444444444444,
              "#bd3786"
             ],
             [
              0.5555555555555556,
              "#d8576b"
             ],
             [
              0.6666666666666666,
              "#ed7953"
             ],
             [
              0.7777777777777778,
              "#fb9f3a"
             ],
             [
              0.8888888888888888,
              "#fdca26"
             ],
             [
              1,
              "#f0f921"
             ]
            ],
            "type": "surface"
           }
          ],
          "table": [
           {
            "cells": {
             "fill": {
              "color": "#EBF0F8"
             },
             "line": {
              "color": "white"
             }
            },
            "header": {
             "fill": {
              "color": "#C8D4E3"
             },
             "line": {
              "color": "white"
             }
            },
            "type": "table"
           }
          ]
         },
         "layout": {
          "annotationdefaults": {
           "arrowcolor": "#2a3f5f",
           "arrowhead": 0,
           "arrowwidth": 1
          },
          "autotypenumbers": "strict",
          "coloraxis": {
           "colorbar": {
            "outlinewidth": 0,
            "ticks": ""
           }
          },
          "colorscale": {
           "diverging": [
            [
             0,
             "#8e0152"
            ],
            [
             0.1,
             "#c51b7d"
            ],
            [
             0.2,
             "#de77ae"
            ],
            [
             0.3,
             "#f1b6da"
            ],
            [
             0.4,
             "#fde0ef"
            ],
            [
             0.5,
             "#f7f7f7"
            ],
            [
             0.6,
             "#e6f5d0"
            ],
            [
             0.7,
             "#b8e186"
            ],
            [
             0.8,
             "#7fbc41"
            ],
            [
             0.9,
             "#4d9221"
            ],
            [
             1,
             "#276419"
            ]
           ],
           "sequential": [
            [
             0,
             "#0d0887"
            ],
            [
             0.1111111111111111,
             "#46039f"
            ],
            [
             0.2222222222222222,
             "#7201a8"
            ],
            [
             0.3333333333333333,
             "#9c179e"
            ],
            [
             0.4444444444444444,
             "#bd3786"
            ],
            [
             0.5555555555555556,
             "#d8576b"
            ],
            [
             0.6666666666666666,
             "#ed7953"
            ],
            [
             0.7777777777777778,
             "#fb9f3a"
            ],
            [
             0.8888888888888888,
             "#fdca26"
            ],
            [
             1,
             "#f0f921"
            ]
           ],
           "sequentialminus": [
            [
             0,
             "#0d0887"
            ],
            [
             0.1111111111111111,
             "#46039f"
            ],
            [
             0.2222222222222222,
             "#7201a8"
            ],
            [
             0.3333333333333333,
             "#9c179e"
            ],
            [
             0.4444444444444444,
             "#bd3786"
            ],
            [
             0.5555555555555556,
             "#d8576b"
            ],
            [
             0.6666666666666666,
             "#ed7953"
            ],
            [
             0.7777777777777778,
             "#fb9f3a"
            ],
            [
             0.8888888888888888,
             "#fdca26"
            ],
            [
             1,
             "#f0f921"
            ]
           ]
          },
          "colorway": [
           "#636efa",
           "#EF553B",
           "#00cc96",
           "#ab63fa",
           "#FFA15A",
           "#19d3f3",
           "#FF6692",
           "#B6E880",
           "#FF97FF",
           "#FECB52"
          ],
          "font": {
           "color": "#2a3f5f"
          },
          "geo": {
           "bgcolor": "white",
           "lakecolor": "white",
           "landcolor": "#E5ECF6",
           "showlakes": true,
           "showland": true,
           "subunitcolor": "white"
          },
          "hoverlabel": {
           "align": "left"
          },
          "hovermode": "closest",
          "mapbox": {
           "style": "light"
          },
          "paper_bgcolor": "white",
          "plot_bgcolor": "#E5ECF6",
          "polar": {
           "angularaxis": {
            "gridcolor": "white",
            "linecolor": "white",
            "ticks": ""
           },
           "bgcolor": "#E5ECF6",
           "radialaxis": {
            "gridcolor": "white",
            "linecolor": "white",
            "ticks": ""
           }
          },
          "scene": {
           "xaxis": {
            "backgroundcolor": "#E5ECF6",
            "gridcolor": "white",
            "gridwidth": 2,
            "linecolor": "white",
            "showbackground": true,
            "ticks": "",
            "zerolinecolor": "white"
           },
           "yaxis": {
            "backgroundcolor": "#E5ECF6",
            "gridcolor": "white",
            "gridwidth": 2,
            "linecolor": "white",
            "showbackground": true,
            "ticks": "",
            "zerolinecolor": "white"
           },
           "zaxis": {
            "backgroundcolor": "#E5ECF6",
            "gridcolor": "white",
            "gridwidth": 2,
            "linecolor": "white",
            "showbackground": true,
            "ticks": "",
            "zerolinecolor": "white"
           }
          },
          "shapedefaults": {
           "line": {
            "color": "#2a3f5f"
           }
          },
          "ternary": {
           "aaxis": {
            "gridcolor": "white",
            "linecolor": "white",
            "ticks": ""
           },
           "baxis": {
            "gridcolor": "white",
            "linecolor": "white",
            "ticks": ""
           },
           "bgcolor": "#E5ECF6",
           "caxis": {
            "gridcolor": "white",
            "linecolor": "white",
            "ticks": ""
           }
          },
          "title": {
           "x": 0.05
          },
          "xaxis": {
           "automargin": true,
           "gridcolor": "white",
           "linecolor": "white",
           "ticks": "",
           "title": {
            "standoff": 15
           },
           "zerolinecolor": "white",
           "zerolinewidth": 2
          },
          "yaxis": {
           "automargin": true,
           "gridcolor": "white",
           "linecolor": "white",
           "ticks": "",
           "title": {
            "standoff": 15
           },
           "zerolinecolor": "white",
           "zerolinewidth": 2
          }
         }
        },
        "width": 900,
        "xaxis": {
         "rangeselector": {
          "buttons": [
           {
            "count": 7,
            "label": "1w",
            "step": "day",
            "stepmode": "backward"
           },
           {
            "count": 1,
            "label": "1m",
            "step": "month",
            "stepmode": "backward"
           },
           {
            "count": 6,
            "label": "6m",
            "step": "month",
            "stepmode": "backward"
           },
           {
            "count": 1,
            "label": "1y",
            "step": "year",
            "stepmode": "backward"
           },
           {
            "step": "all"
           }
          ]
         },
         "rangeslider": {
          "visible": true
         },
         "title": {
          "text": "ds"
         },
         "type": "date"
        },
        "yaxis": {
         "title": {
          "text": "y"
         }
        }
       }
      }
     },
     "metadata": {},
     "output_type": "display_data"
    },
    {
     "name": "stderr",
     "output_type": "stream",
     "text": [
      "15:21:57 - cmdstanpy - INFO - Chain [1] start processing\n"
     ]
    },
    {
     "name": "stdout",
     "output_type": "stream",
     "text": [
      "VNQ\n",
      "Out Sample Mean Absolute Percentage Error (MAPE): 0.05842597957133291\n",
      "Out Sample Mean Squared Error (MSE): 6.255942359730424\n",
      "Out Sample Mean Absolute Error (MAE): 5.1674297082165825\n"
     ]
    },
    {
     "name": "stderr",
     "output_type": "stream",
     "text": [
      "15:21:57 - cmdstanpy - INFO - Chain [1] done processing\n",
      "c:\\Users\\limfy\\anaconda3\\Lib\\site-packages\\prophet\\forecaster.py:1854: FutureWarning:\n",
      "\n",
      "'M' is deprecated and will be removed in a future version, please use 'ME' instead.\n",
      "\n"
     ]
    },
    {
     "name": "stdout",
     "output_type": "stream",
     "text": [
      "Confidence Intervals of Predictions\n"
     ]
    },
    {
     "data": {
      "application/vnd.plotly.v1+json": {
       "config": {
        "plotlyServerURL": "https://plot.ly"
       },
       "data": [
        {
         "marker": {
          "color": "black",
          "size": 4
         },
         "mode": "markers",
         "name": "Actual",
         "type": "scatter",
         "x": [
          "2014-01-01T00:00:00",
          "2014-02-03T00:00:00",
          "2014-03-03T00:00:00",
          "2014-04-01T00:00:00",
          "2014-05-01T00:00:00",
          "2014-06-02T00:00:00",
          "2014-07-01T00:00:00",
          "2014-08-01T00:00:00",
          "2014-09-01T00:00:00",
          "2014-10-01T00:00:00",
          "2014-11-03T00:00:00",
          "2014-12-01T00:00:00",
          "2015-01-01T00:00:00",
          "2015-02-02T00:00:00",
          "2015-03-02T00:00:00",
          "2015-04-01T00:00:00",
          "2015-05-01T00:00:00",
          "2015-06-01T00:00:00",
          "2015-07-01T00:00:00",
          "2015-08-03T00:00:00",
          "2015-09-01T00:00:00",
          "2015-10-01T00:00:00",
          "2015-11-02T00:00:00",
          "2015-12-01T00:00:00",
          "2016-01-01T00:00:00",
          "2016-02-01T00:00:00",
          "2016-03-01T00:00:00",
          "2016-04-01T00:00:00",
          "2016-05-02T00:00:00",
          "2016-06-01T00:00:00",
          "2016-07-01T00:00:00",
          "2016-08-01T00:00:00",
          "2016-09-01T00:00:00",
          "2016-10-03T00:00:00",
          "2016-11-01T00:00:00",
          "2016-12-01T00:00:00",
          "2017-01-02T00:00:00",
          "2017-02-01T00:00:00",
          "2017-03-01T00:00:00",
          "2017-04-03T00:00:00",
          "2017-05-01T00:00:00",
          "2017-06-01T00:00:00",
          "2017-07-03T00:00:00",
          "2017-08-01T00:00:00",
          "2017-09-01T00:00:00",
          "2017-10-02T00:00:00",
          "2017-11-01T00:00:00",
          "2017-12-01T00:00:00",
          "2018-01-01T00:00:00",
          "2018-02-01T00:00:00",
          "2018-03-01T00:00:00",
          "2018-04-02T00:00:00",
          "2018-05-01T00:00:00",
          "2018-06-01T00:00:00",
          "2018-07-02T00:00:00",
          "2018-08-01T00:00:00",
          "2018-09-03T00:00:00",
          "2018-10-01T00:00:00",
          "2018-11-01T00:00:00",
          "2018-12-03T00:00:00",
          "2019-01-01T00:00:00",
          "2019-02-01T00:00:00",
          "2019-03-01T00:00:00",
          "2019-04-01T00:00:00",
          "2019-05-01T00:00:00",
          "2019-06-03T00:00:00",
          "2019-07-01T00:00:00",
          "2019-08-01T00:00:00",
          "2019-09-02T00:00:00",
          "2019-10-01T00:00:00",
          "2019-11-01T00:00:00",
          "2019-12-02T00:00:00",
          "2020-01-01T00:00:00",
          "2020-02-03T00:00:00",
          "2020-03-02T00:00:00",
          "2020-04-01T00:00:00",
          "2020-05-01T00:00:00",
          "2020-06-01T00:00:00",
          "2020-07-01T00:00:00",
          "2020-08-03T00:00:00",
          "2020-09-01T00:00:00",
          "2020-10-01T00:00:00",
          "2020-11-02T00:00:00",
          "2020-12-01T00:00:00",
          "2021-01-01T00:00:00",
          "2021-02-01T00:00:00",
          "2021-03-01T00:00:00",
          "2021-04-01T00:00:00",
          "2021-05-03T00:00:00",
          "2021-06-01T00:00:00",
          "2021-07-01T00:00:00",
          "2021-08-02T00:00:00",
          "2021-09-01T00:00:00",
          "2021-10-01T00:00:00",
          "2021-11-01T00:00:00",
          "2021-12-01T00:00:00",
          "2022-01-03T00:00:00",
          "2022-02-01T00:00:00",
          "2022-03-01T00:00:00",
          "2022-04-01T00:00:00",
          "2022-05-02T00:00:00",
          "2022-06-01T00:00:00",
          "2022-07-01T00:00:00",
          "2022-08-01T00:00:00",
          "2022-09-01T00:00:00",
          "2022-10-03T00:00:00",
          "2022-11-01T00:00:00",
          "2022-12-01T00:00:00",
          "2023-01-02T00:00:00",
          "2023-02-01T00:00:00",
          "2023-03-01T00:00:00",
          "2023-04-03T00:00:00",
          "2023-05-01T00:00:00",
          "2023-06-01T00:00:00",
          "2023-07-03T00:00:00",
          "2023-08-01T00:00:00",
          "2023-09-01T00:00:00",
          "2023-10-02T00:00:00",
          "2023-11-01T00:00:00",
          "2023-12-01T00:00:00"
         ],
         "y": [
          57.58211135864258,
          54.044700622558594,
          57.47650909423828,
          59.41719436645508,
          62.03025436401367,
          63.13119125366211,
          66.73580169677734,
          63.86408615112305,
          64.95679473876953,
          59.45106887817383,
          57.62274932861328,
          53.64460372924805,
          53.59370040893555,
          52.46834182739258,
          52.87940979003906,
          52.62130355834961,
          56.223915100097656,
          53.048728942871094,
          50.67610168457031,
          46.38707733154297,
          43.77131652832031,
          42.188419342041016,
          47.89885330200195,
          47.1695556640625,
          41.862430572509766,
          39.73807144165039,
          40.30734634399414,
          42.69270324707031,
          47.14655685424805,
          46.76899719238281,
          48.28042984008789,
          45.85939407348633,
          48.07634735107422,
          49.96003723144531,
          48.59349822998047,
          52.827632904052734,
          54.21733474731445,
          51.505401611328125,
          51.825706481933594,
          49.966915130615234,
          48.44169616699219,
          47.15279006958008,
          47.7081184387207,
          48.02534866333008,
          45.84075164794922,
          50.00919723510742,
          50.169898986816406,
          50.90038299560547,
          54.01158142089844,
          55.6073112487793,
          49.00384521484375,
          48.92321014404297,
          54.32949447631836,
          56.566062927246094,
          55.785030364990234,
          56.702117919921875,
          55.38243103027344,
          57.64753341674805,
          50.846046447753906,
          50.73343276977539,
          44.31257629394531,
          49.169677734375,
          50.35175323486328,
          51.15904998779297,
          49.47895050048828,
          45.454345703125,
          49.14452362060547,
          47.22559356689453,
          44.081329345703125,
          44.97444534301758,
          46.102115631103516,
          45.798805236816406,
          48.995479583740234,
          42.654701232910156,
          38.09321975708008,
          22.838176727294922,
          29.643325805664062,
          32.61178970336914,
          30.92792510986328,
          30.283071517944336,
          29.654966354370117,
          24.711854934692383,
          25.282197952270508,
          31.436748504638672,
          32.7457160949707,
          34.16044616699219,
          42.61429214477539,
          43.85975646972656,
          44.243350982666016,
          47.26845932006836,
          48.271148681640625,
          43.171897888183594,
          42.00056457519531,
          47.99293899536133,
          52.11119842529297,
          48.14447784423828,
          51.66631317138672,
          61.6438102722168,
          64.37069702148438,
          70.24623107910156,
          69.59902954101562,
          80.78409576416016,
          66.90432739257812,
          70.79434204101562,
          72.37982940673828,
          70.90457153320312,
          84.67735290527344,
          84.6587142944336,
          79.45831298828125,
          82.99815368652344,
          80.34325408935547,
          82.36134338378906,
          80.06877136230469,
          73.76183319091797,
          78.07740783691406,
          83.55701446533203,
          87.07894897460938,
          85.6430435180664,
          82.16280364990234,
          82.19180297851562
         ]
        },
        {
         "hoverinfo": "skip",
         "line": {
          "width": 0
         },
         "mode": "lines",
         "type": "scatter",
         "x": [
          "2014-01-01T00:00:00",
          "2014-02-03T00:00:00",
          "2014-03-03T00:00:00",
          "2014-04-01T00:00:00",
          "2014-05-01T00:00:00",
          "2014-06-02T00:00:00",
          "2014-07-01T00:00:00",
          "2014-08-01T00:00:00",
          "2014-09-01T00:00:00",
          "2014-10-01T00:00:00",
          "2014-11-03T00:00:00",
          "2014-12-01T00:00:00",
          "2015-01-01T00:00:00",
          "2015-02-02T00:00:00",
          "2015-03-02T00:00:00",
          "2015-04-01T00:00:00",
          "2015-05-01T00:00:00",
          "2015-06-01T00:00:00",
          "2015-07-01T00:00:00",
          "2015-08-03T00:00:00",
          "2015-09-01T00:00:00",
          "2015-10-01T00:00:00",
          "2015-11-02T00:00:00",
          "2015-12-01T00:00:00",
          "2016-01-01T00:00:00",
          "2016-02-01T00:00:00",
          "2016-03-01T00:00:00",
          "2016-04-01T00:00:00",
          "2016-05-02T00:00:00",
          "2016-06-01T00:00:00",
          "2016-07-01T00:00:00",
          "2016-08-01T00:00:00",
          "2016-09-01T00:00:00",
          "2016-10-03T00:00:00",
          "2016-11-01T00:00:00",
          "2016-12-01T00:00:00",
          "2017-01-02T00:00:00",
          "2017-02-01T00:00:00",
          "2017-03-01T00:00:00",
          "2017-04-03T00:00:00",
          "2017-05-01T00:00:00",
          "2017-06-01T00:00:00",
          "2017-07-03T00:00:00",
          "2017-08-01T00:00:00",
          "2017-09-01T00:00:00",
          "2017-10-02T00:00:00",
          "2017-11-01T00:00:00",
          "2017-12-01T00:00:00",
          "2018-01-01T00:00:00",
          "2018-02-01T00:00:00",
          "2018-03-01T00:00:00",
          "2018-04-02T00:00:00",
          "2018-05-01T00:00:00",
          "2018-06-01T00:00:00",
          "2018-07-02T00:00:00",
          "2018-08-01T00:00:00",
          "2018-09-03T00:00:00",
          "2018-10-01T00:00:00",
          "2018-11-01T00:00:00",
          "2018-12-03T00:00:00",
          "2019-01-01T00:00:00",
          "2019-02-01T00:00:00",
          "2019-03-01T00:00:00",
          "2019-04-01T00:00:00",
          "2019-05-01T00:00:00",
          "2019-06-03T00:00:00",
          "2019-07-01T00:00:00",
          "2019-08-01T00:00:00",
          "2019-09-02T00:00:00",
          "2019-10-01T00:00:00",
          "2019-11-01T00:00:00",
          "2019-12-02T00:00:00",
          "2020-01-01T00:00:00",
          "2020-02-03T00:00:00",
          "2020-03-02T00:00:00",
          "2020-04-01T00:00:00",
          "2020-05-01T00:00:00",
          "2020-06-01T00:00:00",
          "2020-07-01T00:00:00",
          "2020-08-03T00:00:00",
          "2020-09-01T00:00:00",
          "2020-10-01T00:00:00",
          "2020-11-02T00:00:00",
          "2020-12-01T00:00:00",
          "2021-01-01T00:00:00",
          "2021-02-01T00:00:00",
          "2021-03-01T00:00:00",
          "2021-04-01T00:00:00",
          "2021-05-03T00:00:00",
          "2021-06-01T00:00:00",
          "2021-07-01T00:00:00",
          "2021-08-02T00:00:00",
          "2021-09-01T00:00:00",
          "2021-10-01T00:00:00",
          "2021-11-01T00:00:00",
          "2021-12-01T00:00:00",
          "2022-01-03T00:00:00",
          "2022-02-01T00:00:00",
          "2022-03-01T00:00:00",
          "2022-04-01T00:00:00",
          "2022-05-02T00:00:00",
          "2022-06-01T00:00:00",
          "2022-07-01T00:00:00",
          "2022-08-01T00:00:00",
          "2022-09-01T00:00:00",
          "2022-10-03T00:00:00",
          "2022-11-01T00:00:00",
          "2022-12-01T00:00:00",
          "2023-01-02T00:00:00",
          "2023-02-01T00:00:00",
          "2023-03-01T00:00:00",
          "2023-04-03T00:00:00",
          "2023-05-01T00:00:00",
          "2023-06-01T00:00:00",
          "2023-07-03T00:00:00",
          "2023-08-01T00:00:00",
          "2023-09-01T00:00:00",
          "2023-10-02T00:00:00",
          "2023-11-01T00:00:00",
          "2023-12-01T00:00:00",
          "2023-12-31T00:00:00",
          "2024-01-31T00:00:00",
          "2024-02-29T00:00:00",
          "2024-03-31T00:00:00",
          "2024-04-30T00:00:00",
          "2024-05-31T00:00:00",
          "2024-06-30T00:00:00",
          "2024-07-31T00:00:00",
          "2024-08-31T00:00:00",
          "2024-09-30T00:00:00"
         ],
         "y": [
          47.96391800243844,
          48.4324678352975,
          45.86834564049938,
          47.32679924710561,
          49.86612139924036,
          51.1091738457336,
          48.197310392209815,
          50.19347797717229,
          52.03080207828739,
          44.88083836877893,
          39.95115004493988,
          44.89182474226079,
          45.3206482527056,
          46.75946381400613,
          45.776009889287074,
          43.7619782881055,
          47.312055433976106,
          44.76829115973815,
          44.896019693142996,
          38.48797198836745,
          39.15939266957653,
          41.595571610139714,
          43.43338812559441,
          41.06848934020301,
          43.44330540730308,
          43.37105694910557,
          42.79103145490963,
          42.31417199377351,
          42.19905527282631,
          44.20972572702861,
          43.417005250335855,
          42.54879996263544,
          39.16538029452358,
          42.94410526368682,
          41.6063325062644,
          42.139624981098535,
          46.57875476303565,
          40.676252258267375,
          41.11123978580449,
          42.675406761160765,
          41.59507387035504,
          40.802027151442,
          41.47484758338581,
          41.151126658171236,
          35.91169019842196,
          38.45727567751233,
          39.98127024220021,
          37.55927642534129,
          36.95062136559038,
          38.05652363370107,
          38.836501389448905,
          38.15479343654119,
          39.51657737132269,
          36.99578759117534,
          38.09906011330493,
          39.862212115573286,
          47.1245924216263,
          35.01435876725738,
          38.65742047962886,
          43.12901215189436,
          34.595265606743645,
          36.068742312186735,
          36.70202342423286,
          33.808283631540746,
          37.778813840789226,
          41.05457920298629,
          34.876509085342995,
          38.96847222871905,
          41.44297769884419,
          31.567683411834295,
          36.99655615613183,
          35.00232419869578,
          32.79909950624893,
          33.30618292904607,
          32.08012277696222,
          32.262913941569536,
          34.184126918244985,
          34.886188359599586,
          34.121837565252484,
          23.08100739524671,
          30.819316135958484,
          32.44729724640848,
          30.919332693944018,
          35.70026858722412,
          34.22346994280511,
          36.579445471653365,
          37.75063873308324,
          38.044003300641144,
          37.3919108151313,
          41.916046476205054,
          42.54723698595873,
          38.99981396780158,
          39.650058862804165,
          43.97727020127776,
          47.515911137911026,
          47.15366539846202,
          43.49415761112593,
          51.16903473212316,
          52.17791920762756,
          50.88190119189852,
          54.66754404071798,
          55.59773460886147,
          56.91051987507774,
          60.57578830548978,
          54.520944297329265,
          62.25258416946475,
          63.63711558075498,
          61.78023085305734,
          69.98731493521299,
          65.67712342848125,
          68.27747644491649,
          69.71266852335057,
          72.31210806018217,
          70.476331906731,
          74.24584574957454,
          78.31604618641033,
          69.99458298177193,
          75.43687788336304,
          79.61293036014438,
          76.36743029992911,
          77.43441300067452,
          82.01308473313065,
          84.32263828077893,
          81.92035068220022,
          87.33084067139653,
          84.58267934470283,
          87.25032574987203,
          94.37373757750696,
          84.43839946240773,
          88.32278692356448
         ]
        },
        {
         "fill": "tonexty",
         "fillcolor": "rgba(0, 114, 178, 0.2)",
         "line": {
          "color": "#0072B2",
          "width": 2
         },
         "mode": "lines",
         "name": "Predicted",
         "type": "scatter",
         "x": [
          "2014-01-01T00:00:00",
          "2014-02-03T00:00:00",
          "2014-03-03T00:00:00",
          "2014-04-01T00:00:00",
          "2014-05-01T00:00:00",
          "2014-06-02T00:00:00",
          "2014-07-01T00:00:00",
          "2014-08-01T00:00:00",
          "2014-09-01T00:00:00",
          "2014-10-01T00:00:00",
          "2014-11-03T00:00:00",
          "2014-12-01T00:00:00",
          "2015-01-01T00:00:00",
          "2015-02-02T00:00:00",
          "2015-03-02T00:00:00",
          "2015-04-01T00:00:00",
          "2015-05-01T00:00:00",
          "2015-06-01T00:00:00",
          "2015-07-01T00:00:00",
          "2015-08-03T00:00:00",
          "2015-09-01T00:00:00",
          "2015-10-01T00:00:00",
          "2015-11-02T00:00:00",
          "2015-12-01T00:00:00",
          "2016-01-01T00:00:00",
          "2016-02-01T00:00:00",
          "2016-03-01T00:00:00",
          "2016-04-01T00:00:00",
          "2016-05-02T00:00:00",
          "2016-06-01T00:00:00",
          "2016-07-01T00:00:00",
          "2016-08-01T00:00:00",
          "2016-09-01T00:00:00",
          "2016-10-03T00:00:00",
          "2016-11-01T00:00:00",
          "2016-12-01T00:00:00",
          "2017-01-02T00:00:00",
          "2017-02-01T00:00:00",
          "2017-03-01T00:00:00",
          "2017-04-03T00:00:00",
          "2017-05-01T00:00:00",
          "2017-06-01T00:00:00",
          "2017-07-03T00:00:00",
          "2017-08-01T00:00:00",
          "2017-09-01T00:00:00",
          "2017-10-02T00:00:00",
          "2017-11-01T00:00:00",
          "2017-12-01T00:00:00",
          "2018-01-01T00:00:00",
          "2018-02-01T00:00:00",
          "2018-03-01T00:00:00",
          "2018-04-02T00:00:00",
          "2018-05-01T00:00:00",
          "2018-06-01T00:00:00",
          "2018-07-02T00:00:00",
          "2018-08-01T00:00:00",
          "2018-09-03T00:00:00",
          "2018-10-01T00:00:00",
          "2018-11-01T00:00:00",
          "2018-12-03T00:00:00",
          "2019-01-01T00:00:00",
          "2019-02-01T00:00:00",
          "2019-03-01T00:00:00",
          "2019-04-01T00:00:00",
          "2019-05-01T00:00:00",
          "2019-06-03T00:00:00",
          "2019-07-01T00:00:00",
          "2019-08-01T00:00:00",
          "2019-09-02T00:00:00",
          "2019-10-01T00:00:00",
          "2019-11-01T00:00:00",
          "2019-12-02T00:00:00",
          "2020-01-01T00:00:00",
          "2020-02-03T00:00:00",
          "2020-03-02T00:00:00",
          "2020-04-01T00:00:00",
          "2020-05-01T00:00:00",
          "2020-06-01T00:00:00",
          "2020-07-01T00:00:00",
          "2020-08-03T00:00:00",
          "2020-09-01T00:00:00",
          "2020-10-01T00:00:00",
          "2020-11-02T00:00:00",
          "2020-12-01T00:00:00",
          "2021-01-01T00:00:00",
          "2021-02-01T00:00:00",
          "2021-03-01T00:00:00",
          "2021-04-01T00:00:00",
          "2021-05-03T00:00:00",
          "2021-06-01T00:00:00",
          "2021-07-01T00:00:00",
          "2021-08-02T00:00:00",
          "2021-09-01T00:00:00",
          "2021-10-01T00:00:00",
          "2021-11-01T00:00:00",
          "2021-12-01T00:00:00",
          "2022-01-03T00:00:00",
          "2022-02-01T00:00:00",
          "2022-03-01T00:00:00",
          "2022-04-01T00:00:00",
          "2022-05-02T00:00:00",
          "2022-06-01T00:00:00",
          "2022-07-01T00:00:00",
          "2022-08-01T00:00:00",
          "2022-09-01T00:00:00",
          "2022-10-03T00:00:00",
          "2022-11-01T00:00:00",
          "2022-12-01T00:00:00",
          "2023-01-02T00:00:00",
          "2023-02-01T00:00:00",
          "2023-03-01T00:00:00",
          "2023-04-03T00:00:00",
          "2023-05-01T00:00:00",
          "2023-06-01T00:00:00",
          "2023-07-03T00:00:00",
          "2023-08-01T00:00:00",
          "2023-09-01T00:00:00",
          "2023-10-02T00:00:00",
          "2023-11-01T00:00:00",
          "2023-12-01T00:00:00",
          "2023-12-31T00:00:00",
          "2024-01-31T00:00:00",
          "2024-02-29T00:00:00",
          "2024-03-31T00:00:00",
          "2024-04-30T00:00:00",
          "2024-05-31T00:00:00",
          "2024-06-30T00:00:00",
          "2024-07-31T00:00:00",
          "2024-08-31T00:00:00",
          "2024-09-30T00:00:00"
         ],
         "y": [
          55.94960491752811,
          56.91878784472275,
          54.67945165823055,
          55.362085691523355,
          58.44597160037313,
          59.590321443235084,
          56.29230330875205,
          58.79559266675432,
          60.1920833826626,
          53.15799563222161,
          48.75209659036486,
          53.18993694283379,
          53.64199820705021,
          54.45067177745066,
          54.06760856511836,
          52.35889449668131,
          56.292893934581734,
          53.08853240421454,
          53.61152607971905,
          46.48994581730319,
          47.77209962035966,
          50.19551522682554,
          51.34098412310785,
          49.55635101053563,
          51.34976476591108,
          52.094994528462436,
          51.85948206647185,
          51.023545067349474,
          50.543451850725184,
          52.864482417340184,
          51.394746791266556,
          50.870473830202556,
          47.34913394816385,
          52.53220921038051,
          49.77995237007564,
          50.103091948536125,
          54.64754057029565,
          49.361946178992156,
          49.64451361364377,
          51.22990444522594,
          50.25535508587475,
          49.49618225841123,
          50.5678007516091,
          49.66841032049954,
          44.0640681258058,
          47.51451553332479,
          48.21320851463076,
          46.481767412092,
          45.613405098051715,
          46.82394961026381,
          47.42214525370291,
          46.67264207823775,
          48.10985566174704,
          46.12530029153669,
          46.60098131796289,
          48.45954104458791,
          55.050096644364636,
          42.82198667105824,
          46.63991750181371,
          50.97245865908491,
          43.30605365036963,
          44.28981370182442,
          45.192021025954126,
          42.02301309956372,
          45.95703360081658,
          48.96597074683222,
          43.275708588056055,
          47.242543444491865,
          49.375042727078274,
          39.85976228609082,
          45.05930508011248,
          43.38133460938314,
          41.014062160748374,
          41.59541318337925,
          40.25716507015739,
          41.099464934293316,
          42.60530757815106,
          43.49359240542955,
          42.42788668441085,
          31.20900892017176,
          39.21726879238785,
          41.38131196727927,
          39.022346371924264,
          44.16199371181871,
          42.74139385010087,
          45.25232357076742,
          46.515044957309144,
          45.98191891690606,
          45.84182773963305,
          50.081879892455134,
          50.54169891331174,
          47.372303184265405,
          48.764515589230534,
          51.94125006415258,
          55.84498919945016,
          55.55518738140871,
          51.68253340041717,
          58.946400195609236,
          60.92157740729478,
          60.049896243895056,
          62.862387770181,
          64.14910045508223,
          65.45536757353325,
          69.48319391144751,
          63.30778043949079,
          70.4772076214631,
          72.18793838344283,
          69.87732893354779,
          78.49060144034542,
          74.36220260441941,
          76.64139146905036,
          78.35795265131073,
          80.40625668570557,
          78.72643219778685,
          82.31828948084936,
          86.21613442015544,
          77.93443189134422,
          83.48391236047529,
          88.55726396089133,
          84.1939370684794,
          85.81068479869859,
          89.97718914838622,
          92.35311489597005,
          89.94151578083924,
          96.19589901673024,
          93.30289617405663,
          96.01992302695332,
          102.93963429391844,
          92.54284242709792,
          96.83619813561876
         ]
        },
        {
         "fill": "tonexty",
         "fillcolor": "rgba(0, 114, 178, 0.2)",
         "hoverinfo": "skip",
         "line": {
          "width": 0
         },
         "mode": "lines",
         "type": "scatter",
         "x": [
          "2014-01-01T00:00:00",
          "2014-02-03T00:00:00",
          "2014-03-03T00:00:00",
          "2014-04-01T00:00:00",
          "2014-05-01T00:00:00",
          "2014-06-02T00:00:00",
          "2014-07-01T00:00:00",
          "2014-08-01T00:00:00",
          "2014-09-01T00:00:00",
          "2014-10-01T00:00:00",
          "2014-11-03T00:00:00",
          "2014-12-01T00:00:00",
          "2015-01-01T00:00:00",
          "2015-02-02T00:00:00",
          "2015-03-02T00:00:00",
          "2015-04-01T00:00:00",
          "2015-05-01T00:00:00",
          "2015-06-01T00:00:00",
          "2015-07-01T00:00:00",
          "2015-08-03T00:00:00",
          "2015-09-01T00:00:00",
          "2015-10-01T00:00:00",
          "2015-11-02T00:00:00",
          "2015-12-01T00:00:00",
          "2016-01-01T00:00:00",
          "2016-02-01T00:00:00",
          "2016-03-01T00:00:00",
          "2016-04-01T00:00:00",
          "2016-05-02T00:00:00",
          "2016-06-01T00:00:00",
          "2016-07-01T00:00:00",
          "2016-08-01T00:00:00",
          "2016-09-01T00:00:00",
          "2016-10-03T00:00:00",
          "2016-11-01T00:00:00",
          "2016-12-01T00:00:00",
          "2017-01-02T00:00:00",
          "2017-02-01T00:00:00",
          "2017-03-01T00:00:00",
          "2017-04-03T00:00:00",
          "2017-05-01T00:00:00",
          "2017-06-01T00:00:00",
          "2017-07-03T00:00:00",
          "2017-08-01T00:00:00",
          "2017-09-01T00:00:00",
          "2017-10-02T00:00:00",
          "2017-11-01T00:00:00",
          "2017-12-01T00:00:00",
          "2018-01-01T00:00:00",
          "2018-02-01T00:00:00",
          "2018-03-01T00:00:00",
          "2018-04-02T00:00:00",
          "2018-05-01T00:00:00",
          "2018-06-01T00:00:00",
          "2018-07-02T00:00:00",
          "2018-08-01T00:00:00",
          "2018-09-03T00:00:00",
          "2018-10-01T00:00:00",
          "2018-11-01T00:00:00",
          "2018-12-03T00:00:00",
          "2019-01-01T00:00:00",
          "2019-02-01T00:00:00",
          "2019-03-01T00:00:00",
          "2019-04-01T00:00:00",
          "2019-05-01T00:00:00",
          "2019-06-03T00:00:00",
          "2019-07-01T00:00:00",
          "2019-08-01T00:00:00",
          "2019-09-02T00:00:00",
          "2019-10-01T00:00:00",
          "2019-11-01T00:00:00",
          "2019-12-02T00:00:00",
          "2020-01-01T00:00:00",
          "2020-02-03T00:00:00",
          "2020-03-02T00:00:00",
          "2020-04-01T00:00:00",
          "2020-05-01T00:00:00",
          "2020-06-01T00:00:00",
          "2020-07-01T00:00:00",
          "2020-08-03T00:00:00",
          "2020-09-01T00:00:00",
          "2020-10-01T00:00:00",
          "2020-11-02T00:00:00",
          "2020-12-01T00:00:00",
          "2021-01-01T00:00:00",
          "2021-02-01T00:00:00",
          "2021-03-01T00:00:00",
          "2021-04-01T00:00:00",
          "2021-05-03T00:00:00",
          "2021-06-01T00:00:00",
          "2021-07-01T00:00:00",
          "2021-08-02T00:00:00",
          "2021-09-01T00:00:00",
          "2021-10-01T00:00:00",
          "2021-11-01T00:00:00",
          "2021-12-01T00:00:00",
          "2022-01-03T00:00:00",
          "2022-02-01T00:00:00",
          "2022-03-01T00:00:00",
          "2022-04-01T00:00:00",
          "2022-05-02T00:00:00",
          "2022-06-01T00:00:00",
          "2022-07-01T00:00:00",
          "2022-08-01T00:00:00",
          "2022-09-01T00:00:00",
          "2022-10-03T00:00:00",
          "2022-11-01T00:00:00",
          "2022-12-01T00:00:00",
          "2023-01-02T00:00:00",
          "2023-02-01T00:00:00",
          "2023-03-01T00:00:00",
          "2023-04-03T00:00:00",
          "2023-05-01T00:00:00",
          "2023-06-01T00:00:00",
          "2023-07-03T00:00:00",
          "2023-08-01T00:00:00",
          "2023-09-01T00:00:00",
          "2023-10-02T00:00:00",
          "2023-11-01T00:00:00",
          "2023-12-01T00:00:00",
          "2023-12-31T00:00:00",
          "2024-01-31T00:00:00",
          "2024-02-29T00:00:00",
          "2024-03-31T00:00:00",
          "2024-04-30T00:00:00",
          "2024-05-31T00:00:00",
          "2024-06-30T00:00:00",
          "2024-07-31T00:00:00",
          "2024-08-31T00:00:00",
          "2024-09-30T00:00:00"
         ],
         "y": [
          64.39729452625492,
          65.18607014386085,
          63.269247109639714,
          63.25267581610065,
          66.37994996565278,
          67.69382721920722,
          64.85117454250457,
          67.59274927034268,
          67.90789955872037,
          62.056248094268845,
          57.471249166081265,
          61.14799389962334,
          62.116002081162044,
          62.60354733518025,
          62.35020066584377,
          60.5783342973101,
          64.32461732362533,
          60.22193324045637,
          62.02530015707736,
          54.94330569859927,
          56.34988707586513,
          58.36943210306963,
          60.01346622974594,
          57.54674808748043,
          59.87318992541156,
          60.10880026142969,
          60.451191540098606,
          60.001080280140165,
          59.125458548144934,
          62.13794378439921,
          60.22925093933032,
          59.07789109638901,
          55.86919680453595,
          61.12227542144543,
          58.468403496927365,
          58.323046652905205,
          62.71885158565159,
          57.57022219737578,
          58.12240345671324,
          59.440807505255385,
          59.10646030164496,
          57.51683951108711,
          58.30297701564633,
          58.23645653152114,
          53.027329627522455,
          55.55817104637104,
          55.965867640915555,
          54.167946277393,
          53.61844317057002,
          55.302129926982424,
          56.44864447623185,
          55.14008936198665,
          56.38822564048549,
          53.76063649527913,
          54.46046400845755,
          56.287477393977895,
          63.87030060853342,
          51.29363039322112,
          54.88865654293359,
          59.66504899089533,
          51.43227533267641,
          53.09687933223296,
          52.75865933744361,
          50.74501077082443,
          54.29732327520592,
          58.05596509879927,
          51.52241280007926,
          55.76113801112881,
          58.20667864872178,
          48.027721573670014,
          53.04719383258178,
          51.66168888375026,
          49.28389245078775,
          49.761303278234955,
          48.33403284164768,
          49.467102565723316,
          50.94996844017368,
          51.61498678914944,
          51.09291474652943,
          40.072154675923386,
          47.97655275298752,
          49.85792767001533,
          47.73661569333929,
          53.06632827339529,
          51.251705817969224,
          52.78745271949797,
          55.116619543944985,
          54.80531526162711,
          54.120245838735485,
          58.843215092643305,
          59.39917666008696,
          56.001703269868834,
          57.023009752307374,
          60.58692643308111,
          63.82753289467217,
          63.81343850885946,
          59.88882926125511,
          67.09400523274981,
          68.70696045386863,
          68.08819208913171,
          71.08613921147042,
          72.6391276743877,
          74.02993878478708,
          77.56580335969117,
          71.8363969363864,
          78.86817216201644,
          80.75748449037407,
          77.5989059742394,
          87.00773670286458,
          82.68776324669788,
          84.79501632282569,
          86.4638686880907,
          88.82334793616162,
          87.42015067397755,
          90.7959383250412,
          94.19427736589333,
          86.30032161016885,
          92.18588827429147,
          97.21971165120854,
          92.42314740057036,
          94.23394626864194,
          98.14524236569267,
          101.35099204467066,
          98.91030031381655,
          104.5003023525485,
          101.57439924481903,
          104.38722620656701,
          111.56831927370632,
          100.21295946570794,
          104.93110315328248
         ]
        },
        {
         "marker": {
          "color": "red"
         },
         "mode": "markers",
         "name": "Out-of-Sample Prices",
         "type": "scatter",
         "x": [
          "2024-01-01T00:00:00",
          "2024-02-01T00:00:00",
          "2024-03-01T00:00:00",
          "2024-04-01T00:00:00",
          "2024-05-01T00:00:00",
          "2024-06-03T00:00:00",
          "2024-07-01T00:00:00",
          "2024-08-01T00:00:00",
          "2024-09-02T00:00:00",
          "2024-10-01T00:00:00"
         ],
         "y": [
          82.70796966552734,
          81.40010833740234,
          85.05042266845703,
          93.5794906616211,
          90.54905700683594,
          89.29949188232422,
          90.45301055908203,
          89.99678039550781,
          88.28095245361328,
          89.80000305175781
         ]
        }
       ],
       "layout": {
        "height": 600,
        "showlegend": false,
        "template": {
         "data": {
          "bar": [
           {
            "error_x": {
             "color": "#2a3f5f"
            },
            "error_y": {
             "color": "#2a3f5f"
            },
            "marker": {
             "line": {
              "color": "#E5ECF6",
              "width": 0.5
             },
             "pattern": {
              "fillmode": "overlay",
              "size": 10,
              "solidity": 0.2
             }
            },
            "type": "bar"
           }
          ],
          "barpolar": [
           {
            "marker": {
             "line": {
              "color": "#E5ECF6",
              "width": 0.5
             },
             "pattern": {
              "fillmode": "overlay",
              "size": 10,
              "solidity": 0.2
             }
            },
            "type": "barpolar"
           }
          ],
          "carpet": [
           {
            "aaxis": {
             "endlinecolor": "#2a3f5f",
             "gridcolor": "white",
             "linecolor": "white",
             "minorgridcolor": "white",
             "startlinecolor": "#2a3f5f"
            },
            "baxis": {
             "endlinecolor": "#2a3f5f",
             "gridcolor": "white",
             "linecolor": "white",
             "minorgridcolor": "white",
             "startlinecolor": "#2a3f5f"
            },
            "type": "carpet"
           }
          ],
          "choropleth": [
           {
            "colorbar": {
             "outlinewidth": 0,
             "ticks": ""
            },
            "type": "choropleth"
           }
          ],
          "contour": [
           {
            "colorbar": {
             "outlinewidth": 0,
             "ticks": ""
            },
            "colorscale": [
             [
              0,
              "#0d0887"
             ],
             [
              0.1111111111111111,
              "#46039f"
             ],
             [
              0.2222222222222222,
              "#7201a8"
             ],
             [
              0.3333333333333333,
              "#9c179e"
             ],
             [
              0.4444444444444444,
              "#bd3786"
             ],
             [
              0.5555555555555556,
              "#d8576b"
             ],
             [
              0.6666666666666666,
              "#ed7953"
             ],
             [
              0.7777777777777778,
              "#fb9f3a"
             ],
             [
              0.8888888888888888,
              "#fdca26"
             ],
             [
              1,
              "#f0f921"
             ]
            ],
            "type": "contour"
           }
          ],
          "contourcarpet": [
           {
            "colorbar": {
             "outlinewidth": 0,
             "ticks": ""
            },
            "type": "contourcarpet"
           }
          ],
          "heatmap": [
           {
            "colorbar": {
             "outlinewidth": 0,
             "ticks": ""
            },
            "colorscale": [
             [
              0,
              "#0d0887"
             ],
             [
              0.1111111111111111,
              "#46039f"
             ],
             [
              0.2222222222222222,
              "#7201a8"
             ],
             [
              0.3333333333333333,
              "#9c179e"
             ],
             [
              0.4444444444444444,
              "#bd3786"
             ],
             [
              0.5555555555555556,
              "#d8576b"
             ],
             [
              0.6666666666666666,
              "#ed7953"
             ],
             [
              0.7777777777777778,
              "#fb9f3a"
             ],
             [
              0.8888888888888888,
              "#fdca26"
             ],
             [
              1,
              "#f0f921"
             ]
            ],
            "type": "heatmap"
           }
          ],
          "heatmapgl": [
           {
            "colorbar": {
             "outlinewidth": 0,
             "ticks": ""
            },
            "colorscale": [
             [
              0,
              "#0d0887"
             ],
             [
              0.1111111111111111,
              "#46039f"
             ],
             [
              0.2222222222222222,
              "#7201a8"
             ],
             [
              0.3333333333333333,
              "#9c179e"
             ],
             [
              0.4444444444444444,
              "#bd3786"
             ],
             [
              0.5555555555555556,
              "#d8576b"
             ],
             [
              0.6666666666666666,
              "#ed7953"
             ],
             [
              0.7777777777777778,
              "#fb9f3a"
             ],
             [
              0.8888888888888888,
              "#fdca26"
             ],
             [
              1,
              "#f0f921"
             ]
            ],
            "type": "heatmapgl"
           }
          ],
          "histogram": [
           {
            "marker": {
             "pattern": {
              "fillmode": "overlay",
              "size": 10,
              "solidity": 0.2
             }
            },
            "type": "histogram"
           }
          ],
          "histogram2d": [
           {
            "colorbar": {
             "outlinewidth": 0,
             "ticks": ""
            },
            "colorscale": [
             [
              0,
              "#0d0887"
             ],
             [
              0.1111111111111111,
              "#46039f"
             ],
             [
              0.2222222222222222,
              "#7201a8"
             ],
             [
              0.3333333333333333,
              "#9c179e"
             ],
             [
              0.4444444444444444,
              "#bd3786"
             ],
             [
              0.5555555555555556,
              "#d8576b"
             ],
             [
              0.6666666666666666,
              "#ed7953"
             ],
             [
              0.7777777777777778,
              "#fb9f3a"
             ],
             [
              0.8888888888888888,
              "#fdca26"
             ],
             [
              1,
              "#f0f921"
             ]
            ],
            "type": "histogram2d"
           }
          ],
          "histogram2dcontour": [
           {
            "colorbar": {
             "outlinewidth": 0,
             "ticks": ""
            },
            "colorscale": [
             [
              0,
              "#0d0887"
             ],
             [
              0.1111111111111111,
              "#46039f"
             ],
             [
              0.2222222222222222,
              "#7201a8"
             ],
             [
              0.3333333333333333,
              "#9c179e"
             ],
             [
              0.4444444444444444,
              "#bd3786"
             ],
             [
              0.5555555555555556,
              "#d8576b"
             ],
             [
              0.6666666666666666,
              "#ed7953"
             ],
             [
              0.7777777777777778,
              "#fb9f3a"
             ],
             [
              0.8888888888888888,
              "#fdca26"
             ],
             [
              1,
              "#f0f921"
             ]
            ],
            "type": "histogram2dcontour"
           }
          ],
          "mesh3d": [
           {
            "colorbar": {
             "outlinewidth": 0,
             "ticks": ""
            },
            "type": "mesh3d"
           }
          ],
          "parcoords": [
           {
            "line": {
             "colorbar": {
              "outlinewidth": 0,
              "ticks": ""
             }
            },
            "type": "parcoords"
           }
          ],
          "pie": [
           {
            "automargin": true,
            "type": "pie"
           }
          ],
          "scatter": [
           {
            "fillpattern": {
             "fillmode": "overlay",
             "size": 10,
             "solidity": 0.2
            },
            "type": "scatter"
           }
          ],
          "scatter3d": [
           {
            "line": {
             "colorbar": {
              "outlinewidth": 0,
              "ticks": ""
             }
            },
            "marker": {
             "colorbar": {
              "outlinewidth": 0,
              "ticks": ""
             }
            },
            "type": "scatter3d"
           }
          ],
          "scattercarpet": [
           {
            "marker": {
             "colorbar": {
              "outlinewidth": 0,
              "ticks": ""
             }
            },
            "type": "scattercarpet"
           }
          ],
          "scattergeo": [
           {
            "marker": {
             "colorbar": {
              "outlinewidth": 0,
              "ticks": ""
             }
            },
            "type": "scattergeo"
           }
          ],
          "scattergl": [
           {
            "marker": {
             "colorbar": {
              "outlinewidth": 0,
              "ticks": ""
             }
            },
            "type": "scattergl"
           }
          ],
          "scattermapbox": [
           {
            "marker": {
             "colorbar": {
              "outlinewidth": 0,
              "ticks": ""
             }
            },
            "type": "scattermapbox"
           }
          ],
          "scatterpolar": [
           {
            "marker": {
             "colorbar": {
              "outlinewidth": 0,
              "ticks": ""
             }
            },
            "type": "scatterpolar"
           }
          ],
          "scatterpolargl": [
           {
            "marker": {
             "colorbar": {
              "outlinewidth": 0,
              "ticks": ""
             }
            },
            "type": "scatterpolargl"
           }
          ],
          "scatterternary": [
           {
            "marker": {
             "colorbar": {
              "outlinewidth": 0,
              "ticks": ""
             }
            },
            "type": "scatterternary"
           }
          ],
          "surface": [
           {
            "colorbar": {
             "outlinewidth": 0,
             "ticks": ""
            },
            "colorscale": [
             [
              0,
              "#0d0887"
             ],
             [
              0.1111111111111111,
              "#46039f"
             ],
             [
              0.2222222222222222,
              "#7201a8"
             ],
             [
              0.3333333333333333,
              "#9c179e"
             ],
             [
              0.4444444444444444,
              "#bd3786"
             ],
             [
              0.5555555555555556,
              "#d8576b"
             ],
             [
              0.6666666666666666,
              "#ed7953"
             ],
             [
              0.7777777777777778,
              "#fb9f3a"
             ],
             [
              0.8888888888888888,
              "#fdca26"
             ],
             [
              1,
              "#f0f921"
             ]
            ],
            "type": "surface"
           }
          ],
          "table": [
           {
            "cells": {
             "fill": {
              "color": "#EBF0F8"
             },
             "line": {
              "color": "white"
             }
            },
            "header": {
             "fill": {
              "color": "#C8D4E3"
             },
             "line": {
              "color": "white"
             }
            },
            "type": "table"
           }
          ]
         },
         "layout": {
          "annotationdefaults": {
           "arrowcolor": "#2a3f5f",
           "arrowhead": 0,
           "arrowwidth": 1
          },
          "autotypenumbers": "strict",
          "coloraxis": {
           "colorbar": {
            "outlinewidth": 0,
            "ticks": ""
           }
          },
          "colorscale": {
           "diverging": [
            [
             0,
             "#8e0152"
            ],
            [
             0.1,
             "#c51b7d"
            ],
            [
             0.2,
             "#de77ae"
            ],
            [
             0.3,
             "#f1b6da"
            ],
            [
             0.4,
             "#fde0ef"
            ],
            [
             0.5,
             "#f7f7f7"
            ],
            [
             0.6,
             "#e6f5d0"
            ],
            [
             0.7,
             "#b8e186"
            ],
            [
             0.8,
             "#7fbc41"
            ],
            [
             0.9,
             "#4d9221"
            ],
            [
             1,
             "#276419"
            ]
           ],
           "sequential": [
            [
             0,
             "#0d0887"
            ],
            [
             0.1111111111111111,
             "#46039f"
            ],
            [
             0.2222222222222222,
             "#7201a8"
            ],
            [
             0.3333333333333333,
             "#9c179e"
            ],
            [
             0.4444444444444444,
             "#bd3786"
            ],
            [
             0.5555555555555556,
             "#d8576b"
            ],
            [
             0.6666666666666666,
             "#ed7953"
            ],
            [
             0.7777777777777778,
             "#fb9f3a"
            ],
            [
             0.8888888888888888,
             "#fdca26"
            ],
            [
             1,
             "#f0f921"
            ]
           ],
           "sequentialminus": [
            [
             0,
             "#0d0887"
            ],
            [
             0.1111111111111111,
             "#46039f"
            ],
            [
             0.2222222222222222,
             "#7201a8"
            ],
            [
             0.3333333333333333,
             "#9c179e"
            ],
            [
             0.4444444444444444,
             "#bd3786"
            ],
            [
             0.5555555555555556,
             "#d8576b"
            ],
            [
             0.6666666666666666,
             "#ed7953"
            ],
            [
             0.7777777777777778,
             "#fb9f3a"
            ],
            [
             0.8888888888888888,
             "#fdca26"
            ],
            [
             1,
             "#f0f921"
            ]
           ]
          },
          "colorway": [
           "#636efa",
           "#EF553B",
           "#00cc96",
           "#ab63fa",
           "#FFA15A",
           "#19d3f3",
           "#FF6692",
           "#B6E880",
           "#FF97FF",
           "#FECB52"
          ],
          "font": {
           "color": "#2a3f5f"
          },
          "geo": {
           "bgcolor": "white",
           "lakecolor": "white",
           "landcolor": "#E5ECF6",
           "showlakes": true,
           "showland": true,
           "subunitcolor": "white"
          },
          "hoverlabel": {
           "align": "left"
          },
          "hovermode": "closest",
          "mapbox": {
           "style": "light"
          },
          "paper_bgcolor": "white",
          "plot_bgcolor": "#E5ECF6",
          "polar": {
           "angularaxis": {
            "gridcolor": "white",
            "linecolor": "white",
            "ticks": ""
           },
           "bgcolor": "#E5ECF6",
           "radialaxis": {
            "gridcolor": "white",
            "linecolor": "white",
            "ticks": ""
           }
          },
          "scene": {
           "xaxis": {
            "backgroundcolor": "#E5ECF6",
            "gridcolor": "white",
            "gridwidth": 2,
            "linecolor": "white",
            "showbackground": true,
            "ticks": "",
            "zerolinecolor": "white"
           },
           "yaxis": {
            "backgroundcolor": "#E5ECF6",
            "gridcolor": "white",
            "gridwidth": 2,
            "linecolor": "white",
            "showbackground": true,
            "ticks": "",
            "zerolinecolor": "white"
           },
           "zaxis": {
            "backgroundcolor": "#E5ECF6",
            "gridcolor": "white",
            "gridwidth": 2,
            "linecolor": "white",
            "showbackground": true,
            "ticks": "",
            "zerolinecolor": "white"
           }
          },
          "shapedefaults": {
           "line": {
            "color": "#2a3f5f"
           }
          },
          "ternary": {
           "aaxis": {
            "gridcolor": "white",
            "linecolor": "white",
            "ticks": ""
           },
           "baxis": {
            "gridcolor": "white",
            "linecolor": "white",
            "ticks": ""
           },
           "bgcolor": "#E5ECF6",
           "caxis": {
            "gridcolor": "white",
            "linecolor": "white",
            "ticks": ""
           }
          },
          "title": {
           "x": 0.05
          },
          "xaxis": {
           "automargin": true,
           "gridcolor": "white",
           "linecolor": "white",
           "ticks": "",
           "title": {
            "standoff": 15
           },
           "zerolinecolor": "white",
           "zerolinewidth": 2
          },
          "yaxis": {
           "automargin": true,
           "gridcolor": "white",
           "linecolor": "white",
           "ticks": "",
           "title": {
            "standoff": 15
           },
           "zerolinecolor": "white",
           "zerolinewidth": 2
          }
         }
        },
        "width": 900,
        "xaxis": {
         "rangeselector": {
          "buttons": [
           {
            "count": 7,
            "label": "1w",
            "step": "day",
            "stepmode": "backward"
           },
           {
            "count": 1,
            "label": "1m",
            "step": "month",
            "stepmode": "backward"
           },
           {
            "count": 6,
            "label": "6m",
            "step": "month",
            "stepmode": "backward"
           },
           {
            "count": 1,
            "label": "1y",
            "step": "year",
            "stepmode": "backward"
           },
           {
            "step": "all"
           }
          ]
         },
         "rangeslider": {
          "visible": true
         },
         "title": {
          "text": "ds"
         },
         "type": "date"
        },
        "yaxis": {
         "title": {
          "text": "y"
         }
        }
       }
      }
     },
     "metadata": {},
     "output_type": "display_data"
    },
    {
     "name": "stdout",
     "output_type": "stream",
     "text": [
      "XLE\n",
      "Out Sample Mean Absolute Percentage Error (MAPE): 0.0706805751017707\n",
      "Out Sample Mean Squared Error (MSE): 6.810661721971567\n",
      "Out Sample Mean Absolute Error (MAE): 6.207856077770421\n"
     ]
    },
    {
     "name": "stderr",
     "output_type": "stream",
     "text": [
      "15:21:58 - cmdstanpy - INFO - Chain [1] start processing\n",
      "15:21:58 - cmdstanpy - INFO - Chain [1] done processing\n"
     ]
    },
    {
     "name": "stdout",
     "output_type": "stream",
     "text": [
      "Confidence Intervals of Predictions\n"
     ]
    },
    {
     "name": "stderr",
     "output_type": "stream",
     "text": [
      "c:\\Users\\limfy\\anaconda3\\Lib\\site-packages\\prophet\\forecaster.py:1854: FutureWarning:\n",
      "\n",
      "'M' is deprecated and will be removed in a future version, please use 'ME' instead.\n",
      "\n"
     ]
    },
    {
     "data": {
      "application/vnd.plotly.v1+json": {
       "config": {
        "plotlyServerURL": "https://plot.ly"
       },
       "data": [
        {
         "marker": {
          "color": "black",
          "size": 4
         },
         "mode": "markers",
         "name": "Actual",
         "type": "scatter",
         "x": [
          "2014-01-01T00:00:00",
          "2014-02-03T00:00:00",
          "2014-03-03T00:00:00",
          "2014-04-01T00:00:00",
          "2014-05-01T00:00:00",
          "2014-06-02T00:00:00",
          "2014-07-01T00:00:00",
          "2014-08-01T00:00:00",
          "2014-09-01T00:00:00",
          "2014-10-01T00:00:00",
          "2014-11-03T00:00:00",
          "2014-12-01T00:00:00",
          "2015-01-01T00:00:00",
          "2015-02-02T00:00:00",
          "2015-03-02T00:00:00",
          "2015-04-01T00:00:00",
          "2015-05-01T00:00:00",
          "2015-06-01T00:00:00",
          "2015-07-01T00:00:00",
          "2015-08-03T00:00:00",
          "2015-09-01T00:00:00",
          "2015-10-01T00:00:00",
          "2015-11-02T00:00:00",
          "2015-12-01T00:00:00",
          "2016-01-01T00:00:00",
          "2016-02-01T00:00:00",
          "2016-03-01T00:00:00",
          "2016-04-01T00:00:00",
          "2016-05-02T00:00:00",
          "2016-06-01T00:00:00",
          "2016-07-01T00:00:00",
          "2016-08-01T00:00:00",
          "2016-09-01T00:00:00",
          "2016-10-03T00:00:00",
          "2016-11-01T00:00:00",
          "2016-12-01T00:00:00",
          "2017-01-02T00:00:00",
          "2017-02-01T00:00:00",
          "2017-03-01T00:00:00",
          "2017-04-03T00:00:00",
          "2017-05-01T00:00:00",
          "2017-06-01T00:00:00",
          "2017-07-03T00:00:00",
          "2017-08-01T00:00:00",
          "2017-09-01T00:00:00",
          "2017-10-02T00:00:00",
          "2017-11-01T00:00:00",
          "2017-12-01T00:00:00",
          "2018-01-01T00:00:00",
          "2018-02-01T00:00:00",
          "2018-03-01T00:00:00",
          "2018-04-02T00:00:00",
          "2018-05-01T00:00:00",
          "2018-06-01T00:00:00",
          "2018-07-02T00:00:00",
          "2018-08-01T00:00:00",
          "2018-09-03T00:00:00",
          "2018-10-01T00:00:00",
          "2018-11-01T00:00:00",
          "2018-12-03T00:00:00",
          "2019-01-01T00:00:00",
          "2019-02-01T00:00:00",
          "2019-03-01T00:00:00",
          "2019-04-01T00:00:00",
          "2019-05-01T00:00:00",
          "2019-06-03T00:00:00",
          "2019-07-01T00:00:00",
          "2019-08-01T00:00:00",
          "2019-09-02T00:00:00",
          "2019-10-01T00:00:00",
          "2019-11-01T00:00:00",
          "2019-12-02T00:00:00",
          "2020-01-01T00:00:00",
          "2020-02-03T00:00:00",
          "2020-03-02T00:00:00",
          "2020-04-01T00:00:00",
          "2020-05-01T00:00:00",
          "2020-06-01T00:00:00",
          "2020-07-01T00:00:00",
          "2020-08-03T00:00:00",
          "2020-09-01T00:00:00",
          "2020-10-01T00:00:00",
          "2020-11-02T00:00:00",
          "2020-12-01T00:00:00",
          "2021-01-01T00:00:00",
          "2021-02-01T00:00:00",
          "2021-03-01T00:00:00",
          "2021-04-01T00:00:00",
          "2021-05-03T00:00:00",
          "2021-06-01T00:00:00",
          "2021-07-01T00:00:00",
          "2021-08-02T00:00:00",
          "2021-09-01T00:00:00",
          "2021-10-01T00:00:00",
          "2021-11-01T00:00:00",
          "2021-12-01T00:00:00",
          "2022-01-03T00:00:00",
          "2022-02-01T00:00:00",
          "2022-03-01T00:00:00",
          "2022-04-01T00:00:00",
          "2022-05-02T00:00:00",
          "2022-06-01T00:00:00",
          "2022-07-01T00:00:00",
          "2022-08-01T00:00:00",
          "2022-09-01T00:00:00",
          "2022-10-03T00:00:00",
          "2022-11-01T00:00:00",
          "2022-12-01T00:00:00",
          "2023-01-02T00:00:00",
          "2023-02-01T00:00:00",
          "2023-03-01T00:00:00",
          "2023-04-03T00:00:00",
          "2023-05-01T00:00:00",
          "2023-06-01T00:00:00",
          "2023-07-03T00:00:00",
          "2023-08-01T00:00:00",
          "2023-09-01T00:00:00",
          "2023-10-02T00:00:00",
          "2023-11-01T00:00:00",
          "2023-12-01T00:00:00"
         ],
         "y": [
          14.398008346557617,
          13.596647262573242,
          14.258930206298828,
          14.876800537109375,
          14.624198913574219,
          14.856855392456055,
          15.26936149597168,
          14.828902244567871,
          15.649757385253906,
          15.339171409606934,
          16.036100387573242,
          16.237138748168945,
          16.656864166259766,
          15.74756908416748,
          16.52215003967285,
          16.28636360168457,
          16.455373764038086,
          16.644676208496094,
          16.805707931518555,
          17.09769630432129,
          15.393356323242188,
          15.468634605407715,
          16.65590476989746,
          16.942481994628906,
          16.046184539794922,
          14.851480484008789,
          14.968202590942383,
          15.655332565307617,
          16.220855712890625,
          16.413959503173828,
          15.766777038574219,
          16.356121063232422,
          16.959341049194336,
          16.474384307861328,
          16.860307693481445,
          19.6389102935791,
          20.25359535217285,
          20.107141494750977,
          21.743974685668945,
          20.47275161743164,
          20.47275161743164,
          20.351716995239258,
          21.72266960144043,
          21.930957794189453,
          21.49702262878418,
          22.728322982788086,
          23.216354370117188,
          24.035554885864258,
          24.444856643676758,
          26.283472061157227,
          24.838851928710938,
          23.690263748168945,
          24.129629135131836,
          24.147201538085938,
          23.581083297729492,
          24.666593551635742,
          25.125505447387695,
          24.545549392700195,
          23.402040481567383,
          24.058006286621094,
          21.425071716308594,
          23.235769271850586,
          23.806623458862305,
          23.614376068115234,
          24.91433334350586,
          23.470930099487305,
          25.16742706298828,
          24.87908172607422,
          24.005022048950195,
          24.82477569580078,
          26.373493194580078,
          27.134267807006836,
          28.291929244995117,
          27.463563919067383,
          25.44271469116211,
          17.9471435546875,
          20.251358032226562,
          21.73854637145996,
          21.19355010986328,
          22.265239715576172,
          23.216821670532227,
          22.396987915039062,
          22.58277130126953,
          26.2985782623291,
          27.158763885498047,
          27.39224624633789,
          31.118640899658203,
          32.335350036621094,
          34.183353424072266,
          35.85312271118164,
          34.82732009887695,
          34.40351486206055,
          35.95746994018555,
          36.08477783203125,
          38.09946060180664,
          35.50778579711914,
          37.56919860839844,
          37.635719299316406,
          35.259727478027344,
          36.466304779052734,
          32.936073303222656,
          33.29863739013672,
          30.579345703125,
          32.06611633300781,
          31.797536849975586,
          30.065237045288086,
          32.85191345214844,
          34.809329986572266,
          33.30048370361328,
          35.47393798828125,
          34.54245376586914,
          31.408279418945312,
          32.25662612915039,
          31.301013946533203,
          33.20453643798828,
          34.605201721191406,
          33.978328704833984,
          32.35926055908203,
          32.04442596435547,
          35.58633041381836
         ]
        },
        {
         "hoverinfo": "skip",
         "line": {
          "width": 0
         },
         "mode": "lines",
         "type": "scatter",
         "x": [
          "2014-01-01T00:00:00",
          "2014-02-03T00:00:00",
          "2014-03-03T00:00:00",
          "2014-04-01T00:00:00",
          "2014-05-01T00:00:00",
          "2014-06-02T00:00:00",
          "2014-07-01T00:00:00",
          "2014-08-01T00:00:00",
          "2014-09-01T00:00:00",
          "2014-10-01T00:00:00",
          "2014-11-03T00:00:00",
          "2014-12-01T00:00:00",
          "2015-01-01T00:00:00",
          "2015-02-02T00:00:00",
          "2015-03-02T00:00:00",
          "2015-04-01T00:00:00",
          "2015-05-01T00:00:00",
          "2015-06-01T00:00:00",
          "2015-07-01T00:00:00",
          "2015-08-03T00:00:00",
          "2015-09-01T00:00:00",
          "2015-10-01T00:00:00",
          "2015-11-02T00:00:00",
          "2015-12-01T00:00:00",
          "2016-01-01T00:00:00",
          "2016-02-01T00:00:00",
          "2016-03-01T00:00:00",
          "2016-04-01T00:00:00",
          "2016-05-02T00:00:00",
          "2016-06-01T00:00:00",
          "2016-07-01T00:00:00",
          "2016-08-01T00:00:00",
          "2016-09-01T00:00:00",
          "2016-10-03T00:00:00",
          "2016-11-01T00:00:00",
          "2016-12-01T00:00:00",
          "2017-01-02T00:00:00",
          "2017-02-01T00:00:00",
          "2017-03-01T00:00:00",
          "2017-04-03T00:00:00",
          "2017-05-01T00:00:00",
          "2017-06-01T00:00:00",
          "2017-07-03T00:00:00",
          "2017-08-01T00:00:00",
          "2017-09-01T00:00:00",
          "2017-10-02T00:00:00",
          "2017-11-01T00:00:00",
          "2017-12-01T00:00:00",
          "2018-01-01T00:00:00",
          "2018-02-01T00:00:00",
          "2018-03-01T00:00:00",
          "2018-04-02T00:00:00",
          "2018-05-01T00:00:00",
          "2018-06-01T00:00:00",
          "2018-07-02T00:00:00",
          "2018-08-01T00:00:00",
          "2018-09-03T00:00:00",
          "2018-10-01T00:00:00",
          "2018-11-01T00:00:00",
          "2018-12-03T00:00:00",
          "2019-01-01T00:00:00",
          "2019-02-01T00:00:00",
          "2019-03-01T00:00:00",
          "2019-04-01T00:00:00",
          "2019-05-01T00:00:00",
          "2019-06-03T00:00:00",
          "2019-07-01T00:00:00",
          "2019-08-01T00:00:00",
          "2019-09-02T00:00:00",
          "2019-10-01T00:00:00",
          "2019-11-01T00:00:00",
          "2019-12-02T00:00:00",
          "2020-01-01T00:00:00",
          "2020-02-03T00:00:00",
          "2020-03-02T00:00:00",
          "2020-04-01T00:00:00",
          "2020-05-01T00:00:00",
          "2020-06-01T00:00:00",
          "2020-07-01T00:00:00",
          "2020-08-03T00:00:00",
          "2020-09-01T00:00:00",
          "2020-10-01T00:00:00",
          "2020-11-02T00:00:00",
          "2020-12-01T00:00:00",
          "2021-01-01T00:00:00",
          "2021-02-01T00:00:00",
          "2021-03-01T00:00:00",
          "2021-04-01T00:00:00",
          "2021-05-03T00:00:00",
          "2021-06-01T00:00:00",
          "2021-07-01T00:00:00",
          "2021-08-02T00:00:00",
          "2021-09-01T00:00:00",
          "2021-10-01T00:00:00",
          "2021-11-01T00:00:00",
          "2021-12-01T00:00:00",
          "2022-01-03T00:00:00",
          "2022-02-01T00:00:00",
          "2022-03-01T00:00:00",
          "2022-04-01T00:00:00",
          "2022-05-02T00:00:00",
          "2022-06-01T00:00:00",
          "2022-07-01T00:00:00",
          "2022-08-01T00:00:00",
          "2022-09-01T00:00:00",
          "2022-10-03T00:00:00",
          "2022-11-01T00:00:00",
          "2022-12-01T00:00:00",
          "2023-01-02T00:00:00",
          "2023-02-01T00:00:00",
          "2023-03-01T00:00:00",
          "2023-04-03T00:00:00",
          "2023-05-01T00:00:00",
          "2023-06-01T00:00:00",
          "2023-07-03T00:00:00",
          "2023-08-01T00:00:00",
          "2023-09-01T00:00:00",
          "2023-10-02T00:00:00",
          "2023-11-01T00:00:00",
          "2023-12-01T00:00:00",
          "2023-12-31T00:00:00",
          "2024-01-31T00:00:00",
          "2024-02-29T00:00:00",
          "2024-03-31T00:00:00",
          "2024-04-30T00:00:00",
          "2024-05-31T00:00:00",
          "2024-06-30T00:00:00",
          "2024-07-31T00:00:00",
          "2024-08-31T00:00:00",
          "2024-09-30T00:00:00"
         ],
         "y": [
          10.068081079826609,
          10.843475546898565,
          9.786246793684738,
          10.126985325361181,
          9.434974277296714,
          9.95211647394933,
          9.896728293339384,
          11.151973066349417,
          10.521325624508412,
          11.027521162150627,
          10.72599430689546,
          12.55749332119522,
          11.987636731978313,
          12.652725137202815,
          12.649326101208723,
          12.849245304250076,
          11.54010139297953,
          12.937847786613615,
          12.272637700766596,
          12.296574103546524,
          12.597657466022397,
          13.593788438692025,
          13.444957320304173,
          14.823473804618315,
          13.86946832591658,
          15.067046196130342,
          15.217718133970003,
          14.471795041029676,
          15.71580904509331,
          14.962744184343101,
          14.606751088815177,
          15.441351998578718,
          15.529363992667674,
          13.847491665278264,
          15.781391702771742,
          16.939702836679764,
          17.080468721656498,
          17.330417518390487,
          17.615437982349764,
          15.141721364302686,
          16.583137560521916,
          17.32240865470741,
          17.176576856259253,
          17.627988183409393,
          17.385055690675774,
          16.87698208271175,
          18.06196603215604,
          19.139159231166627,
          19.35191717230855,
          19.523719690900037,
          20.00975728870547,
          18.570860806375872,
          18.607491525738254,
          19.47376468381412,
          19.097253468454994,
          20.165620425844484,
          21.44007549432198,
          19.88163258714143,
          20.42501282231949,
          21.47978611852481,
          21.09479105424236,
          22.07407437643763,
          22.411004091739986,
          21.62763277134288,
          20.65790519679055,
          21.22664265713421,
          21.337738717087916,
          22.707724003146094,
          22.528522837608364,
          22.47648193217726,
          22.964025670347603,
          23.589041547757827,
          22.779840587828936,
          23.862021003496945,
          23.516386748188786,
          23.347106500242923,
          23.682208434901973,
          23.96484902698824,
          23.869369955915243,
          23.303153626700006,
          24.31373773033103,
          24.370769037383305,
          24.412656568597885,
          26.10859153085379,
          26.22304914456387,
          26.251350473315384,
          26.80847419815453,
          25.828064021483762,
          27.919039416982763,
          26.094969771779756,
          25.76819332650572,
          26.36952553335332,
          26.22916996174297,
          26.524972508183662,
          27.398621223967705,
          28.26741950997298,
          33.63903556700177,
          28.614481903727423,
          29.295538597546106,
          28.377055497660596,
          28.813012766366768,
          28.509342840913934,
          27.97472158441521,
          29.139482122875116,
          28.54081965133339,
          28.064828853324506,
          29.43296754749622,
          30.571345732564268,
          30.205417009034683,
          31.024515012301276,
          31.61813114826389,
          29.39326446569742,
          29.432222557607847,
          30.649008973022465,
          30.902779266447958,
          31.59743185762954,
          30.668518283620998,
          30.596641280809777,
          31.848199214277106,
          33.1586744263884,
          33.55846342459649,
          33.715382491520074,
          34.25780388816544,
          33.45386087004972,
          31.71661639975085,
          33.03017735985743,
          32.65539205262489,
          33.978755291415446,
          32.80740647682483,
          34.11039361041088
         ]
        },
        {
         "fill": "tonexty",
         "fillcolor": "rgba(0, 114, 178, 0.2)",
         "line": {
          "color": "#0072B2",
          "width": 2
         },
         "mode": "lines",
         "name": "Predicted",
         "type": "scatter",
         "x": [
          "2014-01-01T00:00:00",
          "2014-02-03T00:00:00",
          "2014-03-03T00:00:00",
          "2014-04-01T00:00:00",
          "2014-05-01T00:00:00",
          "2014-06-02T00:00:00",
          "2014-07-01T00:00:00",
          "2014-08-01T00:00:00",
          "2014-09-01T00:00:00",
          "2014-10-01T00:00:00",
          "2014-11-03T00:00:00",
          "2014-12-01T00:00:00",
          "2015-01-01T00:00:00",
          "2015-02-02T00:00:00",
          "2015-03-02T00:00:00",
          "2015-04-01T00:00:00",
          "2015-05-01T00:00:00",
          "2015-06-01T00:00:00",
          "2015-07-01T00:00:00",
          "2015-08-03T00:00:00",
          "2015-09-01T00:00:00",
          "2015-10-01T00:00:00",
          "2015-11-02T00:00:00",
          "2015-12-01T00:00:00",
          "2016-01-01T00:00:00",
          "2016-02-01T00:00:00",
          "2016-03-01T00:00:00",
          "2016-04-01T00:00:00",
          "2016-05-02T00:00:00",
          "2016-06-01T00:00:00",
          "2016-07-01T00:00:00",
          "2016-08-01T00:00:00",
          "2016-09-01T00:00:00",
          "2016-10-03T00:00:00",
          "2016-11-01T00:00:00",
          "2016-12-01T00:00:00",
          "2017-01-02T00:00:00",
          "2017-02-01T00:00:00",
          "2017-03-01T00:00:00",
          "2017-04-03T00:00:00",
          "2017-05-01T00:00:00",
          "2017-06-01T00:00:00",
          "2017-07-03T00:00:00",
          "2017-08-01T00:00:00",
          "2017-09-01T00:00:00",
          "2017-10-02T00:00:00",
          "2017-11-01T00:00:00",
          "2017-12-01T00:00:00",
          "2018-01-01T00:00:00",
          "2018-02-01T00:00:00",
          "2018-03-01T00:00:00",
          "2018-04-02T00:00:00",
          "2018-05-01T00:00:00",
          "2018-06-01T00:00:00",
          "2018-07-02T00:00:00",
          "2018-08-01T00:00:00",
          "2018-09-03T00:00:00",
          "2018-10-01T00:00:00",
          "2018-11-01T00:00:00",
          "2018-12-03T00:00:00",
          "2019-01-01T00:00:00",
          "2019-02-01T00:00:00",
          "2019-03-01T00:00:00",
          "2019-04-01T00:00:00",
          "2019-05-01T00:00:00",
          "2019-06-03T00:00:00",
          "2019-07-01T00:00:00",
          "2019-08-01T00:00:00",
          "2019-09-02T00:00:00",
          "2019-10-01T00:00:00",
          "2019-11-01T00:00:00",
          "2019-12-02T00:00:00",
          "2020-01-01T00:00:00",
          "2020-02-03T00:00:00",
          "2020-03-02T00:00:00",
          "2020-04-01T00:00:00",
          "2020-05-01T00:00:00",
          "2020-06-01T00:00:00",
          "2020-07-01T00:00:00",
          "2020-08-03T00:00:00",
          "2020-09-01T00:00:00",
          "2020-10-01T00:00:00",
          "2020-11-02T00:00:00",
          "2020-12-01T00:00:00",
          "2021-01-01T00:00:00",
          "2021-02-01T00:00:00",
          "2021-03-01T00:00:00",
          "2021-04-01T00:00:00",
          "2021-05-03T00:00:00",
          "2021-06-01T00:00:00",
          "2021-07-01T00:00:00",
          "2021-08-02T00:00:00",
          "2021-09-01T00:00:00",
          "2021-10-01T00:00:00",
          "2021-11-01T00:00:00",
          "2021-12-01T00:00:00",
          "2022-01-03T00:00:00",
          "2022-02-01T00:00:00",
          "2022-03-01T00:00:00",
          "2022-04-01T00:00:00",
          "2022-05-02T00:00:00",
          "2022-06-01T00:00:00",
          "2022-07-01T00:00:00",
          "2022-08-01T00:00:00",
          "2022-09-01T00:00:00",
          "2022-10-03T00:00:00",
          "2022-11-01T00:00:00",
          "2022-12-01T00:00:00",
          "2023-01-02T00:00:00",
          "2023-02-01T00:00:00",
          "2023-03-01T00:00:00",
          "2023-04-03T00:00:00",
          "2023-05-01T00:00:00",
          "2023-06-01T00:00:00",
          "2023-07-03T00:00:00",
          "2023-08-01T00:00:00",
          "2023-09-01T00:00:00",
          "2023-10-02T00:00:00",
          "2023-11-01T00:00:00",
          "2023-12-01T00:00:00",
          "2023-12-31T00:00:00",
          "2024-01-31T00:00:00",
          "2024-02-29T00:00:00",
          "2024-03-31T00:00:00",
          "2024-04-30T00:00:00",
          "2024-05-31T00:00:00",
          "2024-06-30T00:00:00",
          "2024-07-31T00:00:00",
          "2024-08-31T00:00:00",
          "2024-09-30T00:00:00"
         ],
         "y": [
          13.447564354511435,
          14.089314335111721,
          12.97932042985567,
          13.560802899600361,
          12.918172685382661,
          13.504585821515352,
          13.486399216497464,
          14.487396631350688,
          14.04973156085826,
          14.316751869167613,
          14.080392127449912,
          15.875159476677815,
          15.364103997090975,
          16.22842620821344,
          16.12585081067789,
          15.990360243071832,
          14.870218422575665,
          16.032204105271358,
          15.681243109015135,
          15.705507573962578,
          15.791306420151427,
          16.760797439931714,
          16.800791702161327,
          18.128963962104148,
          17.280582814866076,
          18.556753865792334,
          18.5659065376188,
          17.701171658487844,
          19.185690232326717,
          18.1159305323531,
          18.121317539958724,
          18.70557436748004,
          18.712356309561297,
          17.133771970843295,
          19.141619928523767,
          20.3684829180942,
          20.376331174486904,
          20.74404306270928,
          21.007623423085153,
          18.48183661481678,
          19.982814243658787,
          20.42521074884678,
          20.870713383363174,
          21.106558765169744,
          20.74368792426415,
          20.184530706052623,
          21.4796925771039,
          22.634335973180022,
          22.46654296313083,
          23.0134450739486,
          23.45071293195096,
          21.816891078496628,
          21.937151339936474,
          22.736949688553747,
          22.763548170226112,
          23.506375316862783,
          24.87143641588089,
          23.335730572808842,
          23.814845586428135,
          24.682651897262957,
          24.38308272809231,
          25.29065969675606,
          25.894884622373006,
          25.009340535129112,
          23.88919950422841,
          24.64287946780235,
          24.70022607183888,
          25.904933970617464,
          25.993530684334733,
          25.780085439176606,
          26.147553234378165,
          27.116471871058256,
          26.300831296316034,
          27.55328756738446,
          26.862111425876126,
          26.72798136766679,
          27.05486593250139,
          27.148087668738487,
          27.15655633889272,
          26.543945104953313,
          27.753963877269914,
          27.50174773450326,
          27.830447168876486,
          29.41943833780173,
          29.603693031454448,
          29.801367349918383,
          30.0678239748905,
          29.207046289701704,
          31.336360714937513,
          29.49486188995153,
          29.385151354751585,
          29.591578611865124,
          29.822789652764527,
          29.976940728955274,
          30.565060454740554,
          31.72278555709858,
          36.974711250879196,
          32.10826238821662,
          32.54840599706382,
          31.68065847525232,
          32.226195100661705,
          31.84409164930627,
          31.6156010161262,
          32.619782309526386,
          31.892866040767554,
          31.06811201086234,
          32.937701478256734,
          34.02007525360603,
          33.34890673904022,
          34.42296448494379,
          35.03006443148083,
          32.57723159276345,
          33.0306427517642,
          34.19581230924579,
          34.37841461969807,
          35.05582313459558,
          33.96436354052955,
          34.199072061086305,
          35.307263754083586,
          36.31136728827164,
          36.8796219348874,
          36.94575430396426,
          37.51251102017038,
          36.608003442196235,
          35.01818260259573,
          36.55005892529726,
          36.08217143572574,
          37.49050640185496,
          36.03744811803502,
          37.42133449110913
         ]
        },
        {
         "fill": "tonexty",
         "fillcolor": "rgba(0, 114, 178, 0.2)",
         "hoverinfo": "skip",
         "line": {
          "width": 0
         },
         "mode": "lines",
         "type": "scatter",
         "x": [
          "2014-01-01T00:00:00",
          "2014-02-03T00:00:00",
          "2014-03-03T00:00:00",
          "2014-04-01T00:00:00",
          "2014-05-01T00:00:00",
          "2014-06-02T00:00:00",
          "2014-07-01T00:00:00",
          "2014-08-01T00:00:00",
          "2014-09-01T00:00:00",
          "2014-10-01T00:00:00",
          "2014-11-03T00:00:00",
          "2014-12-01T00:00:00",
          "2015-01-01T00:00:00",
          "2015-02-02T00:00:00",
          "2015-03-02T00:00:00",
          "2015-04-01T00:00:00",
          "2015-05-01T00:00:00",
          "2015-06-01T00:00:00",
          "2015-07-01T00:00:00",
          "2015-08-03T00:00:00",
          "2015-09-01T00:00:00",
          "2015-10-01T00:00:00",
          "2015-11-02T00:00:00",
          "2015-12-01T00:00:00",
          "2016-01-01T00:00:00",
          "2016-02-01T00:00:00",
          "2016-03-01T00:00:00",
          "2016-04-01T00:00:00",
          "2016-05-02T00:00:00",
          "2016-06-01T00:00:00",
          "2016-07-01T00:00:00",
          "2016-08-01T00:00:00",
          "2016-09-01T00:00:00",
          "2016-10-03T00:00:00",
          "2016-11-01T00:00:00",
          "2016-12-01T00:00:00",
          "2017-01-02T00:00:00",
          "2017-02-01T00:00:00",
          "2017-03-01T00:00:00",
          "2017-04-03T00:00:00",
          "2017-05-01T00:00:00",
          "2017-06-01T00:00:00",
          "2017-07-03T00:00:00",
          "2017-08-01T00:00:00",
          "2017-09-01T00:00:00",
          "2017-10-02T00:00:00",
          "2017-11-01T00:00:00",
          "2017-12-01T00:00:00",
          "2018-01-01T00:00:00",
          "2018-02-01T00:00:00",
          "2018-03-01T00:00:00",
          "2018-04-02T00:00:00",
          "2018-05-01T00:00:00",
          "2018-06-01T00:00:00",
          "2018-07-02T00:00:00",
          "2018-08-01T00:00:00",
          "2018-09-03T00:00:00",
          "2018-10-01T00:00:00",
          "2018-11-01T00:00:00",
          "2018-12-03T00:00:00",
          "2019-01-01T00:00:00",
          "2019-02-01T00:00:00",
          "2019-03-01T00:00:00",
          "2019-04-01T00:00:00",
          "2019-05-01T00:00:00",
          "2019-06-03T00:00:00",
          "2019-07-01T00:00:00",
          "2019-08-01T00:00:00",
          "2019-09-02T00:00:00",
          "2019-10-01T00:00:00",
          "2019-11-01T00:00:00",
          "2019-12-02T00:00:00",
          "2020-01-01T00:00:00",
          "2020-02-03T00:00:00",
          "2020-03-02T00:00:00",
          "2020-04-01T00:00:00",
          "2020-05-01T00:00:00",
          "2020-06-01T00:00:00",
          "2020-07-01T00:00:00",
          "2020-08-03T00:00:00",
          "2020-09-01T00:00:00",
          "2020-10-01T00:00:00",
          "2020-11-02T00:00:00",
          "2020-12-01T00:00:00",
          "2021-01-01T00:00:00",
          "2021-02-01T00:00:00",
          "2021-03-01T00:00:00",
          "2021-04-01T00:00:00",
          "2021-05-03T00:00:00",
          "2021-06-01T00:00:00",
          "2021-07-01T00:00:00",
          "2021-08-02T00:00:00",
          "2021-09-01T00:00:00",
          "2021-10-01T00:00:00",
          "2021-11-01T00:00:00",
          "2021-12-01T00:00:00",
          "2022-01-03T00:00:00",
          "2022-02-01T00:00:00",
          "2022-03-01T00:00:00",
          "2022-04-01T00:00:00",
          "2022-05-02T00:00:00",
          "2022-06-01T00:00:00",
          "2022-07-01T00:00:00",
          "2022-08-01T00:00:00",
          "2022-09-01T00:00:00",
          "2022-10-03T00:00:00",
          "2022-11-01T00:00:00",
          "2022-12-01T00:00:00",
          "2023-01-02T00:00:00",
          "2023-02-01T00:00:00",
          "2023-03-01T00:00:00",
          "2023-04-03T00:00:00",
          "2023-05-01T00:00:00",
          "2023-06-01T00:00:00",
          "2023-07-03T00:00:00",
          "2023-08-01T00:00:00",
          "2023-09-01T00:00:00",
          "2023-10-02T00:00:00",
          "2023-11-01T00:00:00",
          "2023-12-01T00:00:00",
          "2023-12-31T00:00:00",
          "2024-01-31T00:00:00",
          "2024-02-29T00:00:00",
          "2024-03-31T00:00:00",
          "2024-04-30T00:00:00",
          "2024-05-31T00:00:00",
          "2024-06-30T00:00:00",
          "2024-07-31T00:00:00",
          "2024-08-31T00:00:00",
          "2024-09-30T00:00:00"
         ],
         "y": [
          16.605149224580302,
          17.529061579320743,
          16.333076104043663,
          17.113647259227132,
          16.271992625034084,
          16.83755873819818,
          16.798321804536933,
          18.105414877252137,
          17.58023979973002,
          17.62210244938323,
          17.465033752000423,
          19.074290885605997,
          18.719824937622498,
          19.55517945632465,
          19.419859256949277,
          19.549634068017852,
          18.20238811064036,
          19.34337748003357,
          19.09325838717071,
          18.934831622738912,
          18.994453925837004,
          20.219240958657686,
          20.212909889338057,
          21.351328828500062,
          20.67595421390451,
          21.730682164683746,
          21.801000981778742,
          21.031983012830086,
          22.67344419251549,
          21.72820023009737,
          21.28329545477388,
          22.227701876036953,
          22.048180318953452,
          20.681323003592553,
          22.512634738130437,
          23.926672542839395,
          23.69110312979338,
          23.973077427314703,
          24.325706731548788,
          21.88292190708523,
          23.455919518482293,
          23.90785869673341,
          24.247110568841787,
          24.581606111546392,
          24.17090984693735,
          23.30636537039084,
          24.852256131940827,
          26.081358981634086,
          25.75793732648643,
          26.27363392932086,
          26.863680109710568,
          25.030083082801696,
          24.986440864690742,
          26.28733577428981,
          26.38113922640283,
          26.780933750592602,
          28.214475746155657,
          26.645119265243533,
          27.005633285385862,
          28.029870881851302,
          27.802457695292087,
          28.676529465666064,
          29.251837064227004,
          28.37476980666952,
          27.30297858301095,
          28.05203612644223,
          28.209533352010286,
          29.02474558635956,
          29.350614203102126,
          28.958730667171945,
          29.539516626145005,
          30.484129672013825,
          29.35281987659129,
          30.866039641754742,
          30.27569590965852,
          30.132722957567477,
          30.4717733954144,
          30.703047940766055,
          30.616461354140053,
          29.72968661103136,
          31.097633079159902,
          30.946046889152477,
          31.085947736878012,
          32.91094184323529,
          33.031415142710586,
          32.927288172421804,
          33.29030334003533,
          32.67300355513245,
          34.95945129891686,
          32.68292322600281,
          32.618145000064295,
          33.12357162790798,
          33.006956704317496,
          33.168417114192586,
          33.77701041800312,
          35.16705479328451,
          40.21668024945382,
          35.149023085992816,
          35.872259080665664,
          34.92756074373319,
          35.685846667443336,
          35.132172417224965,
          35.00889158765108,
          36.24926687443823,
          35.41793123819972,
          34.54450772224809,
          36.25588631197246,
          37.21076444831419,
          36.81278918574225,
          37.62438071253902,
          38.414145008347184,
          36.000497484399574,
          36.33271633521592,
          37.53327358531401,
          37.69236841606343,
          38.596770532583676,
          37.07903902021008,
          37.40742156757575,
          38.76318376720828,
          39.798028325220564,
          40.22717496796203,
          40.45595301789239,
          41.08804085695879,
          40.11219948114237,
          38.19966283647613,
          40.281828593756124,
          39.43767398931844,
          40.92800231563841,
          39.23890508414865,
          40.8716828028318
         ]
        },
        {
         "marker": {
          "color": "red"
         },
         "mode": "markers",
         "name": "Out-of-Sample Prices",
         "type": "scatter",
         "x": [
          "2024-01-01T00:00:00",
          "2024-02-01T00:00:00",
          "2024-03-01T00:00:00",
          "2024-04-01T00:00:00",
          "2024-05-01T00:00:00",
          "2024-06-03T00:00:00",
          "2024-07-01T00:00:00",
          "2024-08-01T00:00:00",
          "2024-09-02T00:00:00",
          "2024-10-01T00:00:00"
         ],
         "y": [
          37.334598541259766,
          38.38265609741211,
          39.83610153198242,
          41.574012756347656,
          40.0555534362793,
          41.0678596496582,
          41.051116943359375,
          42.96417999267578,
          45.23594284057617,
          45.08000183105469
         ]
        }
       ],
       "layout": {
        "height": 600,
        "showlegend": false,
        "template": {
         "data": {
          "bar": [
           {
            "error_x": {
             "color": "#2a3f5f"
            },
            "error_y": {
             "color": "#2a3f5f"
            },
            "marker": {
             "line": {
              "color": "#E5ECF6",
              "width": 0.5
             },
             "pattern": {
              "fillmode": "overlay",
              "size": 10,
              "solidity": 0.2
             }
            },
            "type": "bar"
           }
          ],
          "barpolar": [
           {
            "marker": {
             "line": {
              "color": "#E5ECF6",
              "width": 0.5
             },
             "pattern": {
              "fillmode": "overlay",
              "size": 10,
              "solidity": 0.2
             }
            },
            "type": "barpolar"
           }
          ],
          "carpet": [
           {
            "aaxis": {
             "endlinecolor": "#2a3f5f",
             "gridcolor": "white",
             "linecolor": "white",
             "minorgridcolor": "white",
             "startlinecolor": "#2a3f5f"
            },
            "baxis": {
             "endlinecolor": "#2a3f5f",
             "gridcolor": "white",
             "linecolor": "white",
             "minorgridcolor": "white",
             "startlinecolor": "#2a3f5f"
            },
            "type": "carpet"
           }
          ],
          "choropleth": [
           {
            "colorbar": {
             "outlinewidth": 0,
             "ticks": ""
            },
            "type": "choropleth"
           }
          ],
          "contour": [
           {
            "colorbar": {
             "outlinewidth": 0,
             "ticks": ""
            },
            "colorscale": [
             [
              0,
              "#0d0887"
             ],
             [
              0.1111111111111111,
              "#46039f"
             ],
             [
              0.2222222222222222,
              "#7201a8"
             ],
             [
              0.3333333333333333,
              "#9c179e"
             ],
             [
              0.4444444444444444,
              "#bd3786"
             ],
             [
              0.5555555555555556,
              "#d8576b"
             ],
             [
              0.6666666666666666,
              "#ed7953"
             ],
             [
              0.7777777777777778,
              "#fb9f3a"
             ],
             [
              0.8888888888888888,
              "#fdca26"
             ],
             [
              1,
              "#f0f921"
             ]
            ],
            "type": "contour"
           }
          ],
          "contourcarpet": [
           {
            "colorbar": {
             "outlinewidth": 0,
             "ticks": ""
            },
            "type": "contourcarpet"
           }
          ],
          "heatmap": [
           {
            "colorbar": {
             "outlinewidth": 0,
             "ticks": ""
            },
            "colorscale": [
             [
              0,
              "#0d0887"
             ],
             [
              0.1111111111111111,
              "#46039f"
             ],
             [
              0.2222222222222222,
              "#7201a8"
             ],
             [
              0.3333333333333333,
              "#9c179e"
             ],
             [
              0.4444444444444444,
              "#bd3786"
             ],
             [
              0.5555555555555556,
              "#d8576b"
             ],
             [
              0.6666666666666666,
              "#ed7953"
             ],
             [
              0.7777777777777778,
              "#fb9f3a"
             ],
             [
              0.8888888888888888,
              "#fdca26"
             ],
             [
              1,
              "#f0f921"
             ]
            ],
            "type": "heatmap"
           }
          ],
          "heatmapgl": [
           {
            "colorbar": {
             "outlinewidth": 0,
             "ticks": ""
            },
            "colorscale": [
             [
              0,
              "#0d0887"
             ],
             [
              0.1111111111111111,
              "#46039f"
             ],
             [
              0.2222222222222222,
              "#7201a8"
             ],
             [
              0.3333333333333333,
              "#9c179e"
             ],
             [
              0.4444444444444444,
              "#bd3786"
             ],
             [
              0.5555555555555556,
              "#d8576b"
             ],
             [
              0.6666666666666666,
              "#ed7953"
             ],
             [
              0.7777777777777778,
              "#fb9f3a"
             ],
             [
              0.8888888888888888,
              "#fdca26"
             ],
             [
              1,
              "#f0f921"
             ]
            ],
            "type": "heatmapgl"
           }
          ],
          "histogram": [
           {
            "marker": {
             "pattern": {
              "fillmode": "overlay",
              "size": 10,
              "solidity": 0.2
             }
            },
            "type": "histogram"
           }
          ],
          "histogram2d": [
           {
            "colorbar": {
             "outlinewidth": 0,
             "ticks": ""
            },
            "colorscale": [
             [
              0,
              "#0d0887"
             ],
             [
              0.1111111111111111,
              "#46039f"
             ],
             [
              0.2222222222222222,
              "#7201a8"
             ],
             [
              0.3333333333333333,
              "#9c179e"
             ],
             [
              0.4444444444444444,
              "#bd3786"
             ],
             [
              0.5555555555555556,
              "#d8576b"
             ],
             [
              0.6666666666666666,
              "#ed7953"
             ],
             [
              0.7777777777777778,
              "#fb9f3a"
             ],
             [
              0.8888888888888888,
              "#fdca26"
             ],
             [
              1,
              "#f0f921"
             ]
            ],
            "type": "histogram2d"
           }
          ],
          "histogram2dcontour": [
           {
            "colorbar": {
             "outlinewidth": 0,
             "ticks": ""
            },
            "colorscale": [
             [
              0,
              "#0d0887"
             ],
             [
              0.1111111111111111,
              "#46039f"
             ],
             [
              0.2222222222222222,
              "#7201a8"
             ],
             [
              0.3333333333333333,
              "#9c179e"
             ],
             [
              0.4444444444444444,
              "#bd3786"
             ],
             [
              0.5555555555555556,
              "#d8576b"
             ],
             [
              0.6666666666666666,
              "#ed7953"
             ],
             [
              0.7777777777777778,
              "#fb9f3a"
             ],
             [
              0.8888888888888888,
              "#fdca26"
             ],
             [
              1,
              "#f0f921"
             ]
            ],
            "type": "histogram2dcontour"
           }
          ],
          "mesh3d": [
           {
            "colorbar": {
             "outlinewidth": 0,
             "ticks": ""
            },
            "type": "mesh3d"
           }
          ],
          "parcoords": [
           {
            "line": {
             "colorbar": {
              "outlinewidth": 0,
              "ticks": ""
             }
            },
            "type": "parcoords"
           }
          ],
          "pie": [
           {
            "automargin": true,
            "type": "pie"
           }
          ],
          "scatter": [
           {
            "fillpattern": {
             "fillmode": "overlay",
             "size": 10,
             "solidity": 0.2
            },
            "type": "scatter"
           }
          ],
          "scatter3d": [
           {
            "line": {
             "colorbar": {
              "outlinewidth": 0,
              "ticks": ""
             }
            },
            "marker": {
             "colorbar": {
              "outlinewidth": 0,
              "ticks": ""
             }
            },
            "type": "scatter3d"
           }
          ],
          "scattercarpet": [
           {
            "marker": {
             "colorbar": {
              "outlinewidth": 0,
              "ticks": ""
             }
            },
            "type": "scattercarpet"
           }
          ],
          "scattergeo": [
           {
            "marker": {
             "colorbar": {
              "outlinewidth": 0,
              "ticks": ""
             }
            },
            "type": "scattergeo"
           }
          ],
          "scattergl": [
           {
            "marker": {
             "colorbar": {
              "outlinewidth": 0,
              "ticks": ""
             }
            },
            "type": "scattergl"
           }
          ],
          "scattermapbox": [
           {
            "marker": {
             "colorbar": {
              "outlinewidth": 0,
              "ticks": ""
             }
            },
            "type": "scattermapbox"
           }
          ],
          "scatterpolar": [
           {
            "marker": {
             "colorbar": {
              "outlinewidth": 0,
              "ticks": ""
             }
            },
            "type": "scatterpolar"
           }
          ],
          "scatterpolargl": [
           {
            "marker": {
             "colorbar": {
              "outlinewidth": 0,
              "ticks": ""
             }
            },
            "type": "scatterpolargl"
           }
          ],
          "scatterternary": [
           {
            "marker": {
             "colorbar": {
              "outlinewidth": 0,
              "ticks": ""
             }
            },
            "type": "scatterternary"
           }
          ],
          "surface": [
           {
            "colorbar": {
             "outlinewidth": 0,
             "ticks": ""
            },
            "colorscale": [
             [
              0,
              "#0d0887"
             ],
             [
              0.1111111111111111,
              "#46039f"
             ],
             [
              0.2222222222222222,
              "#7201a8"
             ],
             [
              0.3333333333333333,
              "#9c179e"
             ],
             [
              0.4444444444444444,
              "#bd3786"
             ],
             [
              0.5555555555555556,
              "#d8576b"
             ],
             [
              0.6666666666666666,
              "#ed7953"
             ],
             [
              0.7777777777777778,
              "#fb9f3a"
             ],
             [
              0.8888888888888888,
              "#fdca26"
             ],
             [
              1,
              "#f0f921"
             ]
            ],
            "type": "surface"
           }
          ],
          "table": [
           {
            "cells": {
             "fill": {
              "color": "#EBF0F8"
             },
             "line": {
              "color": "white"
             }
            },
            "header": {
             "fill": {
              "color": "#C8D4E3"
             },
             "line": {
              "color": "white"
             }
            },
            "type": "table"
           }
          ]
         },
         "layout": {
          "annotationdefaults": {
           "arrowcolor": "#2a3f5f",
           "arrowhead": 0,
           "arrowwidth": 1
          },
          "autotypenumbers": "strict",
          "coloraxis": {
           "colorbar": {
            "outlinewidth": 0,
            "ticks": ""
           }
          },
          "colorscale": {
           "diverging": [
            [
             0,
             "#8e0152"
            ],
            [
             0.1,
             "#c51b7d"
            ],
            [
             0.2,
             "#de77ae"
            ],
            [
             0.3,
             "#f1b6da"
            ],
            [
             0.4,
             "#fde0ef"
            ],
            [
             0.5,
             "#f7f7f7"
            ],
            [
             0.6,
             "#e6f5d0"
            ],
            [
             0.7,
             "#b8e186"
            ],
            [
             0.8,
             "#7fbc41"
            ],
            [
             0.9,
             "#4d9221"
            ],
            [
             1,
             "#276419"
            ]
           ],
           "sequential": [
            [
             0,
             "#0d0887"
            ],
            [
             0.1111111111111111,
             "#46039f"
            ],
            [
             0.2222222222222222,
             "#7201a8"
            ],
            [
             0.3333333333333333,
             "#9c179e"
            ],
            [
             0.4444444444444444,
             "#bd3786"
            ],
            [
             0.5555555555555556,
             "#d8576b"
            ],
            [
             0.6666666666666666,
             "#ed7953"
            ],
            [
             0.7777777777777778,
             "#fb9f3a"
            ],
            [
             0.8888888888888888,
             "#fdca26"
            ],
            [
             1,
             "#f0f921"
            ]
           ],
           "sequentialminus": [
            [
             0,
             "#0d0887"
            ],
            [
             0.1111111111111111,
             "#46039f"
            ],
            [
             0.2222222222222222,
             "#7201a8"
            ],
            [
             0.3333333333333333,
             "#9c179e"
            ],
            [
             0.4444444444444444,
             "#bd3786"
            ],
            [
             0.5555555555555556,
             "#d8576b"
            ],
            [
             0.6666666666666666,
             "#ed7953"
            ],
            [
             0.7777777777777778,
             "#fb9f3a"
            ],
            [
             0.8888888888888888,
             "#fdca26"
            ],
            [
             1,
             "#f0f921"
            ]
           ]
          },
          "colorway": [
           "#636efa",
           "#EF553B",
           "#00cc96",
           "#ab63fa",
           "#FFA15A",
           "#19d3f3",
           "#FF6692",
           "#B6E880",
           "#FF97FF",
           "#FECB52"
          ],
          "font": {
           "color": "#2a3f5f"
          },
          "geo": {
           "bgcolor": "white",
           "lakecolor": "white",
           "landcolor": "#E5ECF6",
           "showlakes": true,
           "showland": true,
           "subunitcolor": "white"
          },
          "hoverlabel": {
           "align": "left"
          },
          "hovermode": "closest",
          "mapbox": {
           "style": "light"
          },
          "paper_bgcolor": "white",
          "plot_bgcolor": "#E5ECF6",
          "polar": {
           "angularaxis": {
            "gridcolor": "white",
            "linecolor": "white",
            "ticks": ""
           },
           "bgcolor": "#E5ECF6",
           "radialaxis": {
            "gridcolor": "white",
            "linecolor": "white",
            "ticks": ""
           }
          },
          "scene": {
           "xaxis": {
            "backgroundcolor": "#E5ECF6",
            "gridcolor": "white",
            "gridwidth": 2,
            "linecolor": "white",
            "showbackground": true,
            "ticks": "",
            "zerolinecolor": "white"
           },
           "yaxis": {
            "backgroundcolor": "#E5ECF6",
            "gridcolor": "white",
            "gridwidth": 2,
            "linecolor": "white",
            "showbackground": true,
            "ticks": "",
            "zerolinecolor": "white"
           },
           "zaxis": {
            "backgroundcolor": "#E5ECF6",
            "gridcolor": "white",
            "gridwidth": 2,
            "linecolor": "white",
            "showbackground": true,
            "ticks": "",
            "zerolinecolor": "white"
           }
          },
          "shapedefaults": {
           "line": {
            "color": "#2a3f5f"
           }
          },
          "ternary": {
           "aaxis": {
            "gridcolor": "white",
            "linecolor": "white",
            "ticks": ""
           },
           "baxis": {
            "gridcolor": "white",
            "linecolor": "white",
            "ticks": ""
           },
           "bgcolor": "#E5ECF6",
           "caxis": {
            "gridcolor": "white",
            "linecolor": "white",
            "ticks": ""
           }
          },
          "title": {
           "x": 0.05
          },
          "xaxis": {
           "automargin": true,
           "gridcolor": "white",
           "linecolor": "white",
           "ticks": "",
           "title": {
            "standoff": 15
           },
           "zerolinecolor": "white",
           "zerolinewidth": 2
          },
          "yaxis": {
           "automargin": true,
           "gridcolor": "white",
           "linecolor": "white",
           "ticks": "",
           "title": {
            "standoff": 15
           },
           "zerolinecolor": "white",
           "zerolinewidth": 2
          }
         }
        },
        "width": 900,
        "xaxis": {
         "rangeselector": {
          "buttons": [
           {
            "count": 7,
            "label": "1w",
            "step": "day",
            "stepmode": "backward"
           },
           {
            "count": 1,
            "label": "1m",
            "step": "month",
            "stepmode": "backward"
           },
           {
            "count": 6,
            "label": "6m",
            "step": "month",
            "stepmode": "backward"
           },
           {
            "count": 1,
            "label": "1y",
            "step": "year",
            "stepmode": "backward"
           },
           {
            "step": "all"
           }
          ]
         },
         "rangeslider": {
          "visible": true
         },
         "title": {
          "text": "ds"
         },
         "type": "date"
        },
        "yaxis": {
         "title": {
          "text": "y"
         }
        }
       }
      }
     },
     "metadata": {},
     "output_type": "display_data"
    },
    {
     "name": "stderr",
     "output_type": "stream",
     "text": [
      "15:21:58 - cmdstanpy - INFO - Chain [1] start processing\n",
      "15:21:58 - cmdstanpy - INFO - Chain [1] done processing\n"
     ]
    },
    {
     "name": "stdout",
     "output_type": "stream",
     "text": [
      "XLF\n",
      "Out Sample Mean Absolute Percentage Error (MAPE): 0.10848482286631515\n",
      "Out Sample Mean Squared Error (MSE): 5.253919039855026\n",
      "Out Sample Mean Absolute Error (MAE): 4.6036430944769355\n",
      "Confidence Intervals of Predictions\n"
     ]
    },
    {
     "name": "stderr",
     "output_type": "stream",
     "text": [
      "c:\\Users\\limfy\\anaconda3\\Lib\\site-packages\\prophet\\forecaster.py:1854: FutureWarning:\n",
      "\n",
      "'M' is deprecated and will be removed in a future version, please use 'ME' instead.\n",
      "\n"
     ]
    },
    {
     "data": {
      "application/vnd.plotly.v1+json": {
       "config": {
        "plotlyServerURL": "https://plot.ly"
       },
       "data": [
        {
         "marker": {
          "color": "black",
          "size": 4
         },
         "mode": "markers",
         "name": "Actual",
         "type": "scatter",
         "x": [
          "2014-01-01T00:00:00",
          "2014-02-03T00:00:00",
          "2014-03-03T00:00:00",
          "2014-04-01T00:00:00",
          "2014-05-01T00:00:00",
          "2014-06-02T00:00:00",
          "2014-07-01T00:00:00",
          "2014-08-01T00:00:00",
          "2014-09-01T00:00:00",
          "2014-10-01T00:00:00",
          "2014-11-03T00:00:00",
          "2014-12-01T00:00:00",
          "2015-01-01T00:00:00",
          "2015-02-02T00:00:00",
          "2015-03-02T00:00:00",
          "2015-04-01T00:00:00",
          "2015-05-01T00:00:00",
          "2015-06-01T00:00:00",
          "2015-07-01T00:00:00",
          "2015-08-03T00:00:00",
          "2015-09-01T00:00:00",
          "2015-10-01T00:00:00",
          "2015-11-02T00:00:00",
          "2015-12-01T00:00:00",
          "2016-01-01T00:00:00",
          "2016-02-01T00:00:00",
          "2016-03-01T00:00:00",
          "2016-04-01T00:00:00",
          "2016-05-02T00:00:00",
          "2016-06-01T00:00:00",
          "2016-07-01T00:00:00",
          "2016-08-01T00:00:00",
          "2016-09-01T00:00:00",
          "2016-10-03T00:00:00",
          "2016-11-01T00:00:00",
          "2016-12-01T00:00:00",
          "2017-01-02T00:00:00",
          "2017-02-01T00:00:00",
          "2017-03-01T00:00:00",
          "2017-04-03T00:00:00",
          "2017-05-01T00:00:00",
          "2017-06-01T00:00:00",
          "2017-07-03T00:00:00",
          "2017-08-01T00:00:00",
          "2017-09-01T00:00:00",
          "2017-10-02T00:00:00",
          "2017-11-01T00:00:00",
          "2017-12-01T00:00:00",
          "2018-01-01T00:00:00",
          "2018-02-01T00:00:00",
          "2018-03-01T00:00:00",
          "2018-04-02T00:00:00",
          "2018-05-01T00:00:00",
          "2018-06-01T00:00:00",
          "2018-07-02T00:00:00",
          "2018-08-01T00:00:00",
          "2018-09-03T00:00:00",
          "2018-10-01T00:00:00",
          "2018-11-01T00:00:00",
          "2018-12-03T00:00:00",
          "2019-01-01T00:00:00",
          "2019-02-01T00:00:00",
          "2019-03-01T00:00:00",
          "2019-04-01T00:00:00",
          "2019-05-01T00:00:00",
          "2019-06-03T00:00:00",
          "2019-07-01T00:00:00",
          "2019-08-01T00:00:00",
          "2019-09-02T00:00:00",
          "2019-10-01T00:00:00",
          "2019-11-01T00:00:00",
          "2019-12-02T00:00:00",
          "2020-01-01T00:00:00",
          "2020-02-03T00:00:00",
          "2020-03-02T00:00:00",
          "2020-04-01T00:00:00",
          "2020-05-01T00:00:00",
          "2020-06-01T00:00:00",
          "2020-07-01T00:00:00",
          "2020-08-03T00:00:00",
          "2020-09-01T00:00:00",
          "2020-10-01T00:00:00",
          "2020-11-02T00:00:00",
          "2020-12-01T00:00:00",
          "2021-01-01T00:00:00",
          "2021-02-01T00:00:00",
          "2021-03-01T00:00:00",
          "2021-04-01T00:00:00",
          "2021-05-03T00:00:00",
          "2021-06-01T00:00:00",
          "2021-07-01T00:00:00",
          "2021-08-02T00:00:00",
          "2021-09-01T00:00:00",
          "2021-10-01T00:00:00",
          "2021-11-01T00:00:00",
          "2021-12-01T00:00:00",
          "2022-01-03T00:00:00",
          "2022-02-01T00:00:00",
          "2022-03-01T00:00:00",
          "2022-04-01T00:00:00",
          "2022-05-02T00:00:00",
          "2022-06-01T00:00:00",
          "2022-07-01T00:00:00",
          "2022-08-01T00:00:00",
          "2022-09-01T00:00:00",
          "2022-10-03T00:00:00",
          "2022-11-01T00:00:00",
          "2022-12-01T00:00:00",
          "2023-01-02T00:00:00",
          "2023-02-01T00:00:00",
          "2023-03-01T00:00:00",
          "2023-04-03T00:00:00",
          "2023-05-01T00:00:00",
          "2023-06-01T00:00:00",
          "2023-07-03T00:00:00",
          "2023-08-01T00:00:00",
          "2023-09-01T00:00:00",
          "2023-10-02T00:00:00",
          "2023-11-01T00:00:00",
          "2023-12-01T00:00:00"
         ],
         "y": [
          58.68345642089844,
          53.963722229003906,
          58.40996551513672,
          58.071632385253906,
          56.717628479003906,
          58.31942367553711,
          59.88191223144531,
          58.28388595581055,
          61.213623046875,
          58.61244583129883,
          60.66121292114258,
          63.262271881103516,
          64.07012939453125,
          63.16674041748047,
          68.76605224609375,
          67.32772827148438,
          68.5213623046875,
          68.6739273071289,
          69.63941955566406,
          71.9802474975586,
          65.79508209228516,
          67.6064682006836,
          73.50770568847656,
          73.75170135498047,
          69.71009063720703,
          67.65924835205078,
          69.33806610107422,
          72.37520599365234,
          73.17707061767578,
          72.15653228759766,
          72.11997985839844,
          74.75350952148438,
          73.81168365478516,
          73.42301177978516,
          71.18336486816406,
          75.16702270507812,
          75.60285949707031,
          78.17896270751953,
          80.6442642211914,
          81.12631225585938,
          83.51561737060547,
          85.11781311035156,
          83.17579650878906,
          85.01509094238281,
          83.66813659667969,
          84.1319580078125,
          85.78196716308594,
          90.0608139038086,
          93.71601104736328,
          99.7211685180664,
          96.29767608642578,
          92.3408203125,
          97.41612243652344,
          99.94911193847656,
          102.94881439208984,
          104.14334869384766,
          110.21022033691406,
          110.2471694946289,
          101.44513702392578,
          103.78479766845703,
          94.48368835449219,
          101.52071380615234,
          105.22390747070312,
          109.38433074951172,
          112.72002410888672,
          104.5470962524414,
          114.672607421875,
          113.5568618774414,
          113.56639099121094,
          114.51720428466797,
          116.39250183105469,
          116.19158172607422,
          121.82550048828125,
          121.15355682373047,
          115.00997924804688,
          90.3824462890625,
          108.2660140991211,
          120.93114471435547,
          124.72242736816406,
          132.1767578125,
          146.6310272216797,
          144.26934814453125,
          139.5120849609375,
          153.50299072265625,
          154.74847412109375,
          161.3492431640625,
          160.0970458984375,
          164.71673583984375,
          173.12664794921875,
          167.72091674804688,
          174.83419799804688,
          176.18760681152344,
          178.8068084716797,
          176.30491638183594,
          199.7471923828125,
          195.7589111328125,
          205.38832092285156,
          181.71560668945312,
          170.65074157714844,
          181.1731719970703,
          161.64053344726562,
          149.58058166503906,
          137.26023864746094,
          160.4261474609375,
          153.84791564941406,
          140.08226013183594,
          140.06260681152344,
          143.57965087890625,
          126.4776611328125,
          149.26316833496094,
          141.56947326660156,
          146.40846252441406,
          144.65951538085938,
          151.5762939453125,
          170.15841674804688,
          170.06932067871094,
          167.99009704589844,
          159.79855346679688,
          152.72659301757812,
          169.69732666015625
         ]
        },
        {
         "hoverinfo": "skip",
         "line": {
          "width": 0
         },
         "mode": "lines",
         "type": "scatter",
         "x": [
          "2014-01-01T00:00:00",
          "2014-02-03T00:00:00",
          "2014-03-03T00:00:00",
          "2014-04-01T00:00:00",
          "2014-05-01T00:00:00",
          "2014-06-02T00:00:00",
          "2014-07-01T00:00:00",
          "2014-08-01T00:00:00",
          "2014-09-01T00:00:00",
          "2014-10-01T00:00:00",
          "2014-11-03T00:00:00",
          "2014-12-01T00:00:00",
          "2015-01-01T00:00:00",
          "2015-02-02T00:00:00",
          "2015-03-02T00:00:00",
          "2015-04-01T00:00:00",
          "2015-05-01T00:00:00",
          "2015-06-01T00:00:00",
          "2015-07-01T00:00:00",
          "2015-08-03T00:00:00",
          "2015-09-01T00:00:00",
          "2015-10-01T00:00:00",
          "2015-11-02T00:00:00",
          "2015-12-01T00:00:00",
          "2016-01-01T00:00:00",
          "2016-02-01T00:00:00",
          "2016-03-01T00:00:00",
          "2016-04-01T00:00:00",
          "2016-05-02T00:00:00",
          "2016-06-01T00:00:00",
          "2016-07-01T00:00:00",
          "2016-08-01T00:00:00",
          "2016-09-01T00:00:00",
          "2016-10-03T00:00:00",
          "2016-11-01T00:00:00",
          "2016-12-01T00:00:00",
          "2017-01-02T00:00:00",
          "2017-02-01T00:00:00",
          "2017-03-01T00:00:00",
          "2017-04-03T00:00:00",
          "2017-05-01T00:00:00",
          "2017-06-01T00:00:00",
          "2017-07-03T00:00:00",
          "2017-08-01T00:00:00",
          "2017-09-01T00:00:00",
          "2017-10-02T00:00:00",
          "2017-11-01T00:00:00",
          "2017-12-01T00:00:00",
          "2018-01-01T00:00:00",
          "2018-02-01T00:00:00",
          "2018-03-01T00:00:00",
          "2018-04-02T00:00:00",
          "2018-05-01T00:00:00",
          "2018-06-01T00:00:00",
          "2018-07-02T00:00:00",
          "2018-08-01T00:00:00",
          "2018-09-03T00:00:00",
          "2018-10-01T00:00:00",
          "2018-11-01T00:00:00",
          "2018-12-03T00:00:00",
          "2019-01-01T00:00:00",
          "2019-02-01T00:00:00",
          "2019-03-01T00:00:00",
          "2019-04-01T00:00:00",
          "2019-05-01T00:00:00",
          "2019-06-03T00:00:00",
          "2019-07-01T00:00:00",
          "2019-08-01T00:00:00",
          "2019-09-02T00:00:00",
          "2019-10-01T00:00:00",
          "2019-11-01T00:00:00",
          "2019-12-02T00:00:00",
          "2020-01-01T00:00:00",
          "2020-02-03T00:00:00",
          "2020-03-02T00:00:00",
          "2020-04-01T00:00:00",
          "2020-05-01T00:00:00",
          "2020-06-01T00:00:00",
          "2020-07-01T00:00:00",
          "2020-08-03T00:00:00",
          "2020-09-01T00:00:00",
          "2020-10-01T00:00:00",
          "2020-11-02T00:00:00",
          "2020-12-01T00:00:00",
          "2021-01-01T00:00:00",
          "2021-02-01T00:00:00",
          "2021-03-01T00:00:00",
          "2021-04-01T00:00:00",
          "2021-05-03T00:00:00",
          "2021-06-01T00:00:00",
          "2021-07-01T00:00:00",
          "2021-08-02T00:00:00",
          "2021-09-01T00:00:00",
          "2021-10-01T00:00:00",
          "2021-11-01T00:00:00",
          "2021-12-01T00:00:00",
          "2022-01-03T00:00:00",
          "2022-02-01T00:00:00",
          "2022-03-01T00:00:00",
          "2022-04-01T00:00:00",
          "2022-05-02T00:00:00",
          "2022-06-01T00:00:00",
          "2022-07-01T00:00:00",
          "2022-08-01T00:00:00",
          "2022-09-01T00:00:00",
          "2022-10-03T00:00:00",
          "2022-11-01T00:00:00",
          "2022-12-01T00:00:00",
          "2023-01-02T00:00:00",
          "2023-02-01T00:00:00",
          "2023-03-01T00:00:00",
          "2023-04-03T00:00:00",
          "2023-05-01T00:00:00",
          "2023-06-01T00:00:00",
          "2023-07-03T00:00:00",
          "2023-08-01T00:00:00",
          "2023-09-01T00:00:00",
          "2023-10-02T00:00:00",
          "2023-11-01T00:00:00",
          "2023-12-01T00:00:00",
          "2023-12-31T00:00:00",
          "2024-01-31T00:00:00",
          "2024-02-29T00:00:00",
          "2024-03-31T00:00:00",
          "2024-04-30T00:00:00",
          "2024-05-31T00:00:00",
          "2024-06-30T00:00:00",
          "2024-07-31T00:00:00",
          "2024-08-31T00:00:00",
          "2024-09-30T00:00:00"
         ],
         "y": [
          38.076597375474066,
          35.9171270014278,
          35.91134588529381,
          41.54526338220586,
          34.60105140313211,
          35.56850727897604,
          39.947823305056865,
          44.884758598102046,
          42.025311942447246,
          47.36340987991414,
          47.02415461809904,
          51.52774272281428,
          46.53211812747155,
          48.14957038031633,
          47.42917483175721,
          53.10899783367064,
          43.88898995603684,
          51.432825007007786,
          50.220025521384706,
          57.96496072242579,
          55.49857043855023,
          58.6435475745902,
          55.42261707051536,
          62.07620066320853,
          54.01231132162524,
          60.93880622456016,
          57.56786684310003,
          58.79983676389495,
          68.45482326505353,
          59.130256151721326,
          61.193108000864996,
          66.74704386410131,
          68.34275227050418,
          53.000119776224,
          64.79309779935215,
          68.04756753711575,
          48.789289274938874,
          69.88446847852646,
          68.22769147523638,
          56.597541320281735,
          67.74048236928145,
          70.372584616181,
          73.67131160888492,
          75.03186680446838,
          78.5118095184099,
          70.7972979206387,
          75.92726277185496,
          81.4516274179512,
          78.98977358187214,
          81.31499845297243,
          80.29715253263998,
          77.10320828095023,
          78.01260325582358,
          84.19188086362273,
          87.17906438679768,
          89.33961731573979,
          94.41611926535334,
          93.99758153260295,
          90.98470911691241,
          87.53756560487778,
          94.08840001992395,
          98.35364065076952,
          97.65098654403327,
          102.57589376253992,
          94.33845174324898,
          94.21065213793507,
          101.81269915596712,
          106.51359818303429,
          106.68264894262349,
          111.2395823040634,
          105.97397051845726,
          112.08391101750532,
          107.61047028166405,
          112.27263593634191,
          113.67110366063746,
          114.11590916713011,
          116.826963430229,
          114.69087673856558,
          120.12965050836951,
          126.40116268681042,
          126.49546400260999,
          124.38394459677556,
          127.82976665536877,
          129.58610697519916,
          133.459456588872,
          132.4455561472271,
          131.28941406954124,
          133.0112612064517,
          147.38696456909048,
          132.85076313757864,
          135.14069849720465,
          141.14980151515798,
          142.15247169771092,
          143.0156655182852,
          140.26546706821367,
          143.63135716687165,
          192.68448801988822,
          143.972064607304,
          142.13939477430011,
          144.06539171645116,
          146.11591574047281,
          141.88079054928625,
          142.65152008222475,
          145.74595522187636,
          146.95244548562513,
          136.45356032247037,
          142.55280443905414,
          149.08005923274004,
          122.54063744952934,
          148.57332729585417,
          146.26790353038123,
          136.54766538724684,
          140.54729329787799,
          147.5740416913425,
          148.10509632678986,
          149.37775594618967,
          150.3359319175561,
          147.72599576916195,
          145.49045896932756,
          155.13853794008824,
          168.44460242454818,
          153.61478292176145,
          149.59401924583779,
          156.35953460206736,
          141.36704460370598,
          152.83654643691693,
          150.12206189882957,
          153.0762507987512,
          152.56411629381947,
          157.27614368785305
         ]
        },
        {
         "fill": "tonexty",
         "fillcolor": "rgba(0, 114, 178, 0.2)",
         "line": {
          "color": "#0072B2",
          "width": 2
         },
         "mode": "lines",
         "name": "Predicted",
         "type": "scatter",
         "x": [
          "2014-01-01T00:00:00",
          "2014-02-03T00:00:00",
          "2014-03-03T00:00:00",
          "2014-04-01T00:00:00",
          "2014-05-01T00:00:00",
          "2014-06-02T00:00:00",
          "2014-07-01T00:00:00",
          "2014-08-01T00:00:00",
          "2014-09-01T00:00:00",
          "2014-10-01T00:00:00",
          "2014-11-03T00:00:00",
          "2014-12-01T00:00:00",
          "2015-01-01T00:00:00",
          "2015-02-02T00:00:00",
          "2015-03-02T00:00:00",
          "2015-04-01T00:00:00",
          "2015-05-01T00:00:00",
          "2015-06-01T00:00:00",
          "2015-07-01T00:00:00",
          "2015-08-03T00:00:00",
          "2015-09-01T00:00:00",
          "2015-10-01T00:00:00",
          "2015-11-02T00:00:00",
          "2015-12-01T00:00:00",
          "2016-01-01T00:00:00",
          "2016-02-01T00:00:00",
          "2016-03-01T00:00:00",
          "2016-04-01T00:00:00",
          "2016-05-02T00:00:00",
          "2016-06-01T00:00:00",
          "2016-07-01T00:00:00",
          "2016-08-01T00:00:00",
          "2016-09-01T00:00:00",
          "2016-10-03T00:00:00",
          "2016-11-01T00:00:00",
          "2016-12-01T00:00:00",
          "2017-01-02T00:00:00",
          "2017-02-01T00:00:00",
          "2017-03-01T00:00:00",
          "2017-04-03T00:00:00",
          "2017-05-01T00:00:00",
          "2017-06-01T00:00:00",
          "2017-07-03T00:00:00",
          "2017-08-01T00:00:00",
          "2017-09-01T00:00:00",
          "2017-10-02T00:00:00",
          "2017-11-01T00:00:00",
          "2017-12-01T00:00:00",
          "2018-01-01T00:00:00",
          "2018-02-01T00:00:00",
          "2018-03-01T00:00:00",
          "2018-04-02T00:00:00",
          "2018-05-01T00:00:00",
          "2018-06-01T00:00:00",
          "2018-07-02T00:00:00",
          "2018-08-01T00:00:00",
          "2018-09-03T00:00:00",
          "2018-10-01T00:00:00",
          "2018-11-01T00:00:00",
          "2018-12-03T00:00:00",
          "2019-01-01T00:00:00",
          "2019-02-01T00:00:00",
          "2019-03-01T00:00:00",
          "2019-04-01T00:00:00",
          "2019-05-01T00:00:00",
          "2019-06-03T00:00:00",
          "2019-07-01T00:00:00",
          "2019-08-01T00:00:00",
          "2019-09-02T00:00:00",
          "2019-10-01T00:00:00",
          "2019-11-01T00:00:00",
          "2019-12-02T00:00:00",
          "2020-01-01T00:00:00",
          "2020-02-03T00:00:00",
          "2020-03-02T00:00:00",
          "2020-04-01T00:00:00",
          "2020-05-01T00:00:00",
          "2020-06-01T00:00:00",
          "2020-07-01T00:00:00",
          "2020-08-03T00:00:00",
          "2020-09-01T00:00:00",
          "2020-10-01T00:00:00",
          "2020-11-02T00:00:00",
          "2020-12-01T00:00:00",
          "2021-01-01T00:00:00",
          "2021-02-01T00:00:00",
          "2021-03-01T00:00:00",
          "2021-04-01T00:00:00",
          "2021-05-03T00:00:00",
          "2021-06-01T00:00:00",
          "2021-07-01T00:00:00",
          "2021-08-02T00:00:00",
          "2021-09-01T00:00:00",
          "2021-10-01T00:00:00",
          "2021-11-01T00:00:00",
          "2021-12-01T00:00:00",
          "2022-01-03T00:00:00",
          "2022-02-01T00:00:00",
          "2022-03-01T00:00:00",
          "2022-04-01T00:00:00",
          "2022-05-02T00:00:00",
          "2022-06-01T00:00:00",
          "2022-07-01T00:00:00",
          "2022-08-01T00:00:00",
          "2022-09-01T00:00:00",
          "2022-10-03T00:00:00",
          "2022-11-01T00:00:00",
          "2022-12-01T00:00:00",
          "2023-01-02T00:00:00",
          "2023-02-01T00:00:00",
          "2023-03-01T00:00:00",
          "2023-04-03T00:00:00",
          "2023-05-01T00:00:00",
          "2023-06-01T00:00:00",
          "2023-07-03T00:00:00",
          "2023-08-01T00:00:00",
          "2023-09-01T00:00:00",
          "2023-10-02T00:00:00",
          "2023-11-01T00:00:00",
          "2023-12-01T00:00:00",
          "2023-12-31T00:00:00",
          "2024-01-31T00:00:00",
          "2024-02-29T00:00:00",
          "2024-03-31T00:00:00",
          "2024-04-30T00:00:00",
          "2024-05-31T00:00:00",
          "2024-06-30T00:00:00",
          "2024-07-31T00:00:00",
          "2024-08-31T00:00:00",
          "2024-09-30T00:00:00"
         ],
         "y": [
          52.924283847543144,
          51.11765427033558,
          52.368182749977784,
          55.807616161394755,
          49.61000942459942,
          50.58538076183143,
          55.46821263303154,
          58.97653469467567,
          56.07067851310773,
          61.587342782339235,
          62.68485069890211,
          65.07337000110604,
          60.99473540599555,
          62.87028434071797,
          62.32029609898891,
          67.72714756877052,
          57.86354219255003,
          65.85766865435109,
          65.40237022695949,
          71.30950259433108,
          70.24717627666152,
          73.27434911863088,
          69.88691288107975,
          76.49916224499056,
          69.04585774511695,
          75.43963428698144,
          72.56735886876201,
          72.88847737955594,
          81.84010190426814,
          73.0481764180709,
          76.55553748600701,
          80.08624154972657,
          82.65980803942223,
          68.11446743351928,
          79.50893079127238,
          83.1498571824257,
          63.2793533587878,
          84.20314807402252,
          82.84282583800844,
          70.5889339142042,
          82.35865396768317,
          84.32195515354728,
          88.4676015697159,
          90.18106009177768,
          92.45248982931255,
          85.64614984758919,
          89.68055684795227,
          95.48261468875951,
          95.09836220808411,
          96.40286742247675,
          95.02924486700336,
          92.27440641325819,
          93.4306845262546,
          98.8602173794621,
          101.41065074660813,
          104.30588867453663,
          108.33683689773233,
          107.96175445697047,
          104.64735637013375,
          102.3538971515469,
          108.96581985547812,
          113.1684811637777,
          111.43004024618082,
          117.2921096857502,
          107.96538653968591,
          108.69889035168535,
          116.59592083857596,
          120.66472989286346,
          120.87167427413544,
          126.11646182889137,
          120.73506998657146,
          125.60831715949037,
          123.54081058054004,
          127.20976678689193,
          128.2774721933339,
          129.01828955187966,
          130.73808992345815,
          130.273612418696,
          134.319804881,
          140.73668271198716,
          141.53734473927787,
          138.6365604674218,
          141.97422714000953,
          143.65947330560633,
          146.89661127485002,
          145.8220800628694,
          144.96273883725158,
          147.5440787011974,
          160.9937511372802,
          148.08044797516175,
          150.83062997354685,
          156.11831105610898,
          157.0303977428952,
          155.74393814704774,
          153.9459104358389,
          159.42167749727068,
          206.44136479533128,
          158.60870531936206,
          156.31859908919583,
          159.45430147128377,
          160.5831258558763,
          157.1382680991184,
          157.49727849009406,
          160.4545433735607,
          161.62355008827313,
          150.67657770566257,
          157.57754855560566,
          164.38270202048795,
          137.38689244091344,
          162.86660504776404,
          160.1293449798336,
          150.86646687872422,
          154.48869241010314,
          161.93176168850476,
          163.0525797974503,
          163.90610505287452,
          164.68587380036212,
          161.43420336011621,
          160.6903784686678,
          169.32024029959007,
          184.22040946818774,
          169.6473266839757,
          163.95607088870878,
          170.29018781602053,
          156.24697086197008,
          166.73831460048146,
          164.37652134971145,
          167.3566970555908,
          167.7720672960542,
          172.38062053521455
         ]
        },
        {
         "fill": "tonexty",
         "fillcolor": "rgba(0, 114, 178, 0.2)",
         "hoverinfo": "skip",
         "line": {
          "width": 0
         },
         "mode": "lines",
         "type": "scatter",
         "x": [
          "2014-01-01T00:00:00",
          "2014-02-03T00:00:00",
          "2014-03-03T00:00:00",
          "2014-04-01T00:00:00",
          "2014-05-01T00:00:00",
          "2014-06-02T00:00:00",
          "2014-07-01T00:00:00",
          "2014-08-01T00:00:00",
          "2014-09-01T00:00:00",
          "2014-10-01T00:00:00",
          "2014-11-03T00:00:00",
          "2014-12-01T00:00:00",
          "2015-01-01T00:00:00",
          "2015-02-02T00:00:00",
          "2015-03-02T00:00:00",
          "2015-04-01T00:00:00",
          "2015-05-01T00:00:00",
          "2015-06-01T00:00:00",
          "2015-07-01T00:00:00",
          "2015-08-03T00:00:00",
          "2015-09-01T00:00:00",
          "2015-10-01T00:00:00",
          "2015-11-02T00:00:00",
          "2015-12-01T00:00:00",
          "2016-01-01T00:00:00",
          "2016-02-01T00:00:00",
          "2016-03-01T00:00:00",
          "2016-04-01T00:00:00",
          "2016-05-02T00:00:00",
          "2016-06-01T00:00:00",
          "2016-07-01T00:00:00",
          "2016-08-01T00:00:00",
          "2016-09-01T00:00:00",
          "2016-10-03T00:00:00",
          "2016-11-01T00:00:00",
          "2016-12-01T00:00:00",
          "2017-01-02T00:00:00",
          "2017-02-01T00:00:00",
          "2017-03-01T00:00:00",
          "2017-04-03T00:00:00",
          "2017-05-01T00:00:00",
          "2017-06-01T00:00:00",
          "2017-07-03T00:00:00",
          "2017-08-01T00:00:00",
          "2017-09-01T00:00:00",
          "2017-10-02T00:00:00",
          "2017-11-01T00:00:00",
          "2017-12-01T00:00:00",
          "2018-01-01T00:00:00",
          "2018-02-01T00:00:00",
          "2018-03-01T00:00:00",
          "2018-04-02T00:00:00",
          "2018-05-01T00:00:00",
          "2018-06-01T00:00:00",
          "2018-07-02T00:00:00",
          "2018-08-01T00:00:00",
          "2018-09-03T00:00:00",
          "2018-10-01T00:00:00",
          "2018-11-01T00:00:00",
          "2018-12-03T00:00:00",
          "2019-01-01T00:00:00",
          "2019-02-01T00:00:00",
          "2019-03-01T00:00:00",
          "2019-04-01T00:00:00",
          "2019-05-01T00:00:00",
          "2019-06-03T00:00:00",
          "2019-07-01T00:00:00",
          "2019-08-01T00:00:00",
          "2019-09-02T00:00:00",
          "2019-10-01T00:00:00",
          "2019-11-01T00:00:00",
          "2019-12-02T00:00:00",
          "2020-01-01T00:00:00",
          "2020-02-03T00:00:00",
          "2020-03-02T00:00:00",
          "2020-04-01T00:00:00",
          "2020-05-01T00:00:00",
          "2020-06-01T00:00:00",
          "2020-07-01T00:00:00",
          "2020-08-03T00:00:00",
          "2020-09-01T00:00:00",
          "2020-10-01T00:00:00",
          "2020-11-02T00:00:00",
          "2020-12-01T00:00:00",
          "2021-01-01T00:00:00",
          "2021-02-01T00:00:00",
          "2021-03-01T00:00:00",
          "2021-04-01T00:00:00",
          "2021-05-03T00:00:00",
          "2021-06-01T00:00:00",
          "2021-07-01T00:00:00",
          "2021-08-02T00:00:00",
          "2021-09-01T00:00:00",
          "2021-10-01T00:00:00",
          "2021-11-01T00:00:00",
          "2021-12-01T00:00:00",
          "2022-01-03T00:00:00",
          "2022-02-01T00:00:00",
          "2022-03-01T00:00:00",
          "2022-04-01T00:00:00",
          "2022-05-02T00:00:00",
          "2022-06-01T00:00:00",
          "2022-07-01T00:00:00",
          "2022-08-01T00:00:00",
          "2022-09-01T00:00:00",
          "2022-10-03T00:00:00",
          "2022-11-01T00:00:00",
          "2022-12-01T00:00:00",
          "2023-01-02T00:00:00",
          "2023-02-01T00:00:00",
          "2023-03-01T00:00:00",
          "2023-04-03T00:00:00",
          "2023-05-01T00:00:00",
          "2023-06-01T00:00:00",
          "2023-07-03T00:00:00",
          "2023-08-01T00:00:00",
          "2023-09-01T00:00:00",
          "2023-10-02T00:00:00",
          "2023-11-01T00:00:00",
          "2023-12-01T00:00:00",
          "2023-12-31T00:00:00",
          "2024-01-31T00:00:00",
          "2024-02-29T00:00:00",
          "2024-03-31T00:00:00",
          "2024-04-30T00:00:00",
          "2024-05-31T00:00:00",
          "2024-06-30T00:00:00",
          "2024-07-31T00:00:00",
          "2024-08-31T00:00:00",
          "2024-09-30T00:00:00"
         ],
         "y": [
          67.80727580008099,
          65.94286660875767,
          66.7825562324421,
          70.07235604140367,
          63.68831632639506,
          65.65555447963614,
          70.62579051356975,
          72.93038967127174,
          71.56951972756438,
          75.9671834826258,
          76.83632444629471,
          80.7920665649438,
          74.86727248884769,
          77.48611058749854,
          77.34646255607068,
          81.8011361587703,
          71.82308864575354,
          80.34656498193641,
          80.54819413055608,
          86.40607498275627,
          84.16135468090881,
          87.95100412456131,
          84.4101745207521,
          89.96286090764441,
          83.84305368204939,
          89.64048954367001,
          86.17500638928773,
          86.67406496576247,
          95.29206077459125,
          87.36941030241451,
          91.40493912812147,
          94.99248916660021,
          96.38305975916208,
          82.05854696569035,
          92.20528578438937,
          98.30120410121948,
          77.93481940382271,
          98.54317698004076,
          96.27691219970593,
          85.11199329159696,
          96.28240759713886,
          97.14602430648182,
          102.6109485334575,
          105.43702288740771,
          107.32825300665921,
          99.0835891916509,
          104.87966031305575,
          110.27175811725138,
          109.35928318015445,
          111.50590550784919,
          109.96865378975988,
          106.15646890273291,
          108.69207872861412,
          114.10075656357279,
          116.63259758639262,
          118.36930453988015,
          123.16727722486362,
          122.0865630388283,
          119.6846754597671,
          116.1704350196563,
          123.67677368958478,
          127.94928571159282,
          125.33780336984728,
          132.10166281523948,
          123.48411715619197,
          123.91345174832306,
          130.3161430415899,
          135.8903460429625,
          135.83377810828614,
          140.91580723950412,
          134.2129862448655,
          141.10932931984337,
          137.7022745039428,
          140.32759367576045,
          143.43514555083718,
          143.59225813477312,
          145.2687444342627,
          144.348504700169,
          149.5288166419559,
          155.33860763423297,
          156.62244233454,
          153.04437933995442,
          157.4677117264417,
          157.99964652011636,
          162.1022666194347,
          160.47866291037468,
          158.64431281955873,
          161.9644736228046,
          176.03003873584413,
          161.83866436717446,
          165.59997779026472,
          170.14182861754338,
          171.43454666786843,
          170.49267343554118,
          169.63766417611677,
          173.20204843929994,
          221.0334815131898,
          172.2431817822287,
          169.93323507847714,
          174.76663977745,
          174.69574282164808,
          171.41899731006313,
          171.6903620195505,
          174.09046493966173,
          175.9829771778005,
          164.89900581733676,
          172.56344908064185,
          179.07143967844584,
          152.78629295915223,
          177.66518890196764,
          174.4744122011768,
          165.55533236076428,
          169.41063774223545,
          176.1252365690308,
          177.27337742450757,
          178.82118944142712,
          178.3214583384038,
          175.7928797615053,
          174.71865933352132,
          183.7928189382517,
          198.31900119342203,
          183.8751402427036,
          178.22527981706676,
          184.34261304359893,
          171.0990243134151,
          181.18526428957523,
          178.32237552470912,
          182.01260143396433,
          182.12155075734702,
          186.28538635430476
         ]
        },
        {
         "marker": {
          "color": "red"
         },
         "mode": "markers",
         "name": "Out-of-Sample Prices",
         "type": "scatter",
         "x": [
          "2024-01-01T00:00:00",
          "2024-02-01T00:00:00",
          "2024-03-01T00:00:00",
          "2024-04-01T00:00:00",
          "2024-05-01T00:00:00",
          "2024-06-03T00:00:00",
          "2024-07-01T00:00:00",
          "2024-08-01T00:00:00",
          "2024-09-02T00:00:00",
          "2024-10-01T00:00:00"
         ],
         "y": [
          176.02230834960938,
          173.10104370117188,
          183.8422088623047,
          181.753173828125,
          173.7867889404297,
          175.15101623535156,
          182.6431427001953,
          182.51341247558594,
          184.1699981689453,
          199.55999755859375
         ]
        }
       ],
       "layout": {
        "height": 600,
        "showlegend": false,
        "template": {
         "data": {
          "bar": [
           {
            "error_x": {
             "color": "#2a3f5f"
            },
            "error_y": {
             "color": "#2a3f5f"
            },
            "marker": {
             "line": {
              "color": "#E5ECF6",
              "width": 0.5
             },
             "pattern": {
              "fillmode": "overlay",
              "size": 10,
              "solidity": 0.2
             }
            },
            "type": "bar"
           }
          ],
          "barpolar": [
           {
            "marker": {
             "line": {
              "color": "#E5ECF6",
              "width": 0.5
             },
             "pattern": {
              "fillmode": "overlay",
              "size": 10,
              "solidity": 0.2
             }
            },
            "type": "barpolar"
           }
          ],
          "carpet": [
           {
            "aaxis": {
             "endlinecolor": "#2a3f5f",
             "gridcolor": "white",
             "linecolor": "white",
             "minorgridcolor": "white",
             "startlinecolor": "#2a3f5f"
            },
            "baxis": {
             "endlinecolor": "#2a3f5f",
             "gridcolor": "white",
             "linecolor": "white",
             "minorgridcolor": "white",
             "startlinecolor": "#2a3f5f"
            },
            "type": "carpet"
           }
          ],
          "choropleth": [
           {
            "colorbar": {
             "outlinewidth": 0,
             "ticks": ""
            },
            "type": "choropleth"
           }
          ],
          "contour": [
           {
            "colorbar": {
             "outlinewidth": 0,
             "ticks": ""
            },
            "colorscale": [
             [
              0,
              "#0d0887"
             ],
             [
              0.1111111111111111,
              "#46039f"
             ],
             [
              0.2222222222222222,
              "#7201a8"
             ],
             [
              0.3333333333333333,
              "#9c179e"
             ],
             [
              0.4444444444444444,
              "#bd3786"
             ],
             [
              0.5555555555555556,
              "#d8576b"
             ],
             [
              0.6666666666666666,
              "#ed7953"
             ],
             [
              0.7777777777777778,
              "#fb9f3a"
             ],
             [
              0.8888888888888888,
              "#fdca26"
             ],
             [
              1,
              "#f0f921"
             ]
            ],
            "type": "contour"
           }
          ],
          "contourcarpet": [
           {
            "colorbar": {
             "outlinewidth": 0,
             "ticks": ""
            },
            "type": "contourcarpet"
           }
          ],
          "heatmap": [
           {
            "colorbar": {
             "outlinewidth": 0,
             "ticks": ""
            },
            "colorscale": [
             [
              0,
              "#0d0887"
             ],
             [
              0.1111111111111111,
              "#46039f"
             ],
             [
              0.2222222222222222,
              "#7201a8"
             ],
             [
              0.3333333333333333,
              "#9c179e"
             ],
             [
              0.4444444444444444,
              "#bd3786"
             ],
             [
              0.5555555555555556,
              "#d8576b"
             ],
             [
              0.6666666666666666,
              "#ed7953"
             ],
             [
              0.7777777777777778,
              "#fb9f3a"
             ],
             [
              0.8888888888888888,
              "#fdca26"
             ],
             [
              1,
              "#f0f921"
             ]
            ],
            "type": "heatmap"
           }
          ],
          "heatmapgl": [
           {
            "colorbar": {
             "outlinewidth": 0,
             "ticks": ""
            },
            "colorscale": [
             [
              0,
              "#0d0887"
             ],
             [
              0.1111111111111111,
              "#46039f"
             ],
             [
              0.2222222222222222,
              "#7201a8"
             ],
             [
              0.3333333333333333,
              "#9c179e"
             ],
             [
              0.4444444444444444,
              "#bd3786"
             ],
             [
              0.5555555555555556,
              "#d8576b"
             ],
             [
              0.6666666666666666,
              "#ed7953"
             ],
             [
              0.7777777777777778,
              "#fb9f3a"
             ],
             [
              0.8888888888888888,
              "#fdca26"
             ],
             [
              1,
              "#f0f921"
             ]
            ],
            "type": "heatmapgl"
           }
          ],
          "histogram": [
           {
            "marker": {
             "pattern": {
              "fillmode": "overlay",
              "size": 10,
              "solidity": 0.2
             }
            },
            "type": "histogram"
           }
          ],
          "histogram2d": [
           {
            "colorbar": {
             "outlinewidth": 0,
             "ticks": ""
            },
            "colorscale": [
             [
              0,
              "#0d0887"
             ],
             [
              0.1111111111111111,
              "#46039f"
             ],
             [
              0.2222222222222222,
              "#7201a8"
             ],
             [
              0.3333333333333333,
              "#9c179e"
             ],
             [
              0.4444444444444444,
              "#bd3786"
             ],
             [
              0.5555555555555556,
              "#d8576b"
             ],
             [
              0.6666666666666666,
              "#ed7953"
             ],
             [
              0.7777777777777778,
              "#fb9f3a"
             ],
             [
              0.8888888888888888,
              "#fdca26"
             ],
             [
              1,
              "#f0f921"
             ]
            ],
            "type": "histogram2d"
           }
          ],
          "histogram2dcontour": [
           {
            "colorbar": {
             "outlinewidth": 0,
             "ticks": ""
            },
            "colorscale": [
             [
              0,
              "#0d0887"
             ],
             [
              0.1111111111111111,
              "#46039f"
             ],
             [
              0.2222222222222222,
              "#7201a8"
             ],
             [
              0.3333333333333333,
              "#9c179e"
             ],
             [
              0.4444444444444444,
              "#bd3786"
             ],
             [
              0.5555555555555556,
              "#d8576b"
             ],
             [
              0.6666666666666666,
              "#ed7953"
             ],
             [
              0.7777777777777778,
              "#fb9f3a"
             ],
             [
              0.8888888888888888,
              "#fdca26"
             ],
             [
              1,
              "#f0f921"
             ]
            ],
            "type": "histogram2dcontour"
           }
          ],
          "mesh3d": [
           {
            "colorbar": {
             "outlinewidth": 0,
             "ticks": ""
            },
            "type": "mesh3d"
           }
          ],
          "parcoords": [
           {
            "line": {
             "colorbar": {
              "outlinewidth": 0,
              "ticks": ""
             }
            },
            "type": "parcoords"
           }
          ],
          "pie": [
           {
            "automargin": true,
            "type": "pie"
           }
          ],
          "scatter": [
           {
            "fillpattern": {
             "fillmode": "overlay",
             "size": 10,
             "solidity": 0.2
            },
            "type": "scatter"
           }
          ],
          "scatter3d": [
           {
            "line": {
             "colorbar": {
              "outlinewidth": 0,
              "ticks": ""
             }
            },
            "marker": {
             "colorbar": {
              "outlinewidth": 0,
              "ticks": ""
             }
            },
            "type": "scatter3d"
           }
          ],
          "scattercarpet": [
           {
            "marker": {
             "colorbar": {
              "outlinewidth": 0,
              "ticks": ""
             }
            },
            "type": "scattercarpet"
           }
          ],
          "scattergeo": [
           {
            "marker": {
             "colorbar": {
              "outlinewidth": 0,
              "ticks": ""
             }
            },
            "type": "scattergeo"
           }
          ],
          "scattergl": [
           {
            "marker": {
             "colorbar": {
              "outlinewidth": 0,
              "ticks": ""
             }
            },
            "type": "scattergl"
           }
          ],
          "scattermapbox": [
           {
            "marker": {
             "colorbar": {
              "outlinewidth": 0,
              "ticks": ""
             }
            },
            "type": "scattermapbox"
           }
          ],
          "scatterpolar": [
           {
            "marker": {
             "colorbar": {
              "outlinewidth": 0,
              "ticks": ""
             }
            },
            "type": "scatterpolar"
           }
          ],
          "scatterpolargl": [
           {
            "marker": {
             "colorbar": {
              "outlinewidth": 0,
              "ticks": ""
             }
            },
            "type": "scatterpolargl"
           }
          ],
          "scatterternary": [
           {
            "marker": {
             "colorbar": {
              "outlinewidth": 0,
              "ticks": ""
             }
            },
            "type": "scatterternary"
           }
          ],
          "surface": [
           {
            "colorbar": {
             "outlinewidth": 0,
             "ticks": ""
            },
            "colorscale": [
             [
              0,
              "#0d0887"
             ],
             [
              0.1111111111111111,
              "#46039f"
             ],
             [
              0.2222222222222222,
              "#7201a8"
             ],
             [
              0.3333333333333333,
              "#9c179e"
             ],
             [
              0.4444444444444444,
              "#bd3786"
             ],
             [
              0.5555555555555556,
              "#d8576b"
             ],
             [
              0.6666666666666666,
              "#ed7953"
             ],
             [
              0.7777777777777778,
              "#fb9f3a"
             ],
             [
              0.8888888888888888,
              "#fdca26"
             ],
             [
              1,
              "#f0f921"
             ]
            ],
            "type": "surface"
           }
          ],
          "table": [
           {
            "cells": {
             "fill": {
              "color": "#EBF0F8"
             },
             "line": {
              "color": "white"
             }
            },
            "header": {
             "fill": {
              "color": "#C8D4E3"
             },
             "line": {
              "color": "white"
             }
            },
            "type": "table"
           }
          ]
         },
         "layout": {
          "annotationdefaults": {
           "arrowcolor": "#2a3f5f",
           "arrowhead": 0,
           "arrowwidth": 1
          },
          "autotypenumbers": "strict",
          "coloraxis": {
           "colorbar": {
            "outlinewidth": 0,
            "ticks": ""
           }
          },
          "colorscale": {
           "diverging": [
            [
             0,
             "#8e0152"
            ],
            [
             0.1,
             "#c51b7d"
            ],
            [
             0.2,
             "#de77ae"
            ],
            [
             0.3,
             "#f1b6da"
            ],
            [
             0.4,
             "#fde0ef"
            ],
            [
             0.5,
             "#f7f7f7"
            ],
            [
             0.6,
             "#e6f5d0"
            ],
            [
             0.7,
             "#b8e186"
            ],
            [
             0.8,
             "#7fbc41"
            ],
            [
             0.9,
             "#4d9221"
            ],
            [
             1,
             "#276419"
            ]
           ],
           "sequential": [
            [
             0,
             "#0d0887"
            ],
            [
             0.1111111111111111,
             "#46039f"
            ],
            [
             0.2222222222222222,
             "#7201a8"
            ],
            [
             0.3333333333333333,
             "#9c179e"
            ],
            [
             0.4444444444444444,
             "#bd3786"
            ],
            [
             0.5555555555555556,
             "#d8576b"
            ],
            [
             0.6666666666666666,
             "#ed7953"
            ],
            [
             0.7777777777777778,
             "#fb9f3a"
            ],
            [
             0.8888888888888888,
             "#fdca26"
            ],
            [
             1,
             "#f0f921"
            ]
           ],
           "sequentialminus": [
            [
             0,
             "#0d0887"
            ],
            [
             0.1111111111111111,
             "#46039f"
            ],
            [
             0.2222222222222222,
             "#7201a8"
            ],
            [
             0.3333333333333333,
             "#9c179e"
            ],
            [
             0.4444444444444444,
             "#bd3786"
            ],
            [
             0.5555555555555556,
             "#d8576b"
            ],
            [
             0.6666666666666666,
             "#ed7953"
            ],
            [
             0.7777777777777778,
             "#fb9f3a"
            ],
            [
             0.8888888888888888,
             "#fdca26"
            ],
            [
             1,
             "#f0f921"
            ]
           ]
          },
          "colorway": [
           "#636efa",
           "#EF553B",
           "#00cc96",
           "#ab63fa",
           "#FFA15A",
           "#19d3f3",
           "#FF6692",
           "#B6E880",
           "#FF97FF",
           "#FECB52"
          ],
          "font": {
           "color": "#2a3f5f"
          },
          "geo": {
           "bgcolor": "white",
           "lakecolor": "white",
           "landcolor": "#E5ECF6",
           "showlakes": true,
           "showland": true,
           "subunitcolor": "white"
          },
          "hoverlabel": {
           "align": "left"
          },
          "hovermode": "closest",
          "mapbox": {
           "style": "light"
          },
          "paper_bgcolor": "white",
          "plot_bgcolor": "#E5ECF6",
          "polar": {
           "angularaxis": {
            "gridcolor": "white",
            "linecolor": "white",
            "ticks": ""
           },
           "bgcolor": "#E5ECF6",
           "radialaxis": {
            "gridcolor": "white",
            "linecolor": "white",
            "ticks": ""
           }
          },
          "scene": {
           "xaxis": {
            "backgroundcolor": "#E5ECF6",
            "gridcolor": "white",
            "gridwidth": 2,
            "linecolor": "white",
            "showbackground": true,
            "ticks": "",
            "zerolinecolor": "white"
           },
           "yaxis": {
            "backgroundcolor": "#E5ECF6",
            "gridcolor": "white",
            "gridwidth": 2,
            "linecolor": "white",
            "showbackground": true,
            "ticks": "",
            "zerolinecolor": "white"
           },
           "zaxis": {
            "backgroundcolor": "#E5ECF6",
            "gridcolor": "white",
            "gridwidth": 2,
            "linecolor": "white",
            "showbackground": true,
            "ticks": "",
            "zerolinecolor": "white"
           }
          },
          "shapedefaults": {
           "line": {
            "color": "#2a3f5f"
           }
          },
          "ternary": {
           "aaxis": {
            "gridcolor": "white",
            "linecolor": "white",
            "ticks": ""
           },
           "baxis": {
            "gridcolor": "white",
            "linecolor": "white",
            "ticks": ""
           },
           "bgcolor": "#E5ECF6",
           "caxis": {
            "gridcolor": "white",
            "linecolor": "white",
            "ticks": ""
           }
          },
          "title": {
           "x": 0.05
          },
          "xaxis": {
           "automargin": true,
           "gridcolor": "white",
           "linecolor": "white",
           "ticks": "",
           "title": {
            "standoff": 15
           },
           "zerolinecolor": "white",
           "zerolinewidth": 2
          },
          "yaxis": {
           "automargin": true,
           "gridcolor": "white",
           "linecolor": "white",
           "ticks": "",
           "title": {
            "standoff": 15
           },
           "zerolinecolor": "white",
           "zerolinewidth": 2
          }
         }
        },
        "width": 900,
        "xaxis": {
         "rangeselector": {
          "buttons": [
           {
            "count": 7,
            "label": "1w",
            "step": "day",
            "stepmode": "backward"
           },
           {
            "count": 1,
            "label": "1m",
            "step": "month",
            "stepmode": "backward"
           },
           {
            "count": 6,
            "label": "6m",
            "step": "month",
            "stepmode": "backward"
           },
           {
            "count": 1,
            "label": "1y",
            "step": "year",
            "stepmode": "backward"
           },
           {
            "step": "all"
           }
          ]
         },
         "rangeslider": {
          "visible": true
         },
         "title": {
          "text": "ds"
         },
         "type": "date"
        },
        "yaxis": {
         "title": {
          "text": "y"
         }
        }
       }
      }
     },
     "metadata": {},
     "output_type": "display_data"
    },
    {
     "name": "stdout",
     "output_type": "stream",
     "text": [
      "XLY\n",
      "Out Sample Mean Absolute Percentage Error (MAPE): 0.07950136440543107\n",
      "Out Sample Mean Squared Error (MSE): 15.985682569732475\n",
      "Out Sample Mean Absolute Error (MAE): 14.595410650155396\n"
     ]
    },
    {
     "data": {
      "text/html": [
       "<div>\n",
       "<style scoped>\n",
       "    .dataframe tbody tr th:only-of-type {\n",
       "        vertical-align: middle;\n",
       "    }\n",
       "\n",
       "    .dataframe tbody tr th {\n",
       "        vertical-align: top;\n",
       "    }\n",
       "\n",
       "    .dataframe thead th {\n",
       "        text-align: right;\n",
       "    }\n",
       "</style>\n",
       "<table border=\"1\" class=\"dataframe\">\n",
       "  <thead>\n",
       "    <tr style=\"text-align: right;\">\n",
       "      <th></th>\n",
       "      <th>ticker</th>\n",
       "      <th>out_sample_mape</th>\n",
       "      <th>out_sample_rmse</th>\n",
       "      <th>out_sample_mae</th>\n",
       "    </tr>\n",
       "  </thead>\n",
       "  <tbody>\n",
       "    <tr>\n",
       "      <th>0</th>\n",
       "      <td>IXN</td>\n",
       "      <td>0.137964</td>\n",
       "      <td>11.467837</td>\n",
       "      <td>10.609113</td>\n",
       "    </tr>\n",
       "    <tr>\n",
       "      <th>1</th>\n",
       "      <td>VNQ</td>\n",
       "      <td>0.058426</td>\n",
       "      <td>6.255942</td>\n",
       "      <td>5.167430</td>\n",
       "    </tr>\n",
       "    <tr>\n",
       "      <th>2</th>\n",
       "      <td>XLE</td>\n",
       "      <td>0.070681</td>\n",
       "      <td>6.810662</td>\n",
       "      <td>6.207856</td>\n",
       "    </tr>\n",
       "    <tr>\n",
       "      <th>3</th>\n",
       "      <td>XLF</td>\n",
       "      <td>0.108485</td>\n",
       "      <td>5.253919</td>\n",
       "      <td>4.603643</td>\n",
       "    </tr>\n",
       "    <tr>\n",
       "      <th>4</th>\n",
       "      <td>XLY</td>\n",
       "      <td>0.079501</td>\n",
       "      <td>15.985683</td>\n",
       "      <td>14.595411</td>\n",
       "    </tr>\n",
       "  </tbody>\n",
       "</table>\n",
       "</div>"
      ],
      "text/plain": [
       "  ticker  out_sample_mape  out_sample_rmse  out_sample_mae\n",
       "0    IXN         0.137964        11.467837       10.609113\n",
       "1    VNQ         0.058426         6.255942        5.167430\n",
       "2    XLE         0.070681         6.810662        6.207856\n",
       "3    XLF         0.108485         5.253919        4.603643\n",
       "4    XLY         0.079501        15.985683       14.595411"
      ]
     },
     "metadata": {},
     "output_type": "display_data"
    }
   ],
   "source": [
    "model_results = []\n",
    "for ticker in list(dict_of_ticker_dfs.keys()):\n",
    "    train, test, tss = split_time_series(ticker_df, ticker, ['y'], ['ds'])\n",
    "    (ticker, model, forecast, rmse_out_sample, mae_out_sample, mape_out_sample) = fit_model(train, test)\n",
    "    result = {\"ticker\": ticker,\n",
    "                           \"model\": model,\n",
    "                           \"forecast\": forecast,\n",
    "                           \"out_sample_mape\": mape_out_sample,\n",
    "                           \"out_sample_rmse\": rmse_out_sample,\n",
    "                           \"out_sample_mae\": mae_out_sample}\n",
    "    \n",
    "    \n",
    "    model_results.append(result)\n",
    "\n",
    "model_results = pd.DataFrame(model_results)\n",
    "display(model_results.drop(['model','forecast'],axis = 1))\n",
    "  "
   ]
  },
  {
   "cell_type": "code",
   "execution_count": 52,
   "metadata": {},
   "outputs": [
    {
     "data": {
      "text/plain": [
       "prophet.forecaster.Prophet"
      ]
     },
     "execution_count": 52,
     "metadata": {},
     "output_type": "execute_result"
    }
   ],
   "source": [
    "type(model_results.loc[model_results[\"ticker\"] == 'IXN', \"model\"].values.item())"
   ]
  },
  {
   "cell_type": "markdown",
   "metadata": {},
   "source": [
    "# 6. Cross Validation for historical performance"
   ]
  },
  {
   "cell_type": "code",
   "execution_count": null,
   "metadata": {},
   "outputs": [
    {
     "name": "stdout",
     "output_type": "stream",
     "text": [
      "ticker\n"
     ]
    },
    {
     "data": {
      "application/vnd.jupyter.widget-view+json": {
       "model_id": "7a2901b791e54049967dc0a1a800f612",
       "version_major": 2,
       "version_minor": 0
      },
      "text/plain": [
       "  0%|          | 0/21 [00:00<?, ?it/s]"
      ]
     },
     "metadata": {},
     "output_type": "display_data"
    },
    {
     "name": "stderr",
     "output_type": "stream",
     "text": [
      "15:21:58 - cmdstanpy - INFO - Chain [1] start processing\n",
      "15:21:59 - cmdstanpy - INFO - Chain [1] done processing\n",
      "15:21:59 - cmdstanpy - INFO - Chain [1] start processing\n",
      "15:22:00 - cmdstanpy - INFO - Chain [1] done processing\n",
      "15:22:00 - cmdstanpy - INFO - Chain [1] start processing\n",
      "15:22:00 - cmdstanpy - INFO - Chain [1] done processing\n"
     ]
    },
    {
     "ename": "ValueError",
     "evalue": "Dataframe has no rows.",
     "output_type": "error",
     "traceback": [
      "\u001b[1;31m---------------------------------------------------------------------------\u001b[0m",
      "\u001b[1;31mValueError\u001b[0m                                Traceback (most recent call last)",
      "Cell \u001b[1;32mIn[53], line 14\u001b[0m\n\u001b[0;32m     12\u001b[0m \u001b[38;5;28mprint\u001b[39m(\u001b[38;5;124m\"\u001b[39m\u001b[38;5;124mticker\u001b[39m\u001b[38;5;124m\"\u001b[39m)\n\u001b[0;32m     13\u001b[0m cutoffs \u001b[38;5;241m=\u001b[39m pd\u001b[38;5;241m.\u001b[39mdate_range(start\u001b[38;5;241m=\u001b[39m\u001b[38;5;124m'\u001b[39m\u001b[38;5;124m2022-01-01\u001b[39m\u001b[38;5;124m'\u001b[39m, end\u001b[38;5;241m=\u001b[39m\u001b[38;5;124m'\u001b[39m\u001b[38;5;124m2023-10-01\u001b[39m\u001b[38;5;124m'\u001b[39m, freq\u001b[38;5;241m=\u001b[39m\u001b[38;5;124m'\u001b[39m\u001b[38;5;124mBMS\u001b[39m\u001b[38;5;124m'\u001b[39m)\n\u001b[1;32m---> 14\u001b[0m df_cv \u001b[38;5;241m=\u001b[39m cross_validation(model, horizon\u001b[38;5;241m=\u001b[39m\u001b[38;5;124m'\u001b[39m\u001b[38;5;124m30 days\u001b[39m\u001b[38;5;124m'\u001b[39m, cutoffs\u001b[38;5;241m=\u001b[39mcutoffs)\n\u001b[0;32m     15\u001b[0m df_perf \u001b[38;5;241m=\u001b[39m performance_metrics(df_cv, rolling_window \u001b[38;5;241m=\u001b[39m \u001b[38;5;241m0\u001b[39m)\n\u001b[0;32m     16\u001b[0m display(df_cv)\n",
      "File \u001b[1;32mc:\\Users\\limfy\\anaconda3\\Lib\\site-packages\\prophet\\diagnostics.py:207\u001b[0m, in \u001b[0;36mcross_validation\u001b[1;34m(model, horizon, period, initial, parallel, cutoffs, disable_tqdm, extra_output_columns)\u001b[0m\n\u001b[0;32m    203\u001b[0m         predicts \u001b[38;5;241m=\u001b[39m pool\u001b[38;5;241m.\u001b[39mgather(predicts)\n\u001b[0;32m    205\u001b[0m \u001b[38;5;28;01melse\u001b[39;00m:\n\u001b[0;32m    206\u001b[0m     predicts \u001b[38;5;241m=\u001b[39m [\n\u001b[1;32m--> 207\u001b[0m         single_cutoff_forecast(df, model, cutoff, horizon, predict_columns) \n\u001b[0;32m    208\u001b[0m         \u001b[38;5;28;01mfor\u001b[39;00m cutoff \u001b[38;5;129;01min\u001b[39;00m (tqdm(cutoffs) \u001b[38;5;28;01mif\u001b[39;00m \u001b[38;5;129;01mnot\u001b[39;00m disable_tqdm \u001b[38;5;28;01melse\u001b[39;00m cutoffs)\n\u001b[0;32m    209\u001b[0m     ]\n\u001b[0;32m    211\u001b[0m \u001b[38;5;66;03m# Combine all predicted pd.DataFrame into one pd.DataFrame\u001b[39;00m\n\u001b[0;32m    212\u001b[0m \u001b[38;5;28;01mreturn\u001b[39;00m pd\u001b[38;5;241m.\u001b[39mconcat(predicts, axis\u001b[38;5;241m=\u001b[39m\u001b[38;5;241m0\u001b[39m)\u001b[38;5;241m.\u001b[39mreset_index(drop\u001b[38;5;241m=\u001b[39m\u001b[38;5;28;01mTrue\u001b[39;00m)\n",
      "File \u001b[1;32mc:\\Users\\limfy\\anaconda3\\Lib\\site-packages\\prophet\\diagnostics.py:260\u001b[0m, in \u001b[0;36msingle_cutoff_forecast\u001b[1;34m(df, model, cutoff, horizon, predict_columns)\u001b[0m\n\u001b[0;32m    255\u001b[0m columns\u001b[38;5;241m.\u001b[39mextend(m\u001b[38;5;241m.\u001b[39mextra_regressors\u001b[38;5;241m.\u001b[39mkeys())\n\u001b[0;32m    256\u001b[0m columns\u001b[38;5;241m.\u001b[39mextend([\n\u001b[0;32m    257\u001b[0m     props[\u001b[38;5;124m'\u001b[39m\u001b[38;5;124mcondition_name\u001b[39m\u001b[38;5;124m'\u001b[39m]\n\u001b[0;32m    258\u001b[0m     \u001b[38;5;28;01mfor\u001b[39;00m props \u001b[38;5;129;01min\u001b[39;00m m\u001b[38;5;241m.\u001b[39mseasonalities\u001b[38;5;241m.\u001b[39mvalues()\n\u001b[0;32m    259\u001b[0m     \u001b[38;5;28;01mif\u001b[39;00m props[\u001b[38;5;124m'\u001b[39m\u001b[38;5;124mcondition_name\u001b[39m\u001b[38;5;124m'\u001b[39m] \u001b[38;5;129;01mis\u001b[39;00m \u001b[38;5;129;01mnot\u001b[39;00m \u001b[38;5;28;01mNone\u001b[39;00m])\n\u001b[1;32m--> 260\u001b[0m yhat \u001b[38;5;241m=\u001b[39m m\u001b[38;5;241m.\u001b[39mpredict(df[index_predicted][columns])\n\u001b[0;32m    261\u001b[0m \u001b[38;5;66;03m# Merge yhat(predicts), y(df, original data) and cutoff\u001b[39;00m\n\u001b[0;32m    263\u001b[0m \u001b[38;5;28;01mreturn\u001b[39;00m pd\u001b[38;5;241m.\u001b[39mconcat([\n\u001b[0;32m    264\u001b[0m     yhat[predict_columns],\n\u001b[0;32m    265\u001b[0m     df[index_predicted][[\u001b[38;5;124m'\u001b[39m\u001b[38;5;124my\u001b[39m\u001b[38;5;124m'\u001b[39m]]\u001b[38;5;241m.\u001b[39mreset_index(drop\u001b[38;5;241m=\u001b[39m\u001b[38;5;28;01mTrue\u001b[39;00m),\n\u001b[0;32m    266\u001b[0m     pd\u001b[38;5;241m.\u001b[39mDataFrame({\u001b[38;5;124m'\u001b[39m\u001b[38;5;124mcutoff\u001b[39m\u001b[38;5;124m'\u001b[39m: [cutoff] \u001b[38;5;241m*\u001b[39m \u001b[38;5;28mlen\u001b[39m(yhat)})\n\u001b[0;32m    267\u001b[0m ], axis\u001b[38;5;241m=\u001b[39m\u001b[38;5;241m1\u001b[39m)\n",
      "File \u001b[1;32mc:\\Users\\limfy\\anaconda3\\Lib\\site-packages\\prophet\\forecaster.py:1269\u001b[0m, in \u001b[0;36mProphet.predict\u001b[1;34m(self, df, vectorized)\u001b[0m\n\u001b[0;32m   1267\u001b[0m \u001b[38;5;28;01melse\u001b[39;00m:\n\u001b[0;32m   1268\u001b[0m     \u001b[38;5;28;01mif\u001b[39;00m df\u001b[38;5;241m.\u001b[39mshape[\u001b[38;5;241m0\u001b[39m] \u001b[38;5;241m==\u001b[39m \u001b[38;5;241m0\u001b[39m:\n\u001b[1;32m-> 1269\u001b[0m         \u001b[38;5;28;01mraise\u001b[39;00m \u001b[38;5;167;01mValueError\u001b[39;00m(\u001b[38;5;124m'\u001b[39m\u001b[38;5;124mDataframe has no rows.\u001b[39m\u001b[38;5;124m'\u001b[39m)\n\u001b[0;32m   1270\u001b[0m     df \u001b[38;5;241m=\u001b[39m \u001b[38;5;28mself\u001b[39m\u001b[38;5;241m.\u001b[39msetup_dataframe(df\u001b[38;5;241m.\u001b[39mcopy())\n\u001b[0;32m   1272\u001b[0m df[\u001b[38;5;124m'\u001b[39m\u001b[38;5;124mtrend\u001b[39m\u001b[38;5;124m'\u001b[39m] \u001b[38;5;241m=\u001b[39m \u001b[38;5;28mself\u001b[39m\u001b[38;5;241m.\u001b[39mpredict_trend(df)\n",
      "\u001b[1;31mValueError\u001b[0m: Dataframe has no rows."
     ]
    }
   ],
   "source": [
    "# from prophet.diagnostics import cross_validation\n",
    "# from prophet.diagnostics import performance_metrics\n",
    "\n",
    "# def cross_validation_metrics(model):\n",
    "#     cutoffs = pd.date_range(start='2014-01-01', end='2023-12-01', freq='BMS')\n",
    "#     df_cv = cross_validation(model, horizon='30 days', cutoffs=cutoffs)\n",
    "#     df_perf = performance_metrics(df_cv, rolling_window = 0)\n",
    "#     return df_cv, df_perf\n",
    "\n",
    "# for ticker in model_results['ticker']:\n",
    "#     model = model_results.loc[model_results[\"ticker\"] == ticker, \"model\"].values.item()\n",
    "#     print(\"ticker\")\n",
    "#     cutoffs = pd.date_range(start='2022-01-01', end='2023-10-01', freq='BMS')\n",
    "#     df_cv = cross_validation(model, horizon='30 days', cutoffs=cutoffs)\n",
    "#     df_perf = performance_metrics(df_cv, rolling_window = 0)\n",
    "#     display(df_cv)\n",
    "#     display(df_perf)\n",
    "    "
   ]
  },
  {
   "cell_type": "code",
   "execution_count": null,
   "metadata": {},
   "outputs": [],
   "source": []
  }
 ],
 "metadata": {
  "kernelspec": {
   "display_name": "base",
   "language": "python",
   "name": "python3"
  },
  "language_info": {
   "codemirror_mode": {
    "name": "ipython",
    "version": 3
   },
   "file_extension": ".py",
   "mimetype": "text/x-python",
   "name": "python",
   "nbconvert_exporter": "python",
   "pygments_lexer": "ipython3",
   "version": "3.12.3"
  }
 },
 "nbformat": 4,
 "nbformat_minor": 2
}
